{
 "cells": [
  {
   "attachments": {},
   "cell_type": "markdown",
   "metadata": {},
   "source": [
    "# Data Analysis\n",
    "\n",
    "The main objective of this notebook is detect the key features to predict co2 emissions. For this experiment, we will use plotly, a cool library i discoved last year. I like plotly a lot because visualizations are interactive, you can zoom in and out, check specific values and it works great with pandas dataframes.\n",
    "\n",
    "In future experiments i will try polars, a new library that is optimized for big data, it is faster than pandas and it is written in rust.\n",
    "\n",
    "### Steps\n",
    "- Import libraries and dataset.\n",
    "- Detect columns with redundant or useless information\n",
    "- Histogram analysis of selected features, detecting outliers.\n",
    "- Graphical analysis in scatter plots, trying to find a correlation between features\n",
    "- Generate a correlation matrix (Correlation analysis with Pearson's correlation coefficient)\n",
    "- Genearate a new dataset with the selected features for the next experiment (creating a linear regression model)"
   ]
  },
  {
   "attachments": {},
   "cell_type": "markdown",
   "metadata": {},
   "source": [
    "### Import libraries and dataset"
   ]
  },
  {
   "cell_type": "code",
   "execution_count": 188,
   "metadata": {},
   "outputs": [],
   "source": [
    "import pandas as pd\n",
    "import plotly.express as px\n",
    "import plotly.graph_objs as go\n",
    "from plotly.subplots import make_subplots"
   ]
  },
  {
   "cell_type": "code",
   "execution_count": 189,
   "metadata": {},
   "outputs": [
    {
     "data": {
      "text/html": [
       "<div>\n",
       "<style scoped>\n",
       "    .dataframe tbody tr th:only-of-type {\n",
       "        vertical-align: middle;\n",
       "    }\n",
       "\n",
       "    .dataframe tbody tr th {\n",
       "        vertical-align: top;\n",
       "    }\n",
       "\n",
       "    .dataframe thead th {\n",
       "        text-align: right;\n",
       "    }\n",
       "</style>\n",
       "<table border=\"1\" class=\"dataframe\">\n",
       "  <thead>\n",
       "    <tr style=\"text-align: right;\">\n",
       "      <th></th>\n",
       "      <th>release_year</th>\n",
       "      <th>manufacturer</th>\n",
       "      <th>model</th>\n",
       "      <th>vehicle_class</th>\n",
       "      <th>engine_size</th>\n",
       "      <th>cylinders</th>\n",
       "      <th>transmission_type</th>\n",
       "      <th>fuel_type</th>\n",
       "      <th>fuel_consumption_on_city</th>\n",
       "      <th>fuel_consumption_on_highway</th>\n",
       "      <th>fuel_consumption_combinated_in_kpl</th>\n",
       "      <th>fuel_consumption_combinated_in_mpg</th>\n",
       "      <th>co2_emissions</th>\n",
       "    </tr>\n",
       "  </thead>\n",
       "  <tbody>\n",
       "    <tr>\n",
       "      <th>0</th>\n",
       "      <td>2014</td>\n",
       "      <td>ACURA</td>\n",
       "      <td>ILX</td>\n",
       "      <td>COMPACT</td>\n",
       "      <td>2.0</td>\n",
       "      <td>4</td>\n",
       "      <td>AS5</td>\n",
       "      <td>Z</td>\n",
       "      <td>9.9</td>\n",
       "      <td>6.7</td>\n",
       "      <td>8.5</td>\n",
       "      <td>33</td>\n",
       "      <td>196</td>\n",
       "    </tr>\n",
       "    <tr>\n",
       "      <th>1</th>\n",
       "      <td>2014</td>\n",
       "      <td>ACURA</td>\n",
       "      <td>ILX</td>\n",
       "      <td>COMPACT</td>\n",
       "      <td>2.4</td>\n",
       "      <td>4</td>\n",
       "      <td>M6</td>\n",
       "      <td>Z</td>\n",
       "      <td>11.2</td>\n",
       "      <td>7.7</td>\n",
       "      <td>9.6</td>\n",
       "      <td>29</td>\n",
       "      <td>221</td>\n",
       "    </tr>\n",
       "    <tr>\n",
       "      <th>2</th>\n",
       "      <td>2014</td>\n",
       "      <td>ACURA</td>\n",
       "      <td>ILX HYBRID</td>\n",
       "      <td>COMPACT</td>\n",
       "      <td>1.5</td>\n",
       "      <td>4</td>\n",
       "      <td>AV7</td>\n",
       "      <td>Z</td>\n",
       "      <td>6.0</td>\n",
       "      <td>5.8</td>\n",
       "      <td>5.9</td>\n",
       "      <td>48</td>\n",
       "      <td>136</td>\n",
       "    </tr>\n",
       "    <tr>\n",
       "      <th>3</th>\n",
       "      <td>2014</td>\n",
       "      <td>ACURA</td>\n",
       "      <td>MDX 4WD</td>\n",
       "      <td>SUV - SMALL</td>\n",
       "      <td>3.5</td>\n",
       "      <td>6</td>\n",
       "      <td>AS6</td>\n",
       "      <td>Z</td>\n",
       "      <td>12.7</td>\n",
       "      <td>9.1</td>\n",
       "      <td>11.1</td>\n",
       "      <td>25</td>\n",
       "      <td>255</td>\n",
       "    </tr>\n",
       "    <tr>\n",
       "      <th>4</th>\n",
       "      <td>2014</td>\n",
       "      <td>ACURA</td>\n",
       "      <td>RDX AWD</td>\n",
       "      <td>SUV - SMALL</td>\n",
       "      <td>3.5</td>\n",
       "      <td>6</td>\n",
       "      <td>AS6</td>\n",
       "      <td>Z</td>\n",
       "      <td>12.1</td>\n",
       "      <td>8.7</td>\n",
       "      <td>10.6</td>\n",
       "      <td>27</td>\n",
       "      <td>244</td>\n",
       "    </tr>\n",
       "  </tbody>\n",
       "</table>\n",
       "</div>"
      ],
      "text/plain": [
       "   release_year manufacturer       model vehicle_class  engine_size   \n",
       "0          2014        ACURA         ILX       COMPACT          2.0  \\\n",
       "1          2014        ACURA         ILX       COMPACT          2.4   \n",
       "2          2014        ACURA  ILX HYBRID       COMPACT          1.5   \n",
       "3          2014        ACURA     MDX 4WD   SUV - SMALL          3.5   \n",
       "4          2014        ACURA     RDX AWD   SUV - SMALL          3.5   \n",
       "\n",
       "   cylinders transmission_type fuel_type  fuel_consumption_on_city   \n",
       "0          4               AS5         Z                       9.9  \\\n",
       "1          4                M6         Z                      11.2   \n",
       "2          4               AV7         Z                       6.0   \n",
       "3          6               AS6         Z                      12.7   \n",
       "4          6               AS6         Z                      12.1   \n",
       "\n",
       "   fuel_consumption_on_highway  fuel_consumption_combinated_in_kpl   \n",
       "0                          6.7                                 8.5  \\\n",
       "1                          7.7                                 9.6   \n",
       "2                          5.8                                 5.9   \n",
       "3                          9.1                                11.1   \n",
       "4                          8.7                                10.6   \n",
       "\n",
       "   fuel_consumption_combinated_in_mpg  co2_emissions  \n",
       "0                                  33            196  \n",
       "1                                  29            221  \n",
       "2                                  48            136  \n",
       "3                                  25            255  \n",
       "4                                  27            244  "
      ]
     },
     "execution_count": 189,
     "metadata": {},
     "output_type": "execute_result"
    }
   ],
   "source": [
    "dataset_path = './datasets/processed_vehicles.csv'\n",
    "\n",
    "df = pd.read_csv(dataset_path)\n",
    "df.head()"
   ]
  },
  {
   "attachments": {},
   "cell_type": "markdown",
   "metadata": {},
   "source": [
    "### Detect columns with redundant or useless information"
   ]
  },
  {
   "attachments": {},
   "cell_type": "markdown",
   "metadata": {},
   "source": [
    "First, we will delete categorical variables that are not related to the co2 emissions. For example, the model of the car, the manufacturer, etc."
   ]
  },
  {
   "cell_type": "code",
   "execution_count": 190,
   "metadata": {},
   "outputs": [],
   "source": [
    "df = df.drop(\n",
    "    columns=[\n",
    "        'model',\n",
    "        'manufacturer',\n",
    "        'transmission_type',\n",
    "        'vehicle_class',\n",
    "    ]\n",
    ")"
   ]
  },
  {
   "attachments": {},
   "cell_type": "markdown",
   "metadata": {},
   "source": [
    "I can't see a clear relationship between the co2 emissions and `fuel_type` I will delete this column too."
   ]
  },
  {
   "cell_type": "code",
   "execution_count": 191,
   "metadata": {},
   "outputs": [
    {
     "data": {
      "application/vnd.plotly.v1+json": {
       "config": {
        "plotlyServerURL": "https://plot.ly"
       },
       "data": [
        {
         "alignmentgroup": "True",
         "bingroup": "x",
         "hovertemplate": "fuel_type=Z<br>co2_emissions=%{x}<br>count=%{y}<extra></extra>",
         "legendgroup": "Z",
         "marker": {
          "color": "#636efa",
          "pattern": {
           "shape": ""
          }
         },
         "name": "Z",
         "nbinsx": 10,
         "offsetgroup": "Z",
         "orientation": "v",
         "showlegend": true,
         "type": "histogram",
         "x": [
          196,
          221,
          136,
          255,
          244,
          230,
          232,
          255,
          267,
          212,
          225,
          239,
          359,
          359,
          338,
          354,
          338,
          354,
          359,
          202,
          230,
          214,
          230,
          230,
          214,
          235,
          251,
          258,
          258,
          260,
          258,
          288,
          361,
          242,
          239,
          258,
          212,
          304,
          336,
          407,
          354,
          409,
          336,
          407,
          354,
          409,
          306,
          308,
          290,
          262,
          285,
          262,
          285,
          267,
          281,
          281,
          297,
          292,
          209,
          209,
          237,
          237,
          297,
          356,
          320,
          380,
          322,
          380,
          380,
          437,
          193,
          200,
          202,
          193,
          200,
          209,
          209,
          209,
          221,
          230,
          228,
          237,
          232,
          193,
          200,
          209,
          221,
          230,
          228,
          237,
          202,
          209,
          232,
          246,
          281,
          292,
          232,
          292,
          281,
          292,
          246,
          292,
          292,
          356,
          191,
          214,
          212,
          292,
          292,
          338,
          317,
          338,
          317,
          338,
          317,
          338,
          317,
          209,
          260,
          230,
          253,
          255,
          320,
          370,
          274,
          324,
          209,
          200,
          278,
          253,
          278,
          228,
          225,
          246,
          228,
          225,
          221,
          235,
          232,
          232,
          248,
          294,
          382,
          340,
          382,
          340,
          382,
          340,
          338,
          377,
          290,
          294,
          292,
          382,
          340,
          276,
          258,
          228,
          324,
          329,
          317,
          320,
          317,
          317,
          304,
          324,
          329,
          338,
          377,
          304,
          235,
          248,
          172,
          189,
          265,
          269,
          283,
          255,
          267,
          253,
          283,
          267,
          294,
          175,
          271,
          244,
          253,
          294,
          334,
          345,
          237,
          244,
          294,
          242,
          281,
          306,
          306,
          285,
          306,
          285,
          306,
          306,
          306,
          301,
          290,
          315,
          310,
          315,
          310,
          363,
          421,
          361,
          400,
          274,
          334,
          225,
          225,
          354,
          347,
          285,
          285,
          345,
          338,
          283,
          283,
          354,
          347,
          239,
          253,
          175,
          320,
          223,
          239,
          223,
          244,
          253,
          244,
          290,
          283,
          297,
          297,
          262,
          380,
          189,
          292,
          292,
          347,
          352,
          334,
          301,
          235,
          221,
          228,
          184,
          216,
          216,
          242,
          242,
          239,
          244,
          242,
          347,
          352,
          304,
          308,
          179,
          212,
          264,
          301,
          301,
          235,
          230,
          239,
          242,
          239,
          235,
          202,
          267,
          269,
          262,
          297,
          310,
          297,
          310,
          419,
          407,
          350,
          359,
          363,
          260,
          278,
          327,
          356,
          278,
          276,
          304,
          269,
          292,
          327,
          205,
          207,
          225,
          246,
          380,
          361,
          361,
          179,
          179,
          179,
          179,
          200,
          179,
          175,
          168,
          200,
          179,
          179,
          179,
          191,
          184,
          191,
          184,
          207,
          196,
          191,
          184,
          207,
          196,
          191,
          184,
          191,
          184,
          191,
          184,
          207,
          196,
          191,
          184,
          207,
          196,
          191,
          184,
          288,
          283,
          267,
          235,
          253,
          264,
          262,
          269,
          297,
          186,
          198,
          200,
          251,
          232,
          246,
          237,
          246,
          242,
          253,
          248,
          253,
          253,
          258,
          232,
          246,
          244,
          248,
          246,
          251,
          322,
          274,
          274,
          274,
          274,
          212,
          228,
          225,
          239,
          276,
          313,
          320,
          299,
          251,
          315,
          212,
          228,
          225,
          239,
          251,
          255,
          260,
          264,
          292,
          260,
          294,
          297,
          368,
          368,
          393,
          393,
          393,
          393,
          359,
          193,
          218,
          147,
          147,
          389,
          389,
          196,
          221,
          218,
          258,
          288,
          258,
          288,
          209,
          216,
          214,
          216,
          223,
          225,
          283,
          221,
          207,
          212,
          124,
          248,
          246,
          267,
          246,
          281
         ],
         "xaxis": "x",
         "yaxis": "y"
        },
        {
         "alignmentgroup": "True",
         "bingroup": "x",
         "hovertemplate": "fuel_type=D<br>co2_emissions=%{x}<br>count=%{y}<extra></extra>",
         "legendgroup": "D",
         "marker": {
          "color": "#EF553B",
          "pattern": {
           "shape": ""
          }
         },
         "name": "D",
         "nbinsx": 10,
         "offsetgroup": "D",
         "orientation": "v",
         "showlegend": true,
         "type": "histogram",
         "x": [
          224,
          224,
          227,
          230,
          246,
          294,
          181,
          181,
          213,
          192,
          267,
          194,
          324,
          230,
          278,
          281,
          286,
          275,
          197,
          197,
          194,
          186,
          186,
          186,
          192,
          184,
          281
         ],
         "xaxis": "x",
         "yaxis": "y"
        },
        {
         "alignmentgroup": "True",
         "bingroup": "x",
         "hovertemplate": "fuel_type=X<br>co2_emissions=%{x}<br>count=%{y}<extra></extra>",
         "legendgroup": "X",
         "marker": {
          "color": "#00cc96",
          "pattern": {
           "shape": ""
          }
         },
         "name": "X",
         "nbinsx": 10,
         "offsetgroup": "X",
         "orientation": "v",
         "showlegend": true,
         "type": "histogram",
         "x": [
          283,
          290,
          196,
          212,
          264,
          264,
          189,
          189,
          218,
          207,
          251,
          260,
          258,
          262,
          248,
          260,
          253,
          260,
          255,
          262,
          283,
          294,
          262,
          271,
          258,
          269,
          242,
          179,
          179,
          202,
          189,
          177,
          163,
          209,
          276,
          230,
          290,
          347,
          366,
          380,
          380,
          380,
          380,
          380,
          414,
          432,
          419,
          435,
          221,
          244,
          200,
          184,
          244,
          235,
          271,
          292,
          290,
          299,
          184,
          173,
          191,
          182,
          184,
          172,
          191,
          182,
          191,
          182,
          191,
          182,
          159,
          159,
          317,
          317,
          317,
          317,
          283,
          290,
          193,
          186,
          207,
          237,
          232,
          246,
          242,
          225,
          230,
          242,
          294,
          251,
          308,
          251,
          237,
          276,
          225,
          230,
          242,
          258,
          301,
          294,
          258,
          237,
          294,
          251,
          308,
          251,
          258,
          235,
          186,
          198,
          202,
          198,
          212,
          202,
          168,
          168,
          331,
          278,
          271,
          255,
          285,
          276,
          179,
          179,
          182,
          166,
          179,
          182,
          156,
          179,
          200,
          193,
          138,
          373,
          396,
          386,
          488,
          421,
          225,
          248,
          264,
          281,
          209,
          221,
          216,
          214,
          230,
          368,
          235,
          299,
          274,
          288,
          292,
          294,
          366,
          317,
          308,
          402,
          283,
          283,
          336,
          336,
          308,
          308,
          343,
          340,
          414,
          175,
          175,
          152,
          161,
          184,
          264,
          278,
          294,
          205,
          177,
          179,
          184,
          166,
          196,
          186,
          207,
          205,
          186,
          216,
          126,
          235,
          244,
          264,
          292,
          244,
          209,
          271,
          237,
          258,
          218,
          228,
          232,
          239,
          283,
          297,
          347,
          366,
          380,
          380,
          380,
          380,
          380,
          414,
          432,
          419,
          435,
          271,
          292,
          290,
          299,
          209,
          276,
          230,
          290,
          317,
          317,
          317,
          317,
          182,
          186,
          200,
          209,
          221,
          251,
          110,
          161,
          166,
          175,
          246,
          209,
          216,
          145,
          159,
          172,
          177,
          244,
          265,
          276,
          308,
          177,
          177,
          198,
          196,
          255,
          258,
          267,
          237,
          264,
          255,
          221,
          196,
          143,
          145,
          214,
          232,
          230,
          242,
          244,
          177,
          184,
          202,
          196,
          196,
          218,
          242,
          230,
          248,
          232,
          253,
          251,
          267,
          225,
          209,
          225,
          216,
          235,
          216,
          255,
          340,
          278,
          225,
          209,
          225,
          216,
          235,
          216,
          255,
          294,
          294,
          308,
          308,
          251,
          191,
          184,
          193,
          193,
          223,
          225,
          193,
          196,
          216,
          221,
          193,
          198,
          228,
          200,
          175,
          177,
          175,
          212,
          214,
          276,
          237,
          262,
          253,
          271,
          205,
          207,
          209,
          202,
          230,
          260,
          262,
          246,
          129,
          138,
          221,
          269,
          255,
          271,
          260,
          294,
          235,
          281,
          281,
          207,
          262,
          145,
          368,
          189,
          184,
          198,
          196,
          205,
          283,
          290,
          177,
          170,
          159,
          161,
          170,
          168,
          161,
          163,
          166,
          177,
          168,
          166,
          223,
          225,
          175,
          186,
          168,
          189,
          191,
          218,
          198,
          198,
          138,
          147,
          198,
          209,
          200,
          202,
          207,
          175,
          214,
          380,
          283,
          260,
          292,
          315,
          301,
          271,
          214,
          244,
          253,
          202,
          255,
          191,
          198,
          161,
          179,
          359,
          398,
          152,
          177,
          327,
          315,
          340,
          313,
          354,
          324,
          290,
          274,
          260,
          262,
          143,
          207,
          207,
          228,
          228,
          184,
          182,
          198,
          223,
          179,
          196,
          179,
          196,
          198,
          228,
          267,
          207,
          225,
          269,
          301,
          196,
          212,
          177,
          297,
          297,
          221,
          189,
          221,
          131,
          138,
          177,
          168,
          163,
          170,
          156,
          159,
          196,
          189,
          297,
          320,
          237,
          258,
          264,
          191,
          189,
          110,
          108,
          126,
          205,
          216,
          218,
          384,
          260,
          285,
          251,
          235,
          301,
          274,
          271,
          306,
          322,
          310,
          329,
          356,
          347,
          373,
          230,
          253,
          235,
          260,
          168,
          163,
          196,
          200,
          225,
          221,
          200,
          232,
          218,
          216,
          189,
          189,
          216,
          207,
          198,
          198,
          223,
          225,
          278,
          223,
          232,
          264,
          235,
          264,
          258,
          271,
          264,
          271,
          260,
          294
         ],
         "xaxis": "x",
         "yaxis": "y"
        },
        {
         "alignmentgroup": "True",
         "bingroup": "x",
         "hovertemplate": "fuel_type=E<br>co2_emissions=%{x}<br>count=%{y}<extra></extra>",
         "legendgroup": "E",
         "marker": {
          "color": "#ab63fa",
          "pattern": {
           "shape": ""
          }
         },
         "name": "E",
         "nbinsx": 10,
         "offsetgroup": "E",
         "orientation": "v",
         "showlegend": true,
         "type": "histogram",
         "x": [
          250,
          264,
          322,
          354,
          259,
          272,
          334,
          344,
          344,
          362,
          344,
          362,
          411,
          413,
          229,
          269,
          270,
          285,
          277,
          294,
          294,
          294,
          294,
          230,
          230,
          237,
          222,
          269,
          230,
          237,
          251,
          222,
          195,
          250,
          264,
          259,
          350,
          360,
          368,
          382,
          346,
          254,
          267,
          264,
          264,
          315,
          315,
          288,
          288,
          320,
          318,
          165,
          165,
          170,
          162,
          229,
          251,
          334,
          344,
          344,
          362,
          344,
          362,
          411,
          413,
          269,
          270,
          285,
          277,
          259,
          272,
          294,
          294,
          322,
          354,
          294,
          294,
          290,
          280,
          280,
          250,
          342,
          278,
          331,
          277,
          342,
          346,
          224,
          256,
          285,
          269,
          254
         ],
         "xaxis": "x",
         "yaxis": "y"
        }
       ],
       "layout": {
        "barmode": "relative",
        "height": 400,
        "legend": {
         "title": {
          "text": "fuel_type"
         },
         "tracegroupgap": 0
        },
        "margin": {
         "t": 60
        },
        "template": {
         "data": {
          "bar": [
           {
            "error_x": {
             "color": "#2a3f5f"
            },
            "error_y": {
             "color": "#2a3f5f"
            },
            "marker": {
             "line": {
              "color": "#E5ECF6",
              "width": 0.5
             },
             "pattern": {
              "fillmode": "overlay",
              "size": 10,
              "solidity": 0.2
             }
            },
            "type": "bar"
           }
          ],
          "barpolar": [
           {
            "marker": {
             "line": {
              "color": "#E5ECF6",
              "width": 0.5
             },
             "pattern": {
              "fillmode": "overlay",
              "size": 10,
              "solidity": 0.2
             }
            },
            "type": "barpolar"
           }
          ],
          "carpet": [
           {
            "aaxis": {
             "endlinecolor": "#2a3f5f",
             "gridcolor": "white",
             "linecolor": "white",
             "minorgridcolor": "white",
             "startlinecolor": "#2a3f5f"
            },
            "baxis": {
             "endlinecolor": "#2a3f5f",
             "gridcolor": "white",
             "linecolor": "white",
             "minorgridcolor": "white",
             "startlinecolor": "#2a3f5f"
            },
            "type": "carpet"
           }
          ],
          "choropleth": [
           {
            "colorbar": {
             "outlinewidth": 0,
             "ticks": ""
            },
            "type": "choropleth"
           }
          ],
          "contour": [
           {
            "colorbar": {
             "outlinewidth": 0,
             "ticks": ""
            },
            "colorscale": [
             [
              0,
              "#0d0887"
             ],
             [
              0.1111111111111111,
              "#46039f"
             ],
             [
              0.2222222222222222,
              "#7201a8"
             ],
             [
              0.3333333333333333,
              "#9c179e"
             ],
             [
              0.4444444444444444,
              "#bd3786"
             ],
             [
              0.5555555555555556,
              "#d8576b"
             ],
             [
              0.6666666666666666,
              "#ed7953"
             ],
             [
              0.7777777777777778,
              "#fb9f3a"
             ],
             [
              0.8888888888888888,
              "#fdca26"
             ],
             [
              1,
              "#f0f921"
             ]
            ],
            "type": "contour"
           }
          ],
          "contourcarpet": [
           {
            "colorbar": {
             "outlinewidth": 0,
             "ticks": ""
            },
            "type": "contourcarpet"
           }
          ],
          "heatmap": [
           {
            "colorbar": {
             "outlinewidth": 0,
             "ticks": ""
            },
            "colorscale": [
             [
              0,
              "#0d0887"
             ],
             [
              0.1111111111111111,
              "#46039f"
             ],
             [
              0.2222222222222222,
              "#7201a8"
             ],
             [
              0.3333333333333333,
              "#9c179e"
             ],
             [
              0.4444444444444444,
              "#bd3786"
             ],
             [
              0.5555555555555556,
              "#d8576b"
             ],
             [
              0.6666666666666666,
              "#ed7953"
             ],
             [
              0.7777777777777778,
              "#fb9f3a"
             ],
             [
              0.8888888888888888,
              "#fdca26"
             ],
             [
              1,
              "#f0f921"
             ]
            ],
            "type": "heatmap"
           }
          ],
          "heatmapgl": [
           {
            "colorbar": {
             "outlinewidth": 0,
             "ticks": ""
            },
            "colorscale": [
             [
              0,
              "#0d0887"
             ],
             [
              0.1111111111111111,
              "#46039f"
             ],
             [
              0.2222222222222222,
              "#7201a8"
             ],
             [
              0.3333333333333333,
              "#9c179e"
             ],
             [
              0.4444444444444444,
              "#bd3786"
             ],
             [
              0.5555555555555556,
              "#d8576b"
             ],
             [
              0.6666666666666666,
              "#ed7953"
             ],
             [
              0.7777777777777778,
              "#fb9f3a"
             ],
             [
              0.8888888888888888,
              "#fdca26"
             ],
             [
              1,
              "#f0f921"
             ]
            ],
            "type": "heatmapgl"
           }
          ],
          "histogram": [
           {
            "marker": {
             "pattern": {
              "fillmode": "overlay",
              "size": 10,
              "solidity": 0.2
             }
            },
            "type": "histogram"
           }
          ],
          "histogram2d": [
           {
            "colorbar": {
             "outlinewidth": 0,
             "ticks": ""
            },
            "colorscale": [
             [
              0,
              "#0d0887"
             ],
             [
              0.1111111111111111,
              "#46039f"
             ],
             [
              0.2222222222222222,
              "#7201a8"
             ],
             [
              0.3333333333333333,
              "#9c179e"
             ],
             [
              0.4444444444444444,
              "#bd3786"
             ],
             [
              0.5555555555555556,
              "#d8576b"
             ],
             [
              0.6666666666666666,
              "#ed7953"
             ],
             [
              0.7777777777777778,
              "#fb9f3a"
             ],
             [
              0.8888888888888888,
              "#fdca26"
             ],
             [
              1,
              "#f0f921"
             ]
            ],
            "type": "histogram2d"
           }
          ],
          "histogram2dcontour": [
           {
            "colorbar": {
             "outlinewidth": 0,
             "ticks": ""
            },
            "colorscale": [
             [
              0,
              "#0d0887"
             ],
             [
              0.1111111111111111,
              "#46039f"
             ],
             [
              0.2222222222222222,
              "#7201a8"
             ],
             [
              0.3333333333333333,
              "#9c179e"
             ],
             [
              0.4444444444444444,
              "#bd3786"
             ],
             [
              0.5555555555555556,
              "#d8576b"
             ],
             [
              0.6666666666666666,
              "#ed7953"
             ],
             [
              0.7777777777777778,
              "#fb9f3a"
             ],
             [
              0.8888888888888888,
              "#fdca26"
             ],
             [
              1,
              "#f0f921"
             ]
            ],
            "type": "histogram2dcontour"
           }
          ],
          "mesh3d": [
           {
            "colorbar": {
             "outlinewidth": 0,
             "ticks": ""
            },
            "type": "mesh3d"
           }
          ],
          "parcoords": [
           {
            "line": {
             "colorbar": {
              "outlinewidth": 0,
              "ticks": ""
             }
            },
            "type": "parcoords"
           }
          ],
          "pie": [
           {
            "automargin": true,
            "type": "pie"
           }
          ],
          "scatter": [
           {
            "fillpattern": {
             "fillmode": "overlay",
             "size": 10,
             "solidity": 0.2
            },
            "type": "scatter"
           }
          ],
          "scatter3d": [
           {
            "line": {
             "colorbar": {
              "outlinewidth": 0,
              "ticks": ""
             }
            },
            "marker": {
             "colorbar": {
              "outlinewidth": 0,
              "ticks": ""
             }
            },
            "type": "scatter3d"
           }
          ],
          "scattercarpet": [
           {
            "marker": {
             "colorbar": {
              "outlinewidth": 0,
              "ticks": ""
             }
            },
            "type": "scattercarpet"
           }
          ],
          "scattergeo": [
           {
            "marker": {
             "colorbar": {
              "outlinewidth": 0,
              "ticks": ""
             }
            },
            "type": "scattergeo"
           }
          ],
          "scattergl": [
           {
            "marker": {
             "colorbar": {
              "outlinewidth": 0,
              "ticks": ""
             }
            },
            "type": "scattergl"
           }
          ],
          "scattermapbox": [
           {
            "marker": {
             "colorbar": {
              "outlinewidth": 0,
              "ticks": ""
             }
            },
            "type": "scattermapbox"
           }
          ],
          "scatterpolar": [
           {
            "marker": {
             "colorbar": {
              "outlinewidth": 0,
              "ticks": ""
             }
            },
            "type": "scatterpolar"
           }
          ],
          "scatterpolargl": [
           {
            "marker": {
             "colorbar": {
              "outlinewidth": 0,
              "ticks": ""
             }
            },
            "type": "scatterpolargl"
           }
          ],
          "scatterternary": [
           {
            "marker": {
             "colorbar": {
              "outlinewidth": 0,
              "ticks": ""
             }
            },
            "type": "scatterternary"
           }
          ],
          "surface": [
           {
            "colorbar": {
             "outlinewidth": 0,
             "ticks": ""
            },
            "colorscale": [
             [
              0,
              "#0d0887"
             ],
             [
              0.1111111111111111,
              "#46039f"
             ],
             [
              0.2222222222222222,
              "#7201a8"
             ],
             [
              0.3333333333333333,
              "#9c179e"
             ],
             [
              0.4444444444444444,
              "#bd3786"
             ],
             [
              0.5555555555555556,
              "#d8576b"
             ],
             [
              0.6666666666666666,
              "#ed7953"
             ],
             [
              0.7777777777777778,
              "#fb9f3a"
             ],
             [
              0.8888888888888888,
              "#fdca26"
             ],
             [
              1,
              "#f0f921"
             ]
            ],
            "type": "surface"
           }
          ],
          "table": [
           {
            "cells": {
             "fill": {
              "color": "#EBF0F8"
             },
             "line": {
              "color": "white"
             }
            },
            "header": {
             "fill": {
              "color": "#C8D4E3"
             },
             "line": {
              "color": "white"
             }
            },
            "type": "table"
           }
          ]
         },
         "layout": {
          "annotationdefaults": {
           "arrowcolor": "#2a3f5f",
           "arrowhead": 0,
           "arrowwidth": 1
          },
          "autotypenumbers": "strict",
          "coloraxis": {
           "colorbar": {
            "outlinewidth": 0,
            "ticks": ""
           }
          },
          "colorscale": {
           "diverging": [
            [
             0,
             "#8e0152"
            ],
            [
             0.1,
             "#c51b7d"
            ],
            [
             0.2,
             "#de77ae"
            ],
            [
             0.3,
             "#f1b6da"
            ],
            [
             0.4,
             "#fde0ef"
            ],
            [
             0.5,
             "#f7f7f7"
            ],
            [
             0.6,
             "#e6f5d0"
            ],
            [
             0.7,
             "#b8e186"
            ],
            [
             0.8,
             "#7fbc41"
            ],
            [
             0.9,
             "#4d9221"
            ],
            [
             1,
             "#276419"
            ]
           ],
           "sequential": [
            [
             0,
             "#0d0887"
            ],
            [
             0.1111111111111111,
             "#46039f"
            ],
            [
             0.2222222222222222,
             "#7201a8"
            ],
            [
             0.3333333333333333,
             "#9c179e"
            ],
            [
             0.4444444444444444,
             "#bd3786"
            ],
            [
             0.5555555555555556,
             "#d8576b"
            ],
            [
             0.6666666666666666,
             "#ed7953"
            ],
            [
             0.7777777777777778,
             "#fb9f3a"
            ],
            [
             0.8888888888888888,
             "#fdca26"
            ],
            [
             1,
             "#f0f921"
            ]
           ],
           "sequentialminus": [
            [
             0,
             "#0d0887"
            ],
            [
             0.1111111111111111,
             "#46039f"
            ],
            [
             0.2222222222222222,
             "#7201a8"
            ],
            [
             0.3333333333333333,
             "#9c179e"
            ],
            [
             0.4444444444444444,
             "#bd3786"
            ],
            [
             0.5555555555555556,
             "#d8576b"
            ],
            [
             0.6666666666666666,
             "#ed7953"
            ],
            [
             0.7777777777777778,
             "#fb9f3a"
            ],
            [
             0.8888888888888888,
             "#fdca26"
            ],
            [
             1,
             "#f0f921"
            ]
           ]
          },
          "colorway": [
           "#636efa",
           "#EF553B",
           "#00cc96",
           "#ab63fa",
           "#FFA15A",
           "#19d3f3",
           "#FF6692",
           "#B6E880",
           "#FF97FF",
           "#FECB52"
          ],
          "font": {
           "color": "#2a3f5f"
          },
          "geo": {
           "bgcolor": "white",
           "lakecolor": "white",
           "landcolor": "#E5ECF6",
           "showlakes": true,
           "showland": true,
           "subunitcolor": "white"
          },
          "hoverlabel": {
           "align": "left"
          },
          "hovermode": "closest",
          "mapbox": {
           "style": "light"
          },
          "paper_bgcolor": "white",
          "plot_bgcolor": "#E5ECF6",
          "polar": {
           "angularaxis": {
            "gridcolor": "white",
            "linecolor": "white",
            "ticks": ""
           },
           "bgcolor": "#E5ECF6",
           "radialaxis": {
            "gridcolor": "white",
            "linecolor": "white",
            "ticks": ""
           }
          },
          "scene": {
           "xaxis": {
            "backgroundcolor": "#E5ECF6",
            "gridcolor": "white",
            "gridwidth": 2,
            "linecolor": "white",
            "showbackground": true,
            "ticks": "",
            "zerolinecolor": "white"
           },
           "yaxis": {
            "backgroundcolor": "#E5ECF6",
            "gridcolor": "white",
            "gridwidth": 2,
            "linecolor": "white",
            "showbackground": true,
            "ticks": "",
            "zerolinecolor": "white"
           },
           "zaxis": {
            "backgroundcolor": "#E5ECF6",
            "gridcolor": "white",
            "gridwidth": 2,
            "linecolor": "white",
            "showbackground": true,
            "ticks": "",
            "zerolinecolor": "white"
           }
          },
          "shapedefaults": {
           "line": {
            "color": "#2a3f5f"
           }
          },
          "ternary": {
           "aaxis": {
            "gridcolor": "white",
            "linecolor": "white",
            "ticks": ""
           },
           "baxis": {
            "gridcolor": "white",
            "linecolor": "white",
            "ticks": ""
           },
           "bgcolor": "#E5ECF6",
           "caxis": {
            "gridcolor": "white",
            "linecolor": "white",
            "ticks": ""
           }
          },
          "title": {
           "x": 0.05
          },
          "xaxis": {
           "automargin": true,
           "gridcolor": "white",
           "linecolor": "white",
           "ticks": "",
           "title": {
            "standoff": 15
           },
           "zerolinecolor": "white",
           "zerolinewidth": 2
          },
          "yaxis": {
           "automargin": true,
           "gridcolor": "white",
           "linecolor": "white",
           "ticks": "",
           "title": {
            "standoff": 15
           },
           "zerolinecolor": "white",
           "zerolinewidth": 2
          }
         }
        },
        "title": {
         "text": "CO2 Emissions Histogram"
        },
        "width": 600,
        "xaxis": {
         "anchor": "y",
         "domain": [
          0,
          1
         ],
         "title": {
          "text": "CO2 Emissions"
         }
        },
        "yaxis": {
         "anchor": "x",
         "domain": [
          0,
          1
         ],
         "title": {
          "text": "Count"
         }
        }
       }
      },
      "text/html": [
       "<div>                            <div id=\"0f50d9f1-b04d-4f90-800a-831e98620773\" class=\"plotly-graph-div\" style=\"height:400px; width:600px;\"></div>            <script type=\"text/javascript\">                require([\"plotly\"], function(Plotly) {                    window.PLOTLYENV=window.PLOTLYENV || {};                                    if (document.getElementById(\"0f50d9f1-b04d-4f90-800a-831e98620773\")) {                    Plotly.newPlot(                        \"0f50d9f1-b04d-4f90-800a-831e98620773\",                        [{\"alignmentgroup\":\"True\",\"bingroup\":\"x\",\"hovertemplate\":\"fuel_type=Z<br>co2_emissions=%{x}<br>count=%{y}<extra></extra>\",\"legendgroup\":\"Z\",\"marker\":{\"color\":\"#636efa\",\"pattern\":{\"shape\":\"\"}},\"name\":\"Z\",\"nbinsx\":10,\"offsetgroup\":\"Z\",\"orientation\":\"v\",\"showlegend\":true,\"x\":[196,221,136,255,244,230,232,255,267,212,225,239,359,359,338,354,338,354,359,202,230,214,230,230,214,235,251,258,258,260,258,288,361,242,239,258,212,304,336,407,354,409,336,407,354,409,306,308,290,262,285,262,285,267,281,281,297,292,209,209,237,237,297,356,320,380,322,380,380,437,193,200,202,193,200,209,209,209,221,230,228,237,232,193,200,209,221,230,228,237,202,209,232,246,281,292,232,292,281,292,246,292,292,356,191,214,212,292,292,338,317,338,317,338,317,338,317,209,260,230,253,255,320,370,274,324,209,200,278,253,278,228,225,246,228,225,221,235,232,232,248,294,382,340,382,340,382,340,338,377,290,294,292,382,340,276,258,228,324,329,317,320,317,317,304,324,329,338,377,304,235,248,172,189,265,269,283,255,267,253,283,267,294,175,271,244,253,294,334,345,237,244,294,242,281,306,306,285,306,285,306,306,306,301,290,315,310,315,310,363,421,361,400,274,334,225,225,354,347,285,285,345,338,283,283,354,347,239,253,175,320,223,239,223,244,253,244,290,283,297,297,262,380,189,292,292,347,352,334,301,235,221,228,184,216,216,242,242,239,244,242,347,352,304,308,179,212,264,301,301,235,230,239,242,239,235,202,267,269,262,297,310,297,310,419,407,350,359,363,260,278,327,356,278,276,304,269,292,327,205,207,225,246,380,361,361,179,179,179,179,200,179,175,168,200,179,179,179,191,184,191,184,207,196,191,184,207,196,191,184,191,184,191,184,207,196,191,184,207,196,191,184,288,283,267,235,253,264,262,269,297,186,198,200,251,232,246,237,246,242,253,248,253,253,258,232,246,244,248,246,251,322,274,274,274,274,212,228,225,239,276,313,320,299,251,315,212,228,225,239,251,255,260,264,292,260,294,297,368,368,393,393,393,393,359,193,218,147,147,389,389,196,221,218,258,288,258,288,209,216,214,216,223,225,283,221,207,212,124,248,246,267,246,281],\"xaxis\":\"x\",\"yaxis\":\"y\",\"type\":\"histogram\"},{\"alignmentgroup\":\"True\",\"bingroup\":\"x\",\"hovertemplate\":\"fuel_type=D<br>co2_emissions=%{x}<br>count=%{y}<extra></extra>\",\"legendgroup\":\"D\",\"marker\":{\"color\":\"#EF553B\",\"pattern\":{\"shape\":\"\"}},\"name\":\"D\",\"nbinsx\":10,\"offsetgroup\":\"D\",\"orientation\":\"v\",\"showlegend\":true,\"x\":[224,224,227,230,246,294,181,181,213,192,267,194,324,230,278,281,286,275,197,197,194,186,186,186,192,184,281],\"xaxis\":\"x\",\"yaxis\":\"y\",\"type\":\"histogram\"},{\"alignmentgroup\":\"True\",\"bingroup\":\"x\",\"hovertemplate\":\"fuel_type=X<br>co2_emissions=%{x}<br>count=%{y}<extra></extra>\",\"legendgroup\":\"X\",\"marker\":{\"color\":\"#00cc96\",\"pattern\":{\"shape\":\"\"}},\"name\":\"X\",\"nbinsx\":10,\"offsetgroup\":\"X\",\"orientation\":\"v\",\"showlegend\":true,\"x\":[283,290,196,212,264,264,189,189,218,207,251,260,258,262,248,260,253,260,255,262,283,294,262,271,258,269,242,179,179,202,189,177,163,209,276,230,290,347,366,380,380,380,380,380,414,432,419,435,221,244,200,184,244,235,271,292,290,299,184,173,191,182,184,172,191,182,191,182,191,182,159,159,317,317,317,317,283,290,193,186,207,237,232,246,242,225,230,242,294,251,308,251,237,276,225,230,242,258,301,294,258,237,294,251,308,251,258,235,186,198,202,198,212,202,168,168,331,278,271,255,285,276,179,179,182,166,179,182,156,179,200,193,138,373,396,386,488,421,225,248,264,281,209,221,216,214,230,368,235,299,274,288,292,294,366,317,308,402,283,283,336,336,308,308,343,340,414,175,175,152,161,184,264,278,294,205,177,179,184,166,196,186,207,205,186,216,126,235,244,264,292,244,209,271,237,258,218,228,232,239,283,297,347,366,380,380,380,380,380,414,432,419,435,271,292,290,299,209,276,230,290,317,317,317,317,182,186,200,209,221,251,110,161,166,175,246,209,216,145,159,172,177,244,265,276,308,177,177,198,196,255,258,267,237,264,255,221,196,143,145,214,232,230,242,244,177,184,202,196,196,218,242,230,248,232,253,251,267,225,209,225,216,235,216,255,340,278,225,209,225,216,235,216,255,294,294,308,308,251,191,184,193,193,223,225,193,196,216,221,193,198,228,200,175,177,175,212,214,276,237,262,253,271,205,207,209,202,230,260,262,246,129,138,221,269,255,271,260,294,235,281,281,207,262,145,368,189,184,198,196,205,283,290,177,170,159,161,170,168,161,163,166,177,168,166,223,225,175,186,168,189,191,218,198,198,138,147,198,209,200,202,207,175,214,380,283,260,292,315,301,271,214,244,253,202,255,191,198,161,179,359,398,152,177,327,315,340,313,354,324,290,274,260,262,143,207,207,228,228,184,182,198,223,179,196,179,196,198,228,267,207,225,269,301,196,212,177,297,297,221,189,221,131,138,177,168,163,170,156,159,196,189,297,320,237,258,264,191,189,110,108,126,205,216,218,384,260,285,251,235,301,274,271,306,322,310,329,356,347,373,230,253,235,260,168,163,196,200,225,221,200,232,218,216,189,189,216,207,198,198,223,225,278,223,232,264,235,264,258,271,264,271,260,294],\"xaxis\":\"x\",\"yaxis\":\"y\",\"type\":\"histogram\"},{\"alignmentgroup\":\"True\",\"bingroup\":\"x\",\"hovertemplate\":\"fuel_type=E<br>co2_emissions=%{x}<br>count=%{y}<extra></extra>\",\"legendgroup\":\"E\",\"marker\":{\"color\":\"#ab63fa\",\"pattern\":{\"shape\":\"\"}},\"name\":\"E\",\"nbinsx\":10,\"offsetgroup\":\"E\",\"orientation\":\"v\",\"showlegend\":true,\"x\":[250,264,322,354,259,272,334,344,344,362,344,362,411,413,229,269,270,285,277,294,294,294,294,230,230,237,222,269,230,237,251,222,195,250,264,259,350,360,368,382,346,254,267,264,264,315,315,288,288,320,318,165,165,170,162,229,251,334,344,344,362,344,362,411,413,269,270,285,277,259,272,294,294,322,354,294,294,290,280,280,250,342,278,331,277,342,346,224,256,285,269,254],\"xaxis\":\"x\",\"yaxis\":\"y\",\"type\":\"histogram\"}],                        {\"template\":{\"data\":{\"histogram2dcontour\":[{\"type\":\"histogram2dcontour\",\"colorbar\":{\"outlinewidth\":0,\"ticks\":\"\"},\"colorscale\":[[0.0,\"#0d0887\"],[0.1111111111111111,\"#46039f\"],[0.2222222222222222,\"#7201a8\"],[0.3333333333333333,\"#9c179e\"],[0.4444444444444444,\"#bd3786\"],[0.5555555555555556,\"#d8576b\"],[0.6666666666666666,\"#ed7953\"],[0.7777777777777778,\"#fb9f3a\"],[0.8888888888888888,\"#fdca26\"],[1.0,\"#f0f921\"]]}],\"choropleth\":[{\"type\":\"choropleth\",\"colorbar\":{\"outlinewidth\":0,\"ticks\":\"\"}}],\"histogram2d\":[{\"type\":\"histogram2d\",\"colorbar\":{\"outlinewidth\":0,\"ticks\":\"\"},\"colorscale\":[[0.0,\"#0d0887\"],[0.1111111111111111,\"#46039f\"],[0.2222222222222222,\"#7201a8\"],[0.3333333333333333,\"#9c179e\"],[0.4444444444444444,\"#bd3786\"],[0.5555555555555556,\"#d8576b\"],[0.6666666666666666,\"#ed7953\"],[0.7777777777777778,\"#fb9f3a\"],[0.8888888888888888,\"#fdca26\"],[1.0,\"#f0f921\"]]}],\"heatmap\":[{\"type\":\"heatmap\",\"colorbar\":{\"outlinewidth\":0,\"ticks\":\"\"},\"colorscale\":[[0.0,\"#0d0887\"],[0.1111111111111111,\"#46039f\"],[0.2222222222222222,\"#7201a8\"],[0.3333333333333333,\"#9c179e\"],[0.4444444444444444,\"#bd3786\"],[0.5555555555555556,\"#d8576b\"],[0.6666666666666666,\"#ed7953\"],[0.7777777777777778,\"#fb9f3a\"],[0.8888888888888888,\"#fdca26\"],[1.0,\"#f0f921\"]]}],\"heatmapgl\":[{\"type\":\"heatmapgl\",\"colorbar\":{\"outlinewidth\":0,\"ticks\":\"\"},\"colorscale\":[[0.0,\"#0d0887\"],[0.1111111111111111,\"#46039f\"],[0.2222222222222222,\"#7201a8\"],[0.3333333333333333,\"#9c179e\"],[0.4444444444444444,\"#bd3786\"],[0.5555555555555556,\"#d8576b\"],[0.6666666666666666,\"#ed7953\"],[0.7777777777777778,\"#fb9f3a\"],[0.8888888888888888,\"#fdca26\"],[1.0,\"#f0f921\"]]}],\"contourcarpet\":[{\"type\":\"contourcarpet\",\"colorbar\":{\"outlinewidth\":0,\"ticks\":\"\"}}],\"contour\":[{\"type\":\"contour\",\"colorbar\":{\"outlinewidth\":0,\"ticks\":\"\"},\"colorscale\":[[0.0,\"#0d0887\"],[0.1111111111111111,\"#46039f\"],[0.2222222222222222,\"#7201a8\"],[0.3333333333333333,\"#9c179e\"],[0.4444444444444444,\"#bd3786\"],[0.5555555555555556,\"#d8576b\"],[0.6666666666666666,\"#ed7953\"],[0.7777777777777778,\"#fb9f3a\"],[0.8888888888888888,\"#fdca26\"],[1.0,\"#f0f921\"]]}],\"surface\":[{\"type\":\"surface\",\"colorbar\":{\"outlinewidth\":0,\"ticks\":\"\"},\"colorscale\":[[0.0,\"#0d0887\"],[0.1111111111111111,\"#46039f\"],[0.2222222222222222,\"#7201a8\"],[0.3333333333333333,\"#9c179e\"],[0.4444444444444444,\"#bd3786\"],[0.5555555555555556,\"#d8576b\"],[0.6666666666666666,\"#ed7953\"],[0.7777777777777778,\"#fb9f3a\"],[0.8888888888888888,\"#fdca26\"],[1.0,\"#f0f921\"]]}],\"mesh3d\":[{\"type\":\"mesh3d\",\"colorbar\":{\"outlinewidth\":0,\"ticks\":\"\"}}],\"scatter\":[{\"fillpattern\":{\"fillmode\":\"overlay\",\"size\":10,\"solidity\":0.2},\"type\":\"scatter\"}],\"parcoords\":[{\"type\":\"parcoords\",\"line\":{\"colorbar\":{\"outlinewidth\":0,\"ticks\":\"\"}}}],\"scatterpolargl\":[{\"type\":\"scatterpolargl\",\"marker\":{\"colorbar\":{\"outlinewidth\":0,\"ticks\":\"\"}}}],\"bar\":[{\"error_x\":{\"color\":\"#2a3f5f\"},\"error_y\":{\"color\":\"#2a3f5f\"},\"marker\":{\"line\":{\"color\":\"#E5ECF6\",\"width\":0.5},\"pattern\":{\"fillmode\":\"overlay\",\"size\":10,\"solidity\":0.2}},\"type\":\"bar\"}],\"scattergeo\":[{\"type\":\"scattergeo\",\"marker\":{\"colorbar\":{\"outlinewidth\":0,\"ticks\":\"\"}}}],\"scatterpolar\":[{\"type\":\"scatterpolar\",\"marker\":{\"colorbar\":{\"outlinewidth\":0,\"ticks\":\"\"}}}],\"histogram\":[{\"marker\":{\"pattern\":{\"fillmode\":\"overlay\",\"size\":10,\"solidity\":0.2}},\"type\":\"histogram\"}],\"scattergl\":[{\"type\":\"scattergl\",\"marker\":{\"colorbar\":{\"outlinewidth\":0,\"ticks\":\"\"}}}],\"scatter3d\":[{\"type\":\"scatter3d\",\"line\":{\"colorbar\":{\"outlinewidth\":0,\"ticks\":\"\"}},\"marker\":{\"colorbar\":{\"outlinewidth\":0,\"ticks\":\"\"}}}],\"scattermapbox\":[{\"type\":\"scattermapbox\",\"marker\":{\"colorbar\":{\"outlinewidth\":0,\"ticks\":\"\"}}}],\"scatterternary\":[{\"type\":\"scatterternary\",\"marker\":{\"colorbar\":{\"outlinewidth\":0,\"ticks\":\"\"}}}],\"scattercarpet\":[{\"type\":\"scattercarpet\",\"marker\":{\"colorbar\":{\"outlinewidth\":0,\"ticks\":\"\"}}}],\"carpet\":[{\"aaxis\":{\"endlinecolor\":\"#2a3f5f\",\"gridcolor\":\"white\",\"linecolor\":\"white\",\"minorgridcolor\":\"white\",\"startlinecolor\":\"#2a3f5f\"},\"baxis\":{\"endlinecolor\":\"#2a3f5f\",\"gridcolor\":\"white\",\"linecolor\":\"white\",\"minorgridcolor\":\"white\",\"startlinecolor\":\"#2a3f5f\"},\"type\":\"carpet\"}],\"table\":[{\"cells\":{\"fill\":{\"color\":\"#EBF0F8\"},\"line\":{\"color\":\"white\"}},\"header\":{\"fill\":{\"color\":\"#C8D4E3\"},\"line\":{\"color\":\"white\"}},\"type\":\"table\"}],\"barpolar\":[{\"marker\":{\"line\":{\"color\":\"#E5ECF6\",\"width\":0.5},\"pattern\":{\"fillmode\":\"overlay\",\"size\":10,\"solidity\":0.2}},\"type\":\"barpolar\"}],\"pie\":[{\"automargin\":true,\"type\":\"pie\"}]},\"layout\":{\"autotypenumbers\":\"strict\",\"colorway\":[\"#636efa\",\"#EF553B\",\"#00cc96\",\"#ab63fa\",\"#FFA15A\",\"#19d3f3\",\"#FF6692\",\"#B6E880\",\"#FF97FF\",\"#FECB52\"],\"font\":{\"color\":\"#2a3f5f\"},\"hovermode\":\"closest\",\"hoverlabel\":{\"align\":\"left\"},\"paper_bgcolor\":\"white\",\"plot_bgcolor\":\"#E5ECF6\",\"polar\":{\"bgcolor\":\"#E5ECF6\",\"angularaxis\":{\"gridcolor\":\"white\",\"linecolor\":\"white\",\"ticks\":\"\"},\"radialaxis\":{\"gridcolor\":\"white\",\"linecolor\":\"white\",\"ticks\":\"\"}},\"ternary\":{\"bgcolor\":\"#E5ECF6\",\"aaxis\":{\"gridcolor\":\"white\",\"linecolor\":\"white\",\"ticks\":\"\"},\"baxis\":{\"gridcolor\":\"white\",\"linecolor\":\"white\",\"ticks\":\"\"},\"caxis\":{\"gridcolor\":\"white\",\"linecolor\":\"white\",\"ticks\":\"\"}},\"coloraxis\":{\"colorbar\":{\"outlinewidth\":0,\"ticks\":\"\"}},\"colorscale\":{\"sequential\":[[0.0,\"#0d0887\"],[0.1111111111111111,\"#46039f\"],[0.2222222222222222,\"#7201a8\"],[0.3333333333333333,\"#9c179e\"],[0.4444444444444444,\"#bd3786\"],[0.5555555555555556,\"#d8576b\"],[0.6666666666666666,\"#ed7953\"],[0.7777777777777778,\"#fb9f3a\"],[0.8888888888888888,\"#fdca26\"],[1.0,\"#f0f921\"]],\"sequentialminus\":[[0.0,\"#0d0887\"],[0.1111111111111111,\"#46039f\"],[0.2222222222222222,\"#7201a8\"],[0.3333333333333333,\"#9c179e\"],[0.4444444444444444,\"#bd3786\"],[0.5555555555555556,\"#d8576b\"],[0.6666666666666666,\"#ed7953\"],[0.7777777777777778,\"#fb9f3a\"],[0.8888888888888888,\"#fdca26\"],[1.0,\"#f0f921\"]],\"diverging\":[[0,\"#8e0152\"],[0.1,\"#c51b7d\"],[0.2,\"#de77ae\"],[0.3,\"#f1b6da\"],[0.4,\"#fde0ef\"],[0.5,\"#f7f7f7\"],[0.6,\"#e6f5d0\"],[0.7,\"#b8e186\"],[0.8,\"#7fbc41\"],[0.9,\"#4d9221\"],[1,\"#276419\"]]},\"xaxis\":{\"gridcolor\":\"white\",\"linecolor\":\"white\",\"ticks\":\"\",\"title\":{\"standoff\":15},\"zerolinecolor\":\"white\",\"automargin\":true,\"zerolinewidth\":2},\"yaxis\":{\"gridcolor\":\"white\",\"linecolor\":\"white\",\"ticks\":\"\",\"title\":{\"standoff\":15},\"zerolinecolor\":\"white\",\"automargin\":true,\"zerolinewidth\":2},\"scene\":{\"xaxis\":{\"backgroundcolor\":\"#E5ECF6\",\"gridcolor\":\"white\",\"linecolor\":\"white\",\"showbackground\":true,\"ticks\":\"\",\"zerolinecolor\":\"white\",\"gridwidth\":2},\"yaxis\":{\"backgroundcolor\":\"#E5ECF6\",\"gridcolor\":\"white\",\"linecolor\":\"white\",\"showbackground\":true,\"ticks\":\"\",\"zerolinecolor\":\"white\",\"gridwidth\":2},\"zaxis\":{\"backgroundcolor\":\"#E5ECF6\",\"gridcolor\":\"white\",\"linecolor\":\"white\",\"showbackground\":true,\"ticks\":\"\",\"zerolinecolor\":\"white\",\"gridwidth\":2}},\"shapedefaults\":{\"line\":{\"color\":\"#2a3f5f\"}},\"annotationdefaults\":{\"arrowcolor\":\"#2a3f5f\",\"arrowhead\":0,\"arrowwidth\":1},\"geo\":{\"bgcolor\":\"white\",\"landcolor\":\"#E5ECF6\",\"subunitcolor\":\"white\",\"showland\":true,\"showlakes\":true,\"lakecolor\":\"white\"},\"title\":{\"x\":0.05},\"mapbox\":{\"style\":\"light\"}}},\"xaxis\":{\"anchor\":\"y\",\"domain\":[0.0,1.0],\"title\":{\"text\":\"CO2 Emissions\"}},\"yaxis\":{\"anchor\":\"x\",\"domain\":[0.0,1.0],\"title\":{\"text\":\"Count\"}},\"legend\":{\"title\":{\"text\":\"fuel_type\"},\"tracegroupgap\":0},\"margin\":{\"t\":60},\"barmode\":\"relative\",\"height\":400,\"width\":600,\"title\":{\"text\":\"CO2 Emissions Histogram\"}},                        {\"responsive\": true}                    ).then(function(){\n",
       "                            \n",
       "var gd = document.getElementById('0f50d9f1-b04d-4f90-800a-831e98620773');\n",
       "var x = new MutationObserver(function (mutations, observer) {{\n",
       "        var display = window.getComputedStyle(gd).display;\n",
       "        if (!display || display === 'none') {{\n",
       "            console.log([gd, 'removed!']);\n",
       "            Plotly.purge(gd);\n",
       "            observer.disconnect();\n",
       "        }}\n",
       "}});\n",
       "\n",
       "// Listen for the removal of the full notebook cells\n",
       "var notebookContainer = gd.closest('#notebook-container');\n",
       "if (notebookContainer) {{\n",
       "    x.observe(notebookContainer, {childList: true});\n",
       "}}\n",
       "\n",
       "// Listen for the clearing of the current output cell\n",
       "var outputEl = gd.closest('.output');\n",
       "if (outputEl) {{\n",
       "    x.observe(outputEl, {childList: true});\n",
       "}}\n",
       "\n",
       "                        })                };                });            </script>        </div>"
      ]
     },
     "metadata": {},
     "output_type": "display_data"
    }
   ],
   "source": [
    "fig_config = {\n",
    "    'data_frame': df,\n",
    "    'x': 'co2_emissions',\n",
    "    'nbins': 10,\n",
    "    'width': 600, \n",
    "    'height': 400,\n",
    "    'color': 'fuel_type',\n",
    "}\n",
    "\n",
    "layout_config = {\n",
    "    'title': 'CO2 Emissions Histogram',\n",
    "    'xaxis_title': 'CO2 Emissions',\n",
    "    'yaxis_title': 'Count',\n",
    "}\n",
    "\n",
    "fig = px.histogram(**fig_config)\n",
    "fig.update_layout(**layout_config)\n",
    "fig.show()"
   ]
  },
  {
   "cell_type": "code",
   "execution_count": 192,
   "metadata": {},
   "outputs": [],
   "source": [
    "df = df.drop(\n",
    "    columns=[\n",
    "        'fuel_type',\n",
    "    ]\n",
    ")"
   ]
  },
  {
   "attachments": {},
   "cell_type": "markdown",
   "metadata": {},
   "source": [
    "All the cars in this dataset were manufactured in 2014, so the `released_year` column is not useful."
   ]
  },
  {
   "cell_type": "code",
   "execution_count": 193,
   "metadata": {},
   "outputs": [
    {
     "data": {
      "application/vnd.plotly.v1+json": {
       "config": {
        "plotlyServerURL": "https://plot.ly"
       },
       "data": [
        {
         "domain": {
          "x": [
           0,
           1
          ],
          "y": [
           0,
           1
          ]
         },
         "hovertemplate": "label=%{label}<br>value=%{value}<extra></extra>",
         "labels": [
          2014
         ],
         "legendgroup": "",
         "name": "",
         "showlegend": true,
         "type": "pie",
         "values": [
          1067
         ]
        }
       ],
       "layout": {
        "height": 400,
        "legend": {
         "tracegroupgap": 0
        },
        "margin": {
         "t": 60
        },
        "template": {
         "data": {
          "bar": [
           {
            "error_x": {
             "color": "#2a3f5f"
            },
            "error_y": {
             "color": "#2a3f5f"
            },
            "marker": {
             "line": {
              "color": "#E5ECF6",
              "width": 0.5
             },
             "pattern": {
              "fillmode": "overlay",
              "size": 10,
              "solidity": 0.2
             }
            },
            "type": "bar"
           }
          ],
          "barpolar": [
           {
            "marker": {
             "line": {
              "color": "#E5ECF6",
              "width": 0.5
             },
             "pattern": {
              "fillmode": "overlay",
              "size": 10,
              "solidity": 0.2
             }
            },
            "type": "barpolar"
           }
          ],
          "carpet": [
           {
            "aaxis": {
             "endlinecolor": "#2a3f5f",
             "gridcolor": "white",
             "linecolor": "white",
             "minorgridcolor": "white",
             "startlinecolor": "#2a3f5f"
            },
            "baxis": {
             "endlinecolor": "#2a3f5f",
             "gridcolor": "white",
             "linecolor": "white",
             "minorgridcolor": "white",
             "startlinecolor": "#2a3f5f"
            },
            "type": "carpet"
           }
          ],
          "choropleth": [
           {
            "colorbar": {
             "outlinewidth": 0,
             "ticks": ""
            },
            "type": "choropleth"
           }
          ],
          "contour": [
           {
            "colorbar": {
             "outlinewidth": 0,
             "ticks": ""
            },
            "colorscale": [
             [
              0,
              "#0d0887"
             ],
             [
              0.1111111111111111,
              "#46039f"
             ],
             [
              0.2222222222222222,
              "#7201a8"
             ],
             [
              0.3333333333333333,
              "#9c179e"
             ],
             [
              0.4444444444444444,
              "#bd3786"
             ],
             [
              0.5555555555555556,
              "#d8576b"
             ],
             [
              0.6666666666666666,
              "#ed7953"
             ],
             [
              0.7777777777777778,
              "#fb9f3a"
             ],
             [
              0.8888888888888888,
              "#fdca26"
             ],
             [
              1,
              "#f0f921"
             ]
            ],
            "type": "contour"
           }
          ],
          "contourcarpet": [
           {
            "colorbar": {
             "outlinewidth": 0,
             "ticks": ""
            },
            "type": "contourcarpet"
           }
          ],
          "heatmap": [
           {
            "colorbar": {
             "outlinewidth": 0,
             "ticks": ""
            },
            "colorscale": [
             [
              0,
              "#0d0887"
             ],
             [
              0.1111111111111111,
              "#46039f"
             ],
             [
              0.2222222222222222,
              "#7201a8"
             ],
             [
              0.3333333333333333,
              "#9c179e"
             ],
             [
              0.4444444444444444,
              "#bd3786"
             ],
             [
              0.5555555555555556,
              "#d8576b"
             ],
             [
              0.6666666666666666,
              "#ed7953"
             ],
             [
              0.7777777777777778,
              "#fb9f3a"
             ],
             [
              0.8888888888888888,
              "#fdca26"
             ],
             [
              1,
              "#f0f921"
             ]
            ],
            "type": "heatmap"
           }
          ],
          "heatmapgl": [
           {
            "colorbar": {
             "outlinewidth": 0,
             "ticks": ""
            },
            "colorscale": [
             [
              0,
              "#0d0887"
             ],
             [
              0.1111111111111111,
              "#46039f"
             ],
             [
              0.2222222222222222,
              "#7201a8"
             ],
             [
              0.3333333333333333,
              "#9c179e"
             ],
             [
              0.4444444444444444,
              "#bd3786"
             ],
             [
              0.5555555555555556,
              "#d8576b"
             ],
             [
              0.6666666666666666,
              "#ed7953"
             ],
             [
              0.7777777777777778,
              "#fb9f3a"
             ],
             [
              0.8888888888888888,
              "#fdca26"
             ],
             [
              1,
              "#f0f921"
             ]
            ],
            "type": "heatmapgl"
           }
          ],
          "histogram": [
           {
            "marker": {
             "pattern": {
              "fillmode": "overlay",
              "size": 10,
              "solidity": 0.2
             }
            },
            "type": "histogram"
           }
          ],
          "histogram2d": [
           {
            "colorbar": {
             "outlinewidth": 0,
             "ticks": ""
            },
            "colorscale": [
             [
              0,
              "#0d0887"
             ],
             [
              0.1111111111111111,
              "#46039f"
             ],
             [
              0.2222222222222222,
              "#7201a8"
             ],
             [
              0.3333333333333333,
              "#9c179e"
             ],
             [
              0.4444444444444444,
              "#bd3786"
             ],
             [
              0.5555555555555556,
              "#d8576b"
             ],
             [
              0.6666666666666666,
              "#ed7953"
             ],
             [
              0.7777777777777778,
              "#fb9f3a"
             ],
             [
              0.8888888888888888,
              "#fdca26"
             ],
             [
              1,
              "#f0f921"
             ]
            ],
            "type": "histogram2d"
           }
          ],
          "histogram2dcontour": [
           {
            "colorbar": {
             "outlinewidth": 0,
             "ticks": ""
            },
            "colorscale": [
             [
              0,
              "#0d0887"
             ],
             [
              0.1111111111111111,
              "#46039f"
             ],
             [
              0.2222222222222222,
              "#7201a8"
             ],
             [
              0.3333333333333333,
              "#9c179e"
             ],
             [
              0.4444444444444444,
              "#bd3786"
             ],
             [
              0.5555555555555556,
              "#d8576b"
             ],
             [
              0.6666666666666666,
              "#ed7953"
             ],
             [
              0.7777777777777778,
              "#fb9f3a"
             ],
             [
              0.8888888888888888,
              "#fdca26"
             ],
             [
              1,
              "#f0f921"
             ]
            ],
            "type": "histogram2dcontour"
           }
          ],
          "mesh3d": [
           {
            "colorbar": {
             "outlinewidth": 0,
             "ticks": ""
            },
            "type": "mesh3d"
           }
          ],
          "parcoords": [
           {
            "line": {
             "colorbar": {
              "outlinewidth": 0,
              "ticks": ""
             }
            },
            "type": "parcoords"
           }
          ],
          "pie": [
           {
            "automargin": true,
            "type": "pie"
           }
          ],
          "scatter": [
           {
            "fillpattern": {
             "fillmode": "overlay",
             "size": 10,
             "solidity": 0.2
            },
            "type": "scatter"
           }
          ],
          "scatter3d": [
           {
            "line": {
             "colorbar": {
              "outlinewidth": 0,
              "ticks": ""
             }
            },
            "marker": {
             "colorbar": {
              "outlinewidth": 0,
              "ticks": ""
             }
            },
            "type": "scatter3d"
           }
          ],
          "scattercarpet": [
           {
            "marker": {
             "colorbar": {
              "outlinewidth": 0,
              "ticks": ""
             }
            },
            "type": "scattercarpet"
           }
          ],
          "scattergeo": [
           {
            "marker": {
             "colorbar": {
              "outlinewidth": 0,
              "ticks": ""
             }
            },
            "type": "scattergeo"
           }
          ],
          "scattergl": [
           {
            "marker": {
             "colorbar": {
              "outlinewidth": 0,
              "ticks": ""
             }
            },
            "type": "scattergl"
           }
          ],
          "scattermapbox": [
           {
            "marker": {
             "colorbar": {
              "outlinewidth": 0,
              "ticks": ""
             }
            },
            "type": "scattermapbox"
           }
          ],
          "scatterpolar": [
           {
            "marker": {
             "colorbar": {
              "outlinewidth": 0,
              "ticks": ""
             }
            },
            "type": "scatterpolar"
           }
          ],
          "scatterpolargl": [
           {
            "marker": {
             "colorbar": {
              "outlinewidth": 0,
              "ticks": ""
             }
            },
            "type": "scatterpolargl"
           }
          ],
          "scatterternary": [
           {
            "marker": {
             "colorbar": {
              "outlinewidth": 0,
              "ticks": ""
             }
            },
            "type": "scatterternary"
           }
          ],
          "surface": [
           {
            "colorbar": {
             "outlinewidth": 0,
             "ticks": ""
            },
            "colorscale": [
             [
              0,
              "#0d0887"
             ],
             [
              0.1111111111111111,
              "#46039f"
             ],
             [
              0.2222222222222222,
              "#7201a8"
             ],
             [
              0.3333333333333333,
              "#9c179e"
             ],
             [
              0.4444444444444444,
              "#bd3786"
             ],
             [
              0.5555555555555556,
              "#d8576b"
             ],
             [
              0.6666666666666666,
              "#ed7953"
             ],
             [
              0.7777777777777778,
              "#fb9f3a"
             ],
             [
              0.8888888888888888,
              "#fdca26"
             ],
             [
              1,
              "#f0f921"
             ]
            ],
            "type": "surface"
           }
          ],
          "table": [
           {
            "cells": {
             "fill": {
              "color": "#EBF0F8"
             },
             "line": {
              "color": "white"
             }
            },
            "header": {
             "fill": {
              "color": "#C8D4E3"
             },
             "line": {
              "color": "white"
             }
            },
            "type": "table"
           }
          ]
         },
         "layout": {
          "annotationdefaults": {
           "arrowcolor": "#2a3f5f",
           "arrowhead": 0,
           "arrowwidth": 1
          },
          "autotypenumbers": "strict",
          "coloraxis": {
           "colorbar": {
            "outlinewidth": 0,
            "ticks": ""
           }
          },
          "colorscale": {
           "diverging": [
            [
             0,
             "#8e0152"
            ],
            [
             0.1,
             "#c51b7d"
            ],
            [
             0.2,
             "#de77ae"
            ],
            [
             0.3,
             "#f1b6da"
            ],
            [
             0.4,
             "#fde0ef"
            ],
            [
             0.5,
             "#f7f7f7"
            ],
            [
             0.6,
             "#e6f5d0"
            ],
            [
             0.7,
             "#b8e186"
            ],
            [
             0.8,
             "#7fbc41"
            ],
            [
             0.9,
             "#4d9221"
            ],
            [
             1,
             "#276419"
            ]
           ],
           "sequential": [
            [
             0,
             "#0d0887"
            ],
            [
             0.1111111111111111,
             "#46039f"
            ],
            [
             0.2222222222222222,
             "#7201a8"
            ],
            [
             0.3333333333333333,
             "#9c179e"
            ],
            [
             0.4444444444444444,
             "#bd3786"
            ],
            [
             0.5555555555555556,
             "#d8576b"
            ],
            [
             0.6666666666666666,
             "#ed7953"
            ],
            [
             0.7777777777777778,
             "#fb9f3a"
            ],
            [
             0.8888888888888888,
             "#fdca26"
            ],
            [
             1,
             "#f0f921"
            ]
           ],
           "sequentialminus": [
            [
             0,
             "#0d0887"
            ],
            [
             0.1111111111111111,
             "#46039f"
            ],
            [
             0.2222222222222222,
             "#7201a8"
            ],
            [
             0.3333333333333333,
             "#9c179e"
            ],
            [
             0.4444444444444444,
             "#bd3786"
            ],
            [
             0.5555555555555556,
             "#d8576b"
            ],
            [
             0.6666666666666666,
             "#ed7953"
            ],
            [
             0.7777777777777778,
             "#fb9f3a"
            ],
            [
             0.8888888888888888,
             "#fdca26"
            ],
            [
             1,
             "#f0f921"
            ]
           ]
          },
          "colorway": [
           "#636efa",
           "#EF553B",
           "#00cc96",
           "#ab63fa",
           "#FFA15A",
           "#19d3f3",
           "#FF6692",
           "#B6E880",
           "#FF97FF",
           "#FECB52"
          ],
          "font": {
           "color": "#2a3f5f"
          },
          "geo": {
           "bgcolor": "white",
           "lakecolor": "white",
           "landcolor": "#E5ECF6",
           "showlakes": true,
           "showland": true,
           "subunitcolor": "white"
          },
          "hoverlabel": {
           "align": "left"
          },
          "hovermode": "closest",
          "mapbox": {
           "style": "light"
          },
          "paper_bgcolor": "white",
          "plot_bgcolor": "#E5ECF6",
          "polar": {
           "angularaxis": {
            "gridcolor": "white",
            "linecolor": "white",
            "ticks": ""
           },
           "bgcolor": "#E5ECF6",
           "radialaxis": {
            "gridcolor": "white",
            "linecolor": "white",
            "ticks": ""
           }
          },
          "scene": {
           "xaxis": {
            "backgroundcolor": "#E5ECF6",
            "gridcolor": "white",
            "gridwidth": 2,
            "linecolor": "white",
            "showbackground": true,
            "ticks": "",
            "zerolinecolor": "white"
           },
           "yaxis": {
            "backgroundcolor": "#E5ECF6",
            "gridcolor": "white",
            "gridwidth": 2,
            "linecolor": "white",
            "showbackground": true,
            "ticks": "",
            "zerolinecolor": "white"
           },
           "zaxis": {
            "backgroundcolor": "#E5ECF6",
            "gridcolor": "white",
            "gridwidth": 2,
            "linecolor": "white",
            "showbackground": true,
            "ticks": "",
            "zerolinecolor": "white"
           }
          },
          "shapedefaults": {
           "line": {
            "color": "#2a3f5f"
           }
          },
          "ternary": {
           "aaxis": {
            "gridcolor": "white",
            "linecolor": "white",
            "ticks": ""
           },
           "baxis": {
            "gridcolor": "white",
            "linecolor": "white",
            "ticks": ""
           },
           "bgcolor": "#E5ECF6",
           "caxis": {
            "gridcolor": "white",
            "linecolor": "white",
            "ticks": ""
           }
          },
          "title": {
           "x": 0.05
          },
          "xaxis": {
           "automargin": true,
           "gridcolor": "white",
           "linecolor": "white",
           "ticks": "",
           "title": {
            "standoff": 15
           },
           "zerolinecolor": "white",
           "zerolinewidth": 2
          },
          "yaxis": {
           "automargin": true,
           "gridcolor": "white",
           "linecolor": "white",
           "ticks": "",
           "title": {
            "standoff": 15
           },
           "zerolinecolor": "white",
           "zerolinewidth": 2
          }
         }
        },
        "title": {
         "text": "Number of Vehicles Released in Each Year"
        },
        "width": 600
       }
      },
      "text/html": [
       "<div>                            <div id=\"fe56b9fa-26ec-4aa1-ba26-fedc75d8fadf\" class=\"plotly-graph-div\" style=\"height:400px; width:600px;\"></div>            <script type=\"text/javascript\">                require([\"plotly\"], function(Plotly) {                    window.PLOTLYENV=window.PLOTLYENV || {};                                    if (document.getElementById(\"fe56b9fa-26ec-4aa1-ba26-fedc75d8fadf\")) {                    Plotly.newPlot(                        \"fe56b9fa-26ec-4aa1-ba26-fedc75d8fadf\",                        [{\"domain\":{\"x\":[0.0,1.0],\"y\":[0.0,1.0]},\"hovertemplate\":\"label=%{label}<br>value=%{value}<extra></extra>\",\"labels\":[2014],\"legendgroup\":\"\",\"name\":\"\",\"showlegend\":true,\"values\":[1067],\"type\":\"pie\"}],                        {\"template\":{\"data\":{\"histogram2dcontour\":[{\"type\":\"histogram2dcontour\",\"colorbar\":{\"outlinewidth\":0,\"ticks\":\"\"},\"colorscale\":[[0.0,\"#0d0887\"],[0.1111111111111111,\"#46039f\"],[0.2222222222222222,\"#7201a8\"],[0.3333333333333333,\"#9c179e\"],[0.4444444444444444,\"#bd3786\"],[0.5555555555555556,\"#d8576b\"],[0.6666666666666666,\"#ed7953\"],[0.7777777777777778,\"#fb9f3a\"],[0.8888888888888888,\"#fdca26\"],[1.0,\"#f0f921\"]]}],\"choropleth\":[{\"type\":\"choropleth\",\"colorbar\":{\"outlinewidth\":0,\"ticks\":\"\"}}],\"histogram2d\":[{\"type\":\"histogram2d\",\"colorbar\":{\"outlinewidth\":0,\"ticks\":\"\"},\"colorscale\":[[0.0,\"#0d0887\"],[0.1111111111111111,\"#46039f\"],[0.2222222222222222,\"#7201a8\"],[0.3333333333333333,\"#9c179e\"],[0.4444444444444444,\"#bd3786\"],[0.5555555555555556,\"#d8576b\"],[0.6666666666666666,\"#ed7953\"],[0.7777777777777778,\"#fb9f3a\"],[0.8888888888888888,\"#fdca26\"],[1.0,\"#f0f921\"]]}],\"heatmap\":[{\"type\":\"heatmap\",\"colorbar\":{\"outlinewidth\":0,\"ticks\":\"\"},\"colorscale\":[[0.0,\"#0d0887\"],[0.1111111111111111,\"#46039f\"],[0.2222222222222222,\"#7201a8\"],[0.3333333333333333,\"#9c179e\"],[0.4444444444444444,\"#bd3786\"],[0.5555555555555556,\"#d8576b\"],[0.6666666666666666,\"#ed7953\"],[0.7777777777777778,\"#fb9f3a\"],[0.8888888888888888,\"#fdca26\"],[1.0,\"#f0f921\"]]}],\"heatmapgl\":[{\"type\":\"heatmapgl\",\"colorbar\":{\"outlinewidth\":0,\"ticks\":\"\"},\"colorscale\":[[0.0,\"#0d0887\"],[0.1111111111111111,\"#46039f\"],[0.2222222222222222,\"#7201a8\"],[0.3333333333333333,\"#9c179e\"],[0.4444444444444444,\"#bd3786\"],[0.5555555555555556,\"#d8576b\"],[0.6666666666666666,\"#ed7953\"],[0.7777777777777778,\"#fb9f3a\"],[0.8888888888888888,\"#fdca26\"],[1.0,\"#f0f921\"]]}],\"contourcarpet\":[{\"type\":\"contourcarpet\",\"colorbar\":{\"outlinewidth\":0,\"ticks\":\"\"}}],\"contour\":[{\"type\":\"contour\",\"colorbar\":{\"outlinewidth\":0,\"ticks\":\"\"},\"colorscale\":[[0.0,\"#0d0887\"],[0.1111111111111111,\"#46039f\"],[0.2222222222222222,\"#7201a8\"],[0.3333333333333333,\"#9c179e\"],[0.4444444444444444,\"#bd3786\"],[0.5555555555555556,\"#d8576b\"],[0.6666666666666666,\"#ed7953\"],[0.7777777777777778,\"#fb9f3a\"],[0.8888888888888888,\"#fdca26\"],[1.0,\"#f0f921\"]]}],\"surface\":[{\"type\":\"surface\",\"colorbar\":{\"outlinewidth\":0,\"ticks\":\"\"},\"colorscale\":[[0.0,\"#0d0887\"],[0.1111111111111111,\"#46039f\"],[0.2222222222222222,\"#7201a8\"],[0.3333333333333333,\"#9c179e\"],[0.4444444444444444,\"#bd3786\"],[0.5555555555555556,\"#d8576b\"],[0.6666666666666666,\"#ed7953\"],[0.7777777777777778,\"#fb9f3a\"],[0.8888888888888888,\"#fdca26\"],[1.0,\"#f0f921\"]]}],\"mesh3d\":[{\"type\":\"mesh3d\",\"colorbar\":{\"outlinewidth\":0,\"ticks\":\"\"}}],\"scatter\":[{\"fillpattern\":{\"fillmode\":\"overlay\",\"size\":10,\"solidity\":0.2},\"type\":\"scatter\"}],\"parcoords\":[{\"type\":\"parcoords\",\"line\":{\"colorbar\":{\"outlinewidth\":0,\"ticks\":\"\"}}}],\"scatterpolargl\":[{\"type\":\"scatterpolargl\",\"marker\":{\"colorbar\":{\"outlinewidth\":0,\"ticks\":\"\"}}}],\"bar\":[{\"error_x\":{\"color\":\"#2a3f5f\"},\"error_y\":{\"color\":\"#2a3f5f\"},\"marker\":{\"line\":{\"color\":\"#E5ECF6\",\"width\":0.5},\"pattern\":{\"fillmode\":\"overlay\",\"size\":10,\"solidity\":0.2}},\"type\":\"bar\"}],\"scattergeo\":[{\"type\":\"scattergeo\",\"marker\":{\"colorbar\":{\"outlinewidth\":0,\"ticks\":\"\"}}}],\"scatterpolar\":[{\"type\":\"scatterpolar\",\"marker\":{\"colorbar\":{\"outlinewidth\":0,\"ticks\":\"\"}}}],\"histogram\":[{\"marker\":{\"pattern\":{\"fillmode\":\"overlay\",\"size\":10,\"solidity\":0.2}},\"type\":\"histogram\"}],\"scattergl\":[{\"type\":\"scattergl\",\"marker\":{\"colorbar\":{\"outlinewidth\":0,\"ticks\":\"\"}}}],\"scatter3d\":[{\"type\":\"scatter3d\",\"line\":{\"colorbar\":{\"outlinewidth\":0,\"ticks\":\"\"}},\"marker\":{\"colorbar\":{\"outlinewidth\":0,\"ticks\":\"\"}}}],\"scattermapbox\":[{\"type\":\"scattermapbox\",\"marker\":{\"colorbar\":{\"outlinewidth\":0,\"ticks\":\"\"}}}],\"scatterternary\":[{\"type\":\"scatterternary\",\"marker\":{\"colorbar\":{\"outlinewidth\":0,\"ticks\":\"\"}}}],\"scattercarpet\":[{\"type\":\"scattercarpet\",\"marker\":{\"colorbar\":{\"outlinewidth\":0,\"ticks\":\"\"}}}],\"carpet\":[{\"aaxis\":{\"endlinecolor\":\"#2a3f5f\",\"gridcolor\":\"white\",\"linecolor\":\"white\",\"minorgridcolor\":\"white\",\"startlinecolor\":\"#2a3f5f\"},\"baxis\":{\"endlinecolor\":\"#2a3f5f\",\"gridcolor\":\"white\",\"linecolor\":\"white\",\"minorgridcolor\":\"white\",\"startlinecolor\":\"#2a3f5f\"},\"type\":\"carpet\"}],\"table\":[{\"cells\":{\"fill\":{\"color\":\"#EBF0F8\"},\"line\":{\"color\":\"white\"}},\"header\":{\"fill\":{\"color\":\"#C8D4E3\"},\"line\":{\"color\":\"white\"}},\"type\":\"table\"}],\"barpolar\":[{\"marker\":{\"line\":{\"color\":\"#E5ECF6\",\"width\":0.5},\"pattern\":{\"fillmode\":\"overlay\",\"size\":10,\"solidity\":0.2}},\"type\":\"barpolar\"}],\"pie\":[{\"automargin\":true,\"type\":\"pie\"}]},\"layout\":{\"autotypenumbers\":\"strict\",\"colorway\":[\"#636efa\",\"#EF553B\",\"#00cc96\",\"#ab63fa\",\"#FFA15A\",\"#19d3f3\",\"#FF6692\",\"#B6E880\",\"#FF97FF\",\"#FECB52\"],\"font\":{\"color\":\"#2a3f5f\"},\"hovermode\":\"closest\",\"hoverlabel\":{\"align\":\"left\"},\"paper_bgcolor\":\"white\",\"plot_bgcolor\":\"#E5ECF6\",\"polar\":{\"bgcolor\":\"#E5ECF6\",\"angularaxis\":{\"gridcolor\":\"white\",\"linecolor\":\"white\",\"ticks\":\"\"},\"radialaxis\":{\"gridcolor\":\"white\",\"linecolor\":\"white\",\"ticks\":\"\"}},\"ternary\":{\"bgcolor\":\"#E5ECF6\",\"aaxis\":{\"gridcolor\":\"white\",\"linecolor\":\"white\",\"ticks\":\"\"},\"baxis\":{\"gridcolor\":\"white\",\"linecolor\":\"white\",\"ticks\":\"\"},\"caxis\":{\"gridcolor\":\"white\",\"linecolor\":\"white\",\"ticks\":\"\"}},\"coloraxis\":{\"colorbar\":{\"outlinewidth\":0,\"ticks\":\"\"}},\"colorscale\":{\"sequential\":[[0.0,\"#0d0887\"],[0.1111111111111111,\"#46039f\"],[0.2222222222222222,\"#7201a8\"],[0.3333333333333333,\"#9c179e\"],[0.4444444444444444,\"#bd3786\"],[0.5555555555555556,\"#d8576b\"],[0.6666666666666666,\"#ed7953\"],[0.7777777777777778,\"#fb9f3a\"],[0.8888888888888888,\"#fdca26\"],[1.0,\"#f0f921\"]],\"sequentialminus\":[[0.0,\"#0d0887\"],[0.1111111111111111,\"#46039f\"],[0.2222222222222222,\"#7201a8\"],[0.3333333333333333,\"#9c179e\"],[0.4444444444444444,\"#bd3786\"],[0.5555555555555556,\"#d8576b\"],[0.6666666666666666,\"#ed7953\"],[0.7777777777777778,\"#fb9f3a\"],[0.8888888888888888,\"#fdca26\"],[1.0,\"#f0f921\"]],\"diverging\":[[0,\"#8e0152\"],[0.1,\"#c51b7d\"],[0.2,\"#de77ae\"],[0.3,\"#f1b6da\"],[0.4,\"#fde0ef\"],[0.5,\"#f7f7f7\"],[0.6,\"#e6f5d0\"],[0.7,\"#b8e186\"],[0.8,\"#7fbc41\"],[0.9,\"#4d9221\"],[1,\"#276419\"]]},\"xaxis\":{\"gridcolor\":\"white\",\"linecolor\":\"white\",\"ticks\":\"\",\"title\":{\"standoff\":15},\"zerolinecolor\":\"white\",\"automargin\":true,\"zerolinewidth\":2},\"yaxis\":{\"gridcolor\":\"white\",\"linecolor\":\"white\",\"ticks\":\"\",\"title\":{\"standoff\":15},\"zerolinecolor\":\"white\",\"automargin\":true,\"zerolinewidth\":2},\"scene\":{\"xaxis\":{\"backgroundcolor\":\"#E5ECF6\",\"gridcolor\":\"white\",\"linecolor\":\"white\",\"showbackground\":true,\"ticks\":\"\",\"zerolinecolor\":\"white\",\"gridwidth\":2},\"yaxis\":{\"backgroundcolor\":\"#E5ECF6\",\"gridcolor\":\"white\",\"linecolor\":\"white\",\"showbackground\":true,\"ticks\":\"\",\"zerolinecolor\":\"white\",\"gridwidth\":2},\"zaxis\":{\"backgroundcolor\":\"#E5ECF6\",\"gridcolor\":\"white\",\"linecolor\":\"white\",\"showbackground\":true,\"ticks\":\"\",\"zerolinecolor\":\"white\",\"gridwidth\":2}},\"shapedefaults\":{\"line\":{\"color\":\"#2a3f5f\"}},\"annotationdefaults\":{\"arrowcolor\":\"#2a3f5f\",\"arrowhead\":0,\"arrowwidth\":1},\"geo\":{\"bgcolor\":\"white\",\"landcolor\":\"#E5ECF6\",\"subunitcolor\":\"white\",\"showland\":true,\"showlakes\":true,\"lakecolor\":\"white\"},\"title\":{\"x\":0.05},\"mapbox\":{\"style\":\"light\"}}},\"legend\":{\"tracegroupgap\":0},\"margin\":{\"t\":60},\"height\":400,\"width\":600,\"title\":{\"text\":\"Number of Vehicles Released in Each Year\"}},                        {\"responsive\": true}                    ).then(function(){\n",
       "                            \n",
       "var gd = document.getElementById('fe56b9fa-26ec-4aa1-ba26-fedc75d8fadf');\n",
       "var x = new MutationObserver(function (mutations, observer) {{\n",
       "        var display = window.getComputedStyle(gd).display;\n",
       "        if (!display || display === 'none') {{\n",
       "            console.log([gd, 'removed!']);\n",
       "            Plotly.purge(gd);\n",
       "            observer.disconnect();\n",
       "        }}\n",
       "}});\n",
       "\n",
       "// Listen for the removal of the full notebook cells\n",
       "var notebookContainer = gd.closest('#notebook-container');\n",
       "if (notebookContainer) {{\n",
       "    x.observe(notebookContainer, {childList: true});\n",
       "}}\n",
       "\n",
       "// Listen for the clearing of the current output cell\n",
       "var outputEl = gd.closest('.output');\n",
       "if (outputEl) {{\n",
       "    x.observe(outputEl, {childList: true});\n",
       "}}\n",
       "\n",
       "                        })                };                });            </script>        </div>"
      ]
     },
     "metadata": {},
     "output_type": "display_data"
    }
   ],
   "source": [
    "names = df['release_year'].value_counts().index\n",
    "values = df['release_year'].value_counts().values\n",
    "\n",
    "# a pie chart of the number of vehicles released in each year\n",
    "fig_config = {\n",
    "    'data_frame': df,\n",
    "    'names': names,\n",
    "    'values': values,\n",
    "    'width': 600, \n",
    "    'height': 400,\n",
    "}\n",
    "\n",
    "layout_config = {\n",
    "    'title': 'Number of Vehicles Released in Each Year',\n",
    "}\n",
    "\n",
    "\n",
    "fig = px.pie(**fig_config)\n",
    "fig.update_layout(**layout_config)\n",
    "fig.show()"
   ]
  },
  {
   "cell_type": "code",
   "execution_count": 194,
   "metadata": {},
   "outputs": [],
   "source": [
    "df = df.drop(\n",
    "    columns=[\n",
    "        'release_year',\n",
    "    ]\n",
    ")"
   ]
  },
  {
   "attachments": {},
   "cell_type": "markdown",
   "metadata": {},
   "source": [
    "Fuel compsumption is divided between city and highway, but we have a total fuel consumption column in two different units (l/100km and mpg). I will delete all except the total fuel consumption in l/100km.\n",
    "\n",
    "I will alse rename `fuel_consumption_in_kpl` to `fuel_consumption` because now we have only one unit."
   ]
  },
  {
   "cell_type": "code",
   "execution_count": 195,
   "metadata": {},
   "outputs": [],
   "source": [
    "df = df.drop(\n",
    "    columns=[\n",
    "        'fuel_consumption_on_city', \n",
    "        'fuel_consumption_on_highway',\n",
    "        'fuel_consumption_combinated_in_mpg'\n",
    "    ]\n",
    ")\n",
    "\n",
    "df.rename(\n",
    "    columns={'fuel_consumption_combinated_in_kpl':'fuel_consumption'}, inplace=True\n",
    ")"
   ]
  },
  {
   "attachments": {},
   "cell_type": "markdown",
   "metadata": {},
   "source": [
    "The final dataframe looks like this:"
   ]
  },
  {
   "cell_type": "code",
   "execution_count": 196,
   "metadata": {},
   "outputs": [
    {
     "data": {
      "text/html": [
       "<div>\n",
       "<style scoped>\n",
       "    .dataframe tbody tr th:only-of-type {\n",
       "        vertical-align: middle;\n",
       "    }\n",
       "\n",
       "    .dataframe tbody tr th {\n",
       "        vertical-align: top;\n",
       "    }\n",
       "\n",
       "    .dataframe thead th {\n",
       "        text-align: right;\n",
       "    }\n",
       "</style>\n",
       "<table border=\"1\" class=\"dataframe\">\n",
       "  <thead>\n",
       "    <tr style=\"text-align: right;\">\n",
       "      <th></th>\n",
       "      <th>engine_size</th>\n",
       "      <th>cylinders</th>\n",
       "      <th>fuel_consumption</th>\n",
       "      <th>co2_emissions</th>\n",
       "    </tr>\n",
       "  </thead>\n",
       "  <tbody>\n",
       "    <tr>\n",
       "      <th>0</th>\n",
       "      <td>2.0</td>\n",
       "      <td>4</td>\n",
       "      <td>8.5</td>\n",
       "      <td>196</td>\n",
       "    </tr>\n",
       "    <tr>\n",
       "      <th>1</th>\n",
       "      <td>2.4</td>\n",
       "      <td>4</td>\n",
       "      <td>9.6</td>\n",
       "      <td>221</td>\n",
       "    </tr>\n",
       "    <tr>\n",
       "      <th>2</th>\n",
       "      <td>1.5</td>\n",
       "      <td>4</td>\n",
       "      <td>5.9</td>\n",
       "      <td>136</td>\n",
       "    </tr>\n",
       "    <tr>\n",
       "      <th>3</th>\n",
       "      <td>3.5</td>\n",
       "      <td>6</td>\n",
       "      <td>11.1</td>\n",
       "      <td>255</td>\n",
       "    </tr>\n",
       "    <tr>\n",
       "      <th>4</th>\n",
       "      <td>3.5</td>\n",
       "      <td>6</td>\n",
       "      <td>10.6</td>\n",
       "      <td>244</td>\n",
       "    </tr>\n",
       "  </tbody>\n",
       "</table>\n",
       "</div>"
      ],
      "text/plain": [
       "   engine_size  cylinders  fuel_consumption  co2_emissions\n",
       "0          2.0          4               8.5            196\n",
       "1          2.4          4               9.6            221\n",
       "2          1.5          4               5.9            136\n",
       "3          3.5          6              11.1            255\n",
       "4          3.5          6              10.6            244"
      ]
     },
     "execution_count": 196,
     "metadata": {},
     "output_type": "execute_result"
    }
   ],
   "source": [
    "df.head()"
   ]
  },
  {
   "attachments": {},
   "cell_type": "markdown",
   "metadata": {},
   "source": [
    "### Graphical Distribution Analysis\n",
    "\n",
    "Analysis thru histograms of selected features, detecting outliers. At first sight, it's not always a good idea to graph all histograms in the same plot because they need different configurations, like the number of bins, the range, etc. \n",
    "\n",
    "But in this case, it's ok because we are only interested in the outliers.\n",
    "\n",
    "`engine_size` and `co2_emissions` have outliers."
   ]
  },
  {
   "cell_type": "code",
   "execution_count": 197,
   "metadata": {},
   "outputs": [
    {
     "data": {
      "application/vnd.plotly.v1+json": {
       "config": {
        "plotlyServerURL": "https://plot.ly"
       },
       "data": [
        {
         "name": "engine_size",
         "type": "histogram",
         "x": [
          2,
          2.4,
          1.5,
          3.5,
          3.5,
          3.5,
          3.5,
          3.7,
          3.7,
          2.4,
          2.4,
          3.5,
          5.9,
          5.9,
          4.7,
          4.7,
          4.7,
          4.7,
          5.9,
          2,
          2,
          2,
          2,
          2,
          2,
          2,
          3,
          3,
          3,
          3,
          3,
          4,
          3,
          3,
          4,
          6.3,
          3,
          2,
          2,
          3,
          2,
          3,
          3,
          3,
          4.2,
          4.2,
          5.2,
          5.2,
          4.2,
          4.2,
          5.2,
          5.2,
          4.2,
          4.2,
          4,
          3,
          3,
          3,
          3,
          3,
          4,
          4,
          4,
          3,
          2,
          2,
          2,
          2,
          4,
          6,
          4,
          6,
          4,
          6,
          6,
          6.8,
          2,
          2,
          2,
          2,
          2,
          2,
          2,
          2,
          2,
          2,
          3,
          3,
          3,
          3,
          3,
          2,
          2,
          2,
          3,
          3,
          3,
          3,
          2,
          2,
          3,
          3,
          3,
          4.4,
          4.4,
          3,
          4.4,
          4.4,
          4.4,
          3,
          4.4,
          4.4,
          6,
          3,
          3,
          3,
          4.4,
          4.4,
          4.4,
          4.4,
          4.4,
          4.4,
          4.4,
          4.4,
          4.4,
          4.4,
          2,
          3,
          2,
          3,
          3,
          4.4,
          4.4,
          3,
          4.4,
          2,
          2,
          3,
          3,
          3,
          3.6,
          3.6,
          1.4,
          1.4,
          3.6,
          3.6,
          3.6,
          3.6,
          2.4,
          2,
          2,
          2,
          2.4,
          2,
          2,
          2.4,
          2,
          2,
          2.5,
          3.6,
          2,
          3.6,
          3.6,
          3.6,
          2,
          3.6,
          2,
          3.6,
          3.6,
          3,
          3.6,
          3,
          3.6,
          6.2,
          6.2,
          6.2,
          6.2,
          6.2,
          6.2,
          6.2,
          6.2,
          6.2,
          6.2,
          3.6,
          3.6,
          3.6,
          3.6,
          3.6,
          3.6,
          3.6,
          3.6,
          6.2,
          6.2,
          6.2,
          6.2,
          6.2,
          6.2,
          1.4,
          1.4,
          1.8,
          1.8,
          2,
          1.4,
          1.4,
          2.4,
          3.6,
          3.6,
          2.4,
          3.6,
          3.6,
          4.3,
          5.3,
          5.3,
          5.3,
          5.3,
          5.3,
          5.3,
          5.3,
          5.3,
          5.3,
          5.3,
          5.3,
          5.3,
          4.8,
          6,
          6,
          4.8,
          6,
          6,
          2.5,
          3.6,
          3.6,
          2.4,
          2,
          2.5,
          2.4,
          2.4,
          4.3,
          4.3,
          5.3,
          5.3,
          6.2,
          4.3,
          4.3,
          5.3,
          5.3,
          6.2,
          1.4,
          1.4,
          1.8,
          1.8,
          1.4,
          1.4,
          1.8,
          1.8,
          1.4,
          1.4,
          1.4,
          1.4,
          1.2,
          1.2,
          5.3,
          5.3,
          5.3,
          5.3,
          5.3,
          5.3,
          5.3,
          5.3,
          3.6,
          3.6,
          1.4,
          1.4,
          1.4,
          3.6,
          2.4,
          2.4,
          3.6,
          3.6,
          2.4,
          2.4,
          3.6,
          3.6,
          5.7,
          3.6,
          5.7,
          3.6,
          3.6,
          3.6,
          3.6,
          6.4,
          3.6,
          3.6,
          2.4,
          2.4,
          3.6,
          3.6,
          3.6,
          5.7,
          5.7,
          6.4,
          6.4,
          3.6,
          3.6,
          5.7,
          3.6,
          5.7,
          3.6,
          3.6,
          3.6,
          3.6,
          3.6,
          3.6,
          6.4,
          2,
          2.4,
          2.4,
          2,
          2,
          2.4,
          2.4,
          1.4,
          1.4,
          5.7,
          3.6,
          3.6,
          3.6,
          3.6,
          2.4,
          3.6,
          3.6,
          3.6,
          1.4,
          1.4,
          1.4,
          1.4,
          1.4,
          1.4,
          1.4,
          1.4,
          1.4,
          1.4,
          2,
          4.6,
          4.6,
          5.4,
          5.4,
          4.6,
          4.6,
          6.8,
          5.4,
          5.4,
          2,
          3.5,
          3.5,
          3.7,
          1.6,
          2,
          2.5,
          1.6,
          2,
          5.4,
          5.4,
          2,
          3.5,
          3.5,
          3.5,
          3.5,
          3.5,
          3.5,
          3.5,
          6.2,
          3.5,
          3.5,
          6.2,
          3.7,
          3.7,
          3.7,
          3.7,
          5,
          5,
          5,
          5,
          3.7,
          3.7,
          3.7,
          3.7,
          5,
          5,
          5,
          5,
          6.2,
          1.6,
          1.6,
          1,
          1.6,
          1.6,
          3.5,
          3.5,
          3.5,
          2,
          2,
          2,
          2,
          2,
          2,
          2,
          2,
          2,
          1.5,
          1.6,
          2,
          2.5,
          1.5,
          2,
          2,
          3.7,
          3.7,
          5,
          5,
          5.8,
          3.7,
          2,
          3.5,
          3.5,
          3.5,
          3.5,
          3.5,
          1.6,
          2.5,
          1.6,
          2.5,
          3.6,
          3.6,
          4.3,
          5.3,
          5.3,
          5.3,
          5.3,
          5.3,
          5.3,
          5.3,
          5.3,
          5.3,
          5.3,
          5.3,
          5.3,
          4.8,
          6,
          6,
          4.8,
          6,
          6,
          4.3,
          4.3,
          5.3,
          5.3,
          6.2,
          4.3,
          4.3,
          5.3,
          5.3,
          6.2,
          2.4,
          3.6,
          3.6,
          2.4,
          3.6,
          3.6,
          5.3,
          5.3,
          5.3,
          5.3,
          6.2,
          6.2,
          6.2,
          6.2,
          5.3,
          5.3,
          5.3,
          5.3,
          2.4,
          2.4,
          2.4,
          3.5,
          3.5,
          3.5,
          2,
          1.8,
          1.8,
          1.8,
          3.5,
          2.4,
          2.4,
          1.5,
          1.5,
          1.5,
          1.5,
          3.5,
          3.5,
          3.5,
          3.5,
          1.6,
          1.6,
          2,
          2,
          5,
          3.8,
          3.3,
          3.3,
          2.4,
          2,
          2.4,
          2,
          2.4,
          2.4,
          2.4,
          2,
          2,
          2.4,
          2,
          2.4,
          1.6,
          1.6,
          1.6,
          1.6,
          3.7,
          3.7,
          3.5,
          3.5,
          3.7,
          3.7,
          3.7,
          3.7,
          3.7,
          3.7,
          5.6,
          3.7,
          5.6,
          3.5,
          3.7,
          3.5,
          3.5,
          2.5,
          3.7,
          5,
          5.6,
          3,
          3,
          5,
          2,
          3,
          5,
          5,
          5,
          3,
          5,
          5,
          3,
          5,
          5,
          5,
          5,
          5,
          5,
          5,
          5,
          5,
          5,
          2.4,
          3.2,
          2.4,
          3.2,
          2.4,
          3.2,
          2.4,
          3.2,
          2,
          2,
          2.4,
          2.4,
          2.4,
          2.4,
          2.4,
          5.7,
          3,
          3.6,
          3.6,
          6.4,
          2,
          2,
          2.4,
          2.4,
          2.4,
          2.4,
          2.4,
          3.6,
          3.6,
          3.6,
          3.6,
          3.3,
          1.8,
          1.8,
          2,
          2,
          1.6,
          1.6,
          2,
          2,
          1.6,
          1.6,
          2,
          2,
          2,
          2.4,
          1.6,
          1.6,
          1.6,
          2,
          2,
          3.5,
          2.4,
          3.3,
          2.4,
          3.3,
          1.6,
          1.6,
          2,
          2,
          2.4,
          2.4,
          2,
          2.4,
          6.5,
          5.2,
          5.2,
          2,
          3,
          2,
          2,
          5,
          5,
          5,
          3,
          3,
          3,
          5,
          5,
          5,
          3,
          3,
          3,
          5,
          5,
          5,
          1.8,
          2.5,
          3.5,
          3.5,
          3.5,
          3.5,
          4.6,
          2.5,
          2.5,
          2.5,
          3.5,
          3.5,
          3.5,
          5,
          4.6,
          4.6,
          4.6,
          5,
          5.7,
          3.5,
          3.5,
          3.5,
          3.5,
          3.7,
          3.5,
          2,
          3.7,
          3.7,
          2,
          3.7,
          2,
          5.4,
          5.4,
          3,
          3,
          4.7,
          4.7,
          3.8,
          3,
          2,
          2,
          2.5,
          2,
          2.5,
          3.7,
          3.7,
          1.5,
          1.5,
          2,
          2,
          2.5,
          2.5,
          2,
          2,
          2,
          2.5,
          2.5,
          2,
          2.5,
          2.5,
          2.5,
          2.5,
          2.5,
          2,
          2,
          2,
          2,
          1.8,
          1.8,
          3.5,
          3.5,
          3.5,
          3.5,
          3.5,
          3.5,
          6.2,
          6.2,
          4.7,
          5.5,
          2,
          2,
          4.7,
          5.5,
          5.5,
          2.1,
          3.5,
          3.5,
          3.5,
          3.5,
          3.5,
          3.5,
          3.5,
          4.7,
          4.7,
          4.7,
          5.5,
          5.5,
          5.5,
          5.5,
          5.5,
          5.5,
          3,
          4.7,
          4.7,
          5.5,
          2.1,
          3.5,
          3.5,
          3.5,
          3,
          4.7,
          5.5,
          4.7,
          4.7,
          5.5,
          4.7,
          5.5,
          6,
          1.8,
          1.8,
          3.5,
          5.5,
          6.2,
          6.2,
          6.2,
          1.6,
          1.6,
          1.6,
          1.6,
          1.6,
          1.6,
          1.6,
          1.6,
          1.6,
          1.6,
          1.6,
          1.6,
          1.6,
          1.6,
          1.6,
          1.6,
          1.6,
          1.6,
          1.6,
          1.6,
          1.6,
          1.6,
          1.6,
          1.6,
          1.6,
          1.6,
          1.6,
          1.6,
          1.6,
          1.6,
          1.6,
          1.6,
          1.6,
          1.6,
          1.6,
          1.6,
          2,
          2,
          2.4,
          2,
          2,
          2,
          2,
          2,
          1.2,
          1.2,
          2.4,
          2.4,
          3,
          2,
          2,
          2,
          3.7,
          3.7,
          3.7,
          3.7,
          2.5,
          3.5,
          5.6,
          2.5,
          2.5,
          4,
          4,
          4,
          3.8,
          1.6,
          1.6,
          1.6,
          3.5,
          3.5,
          2,
          3.5,
          3.5,
          2.5,
          3.5,
          2.5,
          2.5,
          1.8,
          1.8,
          5.6,
          5.6,
          1.6,
          1.6,
          4,
          4,
          3.4,
          3.4,
          3.4,
          3.4,
          3.4,
          3.4,
          3.8,
          3.8,
          3.8,
          3.8,
          3.4,
          3.4,
          3.8,
          3.8,
          3.8,
          3.8,
          3.8,
          3.8,
          3.8,
          3.8,
          3.8,
          2.7,
          2.7,
          3.4,
          3.4,
          3.6,
          3.6,
          3,
          4.8,
          4.8,
          3,
          4.8,
          2.7,
          2.7,
          3.4,
          3.4,
          3.6,
          3.6,
          3,
          3,
          4.8,
          3,
          4.8,
          4.8,
          5.7,
          5.7,
          5.7,
          5.7,
          3,
          3.6,
          3.6,
          3,
          3.6,
          3.6,
          3.6,
          3.6,
          3.6,
          6.6,
          6.6,
          6.7,
          6.7,
          6.7,
          6.7,
          6.6,
          2,
          2,
          1.3,
          2.5,
          2.5,
          2.4,
          2.4,
          1.8,
          1.8,
          1,
          1,
          8.4,
          8.4,
          2,
          2,
          2,
          2.5,
          2.5,
          2,
          2,
          2.5,
          2.5,
          2,
          2,
          2.5,
          2.5,
          2.5,
          2.5,
          3.6,
          2.5,
          2.5,
          3.6,
          3.6,
          2,
          2,
          2,
          4,
          4,
          3.5,
          2.5,
          3.5,
          2.5,
          2.5,
          1.8,
          1.8,
          1.8,
          1.8,
          1.8,
          1.8,
          1.8,
          1.8,
          4,
          4,
          2.7,
          3.5,
          3.5,
          3.5,
          3.5,
          1.8,
          1.5,
          1.8,
          2.5,
          2.5,
          2.5,
          5.7,
          3.5,
          3.5,
          2.7,
          2.7,
          4,
          2.7,
          2.7,
          4,
          4,
          4,
          4.6,
          5.7,
          4.6,
          5.7,
          2.7,
          3.5,
          2.7,
          3.5,
          1.5,
          1.5,
          1.8,
          1.8,
          2,
          2,
          2.5,
          2.5,
          1.8,
          2,
          2,
          2.5,
          2,
          2,
          2,
          2,
          3.6,
          2,
          2.5,
          2.5,
          2,
          2,
          1.8,
          1.8,
          2,
          2,
          2,
          2,
          2,
          2,
          1.4,
          1.8,
          1.8,
          2.5,
          2.5,
          3.6,
          2,
          2,
          3.6,
          2,
          2,
          2,
          3.6,
          3,
          2.5,
          2.5,
          3,
          3.2,
          3,
          3.2,
          3,
          3.2,
          3,
          3.2,
          3.2
         ],
         "xaxis": "x",
         "yaxis": "y"
        },
        {
         "name": "cylinders",
         "type": "histogram",
         "x": [
          4,
          4,
          4,
          6,
          6,
          6,
          6,
          6,
          6,
          4,
          4,
          6,
          12,
          12,
          8,
          8,
          8,
          8,
          12,
          4,
          4,
          4,
          4,
          4,
          4,
          4,
          6,
          6,
          6,
          6,
          6,
          8,
          6,
          6,
          8,
          12,
          6,
          4,
          4,
          6,
          4,
          6,
          6,
          6,
          8,
          8,
          10,
          10,
          8,
          8,
          10,
          10,
          8,
          8,
          8,
          6,
          6,
          6,
          6,
          6,
          8,
          8,
          8,
          6,
          4,
          4,
          4,
          4,
          8,
          12,
          8,
          12,
          8,
          12,
          12,
          8,
          4,
          4,
          4,
          4,
          4,
          4,
          4,
          4,
          4,
          4,
          6,
          6,
          6,
          6,
          6,
          4,
          4,
          4,
          6,
          6,
          6,
          6,
          4,
          4,
          6,
          6,
          6,
          8,
          8,
          6,
          8,
          8,
          8,
          6,
          8,
          8,
          12,
          6,
          6,
          6,
          8,
          8,
          8,
          8,
          8,
          8,
          8,
          8,
          8,
          8,
          4,
          6,
          4,
          6,
          6,
          8,
          8,
          6,
          8,
          4,
          4,
          6,
          6,
          6,
          6,
          6,
          4,
          4,
          6,
          6,
          6,
          6,
          4,
          4,
          4,
          4,
          4,
          4,
          4,
          4,
          4,
          4,
          4,
          6,
          4,
          6,
          6,
          6,
          4,
          6,
          4,
          6,
          6,
          6,
          6,
          6,
          6,
          8,
          8,
          8,
          8,
          8,
          8,
          8,
          8,
          8,
          8,
          6,
          6,
          6,
          6,
          6,
          6,
          6,
          6,
          8,
          8,
          8,
          8,
          8,
          8,
          4,
          4,
          4,
          4,
          4,
          4,
          4,
          4,
          6,
          6,
          4,
          6,
          6,
          6,
          8,
          8,
          8,
          8,
          8,
          8,
          8,
          8,
          8,
          8,
          8,
          8,
          8,
          8,
          8,
          8,
          8,
          8,
          4,
          6,
          6,
          4,
          4,
          4,
          4,
          4,
          6,
          6,
          8,
          8,
          8,
          6,
          6,
          8,
          8,
          8,
          4,
          4,
          4,
          4,
          4,
          4,
          4,
          4,
          4,
          4,
          4,
          4,
          4,
          4,
          8,
          8,
          8,
          8,
          8,
          8,
          8,
          8,
          6,
          6,
          4,
          4,
          4,
          6,
          4,
          4,
          6,
          6,
          4,
          4,
          6,
          6,
          8,
          6,
          8,
          6,
          6,
          6,
          6,
          8,
          6,
          6,
          4,
          4,
          6,
          6,
          6,
          8,
          8,
          8,
          8,
          6,
          6,
          8,
          6,
          8,
          6,
          6,
          6,
          6,
          6,
          6,
          8,
          4,
          4,
          4,
          4,
          4,
          4,
          4,
          4,
          4,
          8,
          6,
          6,
          6,
          6,
          4,
          6,
          6,
          6,
          4,
          4,
          4,
          4,
          4,
          4,
          4,
          4,
          4,
          4,
          4,
          8,
          8,
          8,
          8,
          8,
          8,
          10,
          8,
          8,
          4,
          6,
          6,
          6,
          4,
          4,
          4,
          4,
          4,
          8,
          8,
          4,
          6,
          6,
          6,
          6,
          6,
          6,
          6,
          8,
          6,
          6,
          8,
          6,
          6,
          6,
          6,
          8,
          8,
          8,
          8,
          6,
          6,
          6,
          6,
          8,
          8,
          8,
          8,
          8,
          4,
          4,
          4,
          4,
          4,
          6,
          6,
          6,
          4,
          4,
          4,
          4,
          4,
          4,
          4,
          4,
          4,
          4,
          4,
          4,
          4,
          4,
          4,
          4,
          6,
          6,
          8,
          8,
          8,
          6,
          4,
          6,
          6,
          6,
          6,
          6,
          4,
          4,
          4,
          4,
          6,
          6,
          6,
          8,
          8,
          8,
          8,
          8,
          8,
          8,
          8,
          8,
          8,
          8,
          8,
          8,
          8,
          8,
          8,
          8,
          8,
          6,
          6,
          8,
          8,
          8,
          6,
          6,
          8,
          8,
          8,
          4,
          6,
          6,
          4,
          6,
          6,
          8,
          8,
          8,
          8,
          8,
          8,
          8,
          8,
          8,
          8,
          8,
          8,
          4,
          4,
          4,
          6,
          6,
          6,
          4,
          4,
          4,
          4,
          6,
          4,
          4,
          4,
          4,
          4,
          4,
          6,
          6,
          6,
          6,
          4,
          4,
          4,
          4,
          8,
          6,
          6,
          6,
          4,
          4,
          4,
          4,
          4,
          4,
          4,
          4,
          4,
          4,
          4,
          4,
          4,
          4,
          4,
          4,
          6,
          6,
          6,
          6,
          6,
          6,
          6,
          6,
          6,
          6,
          8,
          6,
          8,
          6,
          6,
          6,
          6,
          4,
          6,
          8,
          8,
          6,
          6,
          8,
          4,
          6,
          8,
          8,
          8,
          6,
          8,
          8,
          6,
          8,
          8,
          8,
          8,
          8,
          8,
          8,
          8,
          8,
          8,
          4,
          6,
          4,
          6,
          4,
          6,
          4,
          6,
          4,
          4,
          4,
          4,
          4,
          4,
          4,
          8,
          6,
          6,
          6,
          8,
          4,
          4,
          4,
          4,
          4,
          4,
          4,
          6,
          6,
          6,
          6,
          6,
          4,
          4,
          4,
          4,
          4,
          4,
          4,
          4,
          4,
          4,
          4,
          4,
          4,
          4,
          4,
          4,
          4,
          4,
          4,
          6,
          4,
          6,
          4,
          6,
          4,
          4,
          4,
          4,
          4,
          4,
          4,
          4,
          12,
          10,
          10,
          4,
          6,
          4,
          4,
          8,
          8,
          8,
          6,
          6,
          6,
          8,
          8,
          8,
          6,
          6,
          6,
          8,
          8,
          8,
          4,
          4,
          6,
          6,
          6,
          6,
          8,
          6,
          6,
          6,
          6,
          6,
          6,
          8,
          8,
          8,
          8,
          8,
          8,
          6,
          6,
          6,
          6,
          6,
          6,
          4,
          6,
          6,
          4,
          6,
          4,
          8,
          8,
          6,
          6,
          8,
          8,
          8,
          6,
          4,
          4,
          4,
          4,
          4,
          6,
          6,
          4,
          4,
          4,
          4,
          4,
          4,
          4,
          4,
          4,
          4,
          4,
          4,
          4,
          4,
          4,
          4,
          4,
          4,
          4,
          4,
          4,
          4,
          4,
          6,
          6,
          6,
          6,
          6,
          6,
          8,
          8,
          8,
          8,
          4,
          4,
          8,
          8,
          8,
          4,
          6,
          6,
          6,
          6,
          6,
          6,
          6,
          8,
          8,
          8,
          8,
          8,
          8,
          8,
          8,
          8,
          6,
          8,
          8,
          8,
          4,
          6,
          6,
          6,
          6,
          8,
          8,
          8,
          8,
          8,
          8,
          8,
          8,
          4,
          4,
          6,
          8,
          8,
          8,
          8,
          4,
          4,
          4,
          4,
          4,
          4,
          4,
          4,
          4,
          4,
          4,
          4,
          4,
          4,
          4,
          4,
          4,
          4,
          4,
          4,
          4,
          4,
          4,
          4,
          4,
          4,
          4,
          4,
          4,
          4,
          4,
          4,
          4,
          4,
          4,
          4,
          4,
          4,
          4,
          4,
          4,
          4,
          4,
          4,
          3,
          3,
          4,
          4,
          6,
          4,
          4,
          4,
          6,
          6,
          6,
          6,
          4,
          6,
          8,
          4,
          4,
          6,
          6,
          6,
          6,
          4,
          4,
          4,
          6,
          6,
          4,
          6,
          6,
          4,
          6,
          4,
          4,
          4,
          4,
          8,
          8,
          4,
          4,
          6,
          6,
          6,
          6,
          6,
          6,
          6,
          6,
          6,
          6,
          6,
          6,
          6,
          6,
          6,
          6,
          6,
          6,
          6,
          6,
          6,
          6,
          6,
          6,
          6,
          6,
          6,
          6,
          6,
          6,
          8,
          8,
          6,
          8,
          6,
          6,
          6,
          6,
          6,
          6,
          6,
          6,
          8,
          6,
          8,
          8,
          8,
          8,
          8,
          8,
          6,
          6,
          6,
          6,
          6,
          6,
          6,
          6,
          6,
          12,
          12,
          12,
          12,
          12,
          12,
          12,
          4,
          4,
          4,
          4,
          4,
          4,
          4,
          4,
          4,
          3,
          3,
          10,
          10,
          4,
          4,
          4,
          4,
          4,
          4,
          4,
          4,
          4,
          4,
          4,
          4,
          4,
          4,
          4,
          6,
          4,
          4,
          6,
          6,
          4,
          4,
          4,
          6,
          6,
          6,
          4,
          6,
          4,
          4,
          4,
          4,
          4,
          4,
          4,
          4,
          4,
          4,
          6,
          6,
          4,
          6,
          6,
          6,
          6,
          4,
          4,
          4,
          4,
          4,
          4,
          8,
          6,
          6,
          4,
          4,
          6,
          4,
          4,
          6,
          6,
          6,
          8,
          8,
          8,
          8,
          4,
          6,
          4,
          6,
          4,
          4,
          4,
          4,
          4,
          4,
          5,
          5,
          4,
          4,
          4,
          5,
          4,
          4,
          4,
          4,
          6,
          4,
          5,
          5,
          4,
          4,
          4,
          4,
          4,
          4,
          4,
          4,
          4,
          4,
          4,
          4,
          4,
          5,
          5,
          6,
          4,
          4,
          6,
          4,
          4,
          4,
          6,
          6,
          5,
          5,
          6,
          6,
          6,
          6,
          6,
          6,
          6,
          6,
          6
         ],
         "xaxis": "x2",
         "yaxis": "y2"
        },
        {
         "name": "fuel_consumption",
         "type": "histogram",
         "x": [
          8.5,
          9.6,
          5.9,
          11.1,
          10.6,
          10,
          10.1,
          11.1,
          11.6,
          9.2,
          9.8,
          10.4,
          15.6,
          15.6,
          14.7,
          15.4,
          14.7,
          15.4,
          15.6,
          8.8,
          10,
          9.3,
          10,
          10,
          9.3,
          10.2,
          10.9,
          8.3,
          11.2,
          8.3,
          11.2,
          11.3,
          8.4,
          11.2,
          12.5,
          15.7,
          8.5,
          10.5,
          10.4,
          11.2,
          9.2,
          9.1,
          13.2,
          10.9,
          14.6,
          17.7,
          15.4,
          17.8,
          14.6,
          17.7,
          15.4,
          17.8,
          13.3,
          13.4,
          12.6,
          11.4,
          12.4,
          11.4,
          12.4,
          11.6,
          12.2,
          12.2,
          12.9,
          12.7,
          9.1,
          9.1,
          10.3,
          10.3,
          12.9,
          15.5,
          13.9,
          16.5,
          14,
          16.5,
          16.5,
          19,
          8.4,
          8.7,
          8.8,
          6.7,
          6.7,
          8.4,
          8.7,
          9.1,
          9.1,
          9.1,
          9.6,
          10,
          9.9,
          10.3,
          10.1,
          8.4,
          8.7,
          9.1,
          9.6,
          10,
          9.9,
          10.3,
          8.8,
          9.1,
          7.9,
          10.1,
          10.7,
          12.2,
          12.7,
          10.1,
          12.7,
          12.2,
          12.7,
          10.7,
          12.7,
          12.7,
          15.5,
          8.3,
          9.3,
          9.2,
          12.7,
          12.7,
          14.7,
          13.8,
          14.7,
          13.8,
          14.7,
          13.8,
          14.7,
          13.8,
          9.1,
          11.3,
          10,
          11,
          11.1,
          13.9,
          16.1,
          11.9,
          14.1,
          9.1,
          8.7,
          12.1,
          11,
          12.1,
          12.3,
          12.6,
          8.5,
          9.2,
          11.5,
          15.6,
          11.5,
          16.5,
          8.2,
          9.9,
          9.8,
          10.7,
          8.2,
          9.9,
          9.8,
          9.5,
          9.6,
          10.2,
          9,
          10.9,
          10.1,
          11.3,
          11.2,
          11.4,
          10.1,
          10.8,
          10.8,
          11.3,
          12.8,
          11,
          11.3,
          11.1,
          11.4,
          16.6,
          14.8,
          16.6,
          14.8,
          16.6,
          14.8,
          14.7,
          20.1,
          16.4,
          22.1,
          12.3,
          12.8,
          11.4,
          11.8,
          12.6,
          11.2,
          11.7,
          10.5,
          12.8,
          12.7,
          16.6,
          14.8,
          12,
          11.2,
          7.8,
          7.8,
          8.8,
          8.2,
          7.1,
          7.7,
          7.1,
          9.1,
          12,
          16.2,
          10,
          12.6,
          17,
          15.1,
          15.9,
          20.9,
          16.5,
          21.5,
          16.5,
          21.5,
          16.5,
          22.6,
          16.5,
          21.5,
          16.5,
          22.6,
          18,
          18.8,
          25.7,
          18.2,
          18.9,
          25.8,
          9.6,
          10.6,
          14.3,
          8.7,
          9.9,
          8,
          10.6,
          10.2,
          11.8,
          16.8,
          12.7,
          16.9,
          14.1,
          12.6,
          17.8,
          13,
          17.3,
          14.3,
          8,
          7.5,
          8.3,
          7.9,
          8,
          7.5,
          8.3,
          7.9,
          8.3,
          7.9,
          8.3,
          7.9,
          6.9,
          6.9,
          13.8,
          18.4,
          13.8,
          18.4,
          13.8,
          18.4,
          13.8,
          18.4,
          12.3,
          12.6,
          8.4,
          8.1,
          9,
          10.3,
          10.1,
          10.7,
          10.5,
          14.4,
          9.8,
          10,
          10.5,
          14.4,
          12.8,
          10.9,
          13.4,
          10.9,
          14.8,
          10.3,
          13.9,
          13.8,
          12,
          16.8,
          9.8,
          10,
          10.5,
          14.4,
          11.2,
          13.1,
          12.8,
          13.9,
          13.8,
          11.2,
          10.3,
          12.8,
          10.9,
          13.4,
          10.9,
          14.8,
          11.2,
          15.7,
          10.2,
          13.9,
          13.8,
          8.1,
          8.6,
          8.8,
          8.6,
          12.2,
          9.2,
          8.8,
          7.3,
          7.3,
          14.4,
          12.1,
          15.6,
          11.8,
          16.5,
          11.1,
          12.4,
          12,
          16.2,
          7.8,
          7.8,
          7.9,
          7.2,
          7.8,
          7.9,
          6.8,
          7.8,
          8.7,
          8.4,
          6,
          16.2,
          21.9,
          17.2,
          22.5,
          16.8,
          23,
          21.2,
          18.3,
          23.9,
          9.8,
          10.8,
          11.5,
          12.2,
          9.1,
          9.6,
          9.4,
          9.3,
          10,
          16,
          21.6,
          10.2,
          13,
          11.9,
          15.9,
          12.5,
          16.7,
          12.7,
          12.8,
          15.9,
          13.8,
          13.4,
          17.5,
          12.3,
          16.5,
          12.3,
          16.5,
          14.6,
          19.7,
          14.6,
          19.7,
          13.4,
          18,
          13.4,
          18,
          14.9,
          20,
          14.8,
          19.9,
          18,
          7.6,
          7.6,
          6.6,
          7,
          8,
          11.5,
          12.1,
          12.8,
          8.9,
          7.7,
          10.3,
          7.8,
          10.3,
          8,
          10.6,
          7.2,
          10.1,
          8.5,
          8.1,
          9,
          8.9,
          8.1,
          9.4,
          5.5,
          10.2,
          10.6,
          11.5,
          12.7,
          13.2,
          10.6,
          9.1,
          11.8,
          10.3,
          14.3,
          11.2,
          15.7,
          9.5,
          9.9,
          10.1,
          10.4,
          12.3,
          12.9,
          15.1,
          15.9,
          20.9,
          16.5,
          21.5,
          16.5,
          21.5,
          16.5,
          22.6,
          16.5,
          21.5,
          16.5,
          22.6,
          18,
          18.8,
          25.7,
          18.2,
          18.9,
          25.8,
          11.8,
          16.8,
          12.7,
          16.9,
          14.1,
          12.6,
          17.8,
          13,
          17.3,
          14.3,
          9.1,
          12,
          16.2,
          10,
          12.6,
          17,
          13.8,
          18.4,
          13.8,
          18.4,
          14.7,
          20.1,
          16.4,
          22.1,
          13.8,
          18.4,
          13.8,
          18.4,
          7.9,
          8.1,
          8.7,
          9.1,
          9.6,
          10.9,
          4.8,
          7,
          7.2,
          7.6,
          10.7,
          9.1,
          9.4,
          6.3,
          6.9,
          7.5,
          7.7,
          10.6,
          11.5,
          12,
          13.4,
          7.7,
          7.7,
          8.6,
          8.5,
          13.2,
          11.1,
          11.2,
          11.6,
          10.3,
          11.5,
          11.1,
          9.6,
          8.5,
          6.2,
          6.3,
          9.3,
          10.1,
          10,
          10.5,
          10.6,
          7.7,
          8,
          8.8,
          8.5,
          10.2,
          10.8,
          7.5,
          8.2,
          11.5,
          11.7,
          12.3,
          11.1,
          11.6,
          11,
          12.3,
          11.6,
          12.8,
          7.6,
          11.8,
          10.6,
          11,
          8.5,
          12.8,
          14.5,
          15,
          10.3,
          10.6,
          12.8,
          10.5,
          12.2,
          13.3,
          18.1,
          13.3,
          12.4,
          13.3,
          17.5,
          12.4,
          13.3,
          17.5,
          13.3,
          13.3,
          13.1,
          12.6,
          13.7,
          13.5,
          13.7,
          13.5,
          9.5,
          10.5,
          10,
          10.8,
          10.1,
          11,
          10.9,
          11.6,
          9.8,
          9.1,
          9.8,
          9.4,
          10.2,
          9.4,
          11.1,
          14.8,
          9.9,
          12.1,
          15.6,
          15.8,
          9.8,
          9.1,
          9.8,
          9.4,
          10.2,
          9.4,
          11.1,
          12.8,
          12.8,
          13.4,
          13.4,
          10.9,
          8.3,
          8,
          8.4,
          8.4,
          9.7,
          9.8,
          8.4,
          8.5,
          9.4,
          9.6,
          8.4,
          8.6,
          9.9,
          8.7,
          7.6,
          7.7,
          7.6,
          9.2,
          9.3,
          12,
          10.3,
          11.4,
          11,
          11.8,
          8.9,
          9,
          9.1,
          8.8,
          10,
          11.3,
          11.4,
          10.7,
          18.3,
          15.7,
          17.4,
          11.9,
          14.5,
          9.8,
          9.8,
          15.4,
          15.1,
          21.4,
          12.4,
          12.4,
          17.4,
          15,
          14.7,
          20.7,
          12.3,
          12.3,
          17.3,
          15.4,
          15.1,
          21.4,
          5.6,
          6,
          9.6,
          10.4,
          11,
          7.6,
          13.9,
          9.7,
          10.4,
          9.7,
          10.6,
          11,
          10.6,
          12.6,
          12.3,
          12.9,
          12.9,
          11.4,
          16.5,
          11.7,
          11.1,
          8.2,
          11.8,
          11.3,
          12.8,
          10.2,
          12.2,
          12.2,
          9,
          11.4,
          6.3,
          16,
          21.6,
          12.7,
          12.7,
          15.1,
          15.3,
          14.5,
          13.1,
          8.2,
          8,
          8.6,
          8.5,
          8.9,
          12.3,
          12.6,
          7.7,
          7.4,
          6.9,
          7,
          7.4,
          7.3,
          7,
          7.1,
          7.2,
          7.7,
          7.3,
          7.2,
          9.7,
          9.8,
          7.6,
          8.1,
          7.3,
          10.2,
          9.6,
          9.9,
          8,
          9.4,
          9.4,
          10.5,
          14,
          10.5,
          10.4,
          10.6,
          10.5,
          15.1,
          15.3,
          13.2,
          13.4,
          7.8,
          9.2,
          11.5,
          13.1,
          13.1,
          7.2,
          10.2,
          10,
          10.4,
          10.5,
          10.4,
          10.2,
          8.8,
          11.6,
          11.7,
          11.4,
          12.9,
          13.5,
          12.9,
          13.5,
          18.2,
          17.7,
          12,
          15.2,
          15.6,
          15.8,
          8.5,
          11.3,
          12.1,
          16,
          10.3,
          14.2,
          15.5,
          12.1,
          12,
          13.2,
          11.7,
          12.7,
          14.2,
          8.9,
          9,
          9.8,
          10.7,
          16.5,
          15.7,
          15.7,
          7.8,
          7.8,
          7.8,
          7.8,
          8.7,
          7.8,
          7.6,
          7.3,
          8.7,
          7.8,
          7.8,
          7.8,
          8.3,
          8,
          8.3,
          8,
          9,
          8.5,
          8.3,
          8,
          9,
          8.5,
          8.3,
          8,
          8.3,
          8,
          8.3,
          8,
          9,
          8.5,
          8.3,
          8,
          9,
          8.5,
          8.3,
          8,
          8.2,
          8.3,
          9.5,
          12.5,
          12.3,
          11.6,
          8.6,
          8.6,
          6,
          6.4,
          8.6,
          9.1,
          10.2,
          8.7,
          8.8,
          9,
          11,
          11.5,
          11.4,
          11.7,
          7.6,
          9.3,
          16.5,
          12.3,
          11.3,
          12.7,
          13.7,
          13.1,
          12.9,
          8.1,
          8.6,
          8.7,
          10.9,
          11.8,
          9.3,
          10.6,
          11,
          8.8,
          11.1,
          8.3,
          8.6,
          7,
          7.8,
          15.6,
          17.3,
          6.6,
          7.7,
          14.2,
          13.7,
          10.1,
          10.7,
          10.3,
          10.7,
          10.5,
          11,
          10.8,
          11,
          11,
          11.2,
          10.1,
          10.7,
          10.6,
          10.8,
          10.7,
          10.9,
          14,
          11.9,
          11.9,
          11.9,
          11.9,
          9.2,
          9.9,
          9.8,
          10.4,
          12,
          13.6,
          10.4,
          13.9,
          13,
          10.9,
          13.7,
          9.2,
          9.9,
          9.8,
          10.4,
          10.9,
          11.1,
          11.3,
          11.5,
          12.7,
          11.3,
          12.8,
          12.9,
          14.8,
          13.6,
          15.4,
          14.1,
          10.6,
          12.6,
          17.8,
          10.2,
          11.9,
          16.8,
          11.3,
          11.4,
          15.9,
          16,
          16,
          17.1,
          17.1,
          17.1,
          17.1,
          15.6,
          8.4,
          9.5,
          6.2,
          9,
          9,
          9.9,
          9.9,
          8,
          7.9,
          6.4,
          6.4,
          16.9,
          16.9,
          8.5,
          9.6,
          9.5,
          8.6,
          9.7,
          7.8,
          8.5,
          11.2,
          12.5,
          7.8,
          8.5,
          11.2,
          12.5,
          8.6,
          9.9,
          11.6,
          9,
          9.8,
          11.7,
          13.1,
          8.5,
          9.2,
          7.7,
          12.9,
          12.9,
          9.6,
          8.2,
          9.6,
          5.7,
          6,
          7.7,
          7.3,
          7.1,
          7.4,
          6.8,
          6.9,
          8.5,
          8.2,
          12.9,
          13.9,
          10.3,
          11.2,
          11.5,
          8.3,
          8.2,
          4.8,
          4.7,
          5.5,
          8.9,
          9.4,
          9.5,
          16.7,
          11.3,
          12.4,
          10.9,
          10.2,
          13.1,
          11.9,
          11.8,
          13.3,
          14,
          13.5,
          14.3,
          15.5,
          15.1,
          16.2,
          10,
          11,
          10.2,
          11.3,
          7.3,
          7.1,
          8.5,
          8.7,
          9.1,
          9.4,
          9.8,
          9.6,
          8.7,
          9.3,
          9.4,
          10.1,
          7.3,
          7.3,
          9.7,
          9.8,
          12.3,
          9.6,
          9.5,
          9.4,
          7.2,
          6.9,
          8.2,
          8.2,
          9.4,
          9,
          9,
          9.2,
          6.9,
          6.9,
          5.4,
          8.6,
          8.6,
          9.7,
          9.8,
          10.8,
          7.1,
          6.8,
          12.1,
          10.7,
          11.6,
          10.7,
          12.2,
          10.4,
          9.7,
          10.1,
          11.5,
          10.2,
          11.5,
          11.2,
          11.8,
          11.5,
          11.8,
          11.3,
          12.8
         ],
         "xaxis": "x3",
         "yaxis": "y3"
        },
        {
         "name": "co2_emissions",
         "type": "histogram",
         "x": [
          196,
          221,
          136,
          255,
          244,
          230,
          232,
          255,
          267,
          212,
          225,
          239,
          359,
          359,
          338,
          354,
          338,
          354,
          359,
          202,
          230,
          214,
          230,
          230,
          214,
          235,
          251,
          224,
          258,
          224,
          258,
          260,
          227,
          258,
          288,
          361,
          230,
          242,
          239,
          258,
          212,
          246,
          304,
          294,
          336,
          407,
          354,
          409,
          336,
          407,
          354,
          409,
          306,
          308,
          290,
          262,
          285,
          262,
          285,
          267,
          281,
          281,
          297,
          292,
          209,
          209,
          237,
          237,
          297,
          356,
          320,
          380,
          322,
          380,
          380,
          437,
          193,
          200,
          202,
          181,
          181,
          193,
          200,
          209,
          209,
          209,
          221,
          230,
          228,
          237,
          232,
          193,
          200,
          209,
          221,
          230,
          228,
          237,
          202,
          209,
          213,
          232,
          246,
          281,
          292,
          232,
          292,
          281,
          292,
          246,
          292,
          292,
          356,
          191,
          214,
          212,
          292,
          292,
          338,
          317,
          338,
          317,
          338,
          317,
          338,
          317,
          209,
          260,
          230,
          253,
          255,
          320,
          370,
          274,
          324,
          209,
          200,
          278,
          253,
          278,
          283,
          290,
          196,
          212,
          264,
          250,
          264,
          264,
          189,
          228,
          225,
          246,
          189,
          228,
          225,
          218,
          221,
          235,
          207,
          251,
          232,
          260,
          258,
          262,
          232,
          248,
          248,
          260,
          294,
          253,
          260,
          255,
          262,
          382,
          340,
          382,
          340,
          382,
          340,
          338,
          322,
          377,
          354,
          283,
          294,
          262,
          271,
          290,
          258,
          269,
          242,
          294,
          292,
          382,
          340,
          276,
          258,
          179,
          179,
          202,
          189,
          192,
          177,
          163,
          209,
          276,
          259,
          230,
          290,
          272,
          347,
          366,
          334,
          380,
          344,
          380,
          344,
          380,
          362,
          380,
          344,
          380,
          362,
          414,
          432,
          411,
          419,
          435,
          413,
          221,
          244,
          229,
          200,
          228,
          184,
          244,
          235,
          271,
          269,
          292,
          270,
          324,
          290,
          285,
          299,
          277,
          329,
          184,
          173,
          191,
          182,
          184,
          172,
          191,
          182,
          191,
          182,
          191,
          182,
          159,
          159,
          317,
          294,
          317,
          294,
          317,
          294,
          317,
          294,
          283,
          290,
          193,
          186,
          207,
          237,
          232,
          246,
          242,
          230,
          225,
          230,
          242,
          230,
          294,
          251,
          308,
          251,
          237,
          237,
          222,
          317,
          276,
          269,
          225,
          230,
          242,
          230,
          258,
          301,
          294,
          320,
          317,
          258,
          237,
          294,
          251,
          308,
          251,
          237,
          258,
          251,
          235,
          222,
          317,
          186,
          198,
          202,
          198,
          195,
          212,
          202,
          168,
          168,
          331,
          278,
          250,
          271,
          264,
          255,
          285,
          276,
          259,
          179,
          179,
          182,
          166,
          179,
          182,
          156,
          179,
          200,
          193,
          138,
          373,
          350,
          396,
          360,
          386,
          368,
          488,
          421,
          382,
          225,
          248,
          264,
          281,
          209,
          221,
          216,
          214,
          230,
          368,
          346,
          235,
          299,
          274,
          254,
          288,
          267,
          292,
          294,
          366,
          317,
          308,
          402,
          283,
          264,
          283,
          264,
          336,
          315,
          336,
          315,
          308,
          288,
          308,
          288,
          343,
          320,
          340,
          318,
          414,
          175,
          175,
          152,
          161,
          184,
          264,
          278,
          294,
          205,
          177,
          165,
          179,
          165,
          184,
          170,
          166,
          162,
          196,
          186,
          207,
          205,
          186,
          216,
          126,
          235,
          244,
          264,
          292,
          304,
          244,
          209,
          271,
          237,
          229,
          258,
          251,
          218,
          228,
          232,
          239,
          283,
          297,
          347,
          366,
          334,
          380,
          344,
          380,
          344,
          380,
          362,
          380,
          344,
          380,
          362,
          414,
          432,
          411,
          419,
          435,
          413,
          271,
          269,
          292,
          270,
          324,
          290,
          285,
          299,
          277,
          329,
          209,
          276,
          259,
          230,
          290,
          272,
          317,
          294,
          317,
          294,
          338,
          322,
          377,
          354,
          317,
          294,
          317,
          294,
          182,
          186,
          200,
          209,
          221,
          251,
          110,
          161,
          166,
          175,
          246,
          209,
          216,
          145,
          159,
          172,
          177,
          244,
          265,
          276,
          308,
          177,
          177,
          198,
          196,
          304,
          255,
          258,
          267,
          237,
          264,
          255,
          221,
          196,
          143,
          145,
          214,
          232,
          230,
          242,
          244,
          177,
          184,
          202,
          196,
          235,
          248,
          172,
          189,
          265,
          269,
          283,
          255,
          267,
          253,
          283,
          267,
          294,
          175,
          271,
          244,
          253,
          196,
          294,
          334,
          345,
          237,
          244,
          294,
          242,
          281,
          306,
          290,
          306,
          285,
          306,
          280,
          285,
          306,
          280,
          306,
          306,
          301,
          290,
          315,
          310,
          315,
          310,
          218,
          242,
          230,
          248,
          232,
          253,
          251,
          267,
          225,
          209,
          225,
          216,
          235,
          216,
          255,
          340,
          267,
          278,
          250,
          363,
          225,
          209,
          225,
          216,
          235,
          216,
          255,
          294,
          294,
          308,
          308,
          251,
          191,
          184,
          193,
          193,
          223,
          225,
          193,
          196,
          216,
          221,
          193,
          198,
          228,
          200,
          175,
          177,
          175,
          212,
          214,
          276,
          237,
          262,
          253,
          271,
          205,
          207,
          209,
          202,
          230,
          260,
          262,
          246,
          421,
          361,
          400,
          274,
          334,
          225,
          225,
          354,
          347,
          342,
          285,
          285,
          278,
          345,
          338,
          331,
          283,
          283,
          277,
          354,
          347,
          342,
          129,
          138,
          221,
          239,
          253,
          175,
          320,
          223,
          239,
          223,
          244,
          253,
          244,
          290,
          283,
          297,
          297,
          262,
          380,
          269,
          255,
          189,
          271,
          260,
          294,
          235,
          281,
          281,
          207,
          262,
          145,
          368,
          346,
          292,
          292,
          347,
          352,
          334,
          301,
          189,
          184,
          198,
          196,
          205,
          283,
          290,
          177,
          170,
          159,
          161,
          170,
          168,
          161,
          163,
          166,
          177,
          168,
          166,
          223,
          225,
          175,
          186,
          168,
          235,
          221,
          228,
          184,
          216,
          216,
          242,
          224,
          242,
          239,
          244,
          242,
          347,
          352,
          304,
          308,
          179,
          212,
          264,
          301,
          301,
          194,
          235,
          230,
          239,
          242,
          239,
          235,
          202,
          267,
          269,
          262,
          297,
          310,
          297,
          310,
          419,
          407,
          324,
          350,
          359,
          363,
          230,
          260,
          278,
          256,
          278,
          327,
          356,
          278,
          276,
          304,
          269,
          292,
          327,
          205,
          207,
          225,
          246,
          380,
          361,
          361,
          179,
          179,
          179,
          179,
          200,
          179,
          175,
          168,
          200,
          179,
          179,
          179,
          191,
          184,
          191,
          184,
          207,
          196,
          191,
          184,
          207,
          196,
          191,
          184,
          191,
          184,
          191,
          184,
          207,
          196,
          191,
          184,
          207,
          196,
          191,
          184,
          189,
          191,
          218,
          288,
          283,
          267,
          198,
          198,
          138,
          147,
          198,
          209,
          235,
          200,
          202,
          207,
          253,
          264,
          262,
          269,
          175,
          214,
          380,
          283,
          260,
          292,
          315,
          301,
          297,
          186,
          198,
          200,
          251,
          271,
          214,
          244,
          253,
          202,
          255,
          191,
          198,
          161,
          179,
          359,
          398,
          152,
          177,
          327,
          315,
          232,
          246,
          237,
          246,
          242,
          253,
          248,
          253,
          253,
          258,
          232,
          246,
          244,
          248,
          246,
          251,
          322,
          274,
          274,
          274,
          274,
          212,
          228,
          225,
          239,
          276,
          313,
          281,
          320,
          299,
          251,
          315,
          212,
          228,
          225,
          239,
          251,
          255,
          260,
          264,
          292,
          260,
          294,
          297,
          340,
          313,
          354,
          324,
          286,
          290,
          285,
          275,
          274,
          269,
          260,
          262,
          254,
          368,
          368,
          393,
          393,
          393,
          393,
          359,
          193,
          218,
          143,
          207,
          207,
          228,
          228,
          184,
          182,
          147,
          147,
          389,
          389,
          196,
          221,
          218,
          198,
          223,
          179,
          196,
          258,
          288,
          179,
          196,
          258,
          288,
          198,
          228,
          267,
          207,
          225,
          269,
          301,
          196,
          212,
          177,
          297,
          297,
          221,
          189,
          221,
          131,
          138,
          177,
          168,
          163,
          170,
          156,
          159,
          196,
          189,
          297,
          320,
          237,
          258,
          264,
          191,
          189,
          110,
          108,
          126,
          205,
          216,
          218,
          384,
          260,
          285,
          251,
          235,
          301,
          274,
          271,
          306,
          322,
          310,
          329,
          356,
          347,
          373,
          230,
          253,
          235,
          260,
          168,
          163,
          196,
          200,
          209,
          216,
          225,
          221,
          200,
          214,
          216,
          232,
          197,
          197,
          223,
          225,
          283,
          221,
          218,
          216,
          194,
          186,
          189,
          189,
          216,
          207,
          207,
          212,
          186,
          186,
          124,
          198,
          198,
          223,
          225,
          248,
          192,
          184,
          278,
          246,
          267,
          246,
          281,
          281,
          223,
          232,
          264,
          235,
          264,
          258,
          271,
          264,
          271,
          260,
          294
         ],
         "xaxis": "x4",
         "yaxis": "y4"
        }
       ],
       "layout": {
        "template": {
         "data": {
          "bar": [
           {
            "error_x": {
             "color": "#2a3f5f"
            },
            "error_y": {
             "color": "#2a3f5f"
            },
            "marker": {
             "line": {
              "color": "#E5ECF6",
              "width": 0.5
             },
             "pattern": {
              "fillmode": "overlay",
              "size": 10,
              "solidity": 0.2
             }
            },
            "type": "bar"
           }
          ],
          "barpolar": [
           {
            "marker": {
             "line": {
              "color": "#E5ECF6",
              "width": 0.5
             },
             "pattern": {
              "fillmode": "overlay",
              "size": 10,
              "solidity": 0.2
             }
            },
            "type": "barpolar"
           }
          ],
          "carpet": [
           {
            "aaxis": {
             "endlinecolor": "#2a3f5f",
             "gridcolor": "white",
             "linecolor": "white",
             "minorgridcolor": "white",
             "startlinecolor": "#2a3f5f"
            },
            "baxis": {
             "endlinecolor": "#2a3f5f",
             "gridcolor": "white",
             "linecolor": "white",
             "minorgridcolor": "white",
             "startlinecolor": "#2a3f5f"
            },
            "type": "carpet"
           }
          ],
          "choropleth": [
           {
            "colorbar": {
             "outlinewidth": 0,
             "ticks": ""
            },
            "type": "choropleth"
           }
          ],
          "contour": [
           {
            "colorbar": {
             "outlinewidth": 0,
             "ticks": ""
            },
            "colorscale": [
             [
              0,
              "#0d0887"
             ],
             [
              0.1111111111111111,
              "#46039f"
             ],
             [
              0.2222222222222222,
              "#7201a8"
             ],
             [
              0.3333333333333333,
              "#9c179e"
             ],
             [
              0.4444444444444444,
              "#bd3786"
             ],
             [
              0.5555555555555556,
              "#d8576b"
             ],
             [
              0.6666666666666666,
              "#ed7953"
             ],
             [
              0.7777777777777778,
              "#fb9f3a"
             ],
             [
              0.8888888888888888,
              "#fdca26"
             ],
             [
              1,
              "#f0f921"
             ]
            ],
            "type": "contour"
           }
          ],
          "contourcarpet": [
           {
            "colorbar": {
             "outlinewidth": 0,
             "ticks": ""
            },
            "type": "contourcarpet"
           }
          ],
          "heatmap": [
           {
            "colorbar": {
             "outlinewidth": 0,
             "ticks": ""
            },
            "colorscale": [
             [
              0,
              "#0d0887"
             ],
             [
              0.1111111111111111,
              "#46039f"
             ],
             [
              0.2222222222222222,
              "#7201a8"
             ],
             [
              0.3333333333333333,
              "#9c179e"
             ],
             [
              0.4444444444444444,
              "#bd3786"
             ],
             [
              0.5555555555555556,
              "#d8576b"
             ],
             [
              0.6666666666666666,
              "#ed7953"
             ],
             [
              0.7777777777777778,
              "#fb9f3a"
             ],
             [
              0.8888888888888888,
              "#fdca26"
             ],
             [
              1,
              "#f0f921"
             ]
            ],
            "type": "heatmap"
           }
          ],
          "heatmapgl": [
           {
            "colorbar": {
             "outlinewidth": 0,
             "ticks": ""
            },
            "colorscale": [
             [
              0,
              "#0d0887"
             ],
             [
              0.1111111111111111,
              "#46039f"
             ],
             [
              0.2222222222222222,
              "#7201a8"
             ],
             [
              0.3333333333333333,
              "#9c179e"
             ],
             [
              0.4444444444444444,
              "#bd3786"
             ],
             [
              0.5555555555555556,
              "#d8576b"
             ],
             [
              0.6666666666666666,
              "#ed7953"
             ],
             [
              0.7777777777777778,
              "#fb9f3a"
             ],
             [
              0.8888888888888888,
              "#fdca26"
             ],
             [
              1,
              "#f0f921"
             ]
            ],
            "type": "heatmapgl"
           }
          ],
          "histogram": [
           {
            "marker": {
             "pattern": {
              "fillmode": "overlay",
              "size": 10,
              "solidity": 0.2
             }
            },
            "type": "histogram"
           }
          ],
          "histogram2d": [
           {
            "colorbar": {
             "outlinewidth": 0,
             "ticks": ""
            },
            "colorscale": [
             [
              0,
              "#0d0887"
             ],
             [
              0.1111111111111111,
              "#46039f"
             ],
             [
              0.2222222222222222,
              "#7201a8"
             ],
             [
              0.3333333333333333,
              "#9c179e"
             ],
             [
              0.4444444444444444,
              "#bd3786"
             ],
             [
              0.5555555555555556,
              "#d8576b"
             ],
             [
              0.6666666666666666,
              "#ed7953"
             ],
             [
              0.7777777777777778,
              "#fb9f3a"
             ],
             [
              0.8888888888888888,
              "#fdca26"
             ],
             [
              1,
              "#f0f921"
             ]
            ],
            "type": "histogram2d"
           }
          ],
          "histogram2dcontour": [
           {
            "colorbar": {
             "outlinewidth": 0,
             "ticks": ""
            },
            "colorscale": [
             [
              0,
              "#0d0887"
             ],
             [
              0.1111111111111111,
              "#46039f"
             ],
             [
              0.2222222222222222,
              "#7201a8"
             ],
             [
              0.3333333333333333,
              "#9c179e"
             ],
             [
              0.4444444444444444,
              "#bd3786"
             ],
             [
              0.5555555555555556,
              "#d8576b"
             ],
             [
              0.6666666666666666,
              "#ed7953"
             ],
             [
              0.7777777777777778,
              "#fb9f3a"
             ],
             [
              0.8888888888888888,
              "#fdca26"
             ],
             [
              1,
              "#f0f921"
             ]
            ],
            "type": "histogram2dcontour"
           }
          ],
          "mesh3d": [
           {
            "colorbar": {
             "outlinewidth": 0,
             "ticks": ""
            },
            "type": "mesh3d"
           }
          ],
          "parcoords": [
           {
            "line": {
             "colorbar": {
              "outlinewidth": 0,
              "ticks": ""
             }
            },
            "type": "parcoords"
           }
          ],
          "pie": [
           {
            "automargin": true,
            "type": "pie"
           }
          ],
          "scatter": [
           {
            "fillpattern": {
             "fillmode": "overlay",
             "size": 10,
             "solidity": 0.2
            },
            "type": "scatter"
           }
          ],
          "scatter3d": [
           {
            "line": {
             "colorbar": {
              "outlinewidth": 0,
              "ticks": ""
             }
            },
            "marker": {
             "colorbar": {
              "outlinewidth": 0,
              "ticks": ""
             }
            },
            "type": "scatter3d"
           }
          ],
          "scattercarpet": [
           {
            "marker": {
             "colorbar": {
              "outlinewidth": 0,
              "ticks": ""
             }
            },
            "type": "scattercarpet"
           }
          ],
          "scattergeo": [
           {
            "marker": {
             "colorbar": {
              "outlinewidth": 0,
              "ticks": ""
             }
            },
            "type": "scattergeo"
           }
          ],
          "scattergl": [
           {
            "marker": {
             "colorbar": {
              "outlinewidth": 0,
              "ticks": ""
             }
            },
            "type": "scattergl"
           }
          ],
          "scattermapbox": [
           {
            "marker": {
             "colorbar": {
              "outlinewidth": 0,
              "ticks": ""
             }
            },
            "type": "scattermapbox"
           }
          ],
          "scatterpolar": [
           {
            "marker": {
             "colorbar": {
              "outlinewidth": 0,
              "ticks": ""
             }
            },
            "type": "scatterpolar"
           }
          ],
          "scatterpolargl": [
           {
            "marker": {
             "colorbar": {
              "outlinewidth": 0,
              "ticks": ""
             }
            },
            "type": "scatterpolargl"
           }
          ],
          "scatterternary": [
           {
            "marker": {
             "colorbar": {
              "outlinewidth": 0,
              "ticks": ""
             }
            },
            "type": "scatterternary"
           }
          ],
          "surface": [
           {
            "colorbar": {
             "outlinewidth": 0,
             "ticks": ""
            },
            "colorscale": [
             [
              0,
              "#0d0887"
             ],
             [
              0.1111111111111111,
              "#46039f"
             ],
             [
              0.2222222222222222,
              "#7201a8"
             ],
             [
              0.3333333333333333,
              "#9c179e"
             ],
             [
              0.4444444444444444,
              "#bd3786"
             ],
             [
              0.5555555555555556,
              "#d8576b"
             ],
             [
              0.6666666666666666,
              "#ed7953"
             ],
             [
              0.7777777777777778,
              "#fb9f3a"
             ],
             [
              0.8888888888888888,
              "#fdca26"
             ],
             [
              1,
              "#f0f921"
             ]
            ],
            "type": "surface"
           }
          ],
          "table": [
           {
            "cells": {
             "fill": {
              "color": "#EBF0F8"
             },
             "line": {
              "color": "white"
             }
            },
            "header": {
             "fill": {
              "color": "#C8D4E3"
             },
             "line": {
              "color": "white"
             }
            },
            "type": "table"
           }
          ]
         },
         "layout": {
          "annotationdefaults": {
           "arrowcolor": "#2a3f5f",
           "arrowhead": 0,
           "arrowwidth": 1
          },
          "autotypenumbers": "strict",
          "coloraxis": {
           "colorbar": {
            "outlinewidth": 0,
            "ticks": ""
           }
          },
          "colorscale": {
           "diverging": [
            [
             0,
             "#8e0152"
            ],
            [
             0.1,
             "#c51b7d"
            ],
            [
             0.2,
             "#de77ae"
            ],
            [
             0.3,
             "#f1b6da"
            ],
            [
             0.4,
             "#fde0ef"
            ],
            [
             0.5,
             "#f7f7f7"
            ],
            [
             0.6,
             "#e6f5d0"
            ],
            [
             0.7,
             "#b8e186"
            ],
            [
             0.8,
             "#7fbc41"
            ],
            [
             0.9,
             "#4d9221"
            ],
            [
             1,
             "#276419"
            ]
           ],
           "sequential": [
            [
             0,
             "#0d0887"
            ],
            [
             0.1111111111111111,
             "#46039f"
            ],
            [
             0.2222222222222222,
             "#7201a8"
            ],
            [
             0.3333333333333333,
             "#9c179e"
            ],
            [
             0.4444444444444444,
             "#bd3786"
            ],
            [
             0.5555555555555556,
             "#d8576b"
            ],
            [
             0.6666666666666666,
             "#ed7953"
            ],
            [
             0.7777777777777778,
             "#fb9f3a"
            ],
            [
             0.8888888888888888,
             "#fdca26"
            ],
            [
             1,
             "#f0f921"
            ]
           ],
           "sequentialminus": [
            [
             0,
             "#0d0887"
            ],
            [
             0.1111111111111111,
             "#46039f"
            ],
            [
             0.2222222222222222,
             "#7201a8"
            ],
            [
             0.3333333333333333,
             "#9c179e"
            ],
            [
             0.4444444444444444,
             "#bd3786"
            ],
            [
             0.5555555555555556,
             "#d8576b"
            ],
            [
             0.6666666666666666,
             "#ed7953"
            ],
            [
             0.7777777777777778,
             "#fb9f3a"
            ],
            [
             0.8888888888888888,
             "#fdca26"
            ],
            [
             1,
             "#f0f921"
            ]
           ]
          },
          "colorway": [
           "#636efa",
           "#EF553B",
           "#00cc96",
           "#ab63fa",
           "#FFA15A",
           "#19d3f3",
           "#FF6692",
           "#B6E880",
           "#FF97FF",
           "#FECB52"
          ],
          "font": {
           "color": "#2a3f5f"
          },
          "geo": {
           "bgcolor": "white",
           "lakecolor": "white",
           "landcolor": "#E5ECF6",
           "showlakes": true,
           "showland": true,
           "subunitcolor": "white"
          },
          "hoverlabel": {
           "align": "left"
          },
          "hovermode": "closest",
          "mapbox": {
           "style": "light"
          },
          "paper_bgcolor": "white",
          "plot_bgcolor": "#E5ECF6",
          "polar": {
           "angularaxis": {
            "gridcolor": "white",
            "linecolor": "white",
            "ticks": ""
           },
           "bgcolor": "#E5ECF6",
           "radialaxis": {
            "gridcolor": "white",
            "linecolor": "white",
            "ticks": ""
           }
          },
          "scene": {
           "xaxis": {
            "backgroundcolor": "#E5ECF6",
            "gridcolor": "white",
            "gridwidth": 2,
            "linecolor": "white",
            "showbackground": true,
            "ticks": "",
            "zerolinecolor": "white"
           },
           "yaxis": {
            "backgroundcolor": "#E5ECF6",
            "gridcolor": "white",
            "gridwidth": 2,
            "linecolor": "white",
            "showbackground": true,
            "ticks": "",
            "zerolinecolor": "white"
           },
           "zaxis": {
            "backgroundcolor": "#E5ECF6",
            "gridcolor": "white",
            "gridwidth": 2,
            "linecolor": "white",
            "showbackground": true,
            "ticks": "",
            "zerolinecolor": "white"
           }
          },
          "shapedefaults": {
           "line": {
            "color": "#2a3f5f"
           }
          },
          "ternary": {
           "aaxis": {
            "gridcolor": "white",
            "linecolor": "white",
            "ticks": ""
           },
           "baxis": {
            "gridcolor": "white",
            "linecolor": "white",
            "ticks": ""
           },
           "bgcolor": "#E5ECF6",
           "caxis": {
            "gridcolor": "white",
            "linecolor": "white",
            "ticks": ""
           }
          },
          "title": {
           "x": 0.05
          },
          "xaxis": {
           "automargin": true,
           "gridcolor": "white",
           "linecolor": "white",
           "ticks": "",
           "title": {
            "standoff": 15
           },
           "zerolinecolor": "white",
           "zerolinewidth": 2
          },
          "yaxis": {
           "automargin": true,
           "gridcolor": "white",
           "linecolor": "white",
           "ticks": "",
           "title": {
            "standoff": 15
           },
           "zerolinecolor": "white",
           "zerolinewidth": 2
          }
         }
        },
        "xaxis": {
         "anchor": "y",
         "domain": [
          0,
          0.2125
         ]
        },
        "xaxis2": {
         "anchor": "y2",
         "domain": [
          0.2625,
          0.475
         ]
        },
        "xaxis3": {
         "anchor": "y3",
         "domain": [
          0.525,
          0.7375
         ]
        },
        "xaxis4": {
         "anchor": "y4",
         "domain": [
          0.7875,
          1
         ]
        },
        "yaxis": {
         "anchor": "x",
         "domain": [
          0,
          1
         ]
        },
        "yaxis2": {
         "anchor": "x2",
         "domain": [
          0,
          1
         ]
        },
        "yaxis3": {
         "anchor": "x3",
         "domain": [
          0,
          1
         ]
        },
        "yaxis4": {
         "anchor": "x4",
         "domain": [
          0,
          1
         ]
        }
       }
      },
      "text/html": [
       "<div>                            <div id=\"857eb26c-1f15-4b64-93c4-811bc10ddbfc\" class=\"plotly-graph-div\" style=\"height:525px; width:100%;\"></div>            <script type=\"text/javascript\">                require([\"plotly\"], function(Plotly) {                    window.PLOTLYENV=window.PLOTLYENV || {};                                    if (document.getElementById(\"857eb26c-1f15-4b64-93c4-811bc10ddbfc\")) {                    Plotly.newPlot(                        \"857eb26c-1f15-4b64-93c4-811bc10ddbfc\",                        [{\"name\":\"engine_size\",\"x\":[2.0,2.4,1.5,3.5,3.5,3.5,3.5,3.7,3.7,2.4,2.4,3.5,5.9,5.9,4.7,4.7,4.7,4.7,5.9,2.0,2.0,2.0,2.0,2.0,2.0,2.0,3.0,3.0,3.0,3.0,3.0,4.0,3.0,3.0,4.0,6.3,3.0,2.0,2.0,3.0,2.0,3.0,3.0,3.0,4.2,4.2,5.2,5.2,4.2,4.2,5.2,5.2,4.2,4.2,4.0,3.0,3.0,3.0,3.0,3.0,4.0,4.0,4.0,3.0,2.0,2.0,2.0,2.0,4.0,6.0,4.0,6.0,4.0,6.0,6.0,6.8,2.0,2.0,2.0,2.0,2.0,2.0,2.0,2.0,2.0,2.0,3.0,3.0,3.0,3.0,3.0,2.0,2.0,2.0,3.0,3.0,3.0,3.0,2.0,2.0,3.0,3.0,3.0,4.4,4.4,3.0,4.4,4.4,4.4,3.0,4.4,4.4,6.0,3.0,3.0,3.0,4.4,4.4,4.4,4.4,4.4,4.4,4.4,4.4,4.4,4.4,2.0,3.0,2.0,3.0,3.0,4.4,4.4,3.0,4.4,2.0,2.0,3.0,3.0,3.0,3.6,3.6,1.4,1.4,3.6,3.6,3.6,3.6,2.4,2.0,2.0,2.0,2.4,2.0,2.0,2.4,2.0,2.0,2.5,3.6,2.0,3.6,3.6,3.6,2.0,3.6,2.0,3.6,3.6,3.0,3.6,3.0,3.6,6.2,6.2,6.2,6.2,6.2,6.2,6.2,6.2,6.2,6.2,3.6,3.6,3.6,3.6,3.6,3.6,3.6,3.6,6.2,6.2,6.2,6.2,6.2,6.2,1.4,1.4,1.8,1.8,2.0,1.4,1.4,2.4,3.6,3.6,2.4,3.6,3.6,4.3,5.3,5.3,5.3,5.3,5.3,5.3,5.3,5.3,5.3,5.3,5.3,5.3,4.8,6.0,6.0,4.8,6.0,6.0,2.5,3.6,3.6,2.4,2.0,2.5,2.4,2.4,4.3,4.3,5.3,5.3,6.2,4.3,4.3,5.3,5.3,6.2,1.4,1.4,1.8,1.8,1.4,1.4,1.8,1.8,1.4,1.4,1.4,1.4,1.2,1.2,5.3,5.3,5.3,5.3,5.3,5.3,5.3,5.3,3.6,3.6,1.4,1.4,1.4,3.6,2.4,2.4,3.6,3.6,2.4,2.4,3.6,3.6,5.7,3.6,5.7,3.6,3.6,3.6,3.6,6.4,3.6,3.6,2.4,2.4,3.6,3.6,3.6,5.7,5.7,6.4,6.4,3.6,3.6,5.7,3.6,5.7,3.6,3.6,3.6,3.6,3.6,3.6,6.4,2.0,2.4,2.4,2.0,2.0,2.4,2.4,1.4,1.4,5.7,3.6,3.6,3.6,3.6,2.4,3.6,3.6,3.6,1.4,1.4,1.4,1.4,1.4,1.4,1.4,1.4,1.4,1.4,2.0,4.6,4.6,5.4,5.4,4.6,4.6,6.8,5.4,5.4,2.0,3.5,3.5,3.7,1.6,2.0,2.5,1.6,2.0,5.4,5.4,2.0,3.5,3.5,3.5,3.5,3.5,3.5,3.5,6.2,3.5,3.5,6.2,3.7,3.7,3.7,3.7,5.0,5.0,5.0,5.0,3.7,3.7,3.7,3.7,5.0,5.0,5.0,5.0,6.2,1.6,1.6,1.0,1.6,1.6,3.5,3.5,3.5,2.0,2.0,2.0,2.0,2.0,2.0,2.0,2.0,2.0,1.5,1.6,2.0,2.5,1.5,2.0,2.0,3.7,3.7,5.0,5.0,5.8,3.7,2.0,3.5,3.5,3.5,3.5,3.5,1.6,2.5,1.6,2.5,3.6,3.6,4.3,5.3,5.3,5.3,5.3,5.3,5.3,5.3,5.3,5.3,5.3,5.3,5.3,4.8,6.0,6.0,4.8,6.0,6.0,4.3,4.3,5.3,5.3,6.2,4.3,4.3,5.3,5.3,6.2,2.4,3.6,3.6,2.4,3.6,3.6,5.3,5.3,5.3,5.3,6.2,6.2,6.2,6.2,5.3,5.3,5.3,5.3,2.4,2.4,2.4,3.5,3.5,3.5,2.0,1.8,1.8,1.8,3.5,2.4,2.4,1.5,1.5,1.5,1.5,3.5,3.5,3.5,3.5,1.6,1.6,2.0,2.0,5.0,3.8,3.3,3.3,2.4,2.0,2.4,2.0,2.4,2.4,2.4,2.0,2.0,2.4,2.0,2.4,1.6,1.6,1.6,1.6,3.7,3.7,3.5,3.5,3.7,3.7,3.7,3.7,3.7,3.7,5.6,3.7,5.6,3.5,3.7,3.5,3.5,2.5,3.7,5.0,5.6,3.0,3.0,5.0,2.0,3.0,5.0,5.0,5.0,3.0,5.0,5.0,3.0,5.0,5.0,5.0,5.0,5.0,5.0,5.0,5.0,5.0,5.0,2.4,3.2,2.4,3.2,2.4,3.2,2.4,3.2,2.0,2.0,2.4,2.4,2.4,2.4,2.4,5.7,3.0,3.6,3.6,6.4,2.0,2.0,2.4,2.4,2.4,2.4,2.4,3.6,3.6,3.6,3.6,3.3,1.8,1.8,2.0,2.0,1.6,1.6,2.0,2.0,1.6,1.6,2.0,2.0,2.0,2.4,1.6,1.6,1.6,2.0,2.0,3.5,2.4,3.3,2.4,3.3,1.6,1.6,2.0,2.0,2.4,2.4,2.0,2.4,6.5,5.2,5.2,2.0,3.0,2.0,2.0,5.0,5.0,5.0,3.0,3.0,3.0,5.0,5.0,5.0,3.0,3.0,3.0,5.0,5.0,5.0,1.8,2.5,3.5,3.5,3.5,3.5,4.6,2.5,2.5,2.5,3.5,3.5,3.5,5.0,4.6,4.6,4.6,5.0,5.7,3.5,3.5,3.5,3.5,3.7,3.5,2.0,3.7,3.7,2.0,3.7,2.0,5.4,5.4,3.0,3.0,4.7,4.7,3.8,3.0,2.0,2.0,2.5,2.0,2.5,3.7,3.7,1.5,1.5,2.0,2.0,2.5,2.5,2.0,2.0,2.0,2.5,2.5,2.0,2.5,2.5,2.5,2.5,2.5,2.0,2.0,2.0,2.0,1.8,1.8,3.5,3.5,3.5,3.5,3.5,3.5,6.2,6.2,4.7,5.5,2.0,2.0,4.7,5.5,5.5,2.1,3.5,3.5,3.5,3.5,3.5,3.5,3.5,4.7,4.7,4.7,5.5,5.5,5.5,5.5,5.5,5.5,3.0,4.7,4.7,5.5,2.1,3.5,3.5,3.5,3.0,4.7,5.5,4.7,4.7,5.5,4.7,5.5,6.0,1.8,1.8,3.5,5.5,6.2,6.2,6.2,1.6,1.6,1.6,1.6,1.6,1.6,1.6,1.6,1.6,1.6,1.6,1.6,1.6,1.6,1.6,1.6,1.6,1.6,1.6,1.6,1.6,1.6,1.6,1.6,1.6,1.6,1.6,1.6,1.6,1.6,1.6,1.6,1.6,1.6,1.6,1.6,2.0,2.0,2.4,2.0,2.0,2.0,2.0,2.0,1.2,1.2,2.4,2.4,3.0,2.0,2.0,2.0,3.7,3.7,3.7,3.7,2.5,3.5,5.6,2.5,2.5,4.0,4.0,4.0,3.8,1.6,1.6,1.6,3.5,3.5,2.0,3.5,3.5,2.5,3.5,2.5,2.5,1.8,1.8,5.6,5.6,1.6,1.6,4.0,4.0,3.4,3.4,3.4,3.4,3.4,3.4,3.8,3.8,3.8,3.8,3.4,3.4,3.8,3.8,3.8,3.8,3.8,3.8,3.8,3.8,3.8,2.7,2.7,3.4,3.4,3.6,3.6,3.0,4.8,4.8,3.0,4.8,2.7,2.7,3.4,3.4,3.6,3.6,3.0,3.0,4.8,3.0,4.8,4.8,5.7,5.7,5.7,5.7,3.0,3.6,3.6,3.0,3.6,3.6,3.6,3.6,3.6,6.6,6.6,6.7,6.7,6.7,6.7,6.6,2.0,2.0,1.3,2.5,2.5,2.4,2.4,1.8,1.8,1.0,1.0,8.4,8.4,2.0,2.0,2.0,2.5,2.5,2.0,2.0,2.5,2.5,2.0,2.0,2.5,2.5,2.5,2.5,3.6,2.5,2.5,3.6,3.6,2.0,2.0,2.0,4.0,4.0,3.5,2.5,3.5,2.5,2.5,1.8,1.8,1.8,1.8,1.8,1.8,1.8,1.8,4.0,4.0,2.7,3.5,3.5,3.5,3.5,1.8,1.5,1.8,2.5,2.5,2.5,5.7,3.5,3.5,2.7,2.7,4.0,2.7,2.7,4.0,4.0,4.0,4.6,5.7,4.6,5.7,2.7,3.5,2.7,3.5,1.5,1.5,1.8,1.8,2.0,2.0,2.5,2.5,1.8,2.0,2.0,2.5,2.0,2.0,2.0,2.0,3.6,2.0,2.5,2.5,2.0,2.0,1.8,1.8,2.0,2.0,2.0,2.0,2.0,2.0,1.4,1.8,1.8,2.5,2.5,3.6,2.0,2.0,3.6,2.0,2.0,2.0,3.6,3.0,2.5,2.5,3.0,3.2,3.0,3.2,3.0,3.2,3.0,3.2,3.2],\"type\":\"histogram\",\"xaxis\":\"x\",\"yaxis\":\"y\"},{\"name\":\"cylinders\",\"x\":[4,4,4,6,6,6,6,6,6,4,4,6,12,12,8,8,8,8,12,4,4,4,4,4,4,4,6,6,6,6,6,8,6,6,8,12,6,4,4,6,4,6,6,6,8,8,10,10,8,8,10,10,8,8,8,6,6,6,6,6,8,8,8,6,4,4,4,4,8,12,8,12,8,12,12,8,4,4,4,4,4,4,4,4,4,4,6,6,6,6,6,4,4,4,6,6,6,6,4,4,6,6,6,8,8,6,8,8,8,6,8,8,12,6,6,6,8,8,8,8,8,8,8,8,8,8,4,6,4,6,6,8,8,6,8,4,4,6,6,6,6,6,4,4,6,6,6,6,4,4,4,4,4,4,4,4,4,4,4,6,4,6,6,6,4,6,4,6,6,6,6,6,6,8,8,8,8,8,8,8,8,8,8,6,6,6,6,6,6,6,6,8,8,8,8,8,8,4,4,4,4,4,4,4,4,6,6,4,6,6,6,8,8,8,8,8,8,8,8,8,8,8,8,8,8,8,8,8,8,4,6,6,4,4,4,4,4,6,6,8,8,8,6,6,8,8,8,4,4,4,4,4,4,4,4,4,4,4,4,4,4,8,8,8,8,8,8,8,8,6,6,4,4,4,6,4,4,6,6,4,4,6,6,8,6,8,6,6,6,6,8,6,6,4,4,6,6,6,8,8,8,8,6,6,8,6,8,6,6,6,6,6,6,8,4,4,4,4,4,4,4,4,4,8,6,6,6,6,4,6,6,6,4,4,4,4,4,4,4,4,4,4,4,8,8,8,8,8,8,10,8,8,4,6,6,6,4,4,4,4,4,8,8,4,6,6,6,6,6,6,6,8,6,6,8,6,6,6,6,8,8,8,8,6,6,6,6,8,8,8,8,8,4,4,4,4,4,6,6,6,4,4,4,4,4,4,4,4,4,4,4,4,4,4,4,4,6,6,8,8,8,6,4,6,6,6,6,6,4,4,4,4,6,6,6,8,8,8,8,8,8,8,8,8,8,8,8,8,8,8,8,8,8,6,6,8,8,8,6,6,8,8,8,4,6,6,4,6,6,8,8,8,8,8,8,8,8,8,8,8,8,4,4,4,6,6,6,4,4,4,4,6,4,4,4,4,4,4,6,6,6,6,4,4,4,4,8,6,6,6,4,4,4,4,4,4,4,4,4,4,4,4,4,4,4,4,6,6,6,6,6,6,6,6,6,6,8,6,8,6,6,6,6,4,6,8,8,6,6,8,4,6,8,8,8,6,8,8,6,8,8,8,8,8,8,8,8,8,8,4,6,4,6,4,6,4,6,4,4,4,4,4,4,4,8,6,6,6,8,4,4,4,4,4,4,4,6,6,6,6,6,4,4,4,4,4,4,4,4,4,4,4,4,4,4,4,4,4,4,4,6,4,6,4,6,4,4,4,4,4,4,4,4,12,10,10,4,6,4,4,8,8,8,6,6,6,8,8,8,6,6,6,8,8,8,4,4,6,6,6,6,8,6,6,6,6,6,6,8,8,8,8,8,8,6,6,6,6,6,6,4,6,6,4,6,4,8,8,6,6,8,8,8,6,4,4,4,4,4,6,6,4,4,4,4,4,4,4,4,4,4,4,4,4,4,4,4,4,4,4,4,4,4,4,6,6,6,6,6,6,8,8,8,8,4,4,8,8,8,4,6,6,6,6,6,6,6,8,8,8,8,8,8,8,8,8,6,8,8,8,4,6,6,6,6,8,8,8,8,8,8,8,8,4,4,6,8,8,8,8,4,4,4,4,4,4,4,4,4,4,4,4,4,4,4,4,4,4,4,4,4,4,4,4,4,4,4,4,4,4,4,4,4,4,4,4,4,4,4,4,4,4,4,4,3,3,4,4,6,4,4,4,6,6,6,6,4,6,8,4,4,6,6,6,6,4,4,4,6,6,4,6,6,4,6,4,4,4,4,8,8,4,4,6,6,6,6,6,6,6,6,6,6,6,6,6,6,6,6,6,6,6,6,6,6,6,6,6,6,6,6,6,6,8,8,6,8,6,6,6,6,6,6,6,6,8,6,8,8,8,8,8,8,6,6,6,6,6,6,6,6,6,12,12,12,12,12,12,12,4,4,4,4,4,4,4,4,4,3,3,10,10,4,4,4,4,4,4,4,4,4,4,4,4,4,4,4,6,4,4,6,6,4,4,4,6,6,6,4,6,4,4,4,4,4,4,4,4,4,4,6,6,4,6,6,6,6,4,4,4,4,4,4,8,6,6,4,4,6,4,4,6,6,6,8,8,8,8,4,6,4,6,4,4,4,4,4,4,5,5,4,4,4,5,4,4,4,4,6,4,5,5,4,4,4,4,4,4,4,4,4,4,4,4,4,5,5,6,4,4,6,4,4,4,6,6,5,5,6,6,6,6,6,6,6,6,6],\"type\":\"histogram\",\"xaxis\":\"x2\",\"yaxis\":\"y2\"},{\"name\":\"fuel_consumption\",\"x\":[8.5,9.6,5.9,11.1,10.6,10.0,10.1,11.1,11.6,9.2,9.8,10.4,15.6,15.6,14.7,15.4,14.7,15.4,15.6,8.8,10.0,9.3,10.0,10.0,9.3,10.2,10.9,8.3,11.2,8.3,11.2,11.3,8.4,11.2,12.5,15.7,8.5,10.5,10.4,11.2,9.2,9.1,13.2,10.9,14.6,17.7,15.4,17.8,14.6,17.7,15.4,17.8,13.3,13.4,12.6,11.4,12.4,11.4,12.4,11.6,12.2,12.2,12.9,12.7,9.1,9.1,10.3,10.3,12.9,15.5,13.9,16.5,14.0,16.5,16.5,19.0,8.4,8.7,8.8,6.7,6.7,8.4,8.7,9.1,9.1,9.1,9.6,10.0,9.9,10.3,10.1,8.4,8.7,9.1,9.6,10.0,9.9,10.3,8.8,9.1,7.9,10.1,10.7,12.2,12.7,10.1,12.7,12.2,12.7,10.7,12.7,12.7,15.5,8.3,9.3,9.2,12.7,12.7,14.7,13.8,14.7,13.8,14.7,13.8,14.7,13.8,9.1,11.3,10.0,11.0,11.1,13.9,16.1,11.9,14.1,9.1,8.7,12.1,11.0,12.1,12.3,12.6,8.5,9.2,11.5,15.6,11.5,16.5,8.2,9.9,9.8,10.7,8.2,9.9,9.8,9.5,9.6,10.2,9.0,10.9,10.1,11.3,11.2,11.4,10.1,10.8,10.8,11.3,12.8,11.0,11.3,11.1,11.4,16.6,14.8,16.6,14.8,16.6,14.8,14.7,20.1,16.4,22.1,12.3,12.8,11.4,11.8,12.6,11.2,11.7,10.5,12.8,12.7,16.6,14.8,12.0,11.2,7.8,7.8,8.8,8.2,7.1,7.7,7.1,9.1,12.0,16.2,10.0,12.6,17.0,15.1,15.9,20.9,16.5,21.5,16.5,21.5,16.5,22.6,16.5,21.5,16.5,22.6,18.0,18.8,25.7,18.2,18.9,25.8,9.6,10.6,14.3,8.7,9.9,8.0,10.6,10.2,11.8,16.8,12.7,16.9,14.1,12.6,17.8,13.0,17.3,14.3,8.0,7.5,8.3,7.9,8.0,7.5,8.3,7.9,8.3,7.9,8.3,7.9,6.9,6.9,13.8,18.4,13.8,18.4,13.8,18.4,13.8,18.4,12.3,12.6,8.4,8.1,9.0,10.3,10.1,10.7,10.5,14.4,9.8,10.0,10.5,14.4,12.8,10.9,13.4,10.9,14.8,10.3,13.9,13.8,12.0,16.8,9.8,10.0,10.5,14.4,11.2,13.1,12.8,13.9,13.8,11.2,10.3,12.8,10.9,13.4,10.9,14.8,11.2,15.7,10.2,13.9,13.8,8.1,8.6,8.8,8.6,12.2,9.2,8.8,7.3,7.3,14.4,12.1,15.6,11.8,16.5,11.1,12.4,12.0,16.2,7.8,7.8,7.9,7.2,7.8,7.9,6.8,7.8,8.7,8.4,6.0,16.2,21.9,17.2,22.5,16.8,23.0,21.2,18.3,23.9,9.8,10.8,11.5,12.2,9.1,9.6,9.4,9.3,10.0,16.0,21.6,10.2,13.0,11.9,15.9,12.5,16.7,12.7,12.8,15.9,13.8,13.4,17.5,12.3,16.5,12.3,16.5,14.6,19.7,14.6,19.7,13.4,18.0,13.4,18.0,14.9,20.0,14.8,19.9,18.0,7.6,7.6,6.6,7.0,8.0,11.5,12.1,12.8,8.9,7.7,10.3,7.8,10.3,8.0,10.6,7.2,10.1,8.5,8.1,9.0,8.9,8.1,9.4,5.5,10.2,10.6,11.5,12.7,13.2,10.6,9.1,11.8,10.3,14.3,11.2,15.7,9.5,9.9,10.1,10.4,12.3,12.9,15.1,15.9,20.9,16.5,21.5,16.5,21.5,16.5,22.6,16.5,21.5,16.5,22.6,18.0,18.8,25.7,18.2,18.9,25.8,11.8,16.8,12.7,16.9,14.1,12.6,17.8,13.0,17.3,14.3,9.1,12.0,16.2,10.0,12.6,17.0,13.8,18.4,13.8,18.4,14.7,20.1,16.4,22.1,13.8,18.4,13.8,18.4,7.9,8.1,8.7,9.1,9.6,10.9,4.8,7.0,7.2,7.6,10.7,9.1,9.4,6.3,6.9,7.5,7.7,10.6,11.5,12.0,13.4,7.7,7.7,8.6,8.5,13.2,11.1,11.2,11.6,10.3,11.5,11.1,9.6,8.5,6.2,6.3,9.3,10.1,10.0,10.5,10.6,7.7,8.0,8.8,8.5,10.2,10.8,7.5,8.2,11.5,11.7,12.3,11.1,11.6,11.0,12.3,11.6,12.8,7.6,11.8,10.6,11.0,8.5,12.8,14.5,15.0,10.3,10.6,12.8,10.5,12.2,13.3,18.1,13.3,12.4,13.3,17.5,12.4,13.3,17.5,13.3,13.3,13.1,12.6,13.7,13.5,13.7,13.5,9.5,10.5,10.0,10.8,10.1,11.0,10.9,11.6,9.8,9.1,9.8,9.4,10.2,9.4,11.1,14.8,9.9,12.1,15.6,15.8,9.8,9.1,9.8,9.4,10.2,9.4,11.1,12.8,12.8,13.4,13.4,10.9,8.3,8.0,8.4,8.4,9.7,9.8,8.4,8.5,9.4,9.6,8.4,8.6,9.9,8.7,7.6,7.7,7.6,9.2,9.3,12.0,10.3,11.4,11.0,11.8,8.9,9.0,9.1,8.8,10.0,11.3,11.4,10.7,18.3,15.7,17.4,11.9,14.5,9.8,9.8,15.4,15.1,21.4,12.4,12.4,17.4,15.0,14.7,20.7,12.3,12.3,17.3,15.4,15.1,21.4,5.6,6.0,9.6,10.4,11.0,7.6,13.9,9.7,10.4,9.7,10.6,11.0,10.6,12.6,12.3,12.9,12.9,11.4,16.5,11.7,11.1,8.2,11.8,11.3,12.8,10.2,12.2,12.2,9.0,11.4,6.3,16.0,21.6,12.7,12.7,15.1,15.3,14.5,13.1,8.2,8.0,8.6,8.5,8.9,12.3,12.6,7.7,7.4,6.9,7.0,7.4,7.3,7.0,7.1,7.2,7.7,7.3,7.2,9.7,9.8,7.6,8.1,7.3,10.2,9.6,9.9,8.0,9.4,9.4,10.5,14.0,10.5,10.4,10.6,10.5,15.1,15.3,13.2,13.4,7.8,9.2,11.5,13.1,13.1,7.2,10.2,10.0,10.4,10.5,10.4,10.2,8.8,11.6,11.7,11.4,12.9,13.5,12.9,13.5,18.2,17.7,12.0,15.2,15.6,15.8,8.5,11.3,12.1,16.0,10.3,14.2,15.5,12.1,12.0,13.2,11.7,12.7,14.2,8.9,9.0,9.8,10.7,16.5,15.7,15.7,7.8,7.8,7.8,7.8,8.7,7.8,7.6,7.3,8.7,7.8,7.8,7.8,8.3,8.0,8.3,8.0,9.0,8.5,8.3,8.0,9.0,8.5,8.3,8.0,8.3,8.0,8.3,8.0,9.0,8.5,8.3,8.0,9.0,8.5,8.3,8.0,8.2,8.3,9.5,12.5,12.3,11.6,8.6,8.6,6.0,6.4,8.6,9.1,10.2,8.7,8.8,9.0,11.0,11.5,11.4,11.7,7.6,9.3,16.5,12.3,11.3,12.7,13.7,13.1,12.9,8.1,8.6,8.7,10.9,11.8,9.3,10.6,11.0,8.8,11.1,8.3,8.6,7.0,7.8,15.6,17.3,6.6,7.7,14.2,13.7,10.1,10.7,10.3,10.7,10.5,11.0,10.8,11.0,11.0,11.2,10.1,10.7,10.6,10.8,10.7,10.9,14.0,11.9,11.9,11.9,11.9,9.2,9.9,9.8,10.4,12.0,13.6,10.4,13.9,13.0,10.9,13.7,9.2,9.9,9.8,10.4,10.9,11.1,11.3,11.5,12.7,11.3,12.8,12.9,14.8,13.6,15.4,14.1,10.6,12.6,17.8,10.2,11.9,16.8,11.3,11.4,15.9,16.0,16.0,17.1,17.1,17.1,17.1,15.6,8.4,9.5,6.2,9.0,9.0,9.9,9.9,8.0,7.9,6.4,6.4,16.9,16.9,8.5,9.6,9.5,8.6,9.7,7.8,8.5,11.2,12.5,7.8,8.5,11.2,12.5,8.6,9.9,11.6,9.0,9.8,11.7,13.1,8.5,9.2,7.7,12.9,12.9,9.6,8.2,9.6,5.7,6.0,7.7,7.3,7.1,7.4,6.8,6.9,8.5,8.2,12.9,13.9,10.3,11.2,11.5,8.3,8.2,4.8,4.7,5.5,8.9,9.4,9.5,16.7,11.3,12.4,10.9,10.2,13.1,11.9,11.8,13.3,14.0,13.5,14.3,15.5,15.1,16.2,10.0,11.0,10.2,11.3,7.3,7.1,8.5,8.7,9.1,9.4,9.8,9.6,8.7,9.3,9.4,10.1,7.3,7.3,9.7,9.8,12.3,9.6,9.5,9.4,7.2,6.9,8.2,8.2,9.4,9.0,9.0,9.2,6.9,6.9,5.4,8.6,8.6,9.7,9.8,10.8,7.1,6.8,12.1,10.7,11.6,10.7,12.2,10.4,9.7,10.1,11.5,10.2,11.5,11.2,11.8,11.5,11.8,11.3,12.8],\"type\":\"histogram\",\"xaxis\":\"x3\",\"yaxis\":\"y3\"},{\"name\":\"co2_emissions\",\"x\":[196,221,136,255,244,230,232,255,267,212,225,239,359,359,338,354,338,354,359,202,230,214,230,230,214,235,251,224,258,224,258,260,227,258,288,361,230,242,239,258,212,246,304,294,336,407,354,409,336,407,354,409,306,308,290,262,285,262,285,267,281,281,297,292,209,209,237,237,297,356,320,380,322,380,380,437,193,200,202,181,181,193,200,209,209,209,221,230,228,237,232,193,200,209,221,230,228,237,202,209,213,232,246,281,292,232,292,281,292,246,292,292,356,191,214,212,292,292,338,317,338,317,338,317,338,317,209,260,230,253,255,320,370,274,324,209,200,278,253,278,283,290,196,212,264,250,264,264,189,228,225,246,189,228,225,218,221,235,207,251,232,260,258,262,232,248,248,260,294,253,260,255,262,382,340,382,340,382,340,338,322,377,354,283,294,262,271,290,258,269,242,294,292,382,340,276,258,179,179,202,189,192,177,163,209,276,259,230,290,272,347,366,334,380,344,380,344,380,362,380,344,380,362,414,432,411,419,435,413,221,244,229,200,228,184,244,235,271,269,292,270,324,290,285,299,277,329,184,173,191,182,184,172,191,182,191,182,191,182,159,159,317,294,317,294,317,294,317,294,283,290,193,186,207,237,232,246,242,230,225,230,242,230,294,251,308,251,237,237,222,317,276,269,225,230,242,230,258,301,294,320,317,258,237,294,251,308,251,237,258,251,235,222,317,186,198,202,198,195,212,202,168,168,331,278,250,271,264,255,285,276,259,179,179,182,166,179,182,156,179,200,193,138,373,350,396,360,386,368,488,421,382,225,248,264,281,209,221,216,214,230,368,346,235,299,274,254,288,267,292,294,366,317,308,402,283,264,283,264,336,315,336,315,308,288,308,288,343,320,340,318,414,175,175,152,161,184,264,278,294,205,177,165,179,165,184,170,166,162,196,186,207,205,186,216,126,235,244,264,292,304,244,209,271,237,229,258,251,218,228,232,239,283,297,347,366,334,380,344,380,344,380,362,380,344,380,362,414,432,411,419,435,413,271,269,292,270,324,290,285,299,277,329,209,276,259,230,290,272,317,294,317,294,338,322,377,354,317,294,317,294,182,186,200,209,221,251,110,161,166,175,246,209,216,145,159,172,177,244,265,276,308,177,177,198,196,304,255,258,267,237,264,255,221,196,143,145,214,232,230,242,244,177,184,202,196,235,248,172,189,265,269,283,255,267,253,283,267,294,175,271,244,253,196,294,334,345,237,244,294,242,281,306,290,306,285,306,280,285,306,280,306,306,301,290,315,310,315,310,218,242,230,248,232,253,251,267,225,209,225,216,235,216,255,340,267,278,250,363,225,209,225,216,235,216,255,294,294,308,308,251,191,184,193,193,223,225,193,196,216,221,193,198,228,200,175,177,175,212,214,276,237,262,253,271,205,207,209,202,230,260,262,246,421,361,400,274,334,225,225,354,347,342,285,285,278,345,338,331,283,283,277,354,347,342,129,138,221,239,253,175,320,223,239,223,244,253,244,290,283,297,297,262,380,269,255,189,271,260,294,235,281,281,207,262,145,368,346,292,292,347,352,334,301,189,184,198,196,205,283,290,177,170,159,161,170,168,161,163,166,177,168,166,223,225,175,186,168,235,221,228,184,216,216,242,224,242,239,244,242,347,352,304,308,179,212,264,301,301,194,235,230,239,242,239,235,202,267,269,262,297,310,297,310,419,407,324,350,359,363,230,260,278,256,278,327,356,278,276,304,269,292,327,205,207,225,246,380,361,361,179,179,179,179,200,179,175,168,200,179,179,179,191,184,191,184,207,196,191,184,207,196,191,184,191,184,191,184,207,196,191,184,207,196,191,184,189,191,218,288,283,267,198,198,138,147,198,209,235,200,202,207,253,264,262,269,175,214,380,283,260,292,315,301,297,186,198,200,251,271,214,244,253,202,255,191,198,161,179,359,398,152,177,327,315,232,246,237,246,242,253,248,253,253,258,232,246,244,248,246,251,322,274,274,274,274,212,228,225,239,276,313,281,320,299,251,315,212,228,225,239,251,255,260,264,292,260,294,297,340,313,354,324,286,290,285,275,274,269,260,262,254,368,368,393,393,393,393,359,193,218,143,207,207,228,228,184,182,147,147,389,389,196,221,218,198,223,179,196,258,288,179,196,258,288,198,228,267,207,225,269,301,196,212,177,297,297,221,189,221,131,138,177,168,163,170,156,159,196,189,297,320,237,258,264,191,189,110,108,126,205,216,218,384,260,285,251,235,301,274,271,306,322,310,329,356,347,373,230,253,235,260,168,163,196,200,209,216,225,221,200,214,216,232,197,197,223,225,283,221,218,216,194,186,189,189,216,207,207,212,186,186,124,198,198,223,225,248,192,184,278,246,267,246,281,281,223,232,264,235,264,258,271,264,271,260,294],\"type\":\"histogram\",\"xaxis\":\"x4\",\"yaxis\":\"y4\"}],                        {\"template\":{\"data\":{\"histogram2dcontour\":[{\"type\":\"histogram2dcontour\",\"colorbar\":{\"outlinewidth\":0,\"ticks\":\"\"},\"colorscale\":[[0.0,\"#0d0887\"],[0.1111111111111111,\"#46039f\"],[0.2222222222222222,\"#7201a8\"],[0.3333333333333333,\"#9c179e\"],[0.4444444444444444,\"#bd3786\"],[0.5555555555555556,\"#d8576b\"],[0.6666666666666666,\"#ed7953\"],[0.7777777777777778,\"#fb9f3a\"],[0.8888888888888888,\"#fdca26\"],[1.0,\"#f0f921\"]]}],\"choropleth\":[{\"type\":\"choropleth\",\"colorbar\":{\"outlinewidth\":0,\"ticks\":\"\"}}],\"histogram2d\":[{\"type\":\"histogram2d\",\"colorbar\":{\"outlinewidth\":0,\"ticks\":\"\"},\"colorscale\":[[0.0,\"#0d0887\"],[0.1111111111111111,\"#46039f\"],[0.2222222222222222,\"#7201a8\"],[0.3333333333333333,\"#9c179e\"],[0.4444444444444444,\"#bd3786\"],[0.5555555555555556,\"#d8576b\"],[0.6666666666666666,\"#ed7953\"],[0.7777777777777778,\"#fb9f3a\"],[0.8888888888888888,\"#fdca26\"],[1.0,\"#f0f921\"]]}],\"heatmap\":[{\"type\":\"heatmap\",\"colorbar\":{\"outlinewidth\":0,\"ticks\":\"\"},\"colorscale\":[[0.0,\"#0d0887\"],[0.1111111111111111,\"#46039f\"],[0.2222222222222222,\"#7201a8\"],[0.3333333333333333,\"#9c179e\"],[0.4444444444444444,\"#bd3786\"],[0.5555555555555556,\"#d8576b\"],[0.6666666666666666,\"#ed7953\"],[0.7777777777777778,\"#fb9f3a\"],[0.8888888888888888,\"#fdca26\"],[1.0,\"#f0f921\"]]}],\"heatmapgl\":[{\"type\":\"heatmapgl\",\"colorbar\":{\"outlinewidth\":0,\"ticks\":\"\"},\"colorscale\":[[0.0,\"#0d0887\"],[0.1111111111111111,\"#46039f\"],[0.2222222222222222,\"#7201a8\"],[0.3333333333333333,\"#9c179e\"],[0.4444444444444444,\"#bd3786\"],[0.5555555555555556,\"#d8576b\"],[0.6666666666666666,\"#ed7953\"],[0.7777777777777778,\"#fb9f3a\"],[0.8888888888888888,\"#fdca26\"],[1.0,\"#f0f921\"]]}],\"contourcarpet\":[{\"type\":\"contourcarpet\",\"colorbar\":{\"outlinewidth\":0,\"ticks\":\"\"}}],\"contour\":[{\"type\":\"contour\",\"colorbar\":{\"outlinewidth\":0,\"ticks\":\"\"},\"colorscale\":[[0.0,\"#0d0887\"],[0.1111111111111111,\"#46039f\"],[0.2222222222222222,\"#7201a8\"],[0.3333333333333333,\"#9c179e\"],[0.4444444444444444,\"#bd3786\"],[0.5555555555555556,\"#d8576b\"],[0.6666666666666666,\"#ed7953\"],[0.7777777777777778,\"#fb9f3a\"],[0.8888888888888888,\"#fdca26\"],[1.0,\"#f0f921\"]]}],\"surface\":[{\"type\":\"surface\",\"colorbar\":{\"outlinewidth\":0,\"ticks\":\"\"},\"colorscale\":[[0.0,\"#0d0887\"],[0.1111111111111111,\"#46039f\"],[0.2222222222222222,\"#7201a8\"],[0.3333333333333333,\"#9c179e\"],[0.4444444444444444,\"#bd3786\"],[0.5555555555555556,\"#d8576b\"],[0.6666666666666666,\"#ed7953\"],[0.7777777777777778,\"#fb9f3a\"],[0.8888888888888888,\"#fdca26\"],[1.0,\"#f0f921\"]]}],\"mesh3d\":[{\"type\":\"mesh3d\",\"colorbar\":{\"outlinewidth\":0,\"ticks\":\"\"}}],\"scatter\":[{\"fillpattern\":{\"fillmode\":\"overlay\",\"size\":10,\"solidity\":0.2},\"type\":\"scatter\"}],\"parcoords\":[{\"type\":\"parcoords\",\"line\":{\"colorbar\":{\"outlinewidth\":0,\"ticks\":\"\"}}}],\"scatterpolargl\":[{\"type\":\"scatterpolargl\",\"marker\":{\"colorbar\":{\"outlinewidth\":0,\"ticks\":\"\"}}}],\"bar\":[{\"error_x\":{\"color\":\"#2a3f5f\"},\"error_y\":{\"color\":\"#2a3f5f\"},\"marker\":{\"line\":{\"color\":\"#E5ECF6\",\"width\":0.5},\"pattern\":{\"fillmode\":\"overlay\",\"size\":10,\"solidity\":0.2}},\"type\":\"bar\"}],\"scattergeo\":[{\"type\":\"scattergeo\",\"marker\":{\"colorbar\":{\"outlinewidth\":0,\"ticks\":\"\"}}}],\"scatterpolar\":[{\"type\":\"scatterpolar\",\"marker\":{\"colorbar\":{\"outlinewidth\":0,\"ticks\":\"\"}}}],\"histogram\":[{\"marker\":{\"pattern\":{\"fillmode\":\"overlay\",\"size\":10,\"solidity\":0.2}},\"type\":\"histogram\"}],\"scattergl\":[{\"type\":\"scattergl\",\"marker\":{\"colorbar\":{\"outlinewidth\":0,\"ticks\":\"\"}}}],\"scatter3d\":[{\"type\":\"scatter3d\",\"line\":{\"colorbar\":{\"outlinewidth\":0,\"ticks\":\"\"}},\"marker\":{\"colorbar\":{\"outlinewidth\":0,\"ticks\":\"\"}}}],\"scattermapbox\":[{\"type\":\"scattermapbox\",\"marker\":{\"colorbar\":{\"outlinewidth\":0,\"ticks\":\"\"}}}],\"scatterternary\":[{\"type\":\"scatterternary\",\"marker\":{\"colorbar\":{\"outlinewidth\":0,\"ticks\":\"\"}}}],\"scattercarpet\":[{\"type\":\"scattercarpet\",\"marker\":{\"colorbar\":{\"outlinewidth\":0,\"ticks\":\"\"}}}],\"carpet\":[{\"aaxis\":{\"endlinecolor\":\"#2a3f5f\",\"gridcolor\":\"white\",\"linecolor\":\"white\",\"minorgridcolor\":\"white\",\"startlinecolor\":\"#2a3f5f\"},\"baxis\":{\"endlinecolor\":\"#2a3f5f\",\"gridcolor\":\"white\",\"linecolor\":\"white\",\"minorgridcolor\":\"white\",\"startlinecolor\":\"#2a3f5f\"},\"type\":\"carpet\"}],\"table\":[{\"cells\":{\"fill\":{\"color\":\"#EBF0F8\"},\"line\":{\"color\":\"white\"}},\"header\":{\"fill\":{\"color\":\"#C8D4E3\"},\"line\":{\"color\":\"white\"}},\"type\":\"table\"}],\"barpolar\":[{\"marker\":{\"line\":{\"color\":\"#E5ECF6\",\"width\":0.5},\"pattern\":{\"fillmode\":\"overlay\",\"size\":10,\"solidity\":0.2}},\"type\":\"barpolar\"}],\"pie\":[{\"automargin\":true,\"type\":\"pie\"}]},\"layout\":{\"autotypenumbers\":\"strict\",\"colorway\":[\"#636efa\",\"#EF553B\",\"#00cc96\",\"#ab63fa\",\"#FFA15A\",\"#19d3f3\",\"#FF6692\",\"#B6E880\",\"#FF97FF\",\"#FECB52\"],\"font\":{\"color\":\"#2a3f5f\"},\"hovermode\":\"closest\",\"hoverlabel\":{\"align\":\"left\"},\"paper_bgcolor\":\"white\",\"plot_bgcolor\":\"#E5ECF6\",\"polar\":{\"bgcolor\":\"#E5ECF6\",\"angularaxis\":{\"gridcolor\":\"white\",\"linecolor\":\"white\",\"ticks\":\"\"},\"radialaxis\":{\"gridcolor\":\"white\",\"linecolor\":\"white\",\"ticks\":\"\"}},\"ternary\":{\"bgcolor\":\"#E5ECF6\",\"aaxis\":{\"gridcolor\":\"white\",\"linecolor\":\"white\",\"ticks\":\"\"},\"baxis\":{\"gridcolor\":\"white\",\"linecolor\":\"white\",\"ticks\":\"\"},\"caxis\":{\"gridcolor\":\"white\",\"linecolor\":\"white\",\"ticks\":\"\"}},\"coloraxis\":{\"colorbar\":{\"outlinewidth\":0,\"ticks\":\"\"}},\"colorscale\":{\"sequential\":[[0.0,\"#0d0887\"],[0.1111111111111111,\"#46039f\"],[0.2222222222222222,\"#7201a8\"],[0.3333333333333333,\"#9c179e\"],[0.4444444444444444,\"#bd3786\"],[0.5555555555555556,\"#d8576b\"],[0.6666666666666666,\"#ed7953\"],[0.7777777777777778,\"#fb9f3a\"],[0.8888888888888888,\"#fdca26\"],[1.0,\"#f0f921\"]],\"sequentialminus\":[[0.0,\"#0d0887\"],[0.1111111111111111,\"#46039f\"],[0.2222222222222222,\"#7201a8\"],[0.3333333333333333,\"#9c179e\"],[0.4444444444444444,\"#bd3786\"],[0.5555555555555556,\"#d8576b\"],[0.6666666666666666,\"#ed7953\"],[0.7777777777777778,\"#fb9f3a\"],[0.8888888888888888,\"#fdca26\"],[1.0,\"#f0f921\"]],\"diverging\":[[0,\"#8e0152\"],[0.1,\"#c51b7d\"],[0.2,\"#de77ae\"],[0.3,\"#f1b6da\"],[0.4,\"#fde0ef\"],[0.5,\"#f7f7f7\"],[0.6,\"#e6f5d0\"],[0.7,\"#b8e186\"],[0.8,\"#7fbc41\"],[0.9,\"#4d9221\"],[1,\"#276419\"]]},\"xaxis\":{\"gridcolor\":\"white\",\"linecolor\":\"white\",\"ticks\":\"\",\"title\":{\"standoff\":15},\"zerolinecolor\":\"white\",\"automargin\":true,\"zerolinewidth\":2},\"yaxis\":{\"gridcolor\":\"white\",\"linecolor\":\"white\",\"ticks\":\"\",\"title\":{\"standoff\":15},\"zerolinecolor\":\"white\",\"automargin\":true,\"zerolinewidth\":2},\"scene\":{\"xaxis\":{\"backgroundcolor\":\"#E5ECF6\",\"gridcolor\":\"white\",\"linecolor\":\"white\",\"showbackground\":true,\"ticks\":\"\",\"zerolinecolor\":\"white\",\"gridwidth\":2},\"yaxis\":{\"backgroundcolor\":\"#E5ECF6\",\"gridcolor\":\"white\",\"linecolor\":\"white\",\"showbackground\":true,\"ticks\":\"\",\"zerolinecolor\":\"white\",\"gridwidth\":2},\"zaxis\":{\"backgroundcolor\":\"#E5ECF6\",\"gridcolor\":\"white\",\"linecolor\":\"white\",\"showbackground\":true,\"ticks\":\"\",\"zerolinecolor\":\"white\",\"gridwidth\":2}},\"shapedefaults\":{\"line\":{\"color\":\"#2a3f5f\"}},\"annotationdefaults\":{\"arrowcolor\":\"#2a3f5f\",\"arrowhead\":0,\"arrowwidth\":1},\"geo\":{\"bgcolor\":\"white\",\"landcolor\":\"#E5ECF6\",\"subunitcolor\":\"white\",\"showland\":true,\"showlakes\":true,\"lakecolor\":\"white\"},\"title\":{\"x\":0.05},\"mapbox\":{\"style\":\"light\"}}},\"xaxis\":{\"anchor\":\"y\",\"domain\":[0.0,0.2125]},\"yaxis\":{\"anchor\":\"x\",\"domain\":[0.0,1.0]},\"xaxis2\":{\"anchor\":\"y2\",\"domain\":[0.2625,0.475]},\"yaxis2\":{\"anchor\":\"x2\",\"domain\":[0.0,1.0]},\"xaxis3\":{\"anchor\":\"y3\",\"domain\":[0.525,0.7375]},\"yaxis3\":{\"anchor\":\"x3\",\"domain\":[0.0,1.0]},\"xaxis4\":{\"anchor\":\"y4\",\"domain\":[0.7875,1.0]},\"yaxis4\":{\"anchor\":\"x4\",\"domain\":[0.0,1.0]}},                        {\"responsive\": true}                    ).then(function(){\n",
       "                            \n",
       "var gd = document.getElementById('857eb26c-1f15-4b64-93c4-811bc10ddbfc');\n",
       "var x = new MutationObserver(function (mutations, observer) {{\n",
       "        var display = window.getComputedStyle(gd).display;\n",
       "        if (!display || display === 'none') {{\n",
       "            console.log([gd, 'removed!']);\n",
       "            Plotly.purge(gd);\n",
       "            observer.disconnect();\n",
       "        }}\n",
       "}});\n",
       "\n",
       "// Listen for the removal of the full notebook cells\n",
       "var notebookContainer = gd.closest('#notebook-container');\n",
       "if (notebookContainer) {{\n",
       "    x.observe(notebookContainer, {childList: true});\n",
       "}}\n",
       "\n",
       "// Listen for the clearing of the current output cell\n",
       "var outputEl = gd.closest('.output');\n",
       "if (outputEl) {{\n",
       "    x.observe(outputEl, {childList: true});\n",
       "}}\n",
       "\n",
       "                        })                };                });            </script>        </div>"
      ]
     },
     "metadata": {},
     "output_type": "display_data"
    }
   ],
   "source": [
    "columns = df.columns\n",
    "fig = make_subplots(rows=1, cols=len(columns))\n",
    "\n",
    "for i in range(0, len(columns)):\n",
    "    column = columns[i]\n",
    "    fig.add_trace(\n",
    "        go.Histogram(\n",
    "            x=df[column], \n",
    "            name=column,\n",
    "        ), \n",
    "        row=1, col=i+1\n",
    "    )\n",
    "\n",
    "fig.show()"
   ]
  },
  {
   "attachments": {},
   "cell_type": "markdown",
   "metadata": {},
   "source": [
    "But after graphing the columns with violin plot, we can see that the outliers are not so far from the rest of the data."
   ]
  },
  {
   "cell_type": "code",
   "execution_count": 198,
   "metadata": {},
   "outputs": [
    {
     "data": {
      "application/vnd.plotly.v1+json": {
       "config": {
        "plotlyServerURL": "https://plot.ly"
       },
       "data": [
        {
         "alignmentgroup": "True",
         "box": {
          "visible": true
         },
         "hovertemplate": "co2_emissions=%{y}<extra></extra>",
         "legendgroup": "",
         "marker": {
          "color": "#636efa"
         },
         "name": "",
         "offsetgroup": "",
         "orientation": "v",
         "points": "all",
         "scalegroup": "True",
         "showlegend": false,
         "type": "violin",
         "x0": " ",
         "xaxis": "x",
         "y": [
          196,
          221,
          136,
          255,
          244,
          230,
          232,
          255,
          267,
          212,
          225,
          239,
          359,
          359,
          338,
          354,
          338,
          354,
          359,
          202,
          230,
          214,
          230,
          230,
          214,
          235,
          251,
          224,
          258,
          224,
          258,
          260,
          227,
          258,
          288,
          361,
          230,
          242,
          239,
          258,
          212,
          246,
          304,
          294,
          336,
          407,
          354,
          409,
          336,
          407,
          354,
          409,
          306,
          308,
          290,
          262,
          285,
          262,
          285,
          267,
          281,
          281,
          297,
          292,
          209,
          209,
          237,
          237,
          297,
          356,
          320,
          380,
          322,
          380,
          380,
          437,
          193,
          200,
          202,
          181,
          181,
          193,
          200,
          209,
          209,
          209,
          221,
          230,
          228,
          237,
          232,
          193,
          200,
          209,
          221,
          230,
          228,
          237,
          202,
          209,
          213,
          232,
          246,
          281,
          292,
          232,
          292,
          281,
          292,
          246,
          292,
          292,
          356,
          191,
          214,
          212,
          292,
          292,
          338,
          317,
          338,
          317,
          338,
          317,
          338,
          317,
          209,
          260,
          230,
          253,
          255,
          320,
          370,
          274,
          324,
          209,
          200,
          278,
          253,
          278,
          283,
          290,
          196,
          212,
          264,
          250,
          264,
          264,
          189,
          228,
          225,
          246,
          189,
          228,
          225,
          218,
          221,
          235,
          207,
          251,
          232,
          260,
          258,
          262,
          232,
          248,
          248,
          260,
          294,
          253,
          260,
          255,
          262,
          382,
          340,
          382,
          340,
          382,
          340,
          338,
          322,
          377,
          354,
          283,
          294,
          262,
          271,
          290,
          258,
          269,
          242,
          294,
          292,
          382,
          340,
          276,
          258,
          179,
          179,
          202,
          189,
          192,
          177,
          163,
          209,
          276,
          259,
          230,
          290,
          272,
          347,
          366,
          334,
          380,
          344,
          380,
          344,
          380,
          362,
          380,
          344,
          380,
          362,
          414,
          432,
          411,
          419,
          435,
          413,
          221,
          244,
          229,
          200,
          228,
          184,
          244,
          235,
          271,
          269,
          292,
          270,
          324,
          290,
          285,
          299,
          277,
          329,
          184,
          173,
          191,
          182,
          184,
          172,
          191,
          182,
          191,
          182,
          191,
          182,
          159,
          159,
          317,
          294,
          317,
          294,
          317,
          294,
          317,
          294,
          283,
          290,
          193,
          186,
          207,
          237,
          232,
          246,
          242,
          230,
          225,
          230,
          242,
          230,
          294,
          251,
          308,
          251,
          237,
          237,
          222,
          317,
          276,
          269,
          225,
          230,
          242,
          230,
          258,
          301,
          294,
          320,
          317,
          258,
          237,
          294,
          251,
          308,
          251,
          237,
          258,
          251,
          235,
          222,
          317,
          186,
          198,
          202,
          198,
          195,
          212,
          202,
          168,
          168,
          331,
          278,
          250,
          271,
          264,
          255,
          285,
          276,
          259,
          179,
          179,
          182,
          166,
          179,
          182,
          156,
          179,
          200,
          193,
          138,
          373,
          350,
          396,
          360,
          386,
          368,
          488,
          421,
          382,
          225,
          248,
          264,
          281,
          209,
          221,
          216,
          214,
          230,
          368,
          346,
          235,
          299,
          274,
          254,
          288,
          267,
          292,
          294,
          366,
          317,
          308,
          402,
          283,
          264,
          283,
          264,
          336,
          315,
          336,
          315,
          308,
          288,
          308,
          288,
          343,
          320,
          340,
          318,
          414,
          175,
          175,
          152,
          161,
          184,
          264,
          278,
          294,
          205,
          177,
          165,
          179,
          165,
          184,
          170,
          166,
          162,
          196,
          186,
          207,
          205,
          186,
          216,
          126,
          235,
          244,
          264,
          292,
          304,
          244,
          209,
          271,
          237,
          229,
          258,
          251,
          218,
          228,
          232,
          239,
          283,
          297,
          347,
          366,
          334,
          380,
          344,
          380,
          344,
          380,
          362,
          380,
          344,
          380,
          362,
          414,
          432,
          411,
          419,
          435,
          413,
          271,
          269,
          292,
          270,
          324,
          290,
          285,
          299,
          277,
          329,
          209,
          276,
          259,
          230,
          290,
          272,
          317,
          294,
          317,
          294,
          338,
          322,
          377,
          354,
          317,
          294,
          317,
          294,
          182,
          186,
          200,
          209,
          221,
          251,
          110,
          161,
          166,
          175,
          246,
          209,
          216,
          145,
          159,
          172,
          177,
          244,
          265,
          276,
          308,
          177,
          177,
          198,
          196,
          304,
          255,
          258,
          267,
          237,
          264,
          255,
          221,
          196,
          143,
          145,
          214,
          232,
          230,
          242,
          244,
          177,
          184,
          202,
          196,
          235,
          248,
          172,
          189,
          265,
          269,
          283,
          255,
          267,
          253,
          283,
          267,
          294,
          175,
          271,
          244,
          253,
          196,
          294,
          334,
          345,
          237,
          244,
          294,
          242,
          281,
          306,
          290,
          306,
          285,
          306,
          280,
          285,
          306,
          280,
          306,
          306,
          301,
          290,
          315,
          310,
          315,
          310,
          218,
          242,
          230,
          248,
          232,
          253,
          251,
          267,
          225,
          209,
          225,
          216,
          235,
          216,
          255,
          340,
          267,
          278,
          250,
          363,
          225,
          209,
          225,
          216,
          235,
          216,
          255,
          294,
          294,
          308,
          308,
          251,
          191,
          184,
          193,
          193,
          223,
          225,
          193,
          196,
          216,
          221,
          193,
          198,
          228,
          200,
          175,
          177,
          175,
          212,
          214,
          276,
          237,
          262,
          253,
          271,
          205,
          207,
          209,
          202,
          230,
          260,
          262,
          246,
          421,
          361,
          400,
          274,
          334,
          225,
          225,
          354,
          347,
          342,
          285,
          285,
          278,
          345,
          338,
          331,
          283,
          283,
          277,
          354,
          347,
          342,
          129,
          138,
          221,
          239,
          253,
          175,
          320,
          223,
          239,
          223,
          244,
          253,
          244,
          290,
          283,
          297,
          297,
          262,
          380,
          269,
          255,
          189,
          271,
          260,
          294,
          235,
          281,
          281,
          207,
          262,
          145,
          368,
          346,
          292,
          292,
          347,
          352,
          334,
          301,
          189,
          184,
          198,
          196,
          205,
          283,
          290,
          177,
          170,
          159,
          161,
          170,
          168,
          161,
          163,
          166,
          177,
          168,
          166,
          223,
          225,
          175,
          186,
          168,
          235,
          221,
          228,
          184,
          216,
          216,
          242,
          224,
          242,
          239,
          244,
          242,
          347,
          352,
          304,
          308,
          179,
          212,
          264,
          301,
          301,
          194,
          235,
          230,
          239,
          242,
          239,
          235,
          202,
          267,
          269,
          262,
          297,
          310,
          297,
          310,
          419,
          407,
          324,
          350,
          359,
          363,
          230,
          260,
          278,
          256,
          278,
          327,
          356,
          278,
          276,
          304,
          269,
          292,
          327,
          205,
          207,
          225,
          246,
          380,
          361,
          361,
          179,
          179,
          179,
          179,
          200,
          179,
          175,
          168,
          200,
          179,
          179,
          179,
          191,
          184,
          191,
          184,
          207,
          196,
          191,
          184,
          207,
          196,
          191,
          184,
          191,
          184,
          191,
          184,
          207,
          196,
          191,
          184,
          207,
          196,
          191,
          184,
          189,
          191,
          218,
          288,
          283,
          267,
          198,
          198,
          138,
          147,
          198,
          209,
          235,
          200,
          202,
          207,
          253,
          264,
          262,
          269,
          175,
          214,
          380,
          283,
          260,
          292,
          315,
          301,
          297,
          186,
          198,
          200,
          251,
          271,
          214,
          244,
          253,
          202,
          255,
          191,
          198,
          161,
          179,
          359,
          398,
          152,
          177,
          327,
          315,
          232,
          246,
          237,
          246,
          242,
          253,
          248,
          253,
          253,
          258,
          232,
          246,
          244,
          248,
          246,
          251,
          322,
          274,
          274,
          274,
          274,
          212,
          228,
          225,
          239,
          276,
          313,
          281,
          320,
          299,
          251,
          315,
          212,
          228,
          225,
          239,
          251,
          255,
          260,
          264,
          292,
          260,
          294,
          297,
          340,
          313,
          354,
          324,
          286,
          290,
          285,
          275,
          274,
          269,
          260,
          262,
          254,
          368,
          368,
          393,
          393,
          393,
          393,
          359,
          193,
          218,
          143,
          207,
          207,
          228,
          228,
          184,
          182,
          147,
          147,
          389,
          389,
          196,
          221,
          218,
          198,
          223,
          179,
          196,
          258,
          288,
          179,
          196,
          258,
          288,
          198,
          228,
          267,
          207,
          225,
          269,
          301,
          196,
          212,
          177,
          297,
          297,
          221,
          189,
          221,
          131,
          138,
          177,
          168,
          163,
          170,
          156,
          159,
          196,
          189,
          297,
          320,
          237,
          258,
          264,
          191,
          189,
          110,
          108,
          126,
          205,
          216,
          218,
          384,
          260,
          285,
          251,
          235,
          301,
          274,
          271,
          306,
          322,
          310,
          329,
          356,
          347,
          373,
          230,
          253,
          235,
          260,
          168,
          163,
          196,
          200,
          209,
          216,
          225,
          221,
          200,
          214,
          216,
          232,
          197,
          197,
          223,
          225,
          283,
          221,
          218,
          216,
          194,
          186,
          189,
          189,
          216,
          207,
          207,
          212,
          186,
          186,
          124,
          198,
          198,
          223,
          225,
          248,
          192,
          184,
          278,
          246,
          267,
          246,
          281,
          281,
          223,
          232,
          264,
          235,
          264,
          258,
          271,
          264,
          271,
          260,
          294
         ],
         "y0": " ",
         "yaxis": "y"
        }
       ],
       "layout": {
        "height": 400,
        "legend": {
         "tracegroupgap": 0
        },
        "margin": {
         "t": 60
        },
        "template": {
         "data": {
          "bar": [
           {
            "error_x": {
             "color": "#2a3f5f"
            },
            "error_y": {
             "color": "#2a3f5f"
            },
            "marker": {
             "line": {
              "color": "#E5ECF6",
              "width": 0.5
             },
             "pattern": {
              "fillmode": "overlay",
              "size": 10,
              "solidity": 0.2
             }
            },
            "type": "bar"
           }
          ],
          "barpolar": [
           {
            "marker": {
             "line": {
              "color": "#E5ECF6",
              "width": 0.5
             },
             "pattern": {
              "fillmode": "overlay",
              "size": 10,
              "solidity": 0.2
             }
            },
            "type": "barpolar"
           }
          ],
          "carpet": [
           {
            "aaxis": {
             "endlinecolor": "#2a3f5f",
             "gridcolor": "white",
             "linecolor": "white",
             "minorgridcolor": "white",
             "startlinecolor": "#2a3f5f"
            },
            "baxis": {
             "endlinecolor": "#2a3f5f",
             "gridcolor": "white",
             "linecolor": "white",
             "minorgridcolor": "white",
             "startlinecolor": "#2a3f5f"
            },
            "type": "carpet"
           }
          ],
          "choropleth": [
           {
            "colorbar": {
             "outlinewidth": 0,
             "ticks": ""
            },
            "type": "choropleth"
           }
          ],
          "contour": [
           {
            "colorbar": {
             "outlinewidth": 0,
             "ticks": ""
            },
            "colorscale": [
             [
              0,
              "#0d0887"
             ],
             [
              0.1111111111111111,
              "#46039f"
             ],
             [
              0.2222222222222222,
              "#7201a8"
             ],
             [
              0.3333333333333333,
              "#9c179e"
             ],
             [
              0.4444444444444444,
              "#bd3786"
             ],
             [
              0.5555555555555556,
              "#d8576b"
             ],
             [
              0.6666666666666666,
              "#ed7953"
             ],
             [
              0.7777777777777778,
              "#fb9f3a"
             ],
             [
              0.8888888888888888,
              "#fdca26"
             ],
             [
              1,
              "#f0f921"
             ]
            ],
            "type": "contour"
           }
          ],
          "contourcarpet": [
           {
            "colorbar": {
             "outlinewidth": 0,
             "ticks": ""
            },
            "type": "contourcarpet"
           }
          ],
          "heatmap": [
           {
            "colorbar": {
             "outlinewidth": 0,
             "ticks": ""
            },
            "colorscale": [
             [
              0,
              "#0d0887"
             ],
             [
              0.1111111111111111,
              "#46039f"
             ],
             [
              0.2222222222222222,
              "#7201a8"
             ],
             [
              0.3333333333333333,
              "#9c179e"
             ],
             [
              0.4444444444444444,
              "#bd3786"
             ],
             [
              0.5555555555555556,
              "#d8576b"
             ],
             [
              0.6666666666666666,
              "#ed7953"
             ],
             [
              0.7777777777777778,
              "#fb9f3a"
             ],
             [
              0.8888888888888888,
              "#fdca26"
             ],
             [
              1,
              "#f0f921"
             ]
            ],
            "type": "heatmap"
           }
          ],
          "heatmapgl": [
           {
            "colorbar": {
             "outlinewidth": 0,
             "ticks": ""
            },
            "colorscale": [
             [
              0,
              "#0d0887"
             ],
             [
              0.1111111111111111,
              "#46039f"
             ],
             [
              0.2222222222222222,
              "#7201a8"
             ],
             [
              0.3333333333333333,
              "#9c179e"
             ],
             [
              0.4444444444444444,
              "#bd3786"
             ],
             [
              0.5555555555555556,
              "#d8576b"
             ],
             [
              0.6666666666666666,
              "#ed7953"
             ],
             [
              0.7777777777777778,
              "#fb9f3a"
             ],
             [
              0.8888888888888888,
              "#fdca26"
             ],
             [
              1,
              "#f0f921"
             ]
            ],
            "type": "heatmapgl"
           }
          ],
          "histogram": [
           {
            "marker": {
             "pattern": {
              "fillmode": "overlay",
              "size": 10,
              "solidity": 0.2
             }
            },
            "type": "histogram"
           }
          ],
          "histogram2d": [
           {
            "colorbar": {
             "outlinewidth": 0,
             "ticks": ""
            },
            "colorscale": [
             [
              0,
              "#0d0887"
             ],
             [
              0.1111111111111111,
              "#46039f"
             ],
             [
              0.2222222222222222,
              "#7201a8"
             ],
             [
              0.3333333333333333,
              "#9c179e"
             ],
             [
              0.4444444444444444,
              "#bd3786"
             ],
             [
              0.5555555555555556,
              "#d8576b"
             ],
             [
              0.6666666666666666,
              "#ed7953"
             ],
             [
              0.7777777777777778,
              "#fb9f3a"
             ],
             [
              0.8888888888888888,
              "#fdca26"
             ],
             [
              1,
              "#f0f921"
             ]
            ],
            "type": "histogram2d"
           }
          ],
          "histogram2dcontour": [
           {
            "colorbar": {
             "outlinewidth": 0,
             "ticks": ""
            },
            "colorscale": [
             [
              0,
              "#0d0887"
             ],
             [
              0.1111111111111111,
              "#46039f"
             ],
             [
              0.2222222222222222,
              "#7201a8"
             ],
             [
              0.3333333333333333,
              "#9c179e"
             ],
             [
              0.4444444444444444,
              "#bd3786"
             ],
             [
              0.5555555555555556,
              "#d8576b"
             ],
             [
              0.6666666666666666,
              "#ed7953"
             ],
             [
              0.7777777777777778,
              "#fb9f3a"
             ],
             [
              0.8888888888888888,
              "#fdca26"
             ],
             [
              1,
              "#f0f921"
             ]
            ],
            "type": "histogram2dcontour"
           }
          ],
          "mesh3d": [
           {
            "colorbar": {
             "outlinewidth": 0,
             "ticks": ""
            },
            "type": "mesh3d"
           }
          ],
          "parcoords": [
           {
            "line": {
             "colorbar": {
              "outlinewidth": 0,
              "ticks": ""
             }
            },
            "type": "parcoords"
           }
          ],
          "pie": [
           {
            "automargin": true,
            "type": "pie"
           }
          ],
          "scatter": [
           {
            "fillpattern": {
             "fillmode": "overlay",
             "size": 10,
             "solidity": 0.2
            },
            "type": "scatter"
           }
          ],
          "scatter3d": [
           {
            "line": {
             "colorbar": {
              "outlinewidth": 0,
              "ticks": ""
             }
            },
            "marker": {
             "colorbar": {
              "outlinewidth": 0,
              "ticks": ""
             }
            },
            "type": "scatter3d"
           }
          ],
          "scattercarpet": [
           {
            "marker": {
             "colorbar": {
              "outlinewidth": 0,
              "ticks": ""
             }
            },
            "type": "scattercarpet"
           }
          ],
          "scattergeo": [
           {
            "marker": {
             "colorbar": {
              "outlinewidth": 0,
              "ticks": ""
             }
            },
            "type": "scattergeo"
           }
          ],
          "scattergl": [
           {
            "marker": {
             "colorbar": {
              "outlinewidth": 0,
              "ticks": ""
             }
            },
            "type": "scattergl"
           }
          ],
          "scattermapbox": [
           {
            "marker": {
             "colorbar": {
              "outlinewidth": 0,
              "ticks": ""
             }
            },
            "type": "scattermapbox"
           }
          ],
          "scatterpolar": [
           {
            "marker": {
             "colorbar": {
              "outlinewidth": 0,
              "ticks": ""
             }
            },
            "type": "scatterpolar"
           }
          ],
          "scatterpolargl": [
           {
            "marker": {
             "colorbar": {
              "outlinewidth": 0,
              "ticks": ""
             }
            },
            "type": "scatterpolargl"
           }
          ],
          "scatterternary": [
           {
            "marker": {
             "colorbar": {
              "outlinewidth": 0,
              "ticks": ""
             }
            },
            "type": "scatterternary"
           }
          ],
          "surface": [
           {
            "colorbar": {
             "outlinewidth": 0,
             "ticks": ""
            },
            "colorscale": [
             [
              0,
              "#0d0887"
             ],
             [
              0.1111111111111111,
              "#46039f"
             ],
             [
              0.2222222222222222,
              "#7201a8"
             ],
             [
              0.3333333333333333,
              "#9c179e"
             ],
             [
              0.4444444444444444,
              "#bd3786"
             ],
             [
              0.5555555555555556,
              "#d8576b"
             ],
             [
              0.6666666666666666,
              "#ed7953"
             ],
             [
              0.7777777777777778,
              "#fb9f3a"
             ],
             [
              0.8888888888888888,
              "#fdca26"
             ],
             [
              1,
              "#f0f921"
             ]
            ],
            "type": "surface"
           }
          ],
          "table": [
           {
            "cells": {
             "fill": {
              "color": "#EBF0F8"
             },
             "line": {
              "color": "white"
             }
            },
            "header": {
             "fill": {
              "color": "#C8D4E3"
             },
             "line": {
              "color": "white"
             }
            },
            "type": "table"
           }
          ]
         },
         "layout": {
          "annotationdefaults": {
           "arrowcolor": "#2a3f5f",
           "arrowhead": 0,
           "arrowwidth": 1
          },
          "autotypenumbers": "strict",
          "coloraxis": {
           "colorbar": {
            "outlinewidth": 0,
            "ticks": ""
           }
          },
          "colorscale": {
           "diverging": [
            [
             0,
             "#8e0152"
            ],
            [
             0.1,
             "#c51b7d"
            ],
            [
             0.2,
             "#de77ae"
            ],
            [
             0.3,
             "#f1b6da"
            ],
            [
             0.4,
             "#fde0ef"
            ],
            [
             0.5,
             "#f7f7f7"
            ],
            [
             0.6,
             "#e6f5d0"
            ],
            [
             0.7,
             "#b8e186"
            ],
            [
             0.8,
             "#7fbc41"
            ],
            [
             0.9,
             "#4d9221"
            ],
            [
             1,
             "#276419"
            ]
           ],
           "sequential": [
            [
             0,
             "#0d0887"
            ],
            [
             0.1111111111111111,
             "#46039f"
            ],
            [
             0.2222222222222222,
             "#7201a8"
            ],
            [
             0.3333333333333333,
             "#9c179e"
            ],
            [
             0.4444444444444444,
             "#bd3786"
            ],
            [
             0.5555555555555556,
             "#d8576b"
            ],
            [
             0.6666666666666666,
             "#ed7953"
            ],
            [
             0.7777777777777778,
             "#fb9f3a"
            ],
            [
             0.8888888888888888,
             "#fdca26"
            ],
            [
             1,
             "#f0f921"
            ]
           ],
           "sequentialminus": [
            [
             0,
             "#0d0887"
            ],
            [
             0.1111111111111111,
             "#46039f"
            ],
            [
             0.2222222222222222,
             "#7201a8"
            ],
            [
             0.3333333333333333,
             "#9c179e"
            ],
            [
             0.4444444444444444,
             "#bd3786"
            ],
            [
             0.5555555555555556,
             "#d8576b"
            ],
            [
             0.6666666666666666,
             "#ed7953"
            ],
            [
             0.7777777777777778,
             "#fb9f3a"
            ],
            [
             0.8888888888888888,
             "#fdca26"
            ],
            [
             1,
             "#f0f921"
            ]
           ]
          },
          "colorway": [
           "#636efa",
           "#EF553B",
           "#00cc96",
           "#ab63fa",
           "#FFA15A",
           "#19d3f3",
           "#FF6692",
           "#B6E880",
           "#FF97FF",
           "#FECB52"
          ],
          "font": {
           "color": "#2a3f5f"
          },
          "geo": {
           "bgcolor": "white",
           "lakecolor": "white",
           "landcolor": "#E5ECF6",
           "showlakes": true,
           "showland": true,
           "subunitcolor": "white"
          },
          "hoverlabel": {
           "align": "left"
          },
          "hovermode": "closest",
          "mapbox": {
           "style": "light"
          },
          "paper_bgcolor": "white",
          "plot_bgcolor": "#E5ECF6",
          "polar": {
           "angularaxis": {
            "gridcolor": "white",
            "linecolor": "white",
            "ticks": ""
           },
           "bgcolor": "#E5ECF6",
           "radialaxis": {
            "gridcolor": "white",
            "linecolor": "white",
            "ticks": ""
           }
          },
          "scene": {
           "xaxis": {
            "backgroundcolor": "#E5ECF6",
            "gridcolor": "white",
            "gridwidth": 2,
            "linecolor": "white",
            "showbackground": true,
            "ticks": "",
            "zerolinecolor": "white"
           },
           "yaxis": {
            "backgroundcolor": "#E5ECF6",
            "gridcolor": "white",
            "gridwidth": 2,
            "linecolor": "white",
            "showbackground": true,
            "ticks": "",
            "zerolinecolor": "white"
           },
           "zaxis": {
            "backgroundcolor": "#E5ECF6",
            "gridcolor": "white",
            "gridwidth": 2,
            "linecolor": "white",
            "showbackground": true,
            "ticks": "",
            "zerolinecolor": "white"
           }
          },
          "shapedefaults": {
           "line": {
            "color": "#2a3f5f"
           }
          },
          "ternary": {
           "aaxis": {
            "gridcolor": "white",
            "linecolor": "white",
            "ticks": ""
           },
           "baxis": {
            "gridcolor": "white",
            "linecolor": "white",
            "ticks": ""
           },
           "bgcolor": "#E5ECF6",
           "caxis": {
            "gridcolor": "white",
            "linecolor": "white",
            "ticks": ""
           }
          },
          "title": {
           "x": 0.05
          },
          "xaxis": {
           "automargin": true,
           "gridcolor": "white",
           "linecolor": "white",
           "ticks": "",
           "title": {
            "standoff": 15
           },
           "zerolinecolor": "white",
           "zerolinewidth": 2
          },
          "yaxis": {
           "automargin": true,
           "gridcolor": "white",
           "linecolor": "white",
           "ticks": "",
           "title": {
            "standoff": 15
           },
           "zerolinecolor": "white",
           "zerolinewidth": 2
          }
         }
        },
        "violinmode": "group",
        "width": 600,
        "xaxis": {
         "anchor": "y",
         "domain": [
          0,
          1
         ]
        },
        "yaxis": {
         "anchor": "x",
         "domain": [
          0,
          1
         ],
         "title": {
          "text": "co2_emissions"
         }
        }
       }
      },
      "text/html": [
       "<div>                            <div id=\"91f3f2c7-4922-4f7a-8da5-f1096544639d\" class=\"plotly-graph-div\" style=\"height:400px; width:600px;\"></div>            <script type=\"text/javascript\">                require([\"plotly\"], function(Plotly) {                    window.PLOTLYENV=window.PLOTLYENV || {};                                    if (document.getElementById(\"91f3f2c7-4922-4f7a-8da5-f1096544639d\")) {                    Plotly.newPlot(                        \"91f3f2c7-4922-4f7a-8da5-f1096544639d\",                        [{\"alignmentgroup\":\"True\",\"box\":{\"visible\":true},\"hovertemplate\":\"co2_emissions=%{y}<extra></extra>\",\"legendgroup\":\"\",\"marker\":{\"color\":\"#636efa\"},\"name\":\"\",\"offsetgroup\":\"\",\"orientation\":\"v\",\"points\":\"all\",\"scalegroup\":\"True\",\"showlegend\":false,\"x0\":\" \",\"xaxis\":\"x\",\"y\":[196,221,136,255,244,230,232,255,267,212,225,239,359,359,338,354,338,354,359,202,230,214,230,230,214,235,251,224,258,224,258,260,227,258,288,361,230,242,239,258,212,246,304,294,336,407,354,409,336,407,354,409,306,308,290,262,285,262,285,267,281,281,297,292,209,209,237,237,297,356,320,380,322,380,380,437,193,200,202,181,181,193,200,209,209,209,221,230,228,237,232,193,200,209,221,230,228,237,202,209,213,232,246,281,292,232,292,281,292,246,292,292,356,191,214,212,292,292,338,317,338,317,338,317,338,317,209,260,230,253,255,320,370,274,324,209,200,278,253,278,283,290,196,212,264,250,264,264,189,228,225,246,189,228,225,218,221,235,207,251,232,260,258,262,232,248,248,260,294,253,260,255,262,382,340,382,340,382,340,338,322,377,354,283,294,262,271,290,258,269,242,294,292,382,340,276,258,179,179,202,189,192,177,163,209,276,259,230,290,272,347,366,334,380,344,380,344,380,362,380,344,380,362,414,432,411,419,435,413,221,244,229,200,228,184,244,235,271,269,292,270,324,290,285,299,277,329,184,173,191,182,184,172,191,182,191,182,191,182,159,159,317,294,317,294,317,294,317,294,283,290,193,186,207,237,232,246,242,230,225,230,242,230,294,251,308,251,237,237,222,317,276,269,225,230,242,230,258,301,294,320,317,258,237,294,251,308,251,237,258,251,235,222,317,186,198,202,198,195,212,202,168,168,331,278,250,271,264,255,285,276,259,179,179,182,166,179,182,156,179,200,193,138,373,350,396,360,386,368,488,421,382,225,248,264,281,209,221,216,214,230,368,346,235,299,274,254,288,267,292,294,366,317,308,402,283,264,283,264,336,315,336,315,308,288,308,288,343,320,340,318,414,175,175,152,161,184,264,278,294,205,177,165,179,165,184,170,166,162,196,186,207,205,186,216,126,235,244,264,292,304,244,209,271,237,229,258,251,218,228,232,239,283,297,347,366,334,380,344,380,344,380,362,380,344,380,362,414,432,411,419,435,413,271,269,292,270,324,290,285,299,277,329,209,276,259,230,290,272,317,294,317,294,338,322,377,354,317,294,317,294,182,186,200,209,221,251,110,161,166,175,246,209,216,145,159,172,177,244,265,276,308,177,177,198,196,304,255,258,267,237,264,255,221,196,143,145,214,232,230,242,244,177,184,202,196,235,248,172,189,265,269,283,255,267,253,283,267,294,175,271,244,253,196,294,334,345,237,244,294,242,281,306,290,306,285,306,280,285,306,280,306,306,301,290,315,310,315,310,218,242,230,248,232,253,251,267,225,209,225,216,235,216,255,340,267,278,250,363,225,209,225,216,235,216,255,294,294,308,308,251,191,184,193,193,223,225,193,196,216,221,193,198,228,200,175,177,175,212,214,276,237,262,253,271,205,207,209,202,230,260,262,246,421,361,400,274,334,225,225,354,347,342,285,285,278,345,338,331,283,283,277,354,347,342,129,138,221,239,253,175,320,223,239,223,244,253,244,290,283,297,297,262,380,269,255,189,271,260,294,235,281,281,207,262,145,368,346,292,292,347,352,334,301,189,184,198,196,205,283,290,177,170,159,161,170,168,161,163,166,177,168,166,223,225,175,186,168,235,221,228,184,216,216,242,224,242,239,244,242,347,352,304,308,179,212,264,301,301,194,235,230,239,242,239,235,202,267,269,262,297,310,297,310,419,407,324,350,359,363,230,260,278,256,278,327,356,278,276,304,269,292,327,205,207,225,246,380,361,361,179,179,179,179,200,179,175,168,200,179,179,179,191,184,191,184,207,196,191,184,207,196,191,184,191,184,191,184,207,196,191,184,207,196,191,184,189,191,218,288,283,267,198,198,138,147,198,209,235,200,202,207,253,264,262,269,175,214,380,283,260,292,315,301,297,186,198,200,251,271,214,244,253,202,255,191,198,161,179,359,398,152,177,327,315,232,246,237,246,242,253,248,253,253,258,232,246,244,248,246,251,322,274,274,274,274,212,228,225,239,276,313,281,320,299,251,315,212,228,225,239,251,255,260,264,292,260,294,297,340,313,354,324,286,290,285,275,274,269,260,262,254,368,368,393,393,393,393,359,193,218,143,207,207,228,228,184,182,147,147,389,389,196,221,218,198,223,179,196,258,288,179,196,258,288,198,228,267,207,225,269,301,196,212,177,297,297,221,189,221,131,138,177,168,163,170,156,159,196,189,297,320,237,258,264,191,189,110,108,126,205,216,218,384,260,285,251,235,301,274,271,306,322,310,329,356,347,373,230,253,235,260,168,163,196,200,209,216,225,221,200,214,216,232,197,197,223,225,283,221,218,216,194,186,189,189,216,207,207,212,186,186,124,198,198,223,225,248,192,184,278,246,267,246,281,281,223,232,264,235,264,258,271,264,271,260,294],\"y0\":\" \",\"yaxis\":\"y\",\"type\":\"violin\"}],                        {\"template\":{\"data\":{\"histogram2dcontour\":[{\"type\":\"histogram2dcontour\",\"colorbar\":{\"outlinewidth\":0,\"ticks\":\"\"},\"colorscale\":[[0.0,\"#0d0887\"],[0.1111111111111111,\"#46039f\"],[0.2222222222222222,\"#7201a8\"],[0.3333333333333333,\"#9c179e\"],[0.4444444444444444,\"#bd3786\"],[0.5555555555555556,\"#d8576b\"],[0.6666666666666666,\"#ed7953\"],[0.7777777777777778,\"#fb9f3a\"],[0.8888888888888888,\"#fdca26\"],[1.0,\"#f0f921\"]]}],\"choropleth\":[{\"type\":\"choropleth\",\"colorbar\":{\"outlinewidth\":0,\"ticks\":\"\"}}],\"histogram2d\":[{\"type\":\"histogram2d\",\"colorbar\":{\"outlinewidth\":0,\"ticks\":\"\"},\"colorscale\":[[0.0,\"#0d0887\"],[0.1111111111111111,\"#46039f\"],[0.2222222222222222,\"#7201a8\"],[0.3333333333333333,\"#9c179e\"],[0.4444444444444444,\"#bd3786\"],[0.5555555555555556,\"#d8576b\"],[0.6666666666666666,\"#ed7953\"],[0.7777777777777778,\"#fb9f3a\"],[0.8888888888888888,\"#fdca26\"],[1.0,\"#f0f921\"]]}],\"heatmap\":[{\"type\":\"heatmap\",\"colorbar\":{\"outlinewidth\":0,\"ticks\":\"\"},\"colorscale\":[[0.0,\"#0d0887\"],[0.1111111111111111,\"#46039f\"],[0.2222222222222222,\"#7201a8\"],[0.3333333333333333,\"#9c179e\"],[0.4444444444444444,\"#bd3786\"],[0.5555555555555556,\"#d8576b\"],[0.6666666666666666,\"#ed7953\"],[0.7777777777777778,\"#fb9f3a\"],[0.8888888888888888,\"#fdca26\"],[1.0,\"#f0f921\"]]}],\"heatmapgl\":[{\"type\":\"heatmapgl\",\"colorbar\":{\"outlinewidth\":0,\"ticks\":\"\"},\"colorscale\":[[0.0,\"#0d0887\"],[0.1111111111111111,\"#46039f\"],[0.2222222222222222,\"#7201a8\"],[0.3333333333333333,\"#9c179e\"],[0.4444444444444444,\"#bd3786\"],[0.5555555555555556,\"#d8576b\"],[0.6666666666666666,\"#ed7953\"],[0.7777777777777778,\"#fb9f3a\"],[0.8888888888888888,\"#fdca26\"],[1.0,\"#f0f921\"]]}],\"contourcarpet\":[{\"type\":\"contourcarpet\",\"colorbar\":{\"outlinewidth\":0,\"ticks\":\"\"}}],\"contour\":[{\"type\":\"contour\",\"colorbar\":{\"outlinewidth\":0,\"ticks\":\"\"},\"colorscale\":[[0.0,\"#0d0887\"],[0.1111111111111111,\"#46039f\"],[0.2222222222222222,\"#7201a8\"],[0.3333333333333333,\"#9c179e\"],[0.4444444444444444,\"#bd3786\"],[0.5555555555555556,\"#d8576b\"],[0.6666666666666666,\"#ed7953\"],[0.7777777777777778,\"#fb9f3a\"],[0.8888888888888888,\"#fdca26\"],[1.0,\"#f0f921\"]]}],\"surface\":[{\"type\":\"surface\",\"colorbar\":{\"outlinewidth\":0,\"ticks\":\"\"},\"colorscale\":[[0.0,\"#0d0887\"],[0.1111111111111111,\"#46039f\"],[0.2222222222222222,\"#7201a8\"],[0.3333333333333333,\"#9c179e\"],[0.4444444444444444,\"#bd3786\"],[0.5555555555555556,\"#d8576b\"],[0.6666666666666666,\"#ed7953\"],[0.7777777777777778,\"#fb9f3a\"],[0.8888888888888888,\"#fdca26\"],[1.0,\"#f0f921\"]]}],\"mesh3d\":[{\"type\":\"mesh3d\",\"colorbar\":{\"outlinewidth\":0,\"ticks\":\"\"}}],\"scatter\":[{\"fillpattern\":{\"fillmode\":\"overlay\",\"size\":10,\"solidity\":0.2},\"type\":\"scatter\"}],\"parcoords\":[{\"type\":\"parcoords\",\"line\":{\"colorbar\":{\"outlinewidth\":0,\"ticks\":\"\"}}}],\"scatterpolargl\":[{\"type\":\"scatterpolargl\",\"marker\":{\"colorbar\":{\"outlinewidth\":0,\"ticks\":\"\"}}}],\"bar\":[{\"error_x\":{\"color\":\"#2a3f5f\"},\"error_y\":{\"color\":\"#2a3f5f\"},\"marker\":{\"line\":{\"color\":\"#E5ECF6\",\"width\":0.5},\"pattern\":{\"fillmode\":\"overlay\",\"size\":10,\"solidity\":0.2}},\"type\":\"bar\"}],\"scattergeo\":[{\"type\":\"scattergeo\",\"marker\":{\"colorbar\":{\"outlinewidth\":0,\"ticks\":\"\"}}}],\"scatterpolar\":[{\"type\":\"scatterpolar\",\"marker\":{\"colorbar\":{\"outlinewidth\":0,\"ticks\":\"\"}}}],\"histogram\":[{\"marker\":{\"pattern\":{\"fillmode\":\"overlay\",\"size\":10,\"solidity\":0.2}},\"type\":\"histogram\"}],\"scattergl\":[{\"type\":\"scattergl\",\"marker\":{\"colorbar\":{\"outlinewidth\":0,\"ticks\":\"\"}}}],\"scatter3d\":[{\"type\":\"scatter3d\",\"line\":{\"colorbar\":{\"outlinewidth\":0,\"ticks\":\"\"}},\"marker\":{\"colorbar\":{\"outlinewidth\":0,\"ticks\":\"\"}}}],\"scattermapbox\":[{\"type\":\"scattermapbox\",\"marker\":{\"colorbar\":{\"outlinewidth\":0,\"ticks\":\"\"}}}],\"scatterternary\":[{\"type\":\"scatterternary\",\"marker\":{\"colorbar\":{\"outlinewidth\":0,\"ticks\":\"\"}}}],\"scattercarpet\":[{\"type\":\"scattercarpet\",\"marker\":{\"colorbar\":{\"outlinewidth\":0,\"ticks\":\"\"}}}],\"carpet\":[{\"aaxis\":{\"endlinecolor\":\"#2a3f5f\",\"gridcolor\":\"white\",\"linecolor\":\"white\",\"minorgridcolor\":\"white\",\"startlinecolor\":\"#2a3f5f\"},\"baxis\":{\"endlinecolor\":\"#2a3f5f\",\"gridcolor\":\"white\",\"linecolor\":\"white\",\"minorgridcolor\":\"white\",\"startlinecolor\":\"#2a3f5f\"},\"type\":\"carpet\"}],\"table\":[{\"cells\":{\"fill\":{\"color\":\"#EBF0F8\"},\"line\":{\"color\":\"white\"}},\"header\":{\"fill\":{\"color\":\"#C8D4E3\"},\"line\":{\"color\":\"white\"}},\"type\":\"table\"}],\"barpolar\":[{\"marker\":{\"line\":{\"color\":\"#E5ECF6\",\"width\":0.5},\"pattern\":{\"fillmode\":\"overlay\",\"size\":10,\"solidity\":0.2}},\"type\":\"barpolar\"}],\"pie\":[{\"automargin\":true,\"type\":\"pie\"}]},\"layout\":{\"autotypenumbers\":\"strict\",\"colorway\":[\"#636efa\",\"#EF553B\",\"#00cc96\",\"#ab63fa\",\"#FFA15A\",\"#19d3f3\",\"#FF6692\",\"#B6E880\",\"#FF97FF\",\"#FECB52\"],\"font\":{\"color\":\"#2a3f5f\"},\"hovermode\":\"closest\",\"hoverlabel\":{\"align\":\"left\"},\"paper_bgcolor\":\"white\",\"plot_bgcolor\":\"#E5ECF6\",\"polar\":{\"bgcolor\":\"#E5ECF6\",\"angularaxis\":{\"gridcolor\":\"white\",\"linecolor\":\"white\",\"ticks\":\"\"},\"radialaxis\":{\"gridcolor\":\"white\",\"linecolor\":\"white\",\"ticks\":\"\"}},\"ternary\":{\"bgcolor\":\"#E5ECF6\",\"aaxis\":{\"gridcolor\":\"white\",\"linecolor\":\"white\",\"ticks\":\"\"},\"baxis\":{\"gridcolor\":\"white\",\"linecolor\":\"white\",\"ticks\":\"\"},\"caxis\":{\"gridcolor\":\"white\",\"linecolor\":\"white\",\"ticks\":\"\"}},\"coloraxis\":{\"colorbar\":{\"outlinewidth\":0,\"ticks\":\"\"}},\"colorscale\":{\"sequential\":[[0.0,\"#0d0887\"],[0.1111111111111111,\"#46039f\"],[0.2222222222222222,\"#7201a8\"],[0.3333333333333333,\"#9c179e\"],[0.4444444444444444,\"#bd3786\"],[0.5555555555555556,\"#d8576b\"],[0.6666666666666666,\"#ed7953\"],[0.7777777777777778,\"#fb9f3a\"],[0.8888888888888888,\"#fdca26\"],[1.0,\"#f0f921\"]],\"sequentialminus\":[[0.0,\"#0d0887\"],[0.1111111111111111,\"#46039f\"],[0.2222222222222222,\"#7201a8\"],[0.3333333333333333,\"#9c179e\"],[0.4444444444444444,\"#bd3786\"],[0.5555555555555556,\"#d8576b\"],[0.6666666666666666,\"#ed7953\"],[0.7777777777777778,\"#fb9f3a\"],[0.8888888888888888,\"#fdca26\"],[1.0,\"#f0f921\"]],\"diverging\":[[0,\"#8e0152\"],[0.1,\"#c51b7d\"],[0.2,\"#de77ae\"],[0.3,\"#f1b6da\"],[0.4,\"#fde0ef\"],[0.5,\"#f7f7f7\"],[0.6,\"#e6f5d0\"],[0.7,\"#b8e186\"],[0.8,\"#7fbc41\"],[0.9,\"#4d9221\"],[1,\"#276419\"]]},\"xaxis\":{\"gridcolor\":\"white\",\"linecolor\":\"white\",\"ticks\":\"\",\"title\":{\"standoff\":15},\"zerolinecolor\":\"white\",\"automargin\":true,\"zerolinewidth\":2},\"yaxis\":{\"gridcolor\":\"white\",\"linecolor\":\"white\",\"ticks\":\"\",\"title\":{\"standoff\":15},\"zerolinecolor\":\"white\",\"automargin\":true,\"zerolinewidth\":2},\"scene\":{\"xaxis\":{\"backgroundcolor\":\"#E5ECF6\",\"gridcolor\":\"white\",\"linecolor\":\"white\",\"showbackground\":true,\"ticks\":\"\",\"zerolinecolor\":\"white\",\"gridwidth\":2},\"yaxis\":{\"backgroundcolor\":\"#E5ECF6\",\"gridcolor\":\"white\",\"linecolor\":\"white\",\"showbackground\":true,\"ticks\":\"\",\"zerolinecolor\":\"white\",\"gridwidth\":2},\"zaxis\":{\"backgroundcolor\":\"#E5ECF6\",\"gridcolor\":\"white\",\"linecolor\":\"white\",\"showbackground\":true,\"ticks\":\"\",\"zerolinecolor\":\"white\",\"gridwidth\":2}},\"shapedefaults\":{\"line\":{\"color\":\"#2a3f5f\"}},\"annotationdefaults\":{\"arrowcolor\":\"#2a3f5f\",\"arrowhead\":0,\"arrowwidth\":1},\"geo\":{\"bgcolor\":\"white\",\"landcolor\":\"#E5ECF6\",\"subunitcolor\":\"white\",\"showland\":true,\"showlakes\":true,\"lakecolor\":\"white\"},\"title\":{\"x\":0.05},\"mapbox\":{\"style\":\"light\"}}},\"xaxis\":{\"anchor\":\"y\",\"domain\":[0.0,1.0]},\"yaxis\":{\"anchor\":\"x\",\"domain\":[0.0,1.0],\"title\":{\"text\":\"co2_emissions\"}},\"legend\":{\"tracegroupgap\":0},\"margin\":{\"t\":60},\"violinmode\":\"group\",\"height\":400,\"width\":600},                        {\"responsive\": true}                    ).then(function(){\n",
       "                            \n",
       "var gd = document.getElementById('91f3f2c7-4922-4f7a-8da5-f1096544639d');\n",
       "var x = new MutationObserver(function (mutations, observer) {{\n",
       "        var display = window.getComputedStyle(gd).display;\n",
       "        if (!display || display === 'none') {{\n",
       "            console.log([gd, 'removed!']);\n",
       "            Plotly.purge(gd);\n",
       "            observer.disconnect();\n",
       "        }}\n",
       "}});\n",
       "\n",
       "// Listen for the removal of the full notebook cells\n",
       "var notebookContainer = gd.closest('#notebook-container');\n",
       "if (notebookContainer) {{\n",
       "    x.observe(notebookContainer, {childList: true});\n",
       "}}\n",
       "\n",
       "// Listen for the clearing of the current output cell\n",
       "var outputEl = gd.closest('.output');\n",
       "if (outputEl) {{\n",
       "    x.observe(outputEl, {childList: true});\n",
       "}}\n",
       "\n",
       "                        })                };                });            </script>        </div>"
      ]
     },
     "metadata": {},
     "output_type": "display_data"
    }
   ],
   "source": [
    "fig_config = {\n",
    "    'data_frame': df,\n",
    "    'y': \"co2_emissions\",\n",
    "    'width': 600, \n",
    "    'height': 400,\n",
    "    'box': True,\n",
    "    'points':\"all\"\n",
    "}\n",
    "\n",
    "fig = px.violin(**fig_config)\n",
    "fig.show()"
   ]
  },
  {
   "cell_type": "code",
   "execution_count": 199,
   "metadata": {},
   "outputs": [
    {
     "data": {
      "application/vnd.plotly.v1+json": {
       "config": {
        "plotlyServerURL": "https://plot.ly"
       },
       "data": [
        {
         "alignmentgroup": "True",
         "box": {
          "visible": true
         },
         "hovertemplate": "engine_size=%{y}<extra></extra>",
         "legendgroup": "",
         "marker": {
          "color": "#636efa"
         },
         "name": "",
         "offsetgroup": "",
         "orientation": "v",
         "points": "all",
         "scalegroup": "True",
         "showlegend": false,
         "type": "violin",
         "x0": " ",
         "xaxis": "x",
         "y": [
          2,
          2.4,
          1.5,
          3.5,
          3.5,
          3.5,
          3.5,
          3.7,
          3.7,
          2.4,
          2.4,
          3.5,
          5.9,
          5.9,
          4.7,
          4.7,
          4.7,
          4.7,
          5.9,
          2,
          2,
          2,
          2,
          2,
          2,
          2,
          3,
          3,
          3,
          3,
          3,
          4,
          3,
          3,
          4,
          6.3,
          3,
          2,
          2,
          3,
          2,
          3,
          3,
          3,
          4.2,
          4.2,
          5.2,
          5.2,
          4.2,
          4.2,
          5.2,
          5.2,
          4.2,
          4.2,
          4,
          3,
          3,
          3,
          3,
          3,
          4,
          4,
          4,
          3,
          2,
          2,
          2,
          2,
          4,
          6,
          4,
          6,
          4,
          6,
          6,
          6.8,
          2,
          2,
          2,
          2,
          2,
          2,
          2,
          2,
          2,
          2,
          3,
          3,
          3,
          3,
          3,
          2,
          2,
          2,
          3,
          3,
          3,
          3,
          2,
          2,
          3,
          3,
          3,
          4.4,
          4.4,
          3,
          4.4,
          4.4,
          4.4,
          3,
          4.4,
          4.4,
          6,
          3,
          3,
          3,
          4.4,
          4.4,
          4.4,
          4.4,
          4.4,
          4.4,
          4.4,
          4.4,
          4.4,
          4.4,
          2,
          3,
          2,
          3,
          3,
          4.4,
          4.4,
          3,
          4.4,
          2,
          2,
          3,
          3,
          3,
          3.6,
          3.6,
          1.4,
          1.4,
          3.6,
          3.6,
          3.6,
          3.6,
          2.4,
          2,
          2,
          2,
          2.4,
          2,
          2,
          2.4,
          2,
          2,
          2.5,
          3.6,
          2,
          3.6,
          3.6,
          3.6,
          2,
          3.6,
          2,
          3.6,
          3.6,
          3,
          3.6,
          3,
          3.6,
          6.2,
          6.2,
          6.2,
          6.2,
          6.2,
          6.2,
          6.2,
          6.2,
          6.2,
          6.2,
          3.6,
          3.6,
          3.6,
          3.6,
          3.6,
          3.6,
          3.6,
          3.6,
          6.2,
          6.2,
          6.2,
          6.2,
          6.2,
          6.2,
          1.4,
          1.4,
          1.8,
          1.8,
          2,
          1.4,
          1.4,
          2.4,
          3.6,
          3.6,
          2.4,
          3.6,
          3.6,
          4.3,
          5.3,
          5.3,
          5.3,
          5.3,
          5.3,
          5.3,
          5.3,
          5.3,
          5.3,
          5.3,
          5.3,
          5.3,
          4.8,
          6,
          6,
          4.8,
          6,
          6,
          2.5,
          3.6,
          3.6,
          2.4,
          2,
          2.5,
          2.4,
          2.4,
          4.3,
          4.3,
          5.3,
          5.3,
          6.2,
          4.3,
          4.3,
          5.3,
          5.3,
          6.2,
          1.4,
          1.4,
          1.8,
          1.8,
          1.4,
          1.4,
          1.8,
          1.8,
          1.4,
          1.4,
          1.4,
          1.4,
          1.2,
          1.2,
          5.3,
          5.3,
          5.3,
          5.3,
          5.3,
          5.3,
          5.3,
          5.3,
          3.6,
          3.6,
          1.4,
          1.4,
          1.4,
          3.6,
          2.4,
          2.4,
          3.6,
          3.6,
          2.4,
          2.4,
          3.6,
          3.6,
          5.7,
          3.6,
          5.7,
          3.6,
          3.6,
          3.6,
          3.6,
          6.4,
          3.6,
          3.6,
          2.4,
          2.4,
          3.6,
          3.6,
          3.6,
          5.7,
          5.7,
          6.4,
          6.4,
          3.6,
          3.6,
          5.7,
          3.6,
          5.7,
          3.6,
          3.6,
          3.6,
          3.6,
          3.6,
          3.6,
          6.4,
          2,
          2.4,
          2.4,
          2,
          2,
          2.4,
          2.4,
          1.4,
          1.4,
          5.7,
          3.6,
          3.6,
          3.6,
          3.6,
          2.4,
          3.6,
          3.6,
          3.6,
          1.4,
          1.4,
          1.4,
          1.4,
          1.4,
          1.4,
          1.4,
          1.4,
          1.4,
          1.4,
          2,
          4.6,
          4.6,
          5.4,
          5.4,
          4.6,
          4.6,
          6.8,
          5.4,
          5.4,
          2,
          3.5,
          3.5,
          3.7,
          1.6,
          2,
          2.5,
          1.6,
          2,
          5.4,
          5.4,
          2,
          3.5,
          3.5,
          3.5,
          3.5,
          3.5,
          3.5,
          3.5,
          6.2,
          3.5,
          3.5,
          6.2,
          3.7,
          3.7,
          3.7,
          3.7,
          5,
          5,
          5,
          5,
          3.7,
          3.7,
          3.7,
          3.7,
          5,
          5,
          5,
          5,
          6.2,
          1.6,
          1.6,
          1,
          1.6,
          1.6,
          3.5,
          3.5,
          3.5,
          2,
          2,
          2,
          2,
          2,
          2,
          2,
          2,
          2,
          1.5,
          1.6,
          2,
          2.5,
          1.5,
          2,
          2,
          3.7,
          3.7,
          5,
          5,
          5.8,
          3.7,
          2,
          3.5,
          3.5,
          3.5,
          3.5,
          3.5,
          1.6,
          2.5,
          1.6,
          2.5,
          3.6,
          3.6,
          4.3,
          5.3,
          5.3,
          5.3,
          5.3,
          5.3,
          5.3,
          5.3,
          5.3,
          5.3,
          5.3,
          5.3,
          5.3,
          4.8,
          6,
          6,
          4.8,
          6,
          6,
          4.3,
          4.3,
          5.3,
          5.3,
          6.2,
          4.3,
          4.3,
          5.3,
          5.3,
          6.2,
          2.4,
          3.6,
          3.6,
          2.4,
          3.6,
          3.6,
          5.3,
          5.3,
          5.3,
          5.3,
          6.2,
          6.2,
          6.2,
          6.2,
          5.3,
          5.3,
          5.3,
          5.3,
          2.4,
          2.4,
          2.4,
          3.5,
          3.5,
          3.5,
          2,
          1.8,
          1.8,
          1.8,
          3.5,
          2.4,
          2.4,
          1.5,
          1.5,
          1.5,
          1.5,
          3.5,
          3.5,
          3.5,
          3.5,
          1.6,
          1.6,
          2,
          2,
          5,
          3.8,
          3.3,
          3.3,
          2.4,
          2,
          2.4,
          2,
          2.4,
          2.4,
          2.4,
          2,
          2,
          2.4,
          2,
          2.4,
          1.6,
          1.6,
          1.6,
          1.6,
          3.7,
          3.7,
          3.5,
          3.5,
          3.7,
          3.7,
          3.7,
          3.7,
          3.7,
          3.7,
          5.6,
          3.7,
          5.6,
          3.5,
          3.7,
          3.5,
          3.5,
          2.5,
          3.7,
          5,
          5.6,
          3,
          3,
          5,
          2,
          3,
          5,
          5,
          5,
          3,
          5,
          5,
          3,
          5,
          5,
          5,
          5,
          5,
          5,
          5,
          5,
          5,
          5,
          2.4,
          3.2,
          2.4,
          3.2,
          2.4,
          3.2,
          2.4,
          3.2,
          2,
          2,
          2.4,
          2.4,
          2.4,
          2.4,
          2.4,
          5.7,
          3,
          3.6,
          3.6,
          6.4,
          2,
          2,
          2.4,
          2.4,
          2.4,
          2.4,
          2.4,
          3.6,
          3.6,
          3.6,
          3.6,
          3.3,
          1.8,
          1.8,
          2,
          2,
          1.6,
          1.6,
          2,
          2,
          1.6,
          1.6,
          2,
          2,
          2,
          2.4,
          1.6,
          1.6,
          1.6,
          2,
          2,
          3.5,
          2.4,
          3.3,
          2.4,
          3.3,
          1.6,
          1.6,
          2,
          2,
          2.4,
          2.4,
          2,
          2.4,
          6.5,
          5.2,
          5.2,
          2,
          3,
          2,
          2,
          5,
          5,
          5,
          3,
          3,
          3,
          5,
          5,
          5,
          3,
          3,
          3,
          5,
          5,
          5,
          1.8,
          2.5,
          3.5,
          3.5,
          3.5,
          3.5,
          4.6,
          2.5,
          2.5,
          2.5,
          3.5,
          3.5,
          3.5,
          5,
          4.6,
          4.6,
          4.6,
          5,
          5.7,
          3.5,
          3.5,
          3.5,
          3.5,
          3.7,
          3.5,
          2,
          3.7,
          3.7,
          2,
          3.7,
          2,
          5.4,
          5.4,
          3,
          3,
          4.7,
          4.7,
          3.8,
          3,
          2,
          2,
          2.5,
          2,
          2.5,
          3.7,
          3.7,
          1.5,
          1.5,
          2,
          2,
          2.5,
          2.5,
          2,
          2,
          2,
          2.5,
          2.5,
          2,
          2.5,
          2.5,
          2.5,
          2.5,
          2.5,
          2,
          2,
          2,
          2,
          1.8,
          1.8,
          3.5,
          3.5,
          3.5,
          3.5,
          3.5,
          3.5,
          6.2,
          6.2,
          4.7,
          5.5,
          2,
          2,
          4.7,
          5.5,
          5.5,
          2.1,
          3.5,
          3.5,
          3.5,
          3.5,
          3.5,
          3.5,
          3.5,
          4.7,
          4.7,
          4.7,
          5.5,
          5.5,
          5.5,
          5.5,
          5.5,
          5.5,
          3,
          4.7,
          4.7,
          5.5,
          2.1,
          3.5,
          3.5,
          3.5,
          3,
          4.7,
          5.5,
          4.7,
          4.7,
          5.5,
          4.7,
          5.5,
          6,
          1.8,
          1.8,
          3.5,
          5.5,
          6.2,
          6.2,
          6.2,
          1.6,
          1.6,
          1.6,
          1.6,
          1.6,
          1.6,
          1.6,
          1.6,
          1.6,
          1.6,
          1.6,
          1.6,
          1.6,
          1.6,
          1.6,
          1.6,
          1.6,
          1.6,
          1.6,
          1.6,
          1.6,
          1.6,
          1.6,
          1.6,
          1.6,
          1.6,
          1.6,
          1.6,
          1.6,
          1.6,
          1.6,
          1.6,
          1.6,
          1.6,
          1.6,
          1.6,
          2,
          2,
          2.4,
          2,
          2,
          2,
          2,
          2,
          1.2,
          1.2,
          2.4,
          2.4,
          3,
          2,
          2,
          2,
          3.7,
          3.7,
          3.7,
          3.7,
          2.5,
          3.5,
          5.6,
          2.5,
          2.5,
          4,
          4,
          4,
          3.8,
          1.6,
          1.6,
          1.6,
          3.5,
          3.5,
          2,
          3.5,
          3.5,
          2.5,
          3.5,
          2.5,
          2.5,
          1.8,
          1.8,
          5.6,
          5.6,
          1.6,
          1.6,
          4,
          4,
          3.4,
          3.4,
          3.4,
          3.4,
          3.4,
          3.4,
          3.8,
          3.8,
          3.8,
          3.8,
          3.4,
          3.4,
          3.8,
          3.8,
          3.8,
          3.8,
          3.8,
          3.8,
          3.8,
          3.8,
          3.8,
          2.7,
          2.7,
          3.4,
          3.4,
          3.6,
          3.6,
          3,
          4.8,
          4.8,
          3,
          4.8,
          2.7,
          2.7,
          3.4,
          3.4,
          3.6,
          3.6,
          3,
          3,
          4.8,
          3,
          4.8,
          4.8,
          5.7,
          5.7,
          5.7,
          5.7,
          3,
          3.6,
          3.6,
          3,
          3.6,
          3.6,
          3.6,
          3.6,
          3.6,
          6.6,
          6.6,
          6.7,
          6.7,
          6.7,
          6.7,
          6.6,
          2,
          2,
          1.3,
          2.5,
          2.5,
          2.4,
          2.4,
          1.8,
          1.8,
          1,
          1,
          8.4,
          8.4,
          2,
          2,
          2,
          2.5,
          2.5,
          2,
          2,
          2.5,
          2.5,
          2,
          2,
          2.5,
          2.5,
          2.5,
          2.5,
          3.6,
          2.5,
          2.5,
          3.6,
          3.6,
          2,
          2,
          2,
          4,
          4,
          3.5,
          2.5,
          3.5,
          2.5,
          2.5,
          1.8,
          1.8,
          1.8,
          1.8,
          1.8,
          1.8,
          1.8,
          1.8,
          4,
          4,
          2.7,
          3.5,
          3.5,
          3.5,
          3.5,
          1.8,
          1.5,
          1.8,
          2.5,
          2.5,
          2.5,
          5.7,
          3.5,
          3.5,
          2.7,
          2.7,
          4,
          2.7,
          2.7,
          4,
          4,
          4,
          4.6,
          5.7,
          4.6,
          5.7,
          2.7,
          3.5,
          2.7,
          3.5,
          1.5,
          1.5,
          1.8,
          1.8,
          2,
          2,
          2.5,
          2.5,
          1.8,
          2,
          2,
          2.5,
          2,
          2,
          2,
          2,
          3.6,
          2,
          2.5,
          2.5,
          2,
          2,
          1.8,
          1.8,
          2,
          2,
          2,
          2,
          2,
          2,
          1.4,
          1.8,
          1.8,
          2.5,
          2.5,
          3.6,
          2,
          2,
          3.6,
          2,
          2,
          2,
          3.6,
          3,
          2.5,
          2.5,
          3,
          3.2,
          3,
          3.2,
          3,
          3.2,
          3,
          3.2,
          3.2
         ],
         "y0": " ",
         "yaxis": "y"
        }
       ],
       "layout": {
        "height": 400,
        "legend": {
         "tracegroupgap": 0
        },
        "margin": {
         "t": 60
        },
        "template": {
         "data": {
          "bar": [
           {
            "error_x": {
             "color": "#2a3f5f"
            },
            "error_y": {
             "color": "#2a3f5f"
            },
            "marker": {
             "line": {
              "color": "#E5ECF6",
              "width": 0.5
             },
             "pattern": {
              "fillmode": "overlay",
              "size": 10,
              "solidity": 0.2
             }
            },
            "type": "bar"
           }
          ],
          "barpolar": [
           {
            "marker": {
             "line": {
              "color": "#E5ECF6",
              "width": 0.5
             },
             "pattern": {
              "fillmode": "overlay",
              "size": 10,
              "solidity": 0.2
             }
            },
            "type": "barpolar"
           }
          ],
          "carpet": [
           {
            "aaxis": {
             "endlinecolor": "#2a3f5f",
             "gridcolor": "white",
             "linecolor": "white",
             "minorgridcolor": "white",
             "startlinecolor": "#2a3f5f"
            },
            "baxis": {
             "endlinecolor": "#2a3f5f",
             "gridcolor": "white",
             "linecolor": "white",
             "minorgridcolor": "white",
             "startlinecolor": "#2a3f5f"
            },
            "type": "carpet"
           }
          ],
          "choropleth": [
           {
            "colorbar": {
             "outlinewidth": 0,
             "ticks": ""
            },
            "type": "choropleth"
           }
          ],
          "contour": [
           {
            "colorbar": {
             "outlinewidth": 0,
             "ticks": ""
            },
            "colorscale": [
             [
              0,
              "#0d0887"
             ],
             [
              0.1111111111111111,
              "#46039f"
             ],
             [
              0.2222222222222222,
              "#7201a8"
             ],
             [
              0.3333333333333333,
              "#9c179e"
             ],
             [
              0.4444444444444444,
              "#bd3786"
             ],
             [
              0.5555555555555556,
              "#d8576b"
             ],
             [
              0.6666666666666666,
              "#ed7953"
             ],
             [
              0.7777777777777778,
              "#fb9f3a"
             ],
             [
              0.8888888888888888,
              "#fdca26"
             ],
             [
              1,
              "#f0f921"
             ]
            ],
            "type": "contour"
           }
          ],
          "contourcarpet": [
           {
            "colorbar": {
             "outlinewidth": 0,
             "ticks": ""
            },
            "type": "contourcarpet"
           }
          ],
          "heatmap": [
           {
            "colorbar": {
             "outlinewidth": 0,
             "ticks": ""
            },
            "colorscale": [
             [
              0,
              "#0d0887"
             ],
             [
              0.1111111111111111,
              "#46039f"
             ],
             [
              0.2222222222222222,
              "#7201a8"
             ],
             [
              0.3333333333333333,
              "#9c179e"
             ],
             [
              0.4444444444444444,
              "#bd3786"
             ],
             [
              0.5555555555555556,
              "#d8576b"
             ],
             [
              0.6666666666666666,
              "#ed7953"
             ],
             [
              0.7777777777777778,
              "#fb9f3a"
             ],
             [
              0.8888888888888888,
              "#fdca26"
             ],
             [
              1,
              "#f0f921"
             ]
            ],
            "type": "heatmap"
           }
          ],
          "heatmapgl": [
           {
            "colorbar": {
             "outlinewidth": 0,
             "ticks": ""
            },
            "colorscale": [
             [
              0,
              "#0d0887"
             ],
             [
              0.1111111111111111,
              "#46039f"
             ],
             [
              0.2222222222222222,
              "#7201a8"
             ],
             [
              0.3333333333333333,
              "#9c179e"
             ],
             [
              0.4444444444444444,
              "#bd3786"
             ],
             [
              0.5555555555555556,
              "#d8576b"
             ],
             [
              0.6666666666666666,
              "#ed7953"
             ],
             [
              0.7777777777777778,
              "#fb9f3a"
             ],
             [
              0.8888888888888888,
              "#fdca26"
             ],
             [
              1,
              "#f0f921"
             ]
            ],
            "type": "heatmapgl"
           }
          ],
          "histogram": [
           {
            "marker": {
             "pattern": {
              "fillmode": "overlay",
              "size": 10,
              "solidity": 0.2
             }
            },
            "type": "histogram"
           }
          ],
          "histogram2d": [
           {
            "colorbar": {
             "outlinewidth": 0,
             "ticks": ""
            },
            "colorscale": [
             [
              0,
              "#0d0887"
             ],
             [
              0.1111111111111111,
              "#46039f"
             ],
             [
              0.2222222222222222,
              "#7201a8"
             ],
             [
              0.3333333333333333,
              "#9c179e"
             ],
             [
              0.4444444444444444,
              "#bd3786"
             ],
             [
              0.5555555555555556,
              "#d8576b"
             ],
             [
              0.6666666666666666,
              "#ed7953"
             ],
             [
              0.7777777777777778,
              "#fb9f3a"
             ],
             [
              0.8888888888888888,
              "#fdca26"
             ],
             [
              1,
              "#f0f921"
             ]
            ],
            "type": "histogram2d"
           }
          ],
          "histogram2dcontour": [
           {
            "colorbar": {
             "outlinewidth": 0,
             "ticks": ""
            },
            "colorscale": [
             [
              0,
              "#0d0887"
             ],
             [
              0.1111111111111111,
              "#46039f"
             ],
             [
              0.2222222222222222,
              "#7201a8"
             ],
             [
              0.3333333333333333,
              "#9c179e"
             ],
             [
              0.4444444444444444,
              "#bd3786"
             ],
             [
              0.5555555555555556,
              "#d8576b"
             ],
             [
              0.6666666666666666,
              "#ed7953"
             ],
             [
              0.7777777777777778,
              "#fb9f3a"
             ],
             [
              0.8888888888888888,
              "#fdca26"
             ],
             [
              1,
              "#f0f921"
             ]
            ],
            "type": "histogram2dcontour"
           }
          ],
          "mesh3d": [
           {
            "colorbar": {
             "outlinewidth": 0,
             "ticks": ""
            },
            "type": "mesh3d"
           }
          ],
          "parcoords": [
           {
            "line": {
             "colorbar": {
              "outlinewidth": 0,
              "ticks": ""
             }
            },
            "type": "parcoords"
           }
          ],
          "pie": [
           {
            "automargin": true,
            "type": "pie"
           }
          ],
          "scatter": [
           {
            "fillpattern": {
             "fillmode": "overlay",
             "size": 10,
             "solidity": 0.2
            },
            "type": "scatter"
           }
          ],
          "scatter3d": [
           {
            "line": {
             "colorbar": {
              "outlinewidth": 0,
              "ticks": ""
             }
            },
            "marker": {
             "colorbar": {
              "outlinewidth": 0,
              "ticks": ""
             }
            },
            "type": "scatter3d"
           }
          ],
          "scattercarpet": [
           {
            "marker": {
             "colorbar": {
              "outlinewidth": 0,
              "ticks": ""
             }
            },
            "type": "scattercarpet"
           }
          ],
          "scattergeo": [
           {
            "marker": {
             "colorbar": {
              "outlinewidth": 0,
              "ticks": ""
             }
            },
            "type": "scattergeo"
           }
          ],
          "scattergl": [
           {
            "marker": {
             "colorbar": {
              "outlinewidth": 0,
              "ticks": ""
             }
            },
            "type": "scattergl"
           }
          ],
          "scattermapbox": [
           {
            "marker": {
             "colorbar": {
              "outlinewidth": 0,
              "ticks": ""
             }
            },
            "type": "scattermapbox"
           }
          ],
          "scatterpolar": [
           {
            "marker": {
             "colorbar": {
              "outlinewidth": 0,
              "ticks": ""
             }
            },
            "type": "scatterpolar"
           }
          ],
          "scatterpolargl": [
           {
            "marker": {
             "colorbar": {
              "outlinewidth": 0,
              "ticks": ""
             }
            },
            "type": "scatterpolargl"
           }
          ],
          "scatterternary": [
           {
            "marker": {
             "colorbar": {
              "outlinewidth": 0,
              "ticks": ""
             }
            },
            "type": "scatterternary"
           }
          ],
          "surface": [
           {
            "colorbar": {
             "outlinewidth": 0,
             "ticks": ""
            },
            "colorscale": [
             [
              0,
              "#0d0887"
             ],
             [
              0.1111111111111111,
              "#46039f"
             ],
             [
              0.2222222222222222,
              "#7201a8"
             ],
             [
              0.3333333333333333,
              "#9c179e"
             ],
             [
              0.4444444444444444,
              "#bd3786"
             ],
             [
              0.5555555555555556,
              "#d8576b"
             ],
             [
              0.6666666666666666,
              "#ed7953"
             ],
             [
              0.7777777777777778,
              "#fb9f3a"
             ],
             [
              0.8888888888888888,
              "#fdca26"
             ],
             [
              1,
              "#f0f921"
             ]
            ],
            "type": "surface"
           }
          ],
          "table": [
           {
            "cells": {
             "fill": {
              "color": "#EBF0F8"
             },
             "line": {
              "color": "white"
             }
            },
            "header": {
             "fill": {
              "color": "#C8D4E3"
             },
             "line": {
              "color": "white"
             }
            },
            "type": "table"
           }
          ]
         },
         "layout": {
          "annotationdefaults": {
           "arrowcolor": "#2a3f5f",
           "arrowhead": 0,
           "arrowwidth": 1
          },
          "autotypenumbers": "strict",
          "coloraxis": {
           "colorbar": {
            "outlinewidth": 0,
            "ticks": ""
           }
          },
          "colorscale": {
           "diverging": [
            [
             0,
             "#8e0152"
            ],
            [
             0.1,
             "#c51b7d"
            ],
            [
             0.2,
             "#de77ae"
            ],
            [
             0.3,
             "#f1b6da"
            ],
            [
             0.4,
             "#fde0ef"
            ],
            [
             0.5,
             "#f7f7f7"
            ],
            [
             0.6,
             "#e6f5d0"
            ],
            [
             0.7,
             "#b8e186"
            ],
            [
             0.8,
             "#7fbc41"
            ],
            [
             0.9,
             "#4d9221"
            ],
            [
             1,
             "#276419"
            ]
           ],
           "sequential": [
            [
             0,
             "#0d0887"
            ],
            [
             0.1111111111111111,
             "#46039f"
            ],
            [
             0.2222222222222222,
             "#7201a8"
            ],
            [
             0.3333333333333333,
             "#9c179e"
            ],
            [
             0.4444444444444444,
             "#bd3786"
            ],
            [
             0.5555555555555556,
             "#d8576b"
            ],
            [
             0.6666666666666666,
             "#ed7953"
            ],
            [
             0.7777777777777778,
             "#fb9f3a"
            ],
            [
             0.8888888888888888,
             "#fdca26"
            ],
            [
             1,
             "#f0f921"
            ]
           ],
           "sequentialminus": [
            [
             0,
             "#0d0887"
            ],
            [
             0.1111111111111111,
             "#46039f"
            ],
            [
             0.2222222222222222,
             "#7201a8"
            ],
            [
             0.3333333333333333,
             "#9c179e"
            ],
            [
             0.4444444444444444,
             "#bd3786"
            ],
            [
             0.5555555555555556,
             "#d8576b"
            ],
            [
             0.6666666666666666,
             "#ed7953"
            ],
            [
             0.7777777777777778,
             "#fb9f3a"
            ],
            [
             0.8888888888888888,
             "#fdca26"
            ],
            [
             1,
             "#f0f921"
            ]
           ]
          },
          "colorway": [
           "#636efa",
           "#EF553B",
           "#00cc96",
           "#ab63fa",
           "#FFA15A",
           "#19d3f3",
           "#FF6692",
           "#B6E880",
           "#FF97FF",
           "#FECB52"
          ],
          "font": {
           "color": "#2a3f5f"
          },
          "geo": {
           "bgcolor": "white",
           "lakecolor": "white",
           "landcolor": "#E5ECF6",
           "showlakes": true,
           "showland": true,
           "subunitcolor": "white"
          },
          "hoverlabel": {
           "align": "left"
          },
          "hovermode": "closest",
          "mapbox": {
           "style": "light"
          },
          "paper_bgcolor": "white",
          "plot_bgcolor": "#E5ECF6",
          "polar": {
           "angularaxis": {
            "gridcolor": "white",
            "linecolor": "white",
            "ticks": ""
           },
           "bgcolor": "#E5ECF6",
           "radialaxis": {
            "gridcolor": "white",
            "linecolor": "white",
            "ticks": ""
           }
          },
          "scene": {
           "xaxis": {
            "backgroundcolor": "#E5ECF6",
            "gridcolor": "white",
            "gridwidth": 2,
            "linecolor": "white",
            "showbackground": true,
            "ticks": "",
            "zerolinecolor": "white"
           },
           "yaxis": {
            "backgroundcolor": "#E5ECF6",
            "gridcolor": "white",
            "gridwidth": 2,
            "linecolor": "white",
            "showbackground": true,
            "ticks": "",
            "zerolinecolor": "white"
           },
           "zaxis": {
            "backgroundcolor": "#E5ECF6",
            "gridcolor": "white",
            "gridwidth": 2,
            "linecolor": "white",
            "showbackground": true,
            "ticks": "",
            "zerolinecolor": "white"
           }
          },
          "shapedefaults": {
           "line": {
            "color": "#2a3f5f"
           }
          },
          "ternary": {
           "aaxis": {
            "gridcolor": "white",
            "linecolor": "white",
            "ticks": ""
           },
           "baxis": {
            "gridcolor": "white",
            "linecolor": "white",
            "ticks": ""
           },
           "bgcolor": "#E5ECF6",
           "caxis": {
            "gridcolor": "white",
            "linecolor": "white",
            "ticks": ""
           }
          },
          "title": {
           "x": 0.05
          },
          "xaxis": {
           "automargin": true,
           "gridcolor": "white",
           "linecolor": "white",
           "ticks": "",
           "title": {
            "standoff": 15
           },
           "zerolinecolor": "white",
           "zerolinewidth": 2
          },
          "yaxis": {
           "automargin": true,
           "gridcolor": "white",
           "linecolor": "white",
           "ticks": "",
           "title": {
            "standoff": 15
           },
           "zerolinecolor": "white",
           "zerolinewidth": 2
          }
         }
        },
        "violinmode": "group",
        "width": 600,
        "xaxis": {
         "anchor": "y",
         "domain": [
          0,
          1
         ]
        },
        "yaxis": {
         "anchor": "x",
         "domain": [
          0,
          1
         ],
         "title": {
          "text": "engine_size"
         }
        }
       }
      },
      "text/html": [
       "<div>                            <div id=\"6df27350-bbba-49e5-b3bc-2421f0420ccb\" class=\"plotly-graph-div\" style=\"height:400px; width:600px;\"></div>            <script type=\"text/javascript\">                require([\"plotly\"], function(Plotly) {                    window.PLOTLYENV=window.PLOTLYENV || {};                                    if (document.getElementById(\"6df27350-bbba-49e5-b3bc-2421f0420ccb\")) {                    Plotly.newPlot(                        \"6df27350-bbba-49e5-b3bc-2421f0420ccb\",                        [{\"alignmentgroup\":\"True\",\"box\":{\"visible\":true},\"hovertemplate\":\"engine_size=%{y}<extra></extra>\",\"legendgroup\":\"\",\"marker\":{\"color\":\"#636efa\"},\"name\":\"\",\"offsetgroup\":\"\",\"orientation\":\"v\",\"points\":\"all\",\"scalegroup\":\"True\",\"showlegend\":false,\"x0\":\" \",\"xaxis\":\"x\",\"y\":[2.0,2.4,1.5,3.5,3.5,3.5,3.5,3.7,3.7,2.4,2.4,3.5,5.9,5.9,4.7,4.7,4.7,4.7,5.9,2.0,2.0,2.0,2.0,2.0,2.0,2.0,3.0,3.0,3.0,3.0,3.0,4.0,3.0,3.0,4.0,6.3,3.0,2.0,2.0,3.0,2.0,3.0,3.0,3.0,4.2,4.2,5.2,5.2,4.2,4.2,5.2,5.2,4.2,4.2,4.0,3.0,3.0,3.0,3.0,3.0,4.0,4.0,4.0,3.0,2.0,2.0,2.0,2.0,4.0,6.0,4.0,6.0,4.0,6.0,6.0,6.8,2.0,2.0,2.0,2.0,2.0,2.0,2.0,2.0,2.0,2.0,3.0,3.0,3.0,3.0,3.0,2.0,2.0,2.0,3.0,3.0,3.0,3.0,2.0,2.0,3.0,3.0,3.0,4.4,4.4,3.0,4.4,4.4,4.4,3.0,4.4,4.4,6.0,3.0,3.0,3.0,4.4,4.4,4.4,4.4,4.4,4.4,4.4,4.4,4.4,4.4,2.0,3.0,2.0,3.0,3.0,4.4,4.4,3.0,4.4,2.0,2.0,3.0,3.0,3.0,3.6,3.6,1.4,1.4,3.6,3.6,3.6,3.6,2.4,2.0,2.0,2.0,2.4,2.0,2.0,2.4,2.0,2.0,2.5,3.6,2.0,3.6,3.6,3.6,2.0,3.6,2.0,3.6,3.6,3.0,3.6,3.0,3.6,6.2,6.2,6.2,6.2,6.2,6.2,6.2,6.2,6.2,6.2,3.6,3.6,3.6,3.6,3.6,3.6,3.6,3.6,6.2,6.2,6.2,6.2,6.2,6.2,1.4,1.4,1.8,1.8,2.0,1.4,1.4,2.4,3.6,3.6,2.4,3.6,3.6,4.3,5.3,5.3,5.3,5.3,5.3,5.3,5.3,5.3,5.3,5.3,5.3,5.3,4.8,6.0,6.0,4.8,6.0,6.0,2.5,3.6,3.6,2.4,2.0,2.5,2.4,2.4,4.3,4.3,5.3,5.3,6.2,4.3,4.3,5.3,5.3,6.2,1.4,1.4,1.8,1.8,1.4,1.4,1.8,1.8,1.4,1.4,1.4,1.4,1.2,1.2,5.3,5.3,5.3,5.3,5.3,5.3,5.3,5.3,3.6,3.6,1.4,1.4,1.4,3.6,2.4,2.4,3.6,3.6,2.4,2.4,3.6,3.6,5.7,3.6,5.7,3.6,3.6,3.6,3.6,6.4,3.6,3.6,2.4,2.4,3.6,3.6,3.6,5.7,5.7,6.4,6.4,3.6,3.6,5.7,3.6,5.7,3.6,3.6,3.6,3.6,3.6,3.6,6.4,2.0,2.4,2.4,2.0,2.0,2.4,2.4,1.4,1.4,5.7,3.6,3.6,3.6,3.6,2.4,3.6,3.6,3.6,1.4,1.4,1.4,1.4,1.4,1.4,1.4,1.4,1.4,1.4,2.0,4.6,4.6,5.4,5.4,4.6,4.6,6.8,5.4,5.4,2.0,3.5,3.5,3.7,1.6,2.0,2.5,1.6,2.0,5.4,5.4,2.0,3.5,3.5,3.5,3.5,3.5,3.5,3.5,6.2,3.5,3.5,6.2,3.7,3.7,3.7,3.7,5.0,5.0,5.0,5.0,3.7,3.7,3.7,3.7,5.0,5.0,5.0,5.0,6.2,1.6,1.6,1.0,1.6,1.6,3.5,3.5,3.5,2.0,2.0,2.0,2.0,2.0,2.0,2.0,2.0,2.0,1.5,1.6,2.0,2.5,1.5,2.0,2.0,3.7,3.7,5.0,5.0,5.8,3.7,2.0,3.5,3.5,3.5,3.5,3.5,1.6,2.5,1.6,2.5,3.6,3.6,4.3,5.3,5.3,5.3,5.3,5.3,5.3,5.3,5.3,5.3,5.3,5.3,5.3,4.8,6.0,6.0,4.8,6.0,6.0,4.3,4.3,5.3,5.3,6.2,4.3,4.3,5.3,5.3,6.2,2.4,3.6,3.6,2.4,3.6,3.6,5.3,5.3,5.3,5.3,6.2,6.2,6.2,6.2,5.3,5.3,5.3,5.3,2.4,2.4,2.4,3.5,3.5,3.5,2.0,1.8,1.8,1.8,3.5,2.4,2.4,1.5,1.5,1.5,1.5,3.5,3.5,3.5,3.5,1.6,1.6,2.0,2.0,5.0,3.8,3.3,3.3,2.4,2.0,2.4,2.0,2.4,2.4,2.4,2.0,2.0,2.4,2.0,2.4,1.6,1.6,1.6,1.6,3.7,3.7,3.5,3.5,3.7,3.7,3.7,3.7,3.7,3.7,5.6,3.7,5.6,3.5,3.7,3.5,3.5,2.5,3.7,5.0,5.6,3.0,3.0,5.0,2.0,3.0,5.0,5.0,5.0,3.0,5.0,5.0,3.0,5.0,5.0,5.0,5.0,5.0,5.0,5.0,5.0,5.0,5.0,2.4,3.2,2.4,3.2,2.4,3.2,2.4,3.2,2.0,2.0,2.4,2.4,2.4,2.4,2.4,5.7,3.0,3.6,3.6,6.4,2.0,2.0,2.4,2.4,2.4,2.4,2.4,3.6,3.6,3.6,3.6,3.3,1.8,1.8,2.0,2.0,1.6,1.6,2.0,2.0,1.6,1.6,2.0,2.0,2.0,2.4,1.6,1.6,1.6,2.0,2.0,3.5,2.4,3.3,2.4,3.3,1.6,1.6,2.0,2.0,2.4,2.4,2.0,2.4,6.5,5.2,5.2,2.0,3.0,2.0,2.0,5.0,5.0,5.0,3.0,3.0,3.0,5.0,5.0,5.0,3.0,3.0,3.0,5.0,5.0,5.0,1.8,2.5,3.5,3.5,3.5,3.5,4.6,2.5,2.5,2.5,3.5,3.5,3.5,5.0,4.6,4.6,4.6,5.0,5.7,3.5,3.5,3.5,3.5,3.7,3.5,2.0,3.7,3.7,2.0,3.7,2.0,5.4,5.4,3.0,3.0,4.7,4.7,3.8,3.0,2.0,2.0,2.5,2.0,2.5,3.7,3.7,1.5,1.5,2.0,2.0,2.5,2.5,2.0,2.0,2.0,2.5,2.5,2.0,2.5,2.5,2.5,2.5,2.5,2.0,2.0,2.0,2.0,1.8,1.8,3.5,3.5,3.5,3.5,3.5,3.5,6.2,6.2,4.7,5.5,2.0,2.0,4.7,5.5,5.5,2.1,3.5,3.5,3.5,3.5,3.5,3.5,3.5,4.7,4.7,4.7,5.5,5.5,5.5,5.5,5.5,5.5,3.0,4.7,4.7,5.5,2.1,3.5,3.5,3.5,3.0,4.7,5.5,4.7,4.7,5.5,4.7,5.5,6.0,1.8,1.8,3.5,5.5,6.2,6.2,6.2,1.6,1.6,1.6,1.6,1.6,1.6,1.6,1.6,1.6,1.6,1.6,1.6,1.6,1.6,1.6,1.6,1.6,1.6,1.6,1.6,1.6,1.6,1.6,1.6,1.6,1.6,1.6,1.6,1.6,1.6,1.6,1.6,1.6,1.6,1.6,1.6,2.0,2.0,2.4,2.0,2.0,2.0,2.0,2.0,1.2,1.2,2.4,2.4,3.0,2.0,2.0,2.0,3.7,3.7,3.7,3.7,2.5,3.5,5.6,2.5,2.5,4.0,4.0,4.0,3.8,1.6,1.6,1.6,3.5,3.5,2.0,3.5,3.5,2.5,3.5,2.5,2.5,1.8,1.8,5.6,5.6,1.6,1.6,4.0,4.0,3.4,3.4,3.4,3.4,3.4,3.4,3.8,3.8,3.8,3.8,3.4,3.4,3.8,3.8,3.8,3.8,3.8,3.8,3.8,3.8,3.8,2.7,2.7,3.4,3.4,3.6,3.6,3.0,4.8,4.8,3.0,4.8,2.7,2.7,3.4,3.4,3.6,3.6,3.0,3.0,4.8,3.0,4.8,4.8,5.7,5.7,5.7,5.7,3.0,3.6,3.6,3.0,3.6,3.6,3.6,3.6,3.6,6.6,6.6,6.7,6.7,6.7,6.7,6.6,2.0,2.0,1.3,2.5,2.5,2.4,2.4,1.8,1.8,1.0,1.0,8.4,8.4,2.0,2.0,2.0,2.5,2.5,2.0,2.0,2.5,2.5,2.0,2.0,2.5,2.5,2.5,2.5,3.6,2.5,2.5,3.6,3.6,2.0,2.0,2.0,4.0,4.0,3.5,2.5,3.5,2.5,2.5,1.8,1.8,1.8,1.8,1.8,1.8,1.8,1.8,4.0,4.0,2.7,3.5,3.5,3.5,3.5,1.8,1.5,1.8,2.5,2.5,2.5,5.7,3.5,3.5,2.7,2.7,4.0,2.7,2.7,4.0,4.0,4.0,4.6,5.7,4.6,5.7,2.7,3.5,2.7,3.5,1.5,1.5,1.8,1.8,2.0,2.0,2.5,2.5,1.8,2.0,2.0,2.5,2.0,2.0,2.0,2.0,3.6,2.0,2.5,2.5,2.0,2.0,1.8,1.8,2.0,2.0,2.0,2.0,2.0,2.0,1.4,1.8,1.8,2.5,2.5,3.6,2.0,2.0,3.6,2.0,2.0,2.0,3.6,3.0,2.5,2.5,3.0,3.2,3.0,3.2,3.0,3.2,3.0,3.2,3.2],\"y0\":\" \",\"yaxis\":\"y\",\"type\":\"violin\"}],                        {\"template\":{\"data\":{\"histogram2dcontour\":[{\"type\":\"histogram2dcontour\",\"colorbar\":{\"outlinewidth\":0,\"ticks\":\"\"},\"colorscale\":[[0.0,\"#0d0887\"],[0.1111111111111111,\"#46039f\"],[0.2222222222222222,\"#7201a8\"],[0.3333333333333333,\"#9c179e\"],[0.4444444444444444,\"#bd3786\"],[0.5555555555555556,\"#d8576b\"],[0.6666666666666666,\"#ed7953\"],[0.7777777777777778,\"#fb9f3a\"],[0.8888888888888888,\"#fdca26\"],[1.0,\"#f0f921\"]]}],\"choropleth\":[{\"type\":\"choropleth\",\"colorbar\":{\"outlinewidth\":0,\"ticks\":\"\"}}],\"histogram2d\":[{\"type\":\"histogram2d\",\"colorbar\":{\"outlinewidth\":0,\"ticks\":\"\"},\"colorscale\":[[0.0,\"#0d0887\"],[0.1111111111111111,\"#46039f\"],[0.2222222222222222,\"#7201a8\"],[0.3333333333333333,\"#9c179e\"],[0.4444444444444444,\"#bd3786\"],[0.5555555555555556,\"#d8576b\"],[0.6666666666666666,\"#ed7953\"],[0.7777777777777778,\"#fb9f3a\"],[0.8888888888888888,\"#fdca26\"],[1.0,\"#f0f921\"]]}],\"heatmap\":[{\"type\":\"heatmap\",\"colorbar\":{\"outlinewidth\":0,\"ticks\":\"\"},\"colorscale\":[[0.0,\"#0d0887\"],[0.1111111111111111,\"#46039f\"],[0.2222222222222222,\"#7201a8\"],[0.3333333333333333,\"#9c179e\"],[0.4444444444444444,\"#bd3786\"],[0.5555555555555556,\"#d8576b\"],[0.6666666666666666,\"#ed7953\"],[0.7777777777777778,\"#fb9f3a\"],[0.8888888888888888,\"#fdca26\"],[1.0,\"#f0f921\"]]}],\"heatmapgl\":[{\"type\":\"heatmapgl\",\"colorbar\":{\"outlinewidth\":0,\"ticks\":\"\"},\"colorscale\":[[0.0,\"#0d0887\"],[0.1111111111111111,\"#46039f\"],[0.2222222222222222,\"#7201a8\"],[0.3333333333333333,\"#9c179e\"],[0.4444444444444444,\"#bd3786\"],[0.5555555555555556,\"#d8576b\"],[0.6666666666666666,\"#ed7953\"],[0.7777777777777778,\"#fb9f3a\"],[0.8888888888888888,\"#fdca26\"],[1.0,\"#f0f921\"]]}],\"contourcarpet\":[{\"type\":\"contourcarpet\",\"colorbar\":{\"outlinewidth\":0,\"ticks\":\"\"}}],\"contour\":[{\"type\":\"contour\",\"colorbar\":{\"outlinewidth\":0,\"ticks\":\"\"},\"colorscale\":[[0.0,\"#0d0887\"],[0.1111111111111111,\"#46039f\"],[0.2222222222222222,\"#7201a8\"],[0.3333333333333333,\"#9c179e\"],[0.4444444444444444,\"#bd3786\"],[0.5555555555555556,\"#d8576b\"],[0.6666666666666666,\"#ed7953\"],[0.7777777777777778,\"#fb9f3a\"],[0.8888888888888888,\"#fdca26\"],[1.0,\"#f0f921\"]]}],\"surface\":[{\"type\":\"surface\",\"colorbar\":{\"outlinewidth\":0,\"ticks\":\"\"},\"colorscale\":[[0.0,\"#0d0887\"],[0.1111111111111111,\"#46039f\"],[0.2222222222222222,\"#7201a8\"],[0.3333333333333333,\"#9c179e\"],[0.4444444444444444,\"#bd3786\"],[0.5555555555555556,\"#d8576b\"],[0.6666666666666666,\"#ed7953\"],[0.7777777777777778,\"#fb9f3a\"],[0.8888888888888888,\"#fdca26\"],[1.0,\"#f0f921\"]]}],\"mesh3d\":[{\"type\":\"mesh3d\",\"colorbar\":{\"outlinewidth\":0,\"ticks\":\"\"}}],\"scatter\":[{\"fillpattern\":{\"fillmode\":\"overlay\",\"size\":10,\"solidity\":0.2},\"type\":\"scatter\"}],\"parcoords\":[{\"type\":\"parcoords\",\"line\":{\"colorbar\":{\"outlinewidth\":0,\"ticks\":\"\"}}}],\"scatterpolargl\":[{\"type\":\"scatterpolargl\",\"marker\":{\"colorbar\":{\"outlinewidth\":0,\"ticks\":\"\"}}}],\"bar\":[{\"error_x\":{\"color\":\"#2a3f5f\"},\"error_y\":{\"color\":\"#2a3f5f\"},\"marker\":{\"line\":{\"color\":\"#E5ECF6\",\"width\":0.5},\"pattern\":{\"fillmode\":\"overlay\",\"size\":10,\"solidity\":0.2}},\"type\":\"bar\"}],\"scattergeo\":[{\"type\":\"scattergeo\",\"marker\":{\"colorbar\":{\"outlinewidth\":0,\"ticks\":\"\"}}}],\"scatterpolar\":[{\"type\":\"scatterpolar\",\"marker\":{\"colorbar\":{\"outlinewidth\":0,\"ticks\":\"\"}}}],\"histogram\":[{\"marker\":{\"pattern\":{\"fillmode\":\"overlay\",\"size\":10,\"solidity\":0.2}},\"type\":\"histogram\"}],\"scattergl\":[{\"type\":\"scattergl\",\"marker\":{\"colorbar\":{\"outlinewidth\":0,\"ticks\":\"\"}}}],\"scatter3d\":[{\"type\":\"scatter3d\",\"line\":{\"colorbar\":{\"outlinewidth\":0,\"ticks\":\"\"}},\"marker\":{\"colorbar\":{\"outlinewidth\":0,\"ticks\":\"\"}}}],\"scattermapbox\":[{\"type\":\"scattermapbox\",\"marker\":{\"colorbar\":{\"outlinewidth\":0,\"ticks\":\"\"}}}],\"scatterternary\":[{\"type\":\"scatterternary\",\"marker\":{\"colorbar\":{\"outlinewidth\":0,\"ticks\":\"\"}}}],\"scattercarpet\":[{\"type\":\"scattercarpet\",\"marker\":{\"colorbar\":{\"outlinewidth\":0,\"ticks\":\"\"}}}],\"carpet\":[{\"aaxis\":{\"endlinecolor\":\"#2a3f5f\",\"gridcolor\":\"white\",\"linecolor\":\"white\",\"minorgridcolor\":\"white\",\"startlinecolor\":\"#2a3f5f\"},\"baxis\":{\"endlinecolor\":\"#2a3f5f\",\"gridcolor\":\"white\",\"linecolor\":\"white\",\"minorgridcolor\":\"white\",\"startlinecolor\":\"#2a3f5f\"},\"type\":\"carpet\"}],\"table\":[{\"cells\":{\"fill\":{\"color\":\"#EBF0F8\"},\"line\":{\"color\":\"white\"}},\"header\":{\"fill\":{\"color\":\"#C8D4E3\"},\"line\":{\"color\":\"white\"}},\"type\":\"table\"}],\"barpolar\":[{\"marker\":{\"line\":{\"color\":\"#E5ECF6\",\"width\":0.5},\"pattern\":{\"fillmode\":\"overlay\",\"size\":10,\"solidity\":0.2}},\"type\":\"barpolar\"}],\"pie\":[{\"automargin\":true,\"type\":\"pie\"}]},\"layout\":{\"autotypenumbers\":\"strict\",\"colorway\":[\"#636efa\",\"#EF553B\",\"#00cc96\",\"#ab63fa\",\"#FFA15A\",\"#19d3f3\",\"#FF6692\",\"#B6E880\",\"#FF97FF\",\"#FECB52\"],\"font\":{\"color\":\"#2a3f5f\"},\"hovermode\":\"closest\",\"hoverlabel\":{\"align\":\"left\"},\"paper_bgcolor\":\"white\",\"plot_bgcolor\":\"#E5ECF6\",\"polar\":{\"bgcolor\":\"#E5ECF6\",\"angularaxis\":{\"gridcolor\":\"white\",\"linecolor\":\"white\",\"ticks\":\"\"},\"radialaxis\":{\"gridcolor\":\"white\",\"linecolor\":\"white\",\"ticks\":\"\"}},\"ternary\":{\"bgcolor\":\"#E5ECF6\",\"aaxis\":{\"gridcolor\":\"white\",\"linecolor\":\"white\",\"ticks\":\"\"},\"baxis\":{\"gridcolor\":\"white\",\"linecolor\":\"white\",\"ticks\":\"\"},\"caxis\":{\"gridcolor\":\"white\",\"linecolor\":\"white\",\"ticks\":\"\"}},\"coloraxis\":{\"colorbar\":{\"outlinewidth\":0,\"ticks\":\"\"}},\"colorscale\":{\"sequential\":[[0.0,\"#0d0887\"],[0.1111111111111111,\"#46039f\"],[0.2222222222222222,\"#7201a8\"],[0.3333333333333333,\"#9c179e\"],[0.4444444444444444,\"#bd3786\"],[0.5555555555555556,\"#d8576b\"],[0.6666666666666666,\"#ed7953\"],[0.7777777777777778,\"#fb9f3a\"],[0.8888888888888888,\"#fdca26\"],[1.0,\"#f0f921\"]],\"sequentialminus\":[[0.0,\"#0d0887\"],[0.1111111111111111,\"#46039f\"],[0.2222222222222222,\"#7201a8\"],[0.3333333333333333,\"#9c179e\"],[0.4444444444444444,\"#bd3786\"],[0.5555555555555556,\"#d8576b\"],[0.6666666666666666,\"#ed7953\"],[0.7777777777777778,\"#fb9f3a\"],[0.8888888888888888,\"#fdca26\"],[1.0,\"#f0f921\"]],\"diverging\":[[0,\"#8e0152\"],[0.1,\"#c51b7d\"],[0.2,\"#de77ae\"],[0.3,\"#f1b6da\"],[0.4,\"#fde0ef\"],[0.5,\"#f7f7f7\"],[0.6,\"#e6f5d0\"],[0.7,\"#b8e186\"],[0.8,\"#7fbc41\"],[0.9,\"#4d9221\"],[1,\"#276419\"]]},\"xaxis\":{\"gridcolor\":\"white\",\"linecolor\":\"white\",\"ticks\":\"\",\"title\":{\"standoff\":15},\"zerolinecolor\":\"white\",\"automargin\":true,\"zerolinewidth\":2},\"yaxis\":{\"gridcolor\":\"white\",\"linecolor\":\"white\",\"ticks\":\"\",\"title\":{\"standoff\":15},\"zerolinecolor\":\"white\",\"automargin\":true,\"zerolinewidth\":2},\"scene\":{\"xaxis\":{\"backgroundcolor\":\"#E5ECF6\",\"gridcolor\":\"white\",\"linecolor\":\"white\",\"showbackground\":true,\"ticks\":\"\",\"zerolinecolor\":\"white\",\"gridwidth\":2},\"yaxis\":{\"backgroundcolor\":\"#E5ECF6\",\"gridcolor\":\"white\",\"linecolor\":\"white\",\"showbackground\":true,\"ticks\":\"\",\"zerolinecolor\":\"white\",\"gridwidth\":2},\"zaxis\":{\"backgroundcolor\":\"#E5ECF6\",\"gridcolor\":\"white\",\"linecolor\":\"white\",\"showbackground\":true,\"ticks\":\"\",\"zerolinecolor\":\"white\",\"gridwidth\":2}},\"shapedefaults\":{\"line\":{\"color\":\"#2a3f5f\"}},\"annotationdefaults\":{\"arrowcolor\":\"#2a3f5f\",\"arrowhead\":0,\"arrowwidth\":1},\"geo\":{\"bgcolor\":\"white\",\"landcolor\":\"#E5ECF6\",\"subunitcolor\":\"white\",\"showland\":true,\"showlakes\":true,\"lakecolor\":\"white\"},\"title\":{\"x\":0.05},\"mapbox\":{\"style\":\"light\"}}},\"xaxis\":{\"anchor\":\"y\",\"domain\":[0.0,1.0]},\"yaxis\":{\"anchor\":\"x\",\"domain\":[0.0,1.0],\"title\":{\"text\":\"engine_size\"}},\"legend\":{\"tracegroupgap\":0},\"margin\":{\"t\":60},\"violinmode\":\"group\",\"height\":400,\"width\":600},                        {\"responsive\": true}                    ).then(function(){\n",
       "                            \n",
       "var gd = document.getElementById('6df27350-bbba-49e5-b3bc-2421f0420ccb');\n",
       "var x = new MutationObserver(function (mutations, observer) {{\n",
       "        var display = window.getComputedStyle(gd).display;\n",
       "        if (!display || display === 'none') {{\n",
       "            console.log([gd, 'removed!']);\n",
       "            Plotly.purge(gd);\n",
       "            observer.disconnect();\n",
       "        }}\n",
       "}});\n",
       "\n",
       "// Listen for the removal of the full notebook cells\n",
       "var notebookContainer = gd.closest('#notebook-container');\n",
       "if (notebookContainer) {{\n",
       "    x.observe(notebookContainer, {childList: true});\n",
       "}}\n",
       "\n",
       "// Listen for the clearing of the current output cell\n",
       "var outputEl = gd.closest('.output');\n",
       "if (outputEl) {{\n",
       "    x.observe(outputEl, {childList: true});\n",
       "}}\n",
       "\n",
       "                        })                };                });            </script>        </div>"
      ]
     },
     "metadata": {},
     "output_type": "display_data"
    }
   ],
   "source": [
    "fig_config = {\n",
    "    'data_frame': df,\n",
    "    'y': \"engine_size\",\n",
    "    'width': 600, \n",
    "    'height': 400,\n",
    "    'box': True,\n",
    "    'points':\"all\"\n",
    "}\n",
    "\n",
    "fig = px.violin(**fig_config)\n",
    "fig.show()"
   ]
  },
  {
   "cell_type": "code",
   "execution_count": 200,
   "metadata": {},
   "outputs": [
    {
     "data": {
      "application/vnd.plotly.v1+json": {
       "config": {
        "plotlyServerURL": "https://plot.ly"
       },
       "data": [
        {
         "alignmentgroup": "True",
         "bingroup": "x",
         "hovertemplate": "co2_emissions=%{x}<br>count=%{y}<extra></extra>",
         "legendgroup": "",
         "marker": {
          "color": "#636efa",
          "pattern": {
           "shape": ""
          }
         },
         "name": "",
         "nbinsx": 10,
         "offsetgroup": "",
         "orientation": "v",
         "showlegend": false,
         "type": "histogram",
         "x": [
          196,
          221,
          136,
          255,
          244,
          230,
          232,
          255,
          267,
          212,
          225,
          239,
          359,
          359,
          338,
          354,
          338,
          354,
          359,
          202,
          230,
          214,
          230,
          230,
          214,
          235,
          251,
          224,
          258,
          224,
          258,
          260,
          227,
          258,
          288,
          361,
          230,
          242,
          239,
          258,
          212,
          246,
          304,
          294,
          336,
          407,
          354,
          409,
          336,
          407,
          354,
          409,
          306,
          308,
          290,
          262,
          285,
          262,
          285,
          267,
          281,
          281,
          297,
          292,
          209,
          209,
          237,
          237,
          297,
          356,
          320,
          380,
          322,
          380,
          380,
          437,
          193,
          200,
          202,
          181,
          181,
          193,
          200,
          209,
          209,
          209,
          221,
          230,
          228,
          237,
          232,
          193,
          200,
          209,
          221,
          230,
          228,
          237,
          202,
          209,
          213,
          232,
          246,
          281,
          292,
          232,
          292,
          281,
          292,
          246,
          292,
          292,
          356,
          191,
          214,
          212,
          292,
          292,
          338,
          317,
          338,
          317,
          338,
          317,
          338,
          317,
          209,
          260,
          230,
          253,
          255,
          320,
          370,
          274,
          324,
          209,
          200,
          278,
          253,
          278,
          283,
          290,
          196,
          212,
          264,
          250,
          264,
          264,
          189,
          228,
          225,
          246,
          189,
          228,
          225,
          218,
          221,
          235,
          207,
          251,
          232,
          260,
          258,
          262,
          232,
          248,
          248,
          260,
          294,
          253,
          260,
          255,
          262,
          382,
          340,
          382,
          340,
          382,
          340,
          338,
          322,
          377,
          354,
          283,
          294,
          262,
          271,
          290,
          258,
          269,
          242,
          294,
          292,
          382,
          340,
          276,
          258,
          179,
          179,
          202,
          189,
          192,
          177,
          163,
          209,
          276,
          259,
          230,
          290,
          272,
          347,
          366,
          334,
          380,
          344,
          380,
          344,
          380,
          362,
          380,
          344,
          380,
          362,
          414,
          432,
          411,
          419,
          435,
          413,
          221,
          244,
          229,
          200,
          228,
          184,
          244,
          235,
          271,
          269,
          292,
          270,
          324,
          290,
          285,
          299,
          277,
          329,
          184,
          173,
          191,
          182,
          184,
          172,
          191,
          182,
          191,
          182,
          191,
          182,
          159,
          159,
          317,
          294,
          317,
          294,
          317,
          294,
          317,
          294,
          283,
          290,
          193,
          186,
          207,
          237,
          232,
          246,
          242,
          230,
          225,
          230,
          242,
          230,
          294,
          251,
          308,
          251,
          237,
          237,
          222,
          317,
          276,
          269,
          225,
          230,
          242,
          230,
          258,
          301,
          294,
          320,
          317,
          258,
          237,
          294,
          251,
          308,
          251,
          237,
          258,
          251,
          235,
          222,
          317,
          186,
          198,
          202,
          198,
          195,
          212,
          202,
          168,
          168,
          331,
          278,
          250,
          271,
          264,
          255,
          285,
          276,
          259,
          179,
          179,
          182,
          166,
          179,
          182,
          156,
          179,
          200,
          193,
          138,
          373,
          350,
          396,
          360,
          386,
          368,
          488,
          421,
          382,
          225,
          248,
          264,
          281,
          209,
          221,
          216,
          214,
          230,
          368,
          346,
          235,
          299,
          274,
          254,
          288,
          267,
          292,
          294,
          366,
          317,
          308,
          402,
          283,
          264,
          283,
          264,
          336,
          315,
          336,
          315,
          308,
          288,
          308,
          288,
          343,
          320,
          340,
          318,
          414,
          175,
          175,
          152,
          161,
          184,
          264,
          278,
          294,
          205,
          177,
          165,
          179,
          165,
          184,
          170,
          166,
          162,
          196,
          186,
          207,
          205,
          186,
          216,
          126,
          235,
          244,
          264,
          292,
          304,
          244,
          209,
          271,
          237,
          229,
          258,
          251,
          218,
          228,
          232,
          239,
          283,
          297,
          347,
          366,
          334,
          380,
          344,
          380,
          344,
          380,
          362,
          380,
          344,
          380,
          362,
          414,
          432,
          411,
          419,
          435,
          413,
          271,
          269,
          292,
          270,
          324,
          290,
          285,
          299,
          277,
          329,
          209,
          276,
          259,
          230,
          290,
          272,
          317,
          294,
          317,
          294,
          338,
          322,
          377,
          354,
          317,
          294,
          317,
          294,
          182,
          186,
          200,
          209,
          221,
          251,
          110,
          161,
          166,
          175,
          246,
          209,
          216,
          145,
          159,
          172,
          177,
          244,
          265,
          276,
          308,
          177,
          177,
          198,
          196,
          304,
          255,
          258,
          267,
          237,
          264,
          255,
          221,
          196,
          143,
          145,
          214,
          232,
          230,
          242,
          244,
          177,
          184,
          202,
          196,
          235,
          248,
          172,
          189,
          265,
          269,
          283,
          255,
          267,
          253,
          283,
          267,
          294,
          175,
          271,
          244,
          253,
          196,
          294,
          334,
          345,
          237,
          244,
          294,
          242,
          281,
          306,
          290,
          306,
          285,
          306,
          280,
          285,
          306,
          280,
          306,
          306,
          301,
          290,
          315,
          310,
          315,
          310,
          218,
          242,
          230,
          248,
          232,
          253,
          251,
          267,
          225,
          209,
          225,
          216,
          235,
          216,
          255,
          340,
          267,
          278,
          250,
          363,
          225,
          209,
          225,
          216,
          235,
          216,
          255,
          294,
          294,
          308,
          308,
          251,
          191,
          184,
          193,
          193,
          223,
          225,
          193,
          196,
          216,
          221,
          193,
          198,
          228,
          200,
          175,
          177,
          175,
          212,
          214,
          276,
          237,
          262,
          253,
          271,
          205,
          207,
          209,
          202,
          230,
          260,
          262,
          246,
          421,
          361,
          400,
          274,
          334,
          225,
          225,
          354,
          347,
          342,
          285,
          285,
          278,
          345,
          338,
          331,
          283,
          283,
          277,
          354,
          347,
          342,
          129,
          138,
          221,
          239,
          253,
          175,
          320,
          223,
          239,
          223,
          244,
          253,
          244,
          290,
          283,
          297,
          297,
          262,
          380,
          269,
          255,
          189,
          271,
          260,
          294,
          235,
          281,
          281,
          207,
          262,
          145,
          368,
          346,
          292,
          292,
          347,
          352,
          334,
          301,
          189,
          184,
          198,
          196,
          205,
          283,
          290,
          177,
          170,
          159,
          161,
          170,
          168,
          161,
          163,
          166,
          177,
          168,
          166,
          223,
          225,
          175,
          186,
          168,
          235,
          221,
          228,
          184,
          216,
          216,
          242,
          224,
          242,
          239,
          244,
          242,
          347,
          352,
          304,
          308,
          179,
          212,
          264,
          301,
          301,
          194,
          235,
          230,
          239,
          242,
          239,
          235,
          202,
          267,
          269,
          262,
          297,
          310,
          297,
          310,
          419,
          407,
          324,
          350,
          359,
          363,
          230,
          260,
          278,
          256,
          278,
          327,
          356,
          278,
          276,
          304,
          269,
          292,
          327,
          205,
          207,
          225,
          246,
          380,
          361,
          361,
          179,
          179,
          179,
          179,
          200,
          179,
          175,
          168,
          200,
          179,
          179,
          179,
          191,
          184,
          191,
          184,
          207,
          196,
          191,
          184,
          207,
          196,
          191,
          184,
          191,
          184,
          191,
          184,
          207,
          196,
          191,
          184,
          207,
          196,
          191,
          184,
          189,
          191,
          218,
          288,
          283,
          267,
          198,
          198,
          138,
          147,
          198,
          209,
          235,
          200,
          202,
          207,
          253,
          264,
          262,
          269,
          175,
          214,
          380,
          283,
          260,
          292,
          315,
          301,
          297,
          186,
          198,
          200,
          251,
          271,
          214,
          244,
          253,
          202,
          255,
          191,
          198,
          161,
          179,
          359,
          398,
          152,
          177,
          327,
          315,
          232,
          246,
          237,
          246,
          242,
          253,
          248,
          253,
          253,
          258,
          232,
          246,
          244,
          248,
          246,
          251,
          322,
          274,
          274,
          274,
          274,
          212,
          228,
          225,
          239,
          276,
          313,
          281,
          320,
          299,
          251,
          315,
          212,
          228,
          225,
          239,
          251,
          255,
          260,
          264,
          292,
          260,
          294,
          297,
          340,
          313,
          354,
          324,
          286,
          290,
          285,
          275,
          274,
          269,
          260,
          262,
          254,
          368,
          368,
          393,
          393,
          393,
          393,
          359,
          193,
          218,
          143,
          207,
          207,
          228,
          228,
          184,
          182,
          147,
          147,
          389,
          389,
          196,
          221,
          218,
          198,
          223,
          179,
          196,
          258,
          288,
          179,
          196,
          258,
          288,
          198,
          228,
          267,
          207,
          225,
          269,
          301,
          196,
          212,
          177,
          297,
          297,
          221,
          189,
          221,
          131,
          138,
          177,
          168,
          163,
          170,
          156,
          159,
          196,
          189,
          297,
          320,
          237,
          258,
          264,
          191,
          189,
          110,
          108,
          126,
          205,
          216,
          218,
          384,
          260,
          285,
          251,
          235,
          301,
          274,
          271,
          306,
          322,
          310,
          329,
          356,
          347,
          373,
          230,
          253,
          235,
          260,
          168,
          163,
          196,
          200,
          209,
          216,
          225,
          221,
          200,
          214,
          216,
          232,
          197,
          197,
          223,
          225,
          283,
          221,
          218,
          216,
          194,
          186,
          189,
          189,
          216,
          207,
          207,
          212,
          186,
          186,
          124,
          198,
          198,
          223,
          225,
          248,
          192,
          184,
          278,
          246,
          267,
          246,
          281,
          281,
          223,
          232,
          264,
          235,
          264,
          258,
          271,
          264,
          271,
          260,
          294
         ],
         "xaxis": "x",
         "yaxis": "y"
        }
       ],
       "layout": {
        "barmode": "relative",
        "height": 400,
        "legend": {
         "tracegroupgap": 0
        },
        "margin": {
         "t": 60
        },
        "template": {
         "data": {
          "bar": [
           {
            "error_x": {
             "color": "#2a3f5f"
            },
            "error_y": {
             "color": "#2a3f5f"
            },
            "marker": {
             "line": {
              "color": "#E5ECF6",
              "width": 0.5
             },
             "pattern": {
              "fillmode": "overlay",
              "size": 10,
              "solidity": 0.2
             }
            },
            "type": "bar"
           }
          ],
          "barpolar": [
           {
            "marker": {
             "line": {
              "color": "#E5ECF6",
              "width": 0.5
             },
             "pattern": {
              "fillmode": "overlay",
              "size": 10,
              "solidity": 0.2
             }
            },
            "type": "barpolar"
           }
          ],
          "carpet": [
           {
            "aaxis": {
             "endlinecolor": "#2a3f5f",
             "gridcolor": "white",
             "linecolor": "white",
             "minorgridcolor": "white",
             "startlinecolor": "#2a3f5f"
            },
            "baxis": {
             "endlinecolor": "#2a3f5f",
             "gridcolor": "white",
             "linecolor": "white",
             "minorgridcolor": "white",
             "startlinecolor": "#2a3f5f"
            },
            "type": "carpet"
           }
          ],
          "choropleth": [
           {
            "colorbar": {
             "outlinewidth": 0,
             "ticks": ""
            },
            "type": "choropleth"
           }
          ],
          "contour": [
           {
            "colorbar": {
             "outlinewidth": 0,
             "ticks": ""
            },
            "colorscale": [
             [
              0,
              "#0d0887"
             ],
             [
              0.1111111111111111,
              "#46039f"
             ],
             [
              0.2222222222222222,
              "#7201a8"
             ],
             [
              0.3333333333333333,
              "#9c179e"
             ],
             [
              0.4444444444444444,
              "#bd3786"
             ],
             [
              0.5555555555555556,
              "#d8576b"
             ],
             [
              0.6666666666666666,
              "#ed7953"
             ],
             [
              0.7777777777777778,
              "#fb9f3a"
             ],
             [
              0.8888888888888888,
              "#fdca26"
             ],
             [
              1,
              "#f0f921"
             ]
            ],
            "type": "contour"
           }
          ],
          "contourcarpet": [
           {
            "colorbar": {
             "outlinewidth": 0,
             "ticks": ""
            },
            "type": "contourcarpet"
           }
          ],
          "heatmap": [
           {
            "colorbar": {
             "outlinewidth": 0,
             "ticks": ""
            },
            "colorscale": [
             [
              0,
              "#0d0887"
             ],
             [
              0.1111111111111111,
              "#46039f"
             ],
             [
              0.2222222222222222,
              "#7201a8"
             ],
             [
              0.3333333333333333,
              "#9c179e"
             ],
             [
              0.4444444444444444,
              "#bd3786"
             ],
             [
              0.5555555555555556,
              "#d8576b"
             ],
             [
              0.6666666666666666,
              "#ed7953"
             ],
             [
              0.7777777777777778,
              "#fb9f3a"
             ],
             [
              0.8888888888888888,
              "#fdca26"
             ],
             [
              1,
              "#f0f921"
             ]
            ],
            "type": "heatmap"
           }
          ],
          "heatmapgl": [
           {
            "colorbar": {
             "outlinewidth": 0,
             "ticks": ""
            },
            "colorscale": [
             [
              0,
              "#0d0887"
             ],
             [
              0.1111111111111111,
              "#46039f"
             ],
             [
              0.2222222222222222,
              "#7201a8"
             ],
             [
              0.3333333333333333,
              "#9c179e"
             ],
             [
              0.4444444444444444,
              "#bd3786"
             ],
             [
              0.5555555555555556,
              "#d8576b"
             ],
             [
              0.6666666666666666,
              "#ed7953"
             ],
             [
              0.7777777777777778,
              "#fb9f3a"
             ],
             [
              0.8888888888888888,
              "#fdca26"
             ],
             [
              1,
              "#f0f921"
             ]
            ],
            "type": "heatmapgl"
           }
          ],
          "histogram": [
           {
            "marker": {
             "pattern": {
              "fillmode": "overlay",
              "size": 10,
              "solidity": 0.2
             }
            },
            "type": "histogram"
           }
          ],
          "histogram2d": [
           {
            "colorbar": {
             "outlinewidth": 0,
             "ticks": ""
            },
            "colorscale": [
             [
              0,
              "#0d0887"
             ],
             [
              0.1111111111111111,
              "#46039f"
             ],
             [
              0.2222222222222222,
              "#7201a8"
             ],
             [
              0.3333333333333333,
              "#9c179e"
             ],
             [
              0.4444444444444444,
              "#bd3786"
             ],
             [
              0.5555555555555556,
              "#d8576b"
             ],
             [
              0.6666666666666666,
              "#ed7953"
             ],
             [
              0.7777777777777778,
              "#fb9f3a"
             ],
             [
              0.8888888888888888,
              "#fdca26"
             ],
             [
              1,
              "#f0f921"
             ]
            ],
            "type": "histogram2d"
           }
          ],
          "histogram2dcontour": [
           {
            "colorbar": {
             "outlinewidth": 0,
             "ticks": ""
            },
            "colorscale": [
             [
              0,
              "#0d0887"
             ],
             [
              0.1111111111111111,
              "#46039f"
             ],
             [
              0.2222222222222222,
              "#7201a8"
             ],
             [
              0.3333333333333333,
              "#9c179e"
             ],
             [
              0.4444444444444444,
              "#bd3786"
             ],
             [
              0.5555555555555556,
              "#d8576b"
             ],
             [
              0.6666666666666666,
              "#ed7953"
             ],
             [
              0.7777777777777778,
              "#fb9f3a"
             ],
             [
              0.8888888888888888,
              "#fdca26"
             ],
             [
              1,
              "#f0f921"
             ]
            ],
            "type": "histogram2dcontour"
           }
          ],
          "mesh3d": [
           {
            "colorbar": {
             "outlinewidth": 0,
             "ticks": ""
            },
            "type": "mesh3d"
           }
          ],
          "parcoords": [
           {
            "line": {
             "colorbar": {
              "outlinewidth": 0,
              "ticks": ""
             }
            },
            "type": "parcoords"
           }
          ],
          "pie": [
           {
            "automargin": true,
            "type": "pie"
           }
          ],
          "scatter": [
           {
            "fillpattern": {
             "fillmode": "overlay",
             "size": 10,
             "solidity": 0.2
            },
            "type": "scatter"
           }
          ],
          "scatter3d": [
           {
            "line": {
             "colorbar": {
              "outlinewidth": 0,
              "ticks": ""
             }
            },
            "marker": {
             "colorbar": {
              "outlinewidth": 0,
              "ticks": ""
             }
            },
            "type": "scatter3d"
           }
          ],
          "scattercarpet": [
           {
            "marker": {
             "colorbar": {
              "outlinewidth": 0,
              "ticks": ""
             }
            },
            "type": "scattercarpet"
           }
          ],
          "scattergeo": [
           {
            "marker": {
             "colorbar": {
              "outlinewidth": 0,
              "ticks": ""
             }
            },
            "type": "scattergeo"
           }
          ],
          "scattergl": [
           {
            "marker": {
             "colorbar": {
              "outlinewidth": 0,
              "ticks": ""
             }
            },
            "type": "scattergl"
           }
          ],
          "scattermapbox": [
           {
            "marker": {
             "colorbar": {
              "outlinewidth": 0,
              "ticks": ""
             }
            },
            "type": "scattermapbox"
           }
          ],
          "scatterpolar": [
           {
            "marker": {
             "colorbar": {
              "outlinewidth": 0,
              "ticks": ""
             }
            },
            "type": "scatterpolar"
           }
          ],
          "scatterpolargl": [
           {
            "marker": {
             "colorbar": {
              "outlinewidth": 0,
              "ticks": ""
             }
            },
            "type": "scatterpolargl"
           }
          ],
          "scatterternary": [
           {
            "marker": {
             "colorbar": {
              "outlinewidth": 0,
              "ticks": ""
             }
            },
            "type": "scatterternary"
           }
          ],
          "surface": [
           {
            "colorbar": {
             "outlinewidth": 0,
             "ticks": ""
            },
            "colorscale": [
             [
              0,
              "#0d0887"
             ],
             [
              0.1111111111111111,
              "#46039f"
             ],
             [
              0.2222222222222222,
              "#7201a8"
             ],
             [
              0.3333333333333333,
              "#9c179e"
             ],
             [
              0.4444444444444444,
              "#bd3786"
             ],
             [
              0.5555555555555556,
              "#d8576b"
             ],
             [
              0.6666666666666666,
              "#ed7953"
             ],
             [
              0.7777777777777778,
              "#fb9f3a"
             ],
             [
              0.8888888888888888,
              "#fdca26"
             ],
             [
              1,
              "#f0f921"
             ]
            ],
            "type": "surface"
           }
          ],
          "table": [
           {
            "cells": {
             "fill": {
              "color": "#EBF0F8"
             },
             "line": {
              "color": "white"
             }
            },
            "header": {
             "fill": {
              "color": "#C8D4E3"
             },
             "line": {
              "color": "white"
             }
            },
            "type": "table"
           }
          ]
         },
         "layout": {
          "annotationdefaults": {
           "arrowcolor": "#2a3f5f",
           "arrowhead": 0,
           "arrowwidth": 1
          },
          "autotypenumbers": "strict",
          "coloraxis": {
           "colorbar": {
            "outlinewidth": 0,
            "ticks": ""
           }
          },
          "colorscale": {
           "diverging": [
            [
             0,
             "#8e0152"
            ],
            [
             0.1,
             "#c51b7d"
            ],
            [
             0.2,
             "#de77ae"
            ],
            [
             0.3,
             "#f1b6da"
            ],
            [
             0.4,
             "#fde0ef"
            ],
            [
             0.5,
             "#f7f7f7"
            ],
            [
             0.6,
             "#e6f5d0"
            ],
            [
             0.7,
             "#b8e186"
            ],
            [
             0.8,
             "#7fbc41"
            ],
            [
             0.9,
             "#4d9221"
            ],
            [
             1,
             "#276419"
            ]
           ],
           "sequential": [
            [
             0,
             "#0d0887"
            ],
            [
             0.1111111111111111,
             "#46039f"
            ],
            [
             0.2222222222222222,
             "#7201a8"
            ],
            [
             0.3333333333333333,
             "#9c179e"
            ],
            [
             0.4444444444444444,
             "#bd3786"
            ],
            [
             0.5555555555555556,
             "#d8576b"
            ],
            [
             0.6666666666666666,
             "#ed7953"
            ],
            [
             0.7777777777777778,
             "#fb9f3a"
            ],
            [
             0.8888888888888888,
             "#fdca26"
            ],
            [
             1,
             "#f0f921"
            ]
           ],
           "sequentialminus": [
            [
             0,
             "#0d0887"
            ],
            [
             0.1111111111111111,
             "#46039f"
            ],
            [
             0.2222222222222222,
             "#7201a8"
            ],
            [
             0.3333333333333333,
             "#9c179e"
            ],
            [
             0.4444444444444444,
             "#bd3786"
            ],
            [
             0.5555555555555556,
             "#d8576b"
            ],
            [
             0.6666666666666666,
             "#ed7953"
            ],
            [
             0.7777777777777778,
             "#fb9f3a"
            ],
            [
             0.8888888888888888,
             "#fdca26"
            ],
            [
             1,
             "#f0f921"
            ]
           ]
          },
          "colorway": [
           "#636efa",
           "#EF553B",
           "#00cc96",
           "#ab63fa",
           "#FFA15A",
           "#19d3f3",
           "#FF6692",
           "#B6E880",
           "#FF97FF",
           "#FECB52"
          ],
          "font": {
           "color": "#2a3f5f"
          },
          "geo": {
           "bgcolor": "white",
           "lakecolor": "white",
           "landcolor": "#E5ECF6",
           "showlakes": true,
           "showland": true,
           "subunitcolor": "white"
          },
          "hoverlabel": {
           "align": "left"
          },
          "hovermode": "closest",
          "mapbox": {
           "style": "light"
          },
          "paper_bgcolor": "white",
          "plot_bgcolor": "#E5ECF6",
          "polar": {
           "angularaxis": {
            "gridcolor": "white",
            "linecolor": "white",
            "ticks": ""
           },
           "bgcolor": "#E5ECF6",
           "radialaxis": {
            "gridcolor": "white",
            "linecolor": "white",
            "ticks": ""
           }
          },
          "scene": {
           "xaxis": {
            "backgroundcolor": "#E5ECF6",
            "gridcolor": "white",
            "gridwidth": 2,
            "linecolor": "white",
            "showbackground": true,
            "ticks": "",
            "zerolinecolor": "white"
           },
           "yaxis": {
            "backgroundcolor": "#E5ECF6",
            "gridcolor": "white",
            "gridwidth": 2,
            "linecolor": "white",
            "showbackground": true,
            "ticks": "",
            "zerolinecolor": "white"
           },
           "zaxis": {
            "backgroundcolor": "#E5ECF6",
            "gridcolor": "white",
            "gridwidth": 2,
            "linecolor": "white",
            "showbackground": true,
            "ticks": "",
            "zerolinecolor": "white"
           }
          },
          "shapedefaults": {
           "line": {
            "color": "#2a3f5f"
           }
          },
          "ternary": {
           "aaxis": {
            "gridcolor": "white",
            "linecolor": "white",
            "ticks": ""
           },
           "baxis": {
            "gridcolor": "white",
            "linecolor": "white",
            "ticks": ""
           },
           "bgcolor": "#E5ECF6",
           "caxis": {
            "gridcolor": "white",
            "linecolor": "white",
            "ticks": ""
           }
          },
          "title": {
           "x": 0.05
          },
          "xaxis": {
           "automargin": true,
           "gridcolor": "white",
           "linecolor": "white",
           "ticks": "",
           "title": {
            "standoff": 15
           },
           "zerolinecolor": "white",
           "zerolinewidth": 2
          },
          "yaxis": {
           "automargin": true,
           "gridcolor": "white",
           "linecolor": "white",
           "ticks": "",
           "title": {
            "standoff": 15
           },
           "zerolinecolor": "white",
           "zerolinewidth": 2
          }
         }
        },
        "title": {
         "text": "CO2 Emissions"
        },
        "width": 600,
        "xaxis": {
         "anchor": "y",
         "domain": [
          0,
          1
         ],
         "title": {
          "text": "CO2 Emissions"
         }
        },
        "yaxis": {
         "anchor": "x",
         "domain": [
          0,
          1
         ],
         "title": {
          "text": "Count"
         }
        }
       }
      },
      "text/html": [
       "<div>                            <div id=\"380800a1-5978-4ab9-9b4f-4446d6288eb9\" class=\"plotly-graph-div\" style=\"height:400px; width:600px;\"></div>            <script type=\"text/javascript\">                require([\"plotly\"], function(Plotly) {                    window.PLOTLYENV=window.PLOTLYENV || {};                                    if (document.getElementById(\"380800a1-5978-4ab9-9b4f-4446d6288eb9\")) {                    Plotly.newPlot(                        \"380800a1-5978-4ab9-9b4f-4446d6288eb9\",                        [{\"alignmentgroup\":\"True\",\"bingroup\":\"x\",\"hovertemplate\":\"co2_emissions=%{x}<br>count=%{y}<extra></extra>\",\"legendgroup\":\"\",\"marker\":{\"color\":\"#636efa\",\"pattern\":{\"shape\":\"\"}},\"name\":\"\",\"nbinsx\":10,\"offsetgroup\":\"\",\"orientation\":\"v\",\"showlegend\":false,\"x\":[196,221,136,255,244,230,232,255,267,212,225,239,359,359,338,354,338,354,359,202,230,214,230,230,214,235,251,224,258,224,258,260,227,258,288,361,230,242,239,258,212,246,304,294,336,407,354,409,336,407,354,409,306,308,290,262,285,262,285,267,281,281,297,292,209,209,237,237,297,356,320,380,322,380,380,437,193,200,202,181,181,193,200,209,209,209,221,230,228,237,232,193,200,209,221,230,228,237,202,209,213,232,246,281,292,232,292,281,292,246,292,292,356,191,214,212,292,292,338,317,338,317,338,317,338,317,209,260,230,253,255,320,370,274,324,209,200,278,253,278,283,290,196,212,264,250,264,264,189,228,225,246,189,228,225,218,221,235,207,251,232,260,258,262,232,248,248,260,294,253,260,255,262,382,340,382,340,382,340,338,322,377,354,283,294,262,271,290,258,269,242,294,292,382,340,276,258,179,179,202,189,192,177,163,209,276,259,230,290,272,347,366,334,380,344,380,344,380,362,380,344,380,362,414,432,411,419,435,413,221,244,229,200,228,184,244,235,271,269,292,270,324,290,285,299,277,329,184,173,191,182,184,172,191,182,191,182,191,182,159,159,317,294,317,294,317,294,317,294,283,290,193,186,207,237,232,246,242,230,225,230,242,230,294,251,308,251,237,237,222,317,276,269,225,230,242,230,258,301,294,320,317,258,237,294,251,308,251,237,258,251,235,222,317,186,198,202,198,195,212,202,168,168,331,278,250,271,264,255,285,276,259,179,179,182,166,179,182,156,179,200,193,138,373,350,396,360,386,368,488,421,382,225,248,264,281,209,221,216,214,230,368,346,235,299,274,254,288,267,292,294,366,317,308,402,283,264,283,264,336,315,336,315,308,288,308,288,343,320,340,318,414,175,175,152,161,184,264,278,294,205,177,165,179,165,184,170,166,162,196,186,207,205,186,216,126,235,244,264,292,304,244,209,271,237,229,258,251,218,228,232,239,283,297,347,366,334,380,344,380,344,380,362,380,344,380,362,414,432,411,419,435,413,271,269,292,270,324,290,285,299,277,329,209,276,259,230,290,272,317,294,317,294,338,322,377,354,317,294,317,294,182,186,200,209,221,251,110,161,166,175,246,209,216,145,159,172,177,244,265,276,308,177,177,198,196,304,255,258,267,237,264,255,221,196,143,145,214,232,230,242,244,177,184,202,196,235,248,172,189,265,269,283,255,267,253,283,267,294,175,271,244,253,196,294,334,345,237,244,294,242,281,306,290,306,285,306,280,285,306,280,306,306,301,290,315,310,315,310,218,242,230,248,232,253,251,267,225,209,225,216,235,216,255,340,267,278,250,363,225,209,225,216,235,216,255,294,294,308,308,251,191,184,193,193,223,225,193,196,216,221,193,198,228,200,175,177,175,212,214,276,237,262,253,271,205,207,209,202,230,260,262,246,421,361,400,274,334,225,225,354,347,342,285,285,278,345,338,331,283,283,277,354,347,342,129,138,221,239,253,175,320,223,239,223,244,253,244,290,283,297,297,262,380,269,255,189,271,260,294,235,281,281,207,262,145,368,346,292,292,347,352,334,301,189,184,198,196,205,283,290,177,170,159,161,170,168,161,163,166,177,168,166,223,225,175,186,168,235,221,228,184,216,216,242,224,242,239,244,242,347,352,304,308,179,212,264,301,301,194,235,230,239,242,239,235,202,267,269,262,297,310,297,310,419,407,324,350,359,363,230,260,278,256,278,327,356,278,276,304,269,292,327,205,207,225,246,380,361,361,179,179,179,179,200,179,175,168,200,179,179,179,191,184,191,184,207,196,191,184,207,196,191,184,191,184,191,184,207,196,191,184,207,196,191,184,189,191,218,288,283,267,198,198,138,147,198,209,235,200,202,207,253,264,262,269,175,214,380,283,260,292,315,301,297,186,198,200,251,271,214,244,253,202,255,191,198,161,179,359,398,152,177,327,315,232,246,237,246,242,253,248,253,253,258,232,246,244,248,246,251,322,274,274,274,274,212,228,225,239,276,313,281,320,299,251,315,212,228,225,239,251,255,260,264,292,260,294,297,340,313,354,324,286,290,285,275,274,269,260,262,254,368,368,393,393,393,393,359,193,218,143,207,207,228,228,184,182,147,147,389,389,196,221,218,198,223,179,196,258,288,179,196,258,288,198,228,267,207,225,269,301,196,212,177,297,297,221,189,221,131,138,177,168,163,170,156,159,196,189,297,320,237,258,264,191,189,110,108,126,205,216,218,384,260,285,251,235,301,274,271,306,322,310,329,356,347,373,230,253,235,260,168,163,196,200,209,216,225,221,200,214,216,232,197,197,223,225,283,221,218,216,194,186,189,189,216,207,207,212,186,186,124,198,198,223,225,248,192,184,278,246,267,246,281,281,223,232,264,235,264,258,271,264,271,260,294],\"xaxis\":\"x\",\"yaxis\":\"y\",\"type\":\"histogram\"}],                        {\"template\":{\"data\":{\"histogram2dcontour\":[{\"type\":\"histogram2dcontour\",\"colorbar\":{\"outlinewidth\":0,\"ticks\":\"\"},\"colorscale\":[[0.0,\"#0d0887\"],[0.1111111111111111,\"#46039f\"],[0.2222222222222222,\"#7201a8\"],[0.3333333333333333,\"#9c179e\"],[0.4444444444444444,\"#bd3786\"],[0.5555555555555556,\"#d8576b\"],[0.6666666666666666,\"#ed7953\"],[0.7777777777777778,\"#fb9f3a\"],[0.8888888888888888,\"#fdca26\"],[1.0,\"#f0f921\"]]}],\"choropleth\":[{\"type\":\"choropleth\",\"colorbar\":{\"outlinewidth\":0,\"ticks\":\"\"}}],\"histogram2d\":[{\"type\":\"histogram2d\",\"colorbar\":{\"outlinewidth\":0,\"ticks\":\"\"},\"colorscale\":[[0.0,\"#0d0887\"],[0.1111111111111111,\"#46039f\"],[0.2222222222222222,\"#7201a8\"],[0.3333333333333333,\"#9c179e\"],[0.4444444444444444,\"#bd3786\"],[0.5555555555555556,\"#d8576b\"],[0.6666666666666666,\"#ed7953\"],[0.7777777777777778,\"#fb9f3a\"],[0.8888888888888888,\"#fdca26\"],[1.0,\"#f0f921\"]]}],\"heatmap\":[{\"type\":\"heatmap\",\"colorbar\":{\"outlinewidth\":0,\"ticks\":\"\"},\"colorscale\":[[0.0,\"#0d0887\"],[0.1111111111111111,\"#46039f\"],[0.2222222222222222,\"#7201a8\"],[0.3333333333333333,\"#9c179e\"],[0.4444444444444444,\"#bd3786\"],[0.5555555555555556,\"#d8576b\"],[0.6666666666666666,\"#ed7953\"],[0.7777777777777778,\"#fb9f3a\"],[0.8888888888888888,\"#fdca26\"],[1.0,\"#f0f921\"]]}],\"heatmapgl\":[{\"type\":\"heatmapgl\",\"colorbar\":{\"outlinewidth\":0,\"ticks\":\"\"},\"colorscale\":[[0.0,\"#0d0887\"],[0.1111111111111111,\"#46039f\"],[0.2222222222222222,\"#7201a8\"],[0.3333333333333333,\"#9c179e\"],[0.4444444444444444,\"#bd3786\"],[0.5555555555555556,\"#d8576b\"],[0.6666666666666666,\"#ed7953\"],[0.7777777777777778,\"#fb9f3a\"],[0.8888888888888888,\"#fdca26\"],[1.0,\"#f0f921\"]]}],\"contourcarpet\":[{\"type\":\"contourcarpet\",\"colorbar\":{\"outlinewidth\":0,\"ticks\":\"\"}}],\"contour\":[{\"type\":\"contour\",\"colorbar\":{\"outlinewidth\":0,\"ticks\":\"\"},\"colorscale\":[[0.0,\"#0d0887\"],[0.1111111111111111,\"#46039f\"],[0.2222222222222222,\"#7201a8\"],[0.3333333333333333,\"#9c179e\"],[0.4444444444444444,\"#bd3786\"],[0.5555555555555556,\"#d8576b\"],[0.6666666666666666,\"#ed7953\"],[0.7777777777777778,\"#fb9f3a\"],[0.8888888888888888,\"#fdca26\"],[1.0,\"#f0f921\"]]}],\"surface\":[{\"type\":\"surface\",\"colorbar\":{\"outlinewidth\":0,\"ticks\":\"\"},\"colorscale\":[[0.0,\"#0d0887\"],[0.1111111111111111,\"#46039f\"],[0.2222222222222222,\"#7201a8\"],[0.3333333333333333,\"#9c179e\"],[0.4444444444444444,\"#bd3786\"],[0.5555555555555556,\"#d8576b\"],[0.6666666666666666,\"#ed7953\"],[0.7777777777777778,\"#fb9f3a\"],[0.8888888888888888,\"#fdca26\"],[1.0,\"#f0f921\"]]}],\"mesh3d\":[{\"type\":\"mesh3d\",\"colorbar\":{\"outlinewidth\":0,\"ticks\":\"\"}}],\"scatter\":[{\"fillpattern\":{\"fillmode\":\"overlay\",\"size\":10,\"solidity\":0.2},\"type\":\"scatter\"}],\"parcoords\":[{\"type\":\"parcoords\",\"line\":{\"colorbar\":{\"outlinewidth\":0,\"ticks\":\"\"}}}],\"scatterpolargl\":[{\"type\":\"scatterpolargl\",\"marker\":{\"colorbar\":{\"outlinewidth\":0,\"ticks\":\"\"}}}],\"bar\":[{\"error_x\":{\"color\":\"#2a3f5f\"},\"error_y\":{\"color\":\"#2a3f5f\"},\"marker\":{\"line\":{\"color\":\"#E5ECF6\",\"width\":0.5},\"pattern\":{\"fillmode\":\"overlay\",\"size\":10,\"solidity\":0.2}},\"type\":\"bar\"}],\"scattergeo\":[{\"type\":\"scattergeo\",\"marker\":{\"colorbar\":{\"outlinewidth\":0,\"ticks\":\"\"}}}],\"scatterpolar\":[{\"type\":\"scatterpolar\",\"marker\":{\"colorbar\":{\"outlinewidth\":0,\"ticks\":\"\"}}}],\"histogram\":[{\"marker\":{\"pattern\":{\"fillmode\":\"overlay\",\"size\":10,\"solidity\":0.2}},\"type\":\"histogram\"}],\"scattergl\":[{\"type\":\"scattergl\",\"marker\":{\"colorbar\":{\"outlinewidth\":0,\"ticks\":\"\"}}}],\"scatter3d\":[{\"type\":\"scatter3d\",\"line\":{\"colorbar\":{\"outlinewidth\":0,\"ticks\":\"\"}},\"marker\":{\"colorbar\":{\"outlinewidth\":0,\"ticks\":\"\"}}}],\"scattermapbox\":[{\"type\":\"scattermapbox\",\"marker\":{\"colorbar\":{\"outlinewidth\":0,\"ticks\":\"\"}}}],\"scatterternary\":[{\"type\":\"scatterternary\",\"marker\":{\"colorbar\":{\"outlinewidth\":0,\"ticks\":\"\"}}}],\"scattercarpet\":[{\"type\":\"scattercarpet\",\"marker\":{\"colorbar\":{\"outlinewidth\":0,\"ticks\":\"\"}}}],\"carpet\":[{\"aaxis\":{\"endlinecolor\":\"#2a3f5f\",\"gridcolor\":\"white\",\"linecolor\":\"white\",\"minorgridcolor\":\"white\",\"startlinecolor\":\"#2a3f5f\"},\"baxis\":{\"endlinecolor\":\"#2a3f5f\",\"gridcolor\":\"white\",\"linecolor\":\"white\",\"minorgridcolor\":\"white\",\"startlinecolor\":\"#2a3f5f\"},\"type\":\"carpet\"}],\"table\":[{\"cells\":{\"fill\":{\"color\":\"#EBF0F8\"},\"line\":{\"color\":\"white\"}},\"header\":{\"fill\":{\"color\":\"#C8D4E3\"},\"line\":{\"color\":\"white\"}},\"type\":\"table\"}],\"barpolar\":[{\"marker\":{\"line\":{\"color\":\"#E5ECF6\",\"width\":0.5},\"pattern\":{\"fillmode\":\"overlay\",\"size\":10,\"solidity\":0.2}},\"type\":\"barpolar\"}],\"pie\":[{\"automargin\":true,\"type\":\"pie\"}]},\"layout\":{\"autotypenumbers\":\"strict\",\"colorway\":[\"#636efa\",\"#EF553B\",\"#00cc96\",\"#ab63fa\",\"#FFA15A\",\"#19d3f3\",\"#FF6692\",\"#B6E880\",\"#FF97FF\",\"#FECB52\"],\"font\":{\"color\":\"#2a3f5f\"},\"hovermode\":\"closest\",\"hoverlabel\":{\"align\":\"left\"},\"paper_bgcolor\":\"white\",\"plot_bgcolor\":\"#E5ECF6\",\"polar\":{\"bgcolor\":\"#E5ECF6\",\"angularaxis\":{\"gridcolor\":\"white\",\"linecolor\":\"white\",\"ticks\":\"\"},\"radialaxis\":{\"gridcolor\":\"white\",\"linecolor\":\"white\",\"ticks\":\"\"}},\"ternary\":{\"bgcolor\":\"#E5ECF6\",\"aaxis\":{\"gridcolor\":\"white\",\"linecolor\":\"white\",\"ticks\":\"\"},\"baxis\":{\"gridcolor\":\"white\",\"linecolor\":\"white\",\"ticks\":\"\"},\"caxis\":{\"gridcolor\":\"white\",\"linecolor\":\"white\",\"ticks\":\"\"}},\"coloraxis\":{\"colorbar\":{\"outlinewidth\":0,\"ticks\":\"\"}},\"colorscale\":{\"sequential\":[[0.0,\"#0d0887\"],[0.1111111111111111,\"#46039f\"],[0.2222222222222222,\"#7201a8\"],[0.3333333333333333,\"#9c179e\"],[0.4444444444444444,\"#bd3786\"],[0.5555555555555556,\"#d8576b\"],[0.6666666666666666,\"#ed7953\"],[0.7777777777777778,\"#fb9f3a\"],[0.8888888888888888,\"#fdca26\"],[1.0,\"#f0f921\"]],\"sequentialminus\":[[0.0,\"#0d0887\"],[0.1111111111111111,\"#46039f\"],[0.2222222222222222,\"#7201a8\"],[0.3333333333333333,\"#9c179e\"],[0.4444444444444444,\"#bd3786\"],[0.5555555555555556,\"#d8576b\"],[0.6666666666666666,\"#ed7953\"],[0.7777777777777778,\"#fb9f3a\"],[0.8888888888888888,\"#fdca26\"],[1.0,\"#f0f921\"]],\"diverging\":[[0,\"#8e0152\"],[0.1,\"#c51b7d\"],[0.2,\"#de77ae\"],[0.3,\"#f1b6da\"],[0.4,\"#fde0ef\"],[0.5,\"#f7f7f7\"],[0.6,\"#e6f5d0\"],[0.7,\"#b8e186\"],[0.8,\"#7fbc41\"],[0.9,\"#4d9221\"],[1,\"#276419\"]]},\"xaxis\":{\"gridcolor\":\"white\",\"linecolor\":\"white\",\"ticks\":\"\",\"title\":{\"standoff\":15},\"zerolinecolor\":\"white\",\"automargin\":true,\"zerolinewidth\":2},\"yaxis\":{\"gridcolor\":\"white\",\"linecolor\":\"white\",\"ticks\":\"\",\"title\":{\"standoff\":15},\"zerolinecolor\":\"white\",\"automargin\":true,\"zerolinewidth\":2},\"scene\":{\"xaxis\":{\"backgroundcolor\":\"#E5ECF6\",\"gridcolor\":\"white\",\"linecolor\":\"white\",\"showbackground\":true,\"ticks\":\"\",\"zerolinecolor\":\"white\",\"gridwidth\":2},\"yaxis\":{\"backgroundcolor\":\"#E5ECF6\",\"gridcolor\":\"white\",\"linecolor\":\"white\",\"showbackground\":true,\"ticks\":\"\",\"zerolinecolor\":\"white\",\"gridwidth\":2},\"zaxis\":{\"backgroundcolor\":\"#E5ECF6\",\"gridcolor\":\"white\",\"linecolor\":\"white\",\"showbackground\":true,\"ticks\":\"\",\"zerolinecolor\":\"white\",\"gridwidth\":2}},\"shapedefaults\":{\"line\":{\"color\":\"#2a3f5f\"}},\"annotationdefaults\":{\"arrowcolor\":\"#2a3f5f\",\"arrowhead\":0,\"arrowwidth\":1},\"geo\":{\"bgcolor\":\"white\",\"landcolor\":\"#E5ECF6\",\"subunitcolor\":\"white\",\"showland\":true,\"showlakes\":true,\"lakecolor\":\"white\"},\"title\":{\"x\":0.05},\"mapbox\":{\"style\":\"light\"}}},\"xaxis\":{\"anchor\":\"y\",\"domain\":[0.0,1.0],\"title\":{\"text\":\"CO2 Emissions\"}},\"yaxis\":{\"anchor\":\"x\",\"domain\":[0.0,1.0],\"title\":{\"text\":\"Count\"}},\"legend\":{\"tracegroupgap\":0},\"margin\":{\"t\":60},\"barmode\":\"relative\",\"height\":400,\"width\":600,\"title\":{\"text\":\"CO2 Emissions\"}},                        {\"responsive\": true}                    ).then(function(){\n",
       "                            \n",
       "var gd = document.getElementById('380800a1-5978-4ab9-9b4f-4446d6288eb9');\n",
       "var x = new MutationObserver(function (mutations, observer) {{\n",
       "        var display = window.getComputedStyle(gd).display;\n",
       "        if (!display || display === 'none') {{\n",
       "            console.log([gd, 'removed!']);\n",
       "            Plotly.purge(gd);\n",
       "            observer.disconnect();\n",
       "        }}\n",
       "}});\n",
       "\n",
       "// Listen for the removal of the full notebook cells\n",
       "var notebookContainer = gd.closest('#notebook-container');\n",
       "if (notebookContainer) {{\n",
       "    x.observe(notebookContainer, {childList: true});\n",
       "}}\n",
       "\n",
       "// Listen for the clearing of the current output cell\n",
       "var outputEl = gd.closest('.output');\n",
       "if (outputEl) {{\n",
       "    x.observe(outputEl, {childList: true});\n",
       "}}\n",
       "\n",
       "                        })                };                });            </script>        </div>"
      ]
     },
     "metadata": {},
     "output_type": "display_data"
    }
   ],
   "source": [
    "fig_config = {\n",
    "    'data_frame': df,\n",
    "    'x': 'co2_emissions',\n",
    "    'nbins': 10,\n",
    "    'width': 600, \n",
    "    'height': 400\n",
    "}\n",
    "\n",
    "layout_config = {\n",
    "    'title': 'CO2 Emissions',\n",
    "    'xaxis_title': 'CO2 Emissions',\n",
    "    'yaxis_title': 'Count',\n",
    "}\n",
    "\n",
    "fig = px.histogram(**fig_config)\n",
    "fig.update_layout(**layout_config)\n",
    "fig.show()"
   ]
  },
  {
   "cell_type": "code",
   "execution_count": 201,
   "metadata": {},
   "outputs": [
    {
     "data": {
      "application/vnd.plotly.v1+json": {
       "config": {
        "plotlyServerURL": "https://plot.ly"
       },
       "data": [
        {
         "alignmentgroup": "True",
         "bingroup": "x",
         "hovertemplate": "engine_size=%{x}<br>count=%{y}<extra></extra>",
         "legendgroup": "",
         "marker": {
          "color": "#636efa",
          "pattern": {
           "shape": ""
          }
         },
         "name": "",
         "nbinsx": 8,
         "offsetgroup": "",
         "orientation": "v",
         "showlegend": false,
         "type": "histogram",
         "x": [
          2,
          2.4,
          1.5,
          3.5,
          3.5,
          3.5,
          3.5,
          3.7,
          3.7,
          2.4,
          2.4,
          3.5,
          5.9,
          5.9,
          4.7,
          4.7,
          4.7,
          4.7,
          5.9,
          2,
          2,
          2,
          2,
          2,
          2,
          2,
          3,
          3,
          3,
          3,
          3,
          4,
          3,
          3,
          4,
          6.3,
          3,
          2,
          2,
          3,
          2,
          3,
          3,
          3,
          4.2,
          4.2,
          5.2,
          5.2,
          4.2,
          4.2,
          5.2,
          5.2,
          4.2,
          4.2,
          4,
          3,
          3,
          3,
          3,
          3,
          4,
          4,
          4,
          3,
          2,
          2,
          2,
          2,
          4,
          6,
          4,
          6,
          4,
          6,
          6,
          6.8,
          2,
          2,
          2,
          2,
          2,
          2,
          2,
          2,
          2,
          2,
          3,
          3,
          3,
          3,
          3,
          2,
          2,
          2,
          3,
          3,
          3,
          3,
          2,
          2,
          3,
          3,
          3,
          4.4,
          4.4,
          3,
          4.4,
          4.4,
          4.4,
          3,
          4.4,
          4.4,
          6,
          3,
          3,
          3,
          4.4,
          4.4,
          4.4,
          4.4,
          4.4,
          4.4,
          4.4,
          4.4,
          4.4,
          4.4,
          2,
          3,
          2,
          3,
          3,
          4.4,
          4.4,
          3,
          4.4,
          2,
          2,
          3,
          3,
          3,
          3.6,
          3.6,
          1.4,
          1.4,
          3.6,
          3.6,
          3.6,
          3.6,
          2.4,
          2,
          2,
          2,
          2.4,
          2,
          2,
          2.4,
          2,
          2,
          2.5,
          3.6,
          2,
          3.6,
          3.6,
          3.6,
          2,
          3.6,
          2,
          3.6,
          3.6,
          3,
          3.6,
          3,
          3.6,
          6.2,
          6.2,
          6.2,
          6.2,
          6.2,
          6.2,
          6.2,
          6.2,
          6.2,
          6.2,
          3.6,
          3.6,
          3.6,
          3.6,
          3.6,
          3.6,
          3.6,
          3.6,
          6.2,
          6.2,
          6.2,
          6.2,
          6.2,
          6.2,
          1.4,
          1.4,
          1.8,
          1.8,
          2,
          1.4,
          1.4,
          2.4,
          3.6,
          3.6,
          2.4,
          3.6,
          3.6,
          4.3,
          5.3,
          5.3,
          5.3,
          5.3,
          5.3,
          5.3,
          5.3,
          5.3,
          5.3,
          5.3,
          5.3,
          5.3,
          4.8,
          6,
          6,
          4.8,
          6,
          6,
          2.5,
          3.6,
          3.6,
          2.4,
          2,
          2.5,
          2.4,
          2.4,
          4.3,
          4.3,
          5.3,
          5.3,
          6.2,
          4.3,
          4.3,
          5.3,
          5.3,
          6.2,
          1.4,
          1.4,
          1.8,
          1.8,
          1.4,
          1.4,
          1.8,
          1.8,
          1.4,
          1.4,
          1.4,
          1.4,
          1.2,
          1.2,
          5.3,
          5.3,
          5.3,
          5.3,
          5.3,
          5.3,
          5.3,
          5.3,
          3.6,
          3.6,
          1.4,
          1.4,
          1.4,
          3.6,
          2.4,
          2.4,
          3.6,
          3.6,
          2.4,
          2.4,
          3.6,
          3.6,
          5.7,
          3.6,
          5.7,
          3.6,
          3.6,
          3.6,
          3.6,
          6.4,
          3.6,
          3.6,
          2.4,
          2.4,
          3.6,
          3.6,
          3.6,
          5.7,
          5.7,
          6.4,
          6.4,
          3.6,
          3.6,
          5.7,
          3.6,
          5.7,
          3.6,
          3.6,
          3.6,
          3.6,
          3.6,
          3.6,
          6.4,
          2,
          2.4,
          2.4,
          2,
          2,
          2.4,
          2.4,
          1.4,
          1.4,
          5.7,
          3.6,
          3.6,
          3.6,
          3.6,
          2.4,
          3.6,
          3.6,
          3.6,
          1.4,
          1.4,
          1.4,
          1.4,
          1.4,
          1.4,
          1.4,
          1.4,
          1.4,
          1.4,
          2,
          4.6,
          4.6,
          5.4,
          5.4,
          4.6,
          4.6,
          6.8,
          5.4,
          5.4,
          2,
          3.5,
          3.5,
          3.7,
          1.6,
          2,
          2.5,
          1.6,
          2,
          5.4,
          5.4,
          2,
          3.5,
          3.5,
          3.5,
          3.5,
          3.5,
          3.5,
          3.5,
          6.2,
          3.5,
          3.5,
          6.2,
          3.7,
          3.7,
          3.7,
          3.7,
          5,
          5,
          5,
          5,
          3.7,
          3.7,
          3.7,
          3.7,
          5,
          5,
          5,
          5,
          6.2,
          1.6,
          1.6,
          1,
          1.6,
          1.6,
          3.5,
          3.5,
          3.5,
          2,
          2,
          2,
          2,
          2,
          2,
          2,
          2,
          2,
          1.5,
          1.6,
          2,
          2.5,
          1.5,
          2,
          2,
          3.7,
          3.7,
          5,
          5,
          5.8,
          3.7,
          2,
          3.5,
          3.5,
          3.5,
          3.5,
          3.5,
          1.6,
          2.5,
          1.6,
          2.5,
          3.6,
          3.6,
          4.3,
          5.3,
          5.3,
          5.3,
          5.3,
          5.3,
          5.3,
          5.3,
          5.3,
          5.3,
          5.3,
          5.3,
          5.3,
          4.8,
          6,
          6,
          4.8,
          6,
          6,
          4.3,
          4.3,
          5.3,
          5.3,
          6.2,
          4.3,
          4.3,
          5.3,
          5.3,
          6.2,
          2.4,
          3.6,
          3.6,
          2.4,
          3.6,
          3.6,
          5.3,
          5.3,
          5.3,
          5.3,
          6.2,
          6.2,
          6.2,
          6.2,
          5.3,
          5.3,
          5.3,
          5.3,
          2.4,
          2.4,
          2.4,
          3.5,
          3.5,
          3.5,
          2,
          1.8,
          1.8,
          1.8,
          3.5,
          2.4,
          2.4,
          1.5,
          1.5,
          1.5,
          1.5,
          3.5,
          3.5,
          3.5,
          3.5,
          1.6,
          1.6,
          2,
          2,
          5,
          3.8,
          3.3,
          3.3,
          2.4,
          2,
          2.4,
          2,
          2.4,
          2.4,
          2.4,
          2,
          2,
          2.4,
          2,
          2.4,
          1.6,
          1.6,
          1.6,
          1.6,
          3.7,
          3.7,
          3.5,
          3.5,
          3.7,
          3.7,
          3.7,
          3.7,
          3.7,
          3.7,
          5.6,
          3.7,
          5.6,
          3.5,
          3.7,
          3.5,
          3.5,
          2.5,
          3.7,
          5,
          5.6,
          3,
          3,
          5,
          2,
          3,
          5,
          5,
          5,
          3,
          5,
          5,
          3,
          5,
          5,
          5,
          5,
          5,
          5,
          5,
          5,
          5,
          5,
          2.4,
          3.2,
          2.4,
          3.2,
          2.4,
          3.2,
          2.4,
          3.2,
          2,
          2,
          2.4,
          2.4,
          2.4,
          2.4,
          2.4,
          5.7,
          3,
          3.6,
          3.6,
          6.4,
          2,
          2,
          2.4,
          2.4,
          2.4,
          2.4,
          2.4,
          3.6,
          3.6,
          3.6,
          3.6,
          3.3,
          1.8,
          1.8,
          2,
          2,
          1.6,
          1.6,
          2,
          2,
          1.6,
          1.6,
          2,
          2,
          2,
          2.4,
          1.6,
          1.6,
          1.6,
          2,
          2,
          3.5,
          2.4,
          3.3,
          2.4,
          3.3,
          1.6,
          1.6,
          2,
          2,
          2.4,
          2.4,
          2,
          2.4,
          6.5,
          5.2,
          5.2,
          2,
          3,
          2,
          2,
          5,
          5,
          5,
          3,
          3,
          3,
          5,
          5,
          5,
          3,
          3,
          3,
          5,
          5,
          5,
          1.8,
          2.5,
          3.5,
          3.5,
          3.5,
          3.5,
          4.6,
          2.5,
          2.5,
          2.5,
          3.5,
          3.5,
          3.5,
          5,
          4.6,
          4.6,
          4.6,
          5,
          5.7,
          3.5,
          3.5,
          3.5,
          3.5,
          3.7,
          3.5,
          2,
          3.7,
          3.7,
          2,
          3.7,
          2,
          5.4,
          5.4,
          3,
          3,
          4.7,
          4.7,
          3.8,
          3,
          2,
          2,
          2.5,
          2,
          2.5,
          3.7,
          3.7,
          1.5,
          1.5,
          2,
          2,
          2.5,
          2.5,
          2,
          2,
          2,
          2.5,
          2.5,
          2,
          2.5,
          2.5,
          2.5,
          2.5,
          2.5,
          2,
          2,
          2,
          2,
          1.8,
          1.8,
          3.5,
          3.5,
          3.5,
          3.5,
          3.5,
          3.5,
          6.2,
          6.2,
          4.7,
          5.5,
          2,
          2,
          4.7,
          5.5,
          5.5,
          2.1,
          3.5,
          3.5,
          3.5,
          3.5,
          3.5,
          3.5,
          3.5,
          4.7,
          4.7,
          4.7,
          5.5,
          5.5,
          5.5,
          5.5,
          5.5,
          5.5,
          3,
          4.7,
          4.7,
          5.5,
          2.1,
          3.5,
          3.5,
          3.5,
          3,
          4.7,
          5.5,
          4.7,
          4.7,
          5.5,
          4.7,
          5.5,
          6,
          1.8,
          1.8,
          3.5,
          5.5,
          6.2,
          6.2,
          6.2,
          1.6,
          1.6,
          1.6,
          1.6,
          1.6,
          1.6,
          1.6,
          1.6,
          1.6,
          1.6,
          1.6,
          1.6,
          1.6,
          1.6,
          1.6,
          1.6,
          1.6,
          1.6,
          1.6,
          1.6,
          1.6,
          1.6,
          1.6,
          1.6,
          1.6,
          1.6,
          1.6,
          1.6,
          1.6,
          1.6,
          1.6,
          1.6,
          1.6,
          1.6,
          1.6,
          1.6,
          2,
          2,
          2.4,
          2,
          2,
          2,
          2,
          2,
          1.2,
          1.2,
          2.4,
          2.4,
          3,
          2,
          2,
          2,
          3.7,
          3.7,
          3.7,
          3.7,
          2.5,
          3.5,
          5.6,
          2.5,
          2.5,
          4,
          4,
          4,
          3.8,
          1.6,
          1.6,
          1.6,
          3.5,
          3.5,
          2,
          3.5,
          3.5,
          2.5,
          3.5,
          2.5,
          2.5,
          1.8,
          1.8,
          5.6,
          5.6,
          1.6,
          1.6,
          4,
          4,
          3.4,
          3.4,
          3.4,
          3.4,
          3.4,
          3.4,
          3.8,
          3.8,
          3.8,
          3.8,
          3.4,
          3.4,
          3.8,
          3.8,
          3.8,
          3.8,
          3.8,
          3.8,
          3.8,
          3.8,
          3.8,
          2.7,
          2.7,
          3.4,
          3.4,
          3.6,
          3.6,
          3,
          4.8,
          4.8,
          3,
          4.8,
          2.7,
          2.7,
          3.4,
          3.4,
          3.6,
          3.6,
          3,
          3,
          4.8,
          3,
          4.8,
          4.8,
          5.7,
          5.7,
          5.7,
          5.7,
          3,
          3.6,
          3.6,
          3,
          3.6,
          3.6,
          3.6,
          3.6,
          3.6,
          6.6,
          6.6,
          6.7,
          6.7,
          6.7,
          6.7,
          6.6,
          2,
          2,
          1.3,
          2.5,
          2.5,
          2.4,
          2.4,
          1.8,
          1.8,
          1,
          1,
          8.4,
          8.4,
          2,
          2,
          2,
          2.5,
          2.5,
          2,
          2,
          2.5,
          2.5,
          2,
          2,
          2.5,
          2.5,
          2.5,
          2.5,
          3.6,
          2.5,
          2.5,
          3.6,
          3.6,
          2,
          2,
          2,
          4,
          4,
          3.5,
          2.5,
          3.5,
          2.5,
          2.5,
          1.8,
          1.8,
          1.8,
          1.8,
          1.8,
          1.8,
          1.8,
          1.8,
          4,
          4,
          2.7,
          3.5,
          3.5,
          3.5,
          3.5,
          1.8,
          1.5,
          1.8,
          2.5,
          2.5,
          2.5,
          5.7,
          3.5,
          3.5,
          2.7,
          2.7,
          4,
          2.7,
          2.7,
          4,
          4,
          4,
          4.6,
          5.7,
          4.6,
          5.7,
          2.7,
          3.5,
          2.7,
          3.5,
          1.5,
          1.5,
          1.8,
          1.8,
          2,
          2,
          2.5,
          2.5,
          1.8,
          2,
          2,
          2.5,
          2,
          2,
          2,
          2,
          3.6,
          2,
          2.5,
          2.5,
          2,
          2,
          1.8,
          1.8,
          2,
          2,
          2,
          2,
          2,
          2,
          1.4,
          1.8,
          1.8,
          2.5,
          2.5,
          3.6,
          2,
          2,
          3.6,
          2,
          2,
          2,
          3.6,
          3,
          2.5,
          2.5,
          3,
          3.2,
          3,
          3.2,
          3,
          3.2,
          3,
          3.2,
          3.2
         ],
         "xaxis": "x",
         "yaxis": "y"
        }
       ],
       "layout": {
        "barmode": "relative",
        "height": 400,
        "legend": {
         "tracegroupgap": 0
        },
        "margin": {
         "t": 60
        },
        "template": {
         "data": {
          "bar": [
           {
            "error_x": {
             "color": "#2a3f5f"
            },
            "error_y": {
             "color": "#2a3f5f"
            },
            "marker": {
             "line": {
              "color": "#E5ECF6",
              "width": 0.5
             },
             "pattern": {
              "fillmode": "overlay",
              "size": 10,
              "solidity": 0.2
             }
            },
            "type": "bar"
           }
          ],
          "barpolar": [
           {
            "marker": {
             "line": {
              "color": "#E5ECF6",
              "width": 0.5
             },
             "pattern": {
              "fillmode": "overlay",
              "size": 10,
              "solidity": 0.2
             }
            },
            "type": "barpolar"
           }
          ],
          "carpet": [
           {
            "aaxis": {
             "endlinecolor": "#2a3f5f",
             "gridcolor": "white",
             "linecolor": "white",
             "minorgridcolor": "white",
             "startlinecolor": "#2a3f5f"
            },
            "baxis": {
             "endlinecolor": "#2a3f5f",
             "gridcolor": "white",
             "linecolor": "white",
             "minorgridcolor": "white",
             "startlinecolor": "#2a3f5f"
            },
            "type": "carpet"
           }
          ],
          "choropleth": [
           {
            "colorbar": {
             "outlinewidth": 0,
             "ticks": ""
            },
            "type": "choropleth"
           }
          ],
          "contour": [
           {
            "colorbar": {
             "outlinewidth": 0,
             "ticks": ""
            },
            "colorscale": [
             [
              0,
              "#0d0887"
             ],
             [
              0.1111111111111111,
              "#46039f"
             ],
             [
              0.2222222222222222,
              "#7201a8"
             ],
             [
              0.3333333333333333,
              "#9c179e"
             ],
             [
              0.4444444444444444,
              "#bd3786"
             ],
             [
              0.5555555555555556,
              "#d8576b"
             ],
             [
              0.6666666666666666,
              "#ed7953"
             ],
             [
              0.7777777777777778,
              "#fb9f3a"
             ],
             [
              0.8888888888888888,
              "#fdca26"
             ],
             [
              1,
              "#f0f921"
             ]
            ],
            "type": "contour"
           }
          ],
          "contourcarpet": [
           {
            "colorbar": {
             "outlinewidth": 0,
             "ticks": ""
            },
            "type": "contourcarpet"
           }
          ],
          "heatmap": [
           {
            "colorbar": {
             "outlinewidth": 0,
             "ticks": ""
            },
            "colorscale": [
             [
              0,
              "#0d0887"
             ],
             [
              0.1111111111111111,
              "#46039f"
             ],
             [
              0.2222222222222222,
              "#7201a8"
             ],
             [
              0.3333333333333333,
              "#9c179e"
             ],
             [
              0.4444444444444444,
              "#bd3786"
             ],
             [
              0.5555555555555556,
              "#d8576b"
             ],
             [
              0.6666666666666666,
              "#ed7953"
             ],
             [
              0.7777777777777778,
              "#fb9f3a"
             ],
             [
              0.8888888888888888,
              "#fdca26"
             ],
             [
              1,
              "#f0f921"
             ]
            ],
            "type": "heatmap"
           }
          ],
          "heatmapgl": [
           {
            "colorbar": {
             "outlinewidth": 0,
             "ticks": ""
            },
            "colorscale": [
             [
              0,
              "#0d0887"
             ],
             [
              0.1111111111111111,
              "#46039f"
             ],
             [
              0.2222222222222222,
              "#7201a8"
             ],
             [
              0.3333333333333333,
              "#9c179e"
             ],
             [
              0.4444444444444444,
              "#bd3786"
             ],
             [
              0.5555555555555556,
              "#d8576b"
             ],
             [
              0.6666666666666666,
              "#ed7953"
             ],
             [
              0.7777777777777778,
              "#fb9f3a"
             ],
             [
              0.8888888888888888,
              "#fdca26"
             ],
             [
              1,
              "#f0f921"
             ]
            ],
            "type": "heatmapgl"
           }
          ],
          "histogram": [
           {
            "marker": {
             "pattern": {
              "fillmode": "overlay",
              "size": 10,
              "solidity": 0.2
             }
            },
            "type": "histogram"
           }
          ],
          "histogram2d": [
           {
            "colorbar": {
             "outlinewidth": 0,
             "ticks": ""
            },
            "colorscale": [
             [
              0,
              "#0d0887"
             ],
             [
              0.1111111111111111,
              "#46039f"
             ],
             [
              0.2222222222222222,
              "#7201a8"
             ],
             [
              0.3333333333333333,
              "#9c179e"
             ],
             [
              0.4444444444444444,
              "#bd3786"
             ],
             [
              0.5555555555555556,
              "#d8576b"
             ],
             [
              0.6666666666666666,
              "#ed7953"
             ],
             [
              0.7777777777777778,
              "#fb9f3a"
             ],
             [
              0.8888888888888888,
              "#fdca26"
             ],
             [
              1,
              "#f0f921"
             ]
            ],
            "type": "histogram2d"
           }
          ],
          "histogram2dcontour": [
           {
            "colorbar": {
             "outlinewidth": 0,
             "ticks": ""
            },
            "colorscale": [
             [
              0,
              "#0d0887"
             ],
             [
              0.1111111111111111,
              "#46039f"
             ],
             [
              0.2222222222222222,
              "#7201a8"
             ],
             [
              0.3333333333333333,
              "#9c179e"
             ],
             [
              0.4444444444444444,
              "#bd3786"
             ],
             [
              0.5555555555555556,
              "#d8576b"
             ],
             [
              0.6666666666666666,
              "#ed7953"
             ],
             [
              0.7777777777777778,
              "#fb9f3a"
             ],
             [
              0.8888888888888888,
              "#fdca26"
             ],
             [
              1,
              "#f0f921"
             ]
            ],
            "type": "histogram2dcontour"
           }
          ],
          "mesh3d": [
           {
            "colorbar": {
             "outlinewidth": 0,
             "ticks": ""
            },
            "type": "mesh3d"
           }
          ],
          "parcoords": [
           {
            "line": {
             "colorbar": {
              "outlinewidth": 0,
              "ticks": ""
             }
            },
            "type": "parcoords"
           }
          ],
          "pie": [
           {
            "automargin": true,
            "type": "pie"
           }
          ],
          "scatter": [
           {
            "fillpattern": {
             "fillmode": "overlay",
             "size": 10,
             "solidity": 0.2
            },
            "type": "scatter"
           }
          ],
          "scatter3d": [
           {
            "line": {
             "colorbar": {
              "outlinewidth": 0,
              "ticks": ""
             }
            },
            "marker": {
             "colorbar": {
              "outlinewidth": 0,
              "ticks": ""
             }
            },
            "type": "scatter3d"
           }
          ],
          "scattercarpet": [
           {
            "marker": {
             "colorbar": {
              "outlinewidth": 0,
              "ticks": ""
             }
            },
            "type": "scattercarpet"
           }
          ],
          "scattergeo": [
           {
            "marker": {
             "colorbar": {
              "outlinewidth": 0,
              "ticks": ""
             }
            },
            "type": "scattergeo"
           }
          ],
          "scattergl": [
           {
            "marker": {
             "colorbar": {
              "outlinewidth": 0,
              "ticks": ""
             }
            },
            "type": "scattergl"
           }
          ],
          "scattermapbox": [
           {
            "marker": {
             "colorbar": {
              "outlinewidth": 0,
              "ticks": ""
             }
            },
            "type": "scattermapbox"
           }
          ],
          "scatterpolar": [
           {
            "marker": {
             "colorbar": {
              "outlinewidth": 0,
              "ticks": ""
             }
            },
            "type": "scatterpolar"
           }
          ],
          "scatterpolargl": [
           {
            "marker": {
             "colorbar": {
              "outlinewidth": 0,
              "ticks": ""
             }
            },
            "type": "scatterpolargl"
           }
          ],
          "scatterternary": [
           {
            "marker": {
             "colorbar": {
              "outlinewidth": 0,
              "ticks": ""
             }
            },
            "type": "scatterternary"
           }
          ],
          "surface": [
           {
            "colorbar": {
             "outlinewidth": 0,
             "ticks": ""
            },
            "colorscale": [
             [
              0,
              "#0d0887"
             ],
             [
              0.1111111111111111,
              "#46039f"
             ],
             [
              0.2222222222222222,
              "#7201a8"
             ],
             [
              0.3333333333333333,
              "#9c179e"
             ],
             [
              0.4444444444444444,
              "#bd3786"
             ],
             [
              0.5555555555555556,
              "#d8576b"
             ],
             [
              0.6666666666666666,
              "#ed7953"
             ],
             [
              0.7777777777777778,
              "#fb9f3a"
             ],
             [
              0.8888888888888888,
              "#fdca26"
             ],
             [
              1,
              "#f0f921"
             ]
            ],
            "type": "surface"
           }
          ],
          "table": [
           {
            "cells": {
             "fill": {
              "color": "#EBF0F8"
             },
             "line": {
              "color": "white"
             }
            },
            "header": {
             "fill": {
              "color": "#C8D4E3"
             },
             "line": {
              "color": "white"
             }
            },
            "type": "table"
           }
          ]
         },
         "layout": {
          "annotationdefaults": {
           "arrowcolor": "#2a3f5f",
           "arrowhead": 0,
           "arrowwidth": 1
          },
          "autotypenumbers": "strict",
          "coloraxis": {
           "colorbar": {
            "outlinewidth": 0,
            "ticks": ""
           }
          },
          "colorscale": {
           "diverging": [
            [
             0,
             "#8e0152"
            ],
            [
             0.1,
             "#c51b7d"
            ],
            [
             0.2,
             "#de77ae"
            ],
            [
             0.3,
             "#f1b6da"
            ],
            [
             0.4,
             "#fde0ef"
            ],
            [
             0.5,
             "#f7f7f7"
            ],
            [
             0.6,
             "#e6f5d0"
            ],
            [
             0.7,
             "#b8e186"
            ],
            [
             0.8,
             "#7fbc41"
            ],
            [
             0.9,
             "#4d9221"
            ],
            [
             1,
             "#276419"
            ]
           ],
           "sequential": [
            [
             0,
             "#0d0887"
            ],
            [
             0.1111111111111111,
             "#46039f"
            ],
            [
             0.2222222222222222,
             "#7201a8"
            ],
            [
             0.3333333333333333,
             "#9c179e"
            ],
            [
             0.4444444444444444,
             "#bd3786"
            ],
            [
             0.5555555555555556,
             "#d8576b"
            ],
            [
             0.6666666666666666,
             "#ed7953"
            ],
            [
             0.7777777777777778,
             "#fb9f3a"
            ],
            [
             0.8888888888888888,
             "#fdca26"
            ],
            [
             1,
             "#f0f921"
            ]
           ],
           "sequentialminus": [
            [
             0,
             "#0d0887"
            ],
            [
             0.1111111111111111,
             "#46039f"
            ],
            [
             0.2222222222222222,
             "#7201a8"
            ],
            [
             0.3333333333333333,
             "#9c179e"
            ],
            [
             0.4444444444444444,
             "#bd3786"
            ],
            [
             0.5555555555555556,
             "#d8576b"
            ],
            [
             0.6666666666666666,
             "#ed7953"
            ],
            [
             0.7777777777777778,
             "#fb9f3a"
            ],
            [
             0.8888888888888888,
             "#fdca26"
            ],
            [
             1,
             "#f0f921"
            ]
           ]
          },
          "colorway": [
           "#636efa",
           "#EF553B",
           "#00cc96",
           "#ab63fa",
           "#FFA15A",
           "#19d3f3",
           "#FF6692",
           "#B6E880",
           "#FF97FF",
           "#FECB52"
          ],
          "font": {
           "color": "#2a3f5f"
          },
          "geo": {
           "bgcolor": "white",
           "lakecolor": "white",
           "landcolor": "#E5ECF6",
           "showlakes": true,
           "showland": true,
           "subunitcolor": "white"
          },
          "hoverlabel": {
           "align": "left"
          },
          "hovermode": "closest",
          "mapbox": {
           "style": "light"
          },
          "paper_bgcolor": "white",
          "plot_bgcolor": "#E5ECF6",
          "polar": {
           "angularaxis": {
            "gridcolor": "white",
            "linecolor": "white",
            "ticks": ""
           },
           "bgcolor": "#E5ECF6",
           "radialaxis": {
            "gridcolor": "white",
            "linecolor": "white",
            "ticks": ""
           }
          },
          "scene": {
           "xaxis": {
            "backgroundcolor": "#E5ECF6",
            "gridcolor": "white",
            "gridwidth": 2,
            "linecolor": "white",
            "showbackground": true,
            "ticks": "",
            "zerolinecolor": "white"
           },
           "yaxis": {
            "backgroundcolor": "#E5ECF6",
            "gridcolor": "white",
            "gridwidth": 2,
            "linecolor": "white",
            "showbackground": true,
            "ticks": "",
            "zerolinecolor": "white"
           },
           "zaxis": {
            "backgroundcolor": "#E5ECF6",
            "gridcolor": "white",
            "gridwidth": 2,
            "linecolor": "white",
            "showbackground": true,
            "ticks": "",
            "zerolinecolor": "white"
           }
          },
          "shapedefaults": {
           "line": {
            "color": "#2a3f5f"
           }
          },
          "ternary": {
           "aaxis": {
            "gridcolor": "white",
            "linecolor": "white",
            "ticks": ""
           },
           "baxis": {
            "gridcolor": "white",
            "linecolor": "white",
            "ticks": ""
           },
           "bgcolor": "#E5ECF6",
           "caxis": {
            "gridcolor": "white",
            "linecolor": "white",
            "ticks": ""
           }
          },
          "title": {
           "x": 0.05
          },
          "xaxis": {
           "automargin": true,
           "gridcolor": "white",
           "linecolor": "white",
           "ticks": "",
           "title": {
            "standoff": 15
           },
           "zerolinecolor": "white",
           "zerolinewidth": 2
          },
          "yaxis": {
           "automargin": true,
           "gridcolor": "white",
           "linecolor": "white",
           "ticks": "",
           "title": {
            "standoff": 15
           },
           "zerolinecolor": "white",
           "zerolinewidth": 2
          }
         }
        },
        "title": {
         "text": "Engine Size"
        },
        "width": 600,
        "xaxis": {
         "anchor": "y",
         "domain": [
          0,
          1
         ],
         "title": {
          "text": "Engine Size"
         }
        },
        "yaxis": {
         "anchor": "x",
         "domain": [
          0,
          1
         ],
         "title": {
          "text": "Count"
         }
        }
       }
      },
      "text/html": [
       "<div>                            <div id=\"dcd7262a-2d4e-411c-9201-09eeecee1869\" class=\"plotly-graph-div\" style=\"height:400px; width:600px;\"></div>            <script type=\"text/javascript\">                require([\"plotly\"], function(Plotly) {                    window.PLOTLYENV=window.PLOTLYENV || {};                                    if (document.getElementById(\"dcd7262a-2d4e-411c-9201-09eeecee1869\")) {                    Plotly.newPlot(                        \"dcd7262a-2d4e-411c-9201-09eeecee1869\",                        [{\"alignmentgroup\":\"True\",\"bingroup\":\"x\",\"hovertemplate\":\"engine_size=%{x}<br>count=%{y}<extra></extra>\",\"legendgroup\":\"\",\"marker\":{\"color\":\"#636efa\",\"pattern\":{\"shape\":\"\"}},\"name\":\"\",\"nbinsx\":8,\"offsetgroup\":\"\",\"orientation\":\"v\",\"showlegend\":false,\"x\":[2.0,2.4,1.5,3.5,3.5,3.5,3.5,3.7,3.7,2.4,2.4,3.5,5.9,5.9,4.7,4.7,4.7,4.7,5.9,2.0,2.0,2.0,2.0,2.0,2.0,2.0,3.0,3.0,3.0,3.0,3.0,4.0,3.0,3.0,4.0,6.3,3.0,2.0,2.0,3.0,2.0,3.0,3.0,3.0,4.2,4.2,5.2,5.2,4.2,4.2,5.2,5.2,4.2,4.2,4.0,3.0,3.0,3.0,3.0,3.0,4.0,4.0,4.0,3.0,2.0,2.0,2.0,2.0,4.0,6.0,4.0,6.0,4.0,6.0,6.0,6.8,2.0,2.0,2.0,2.0,2.0,2.0,2.0,2.0,2.0,2.0,3.0,3.0,3.0,3.0,3.0,2.0,2.0,2.0,3.0,3.0,3.0,3.0,2.0,2.0,3.0,3.0,3.0,4.4,4.4,3.0,4.4,4.4,4.4,3.0,4.4,4.4,6.0,3.0,3.0,3.0,4.4,4.4,4.4,4.4,4.4,4.4,4.4,4.4,4.4,4.4,2.0,3.0,2.0,3.0,3.0,4.4,4.4,3.0,4.4,2.0,2.0,3.0,3.0,3.0,3.6,3.6,1.4,1.4,3.6,3.6,3.6,3.6,2.4,2.0,2.0,2.0,2.4,2.0,2.0,2.4,2.0,2.0,2.5,3.6,2.0,3.6,3.6,3.6,2.0,3.6,2.0,3.6,3.6,3.0,3.6,3.0,3.6,6.2,6.2,6.2,6.2,6.2,6.2,6.2,6.2,6.2,6.2,3.6,3.6,3.6,3.6,3.6,3.6,3.6,3.6,6.2,6.2,6.2,6.2,6.2,6.2,1.4,1.4,1.8,1.8,2.0,1.4,1.4,2.4,3.6,3.6,2.4,3.6,3.6,4.3,5.3,5.3,5.3,5.3,5.3,5.3,5.3,5.3,5.3,5.3,5.3,5.3,4.8,6.0,6.0,4.8,6.0,6.0,2.5,3.6,3.6,2.4,2.0,2.5,2.4,2.4,4.3,4.3,5.3,5.3,6.2,4.3,4.3,5.3,5.3,6.2,1.4,1.4,1.8,1.8,1.4,1.4,1.8,1.8,1.4,1.4,1.4,1.4,1.2,1.2,5.3,5.3,5.3,5.3,5.3,5.3,5.3,5.3,3.6,3.6,1.4,1.4,1.4,3.6,2.4,2.4,3.6,3.6,2.4,2.4,3.6,3.6,5.7,3.6,5.7,3.6,3.6,3.6,3.6,6.4,3.6,3.6,2.4,2.4,3.6,3.6,3.6,5.7,5.7,6.4,6.4,3.6,3.6,5.7,3.6,5.7,3.6,3.6,3.6,3.6,3.6,3.6,6.4,2.0,2.4,2.4,2.0,2.0,2.4,2.4,1.4,1.4,5.7,3.6,3.6,3.6,3.6,2.4,3.6,3.6,3.6,1.4,1.4,1.4,1.4,1.4,1.4,1.4,1.4,1.4,1.4,2.0,4.6,4.6,5.4,5.4,4.6,4.6,6.8,5.4,5.4,2.0,3.5,3.5,3.7,1.6,2.0,2.5,1.6,2.0,5.4,5.4,2.0,3.5,3.5,3.5,3.5,3.5,3.5,3.5,6.2,3.5,3.5,6.2,3.7,3.7,3.7,3.7,5.0,5.0,5.0,5.0,3.7,3.7,3.7,3.7,5.0,5.0,5.0,5.0,6.2,1.6,1.6,1.0,1.6,1.6,3.5,3.5,3.5,2.0,2.0,2.0,2.0,2.0,2.0,2.0,2.0,2.0,1.5,1.6,2.0,2.5,1.5,2.0,2.0,3.7,3.7,5.0,5.0,5.8,3.7,2.0,3.5,3.5,3.5,3.5,3.5,1.6,2.5,1.6,2.5,3.6,3.6,4.3,5.3,5.3,5.3,5.3,5.3,5.3,5.3,5.3,5.3,5.3,5.3,5.3,4.8,6.0,6.0,4.8,6.0,6.0,4.3,4.3,5.3,5.3,6.2,4.3,4.3,5.3,5.3,6.2,2.4,3.6,3.6,2.4,3.6,3.6,5.3,5.3,5.3,5.3,6.2,6.2,6.2,6.2,5.3,5.3,5.3,5.3,2.4,2.4,2.4,3.5,3.5,3.5,2.0,1.8,1.8,1.8,3.5,2.4,2.4,1.5,1.5,1.5,1.5,3.5,3.5,3.5,3.5,1.6,1.6,2.0,2.0,5.0,3.8,3.3,3.3,2.4,2.0,2.4,2.0,2.4,2.4,2.4,2.0,2.0,2.4,2.0,2.4,1.6,1.6,1.6,1.6,3.7,3.7,3.5,3.5,3.7,3.7,3.7,3.7,3.7,3.7,5.6,3.7,5.6,3.5,3.7,3.5,3.5,2.5,3.7,5.0,5.6,3.0,3.0,5.0,2.0,3.0,5.0,5.0,5.0,3.0,5.0,5.0,3.0,5.0,5.0,5.0,5.0,5.0,5.0,5.0,5.0,5.0,5.0,2.4,3.2,2.4,3.2,2.4,3.2,2.4,3.2,2.0,2.0,2.4,2.4,2.4,2.4,2.4,5.7,3.0,3.6,3.6,6.4,2.0,2.0,2.4,2.4,2.4,2.4,2.4,3.6,3.6,3.6,3.6,3.3,1.8,1.8,2.0,2.0,1.6,1.6,2.0,2.0,1.6,1.6,2.0,2.0,2.0,2.4,1.6,1.6,1.6,2.0,2.0,3.5,2.4,3.3,2.4,3.3,1.6,1.6,2.0,2.0,2.4,2.4,2.0,2.4,6.5,5.2,5.2,2.0,3.0,2.0,2.0,5.0,5.0,5.0,3.0,3.0,3.0,5.0,5.0,5.0,3.0,3.0,3.0,5.0,5.0,5.0,1.8,2.5,3.5,3.5,3.5,3.5,4.6,2.5,2.5,2.5,3.5,3.5,3.5,5.0,4.6,4.6,4.6,5.0,5.7,3.5,3.5,3.5,3.5,3.7,3.5,2.0,3.7,3.7,2.0,3.7,2.0,5.4,5.4,3.0,3.0,4.7,4.7,3.8,3.0,2.0,2.0,2.5,2.0,2.5,3.7,3.7,1.5,1.5,2.0,2.0,2.5,2.5,2.0,2.0,2.0,2.5,2.5,2.0,2.5,2.5,2.5,2.5,2.5,2.0,2.0,2.0,2.0,1.8,1.8,3.5,3.5,3.5,3.5,3.5,3.5,6.2,6.2,4.7,5.5,2.0,2.0,4.7,5.5,5.5,2.1,3.5,3.5,3.5,3.5,3.5,3.5,3.5,4.7,4.7,4.7,5.5,5.5,5.5,5.5,5.5,5.5,3.0,4.7,4.7,5.5,2.1,3.5,3.5,3.5,3.0,4.7,5.5,4.7,4.7,5.5,4.7,5.5,6.0,1.8,1.8,3.5,5.5,6.2,6.2,6.2,1.6,1.6,1.6,1.6,1.6,1.6,1.6,1.6,1.6,1.6,1.6,1.6,1.6,1.6,1.6,1.6,1.6,1.6,1.6,1.6,1.6,1.6,1.6,1.6,1.6,1.6,1.6,1.6,1.6,1.6,1.6,1.6,1.6,1.6,1.6,1.6,2.0,2.0,2.4,2.0,2.0,2.0,2.0,2.0,1.2,1.2,2.4,2.4,3.0,2.0,2.0,2.0,3.7,3.7,3.7,3.7,2.5,3.5,5.6,2.5,2.5,4.0,4.0,4.0,3.8,1.6,1.6,1.6,3.5,3.5,2.0,3.5,3.5,2.5,3.5,2.5,2.5,1.8,1.8,5.6,5.6,1.6,1.6,4.0,4.0,3.4,3.4,3.4,3.4,3.4,3.4,3.8,3.8,3.8,3.8,3.4,3.4,3.8,3.8,3.8,3.8,3.8,3.8,3.8,3.8,3.8,2.7,2.7,3.4,3.4,3.6,3.6,3.0,4.8,4.8,3.0,4.8,2.7,2.7,3.4,3.4,3.6,3.6,3.0,3.0,4.8,3.0,4.8,4.8,5.7,5.7,5.7,5.7,3.0,3.6,3.6,3.0,3.6,3.6,3.6,3.6,3.6,6.6,6.6,6.7,6.7,6.7,6.7,6.6,2.0,2.0,1.3,2.5,2.5,2.4,2.4,1.8,1.8,1.0,1.0,8.4,8.4,2.0,2.0,2.0,2.5,2.5,2.0,2.0,2.5,2.5,2.0,2.0,2.5,2.5,2.5,2.5,3.6,2.5,2.5,3.6,3.6,2.0,2.0,2.0,4.0,4.0,3.5,2.5,3.5,2.5,2.5,1.8,1.8,1.8,1.8,1.8,1.8,1.8,1.8,4.0,4.0,2.7,3.5,3.5,3.5,3.5,1.8,1.5,1.8,2.5,2.5,2.5,5.7,3.5,3.5,2.7,2.7,4.0,2.7,2.7,4.0,4.0,4.0,4.6,5.7,4.6,5.7,2.7,3.5,2.7,3.5,1.5,1.5,1.8,1.8,2.0,2.0,2.5,2.5,1.8,2.0,2.0,2.5,2.0,2.0,2.0,2.0,3.6,2.0,2.5,2.5,2.0,2.0,1.8,1.8,2.0,2.0,2.0,2.0,2.0,2.0,1.4,1.8,1.8,2.5,2.5,3.6,2.0,2.0,3.6,2.0,2.0,2.0,3.6,3.0,2.5,2.5,3.0,3.2,3.0,3.2,3.0,3.2,3.0,3.2,3.2],\"xaxis\":\"x\",\"yaxis\":\"y\",\"type\":\"histogram\"}],                        {\"template\":{\"data\":{\"histogram2dcontour\":[{\"type\":\"histogram2dcontour\",\"colorbar\":{\"outlinewidth\":0,\"ticks\":\"\"},\"colorscale\":[[0.0,\"#0d0887\"],[0.1111111111111111,\"#46039f\"],[0.2222222222222222,\"#7201a8\"],[0.3333333333333333,\"#9c179e\"],[0.4444444444444444,\"#bd3786\"],[0.5555555555555556,\"#d8576b\"],[0.6666666666666666,\"#ed7953\"],[0.7777777777777778,\"#fb9f3a\"],[0.8888888888888888,\"#fdca26\"],[1.0,\"#f0f921\"]]}],\"choropleth\":[{\"type\":\"choropleth\",\"colorbar\":{\"outlinewidth\":0,\"ticks\":\"\"}}],\"histogram2d\":[{\"type\":\"histogram2d\",\"colorbar\":{\"outlinewidth\":0,\"ticks\":\"\"},\"colorscale\":[[0.0,\"#0d0887\"],[0.1111111111111111,\"#46039f\"],[0.2222222222222222,\"#7201a8\"],[0.3333333333333333,\"#9c179e\"],[0.4444444444444444,\"#bd3786\"],[0.5555555555555556,\"#d8576b\"],[0.6666666666666666,\"#ed7953\"],[0.7777777777777778,\"#fb9f3a\"],[0.8888888888888888,\"#fdca26\"],[1.0,\"#f0f921\"]]}],\"heatmap\":[{\"type\":\"heatmap\",\"colorbar\":{\"outlinewidth\":0,\"ticks\":\"\"},\"colorscale\":[[0.0,\"#0d0887\"],[0.1111111111111111,\"#46039f\"],[0.2222222222222222,\"#7201a8\"],[0.3333333333333333,\"#9c179e\"],[0.4444444444444444,\"#bd3786\"],[0.5555555555555556,\"#d8576b\"],[0.6666666666666666,\"#ed7953\"],[0.7777777777777778,\"#fb9f3a\"],[0.8888888888888888,\"#fdca26\"],[1.0,\"#f0f921\"]]}],\"heatmapgl\":[{\"type\":\"heatmapgl\",\"colorbar\":{\"outlinewidth\":0,\"ticks\":\"\"},\"colorscale\":[[0.0,\"#0d0887\"],[0.1111111111111111,\"#46039f\"],[0.2222222222222222,\"#7201a8\"],[0.3333333333333333,\"#9c179e\"],[0.4444444444444444,\"#bd3786\"],[0.5555555555555556,\"#d8576b\"],[0.6666666666666666,\"#ed7953\"],[0.7777777777777778,\"#fb9f3a\"],[0.8888888888888888,\"#fdca26\"],[1.0,\"#f0f921\"]]}],\"contourcarpet\":[{\"type\":\"contourcarpet\",\"colorbar\":{\"outlinewidth\":0,\"ticks\":\"\"}}],\"contour\":[{\"type\":\"contour\",\"colorbar\":{\"outlinewidth\":0,\"ticks\":\"\"},\"colorscale\":[[0.0,\"#0d0887\"],[0.1111111111111111,\"#46039f\"],[0.2222222222222222,\"#7201a8\"],[0.3333333333333333,\"#9c179e\"],[0.4444444444444444,\"#bd3786\"],[0.5555555555555556,\"#d8576b\"],[0.6666666666666666,\"#ed7953\"],[0.7777777777777778,\"#fb9f3a\"],[0.8888888888888888,\"#fdca26\"],[1.0,\"#f0f921\"]]}],\"surface\":[{\"type\":\"surface\",\"colorbar\":{\"outlinewidth\":0,\"ticks\":\"\"},\"colorscale\":[[0.0,\"#0d0887\"],[0.1111111111111111,\"#46039f\"],[0.2222222222222222,\"#7201a8\"],[0.3333333333333333,\"#9c179e\"],[0.4444444444444444,\"#bd3786\"],[0.5555555555555556,\"#d8576b\"],[0.6666666666666666,\"#ed7953\"],[0.7777777777777778,\"#fb9f3a\"],[0.8888888888888888,\"#fdca26\"],[1.0,\"#f0f921\"]]}],\"mesh3d\":[{\"type\":\"mesh3d\",\"colorbar\":{\"outlinewidth\":0,\"ticks\":\"\"}}],\"scatter\":[{\"fillpattern\":{\"fillmode\":\"overlay\",\"size\":10,\"solidity\":0.2},\"type\":\"scatter\"}],\"parcoords\":[{\"type\":\"parcoords\",\"line\":{\"colorbar\":{\"outlinewidth\":0,\"ticks\":\"\"}}}],\"scatterpolargl\":[{\"type\":\"scatterpolargl\",\"marker\":{\"colorbar\":{\"outlinewidth\":0,\"ticks\":\"\"}}}],\"bar\":[{\"error_x\":{\"color\":\"#2a3f5f\"},\"error_y\":{\"color\":\"#2a3f5f\"},\"marker\":{\"line\":{\"color\":\"#E5ECF6\",\"width\":0.5},\"pattern\":{\"fillmode\":\"overlay\",\"size\":10,\"solidity\":0.2}},\"type\":\"bar\"}],\"scattergeo\":[{\"type\":\"scattergeo\",\"marker\":{\"colorbar\":{\"outlinewidth\":0,\"ticks\":\"\"}}}],\"scatterpolar\":[{\"type\":\"scatterpolar\",\"marker\":{\"colorbar\":{\"outlinewidth\":0,\"ticks\":\"\"}}}],\"histogram\":[{\"marker\":{\"pattern\":{\"fillmode\":\"overlay\",\"size\":10,\"solidity\":0.2}},\"type\":\"histogram\"}],\"scattergl\":[{\"type\":\"scattergl\",\"marker\":{\"colorbar\":{\"outlinewidth\":0,\"ticks\":\"\"}}}],\"scatter3d\":[{\"type\":\"scatter3d\",\"line\":{\"colorbar\":{\"outlinewidth\":0,\"ticks\":\"\"}},\"marker\":{\"colorbar\":{\"outlinewidth\":0,\"ticks\":\"\"}}}],\"scattermapbox\":[{\"type\":\"scattermapbox\",\"marker\":{\"colorbar\":{\"outlinewidth\":0,\"ticks\":\"\"}}}],\"scatterternary\":[{\"type\":\"scatterternary\",\"marker\":{\"colorbar\":{\"outlinewidth\":0,\"ticks\":\"\"}}}],\"scattercarpet\":[{\"type\":\"scattercarpet\",\"marker\":{\"colorbar\":{\"outlinewidth\":0,\"ticks\":\"\"}}}],\"carpet\":[{\"aaxis\":{\"endlinecolor\":\"#2a3f5f\",\"gridcolor\":\"white\",\"linecolor\":\"white\",\"minorgridcolor\":\"white\",\"startlinecolor\":\"#2a3f5f\"},\"baxis\":{\"endlinecolor\":\"#2a3f5f\",\"gridcolor\":\"white\",\"linecolor\":\"white\",\"minorgridcolor\":\"white\",\"startlinecolor\":\"#2a3f5f\"},\"type\":\"carpet\"}],\"table\":[{\"cells\":{\"fill\":{\"color\":\"#EBF0F8\"},\"line\":{\"color\":\"white\"}},\"header\":{\"fill\":{\"color\":\"#C8D4E3\"},\"line\":{\"color\":\"white\"}},\"type\":\"table\"}],\"barpolar\":[{\"marker\":{\"line\":{\"color\":\"#E5ECF6\",\"width\":0.5},\"pattern\":{\"fillmode\":\"overlay\",\"size\":10,\"solidity\":0.2}},\"type\":\"barpolar\"}],\"pie\":[{\"automargin\":true,\"type\":\"pie\"}]},\"layout\":{\"autotypenumbers\":\"strict\",\"colorway\":[\"#636efa\",\"#EF553B\",\"#00cc96\",\"#ab63fa\",\"#FFA15A\",\"#19d3f3\",\"#FF6692\",\"#B6E880\",\"#FF97FF\",\"#FECB52\"],\"font\":{\"color\":\"#2a3f5f\"},\"hovermode\":\"closest\",\"hoverlabel\":{\"align\":\"left\"},\"paper_bgcolor\":\"white\",\"plot_bgcolor\":\"#E5ECF6\",\"polar\":{\"bgcolor\":\"#E5ECF6\",\"angularaxis\":{\"gridcolor\":\"white\",\"linecolor\":\"white\",\"ticks\":\"\"},\"radialaxis\":{\"gridcolor\":\"white\",\"linecolor\":\"white\",\"ticks\":\"\"}},\"ternary\":{\"bgcolor\":\"#E5ECF6\",\"aaxis\":{\"gridcolor\":\"white\",\"linecolor\":\"white\",\"ticks\":\"\"},\"baxis\":{\"gridcolor\":\"white\",\"linecolor\":\"white\",\"ticks\":\"\"},\"caxis\":{\"gridcolor\":\"white\",\"linecolor\":\"white\",\"ticks\":\"\"}},\"coloraxis\":{\"colorbar\":{\"outlinewidth\":0,\"ticks\":\"\"}},\"colorscale\":{\"sequential\":[[0.0,\"#0d0887\"],[0.1111111111111111,\"#46039f\"],[0.2222222222222222,\"#7201a8\"],[0.3333333333333333,\"#9c179e\"],[0.4444444444444444,\"#bd3786\"],[0.5555555555555556,\"#d8576b\"],[0.6666666666666666,\"#ed7953\"],[0.7777777777777778,\"#fb9f3a\"],[0.8888888888888888,\"#fdca26\"],[1.0,\"#f0f921\"]],\"sequentialminus\":[[0.0,\"#0d0887\"],[0.1111111111111111,\"#46039f\"],[0.2222222222222222,\"#7201a8\"],[0.3333333333333333,\"#9c179e\"],[0.4444444444444444,\"#bd3786\"],[0.5555555555555556,\"#d8576b\"],[0.6666666666666666,\"#ed7953\"],[0.7777777777777778,\"#fb9f3a\"],[0.8888888888888888,\"#fdca26\"],[1.0,\"#f0f921\"]],\"diverging\":[[0,\"#8e0152\"],[0.1,\"#c51b7d\"],[0.2,\"#de77ae\"],[0.3,\"#f1b6da\"],[0.4,\"#fde0ef\"],[0.5,\"#f7f7f7\"],[0.6,\"#e6f5d0\"],[0.7,\"#b8e186\"],[0.8,\"#7fbc41\"],[0.9,\"#4d9221\"],[1,\"#276419\"]]},\"xaxis\":{\"gridcolor\":\"white\",\"linecolor\":\"white\",\"ticks\":\"\",\"title\":{\"standoff\":15},\"zerolinecolor\":\"white\",\"automargin\":true,\"zerolinewidth\":2},\"yaxis\":{\"gridcolor\":\"white\",\"linecolor\":\"white\",\"ticks\":\"\",\"title\":{\"standoff\":15},\"zerolinecolor\":\"white\",\"automargin\":true,\"zerolinewidth\":2},\"scene\":{\"xaxis\":{\"backgroundcolor\":\"#E5ECF6\",\"gridcolor\":\"white\",\"linecolor\":\"white\",\"showbackground\":true,\"ticks\":\"\",\"zerolinecolor\":\"white\",\"gridwidth\":2},\"yaxis\":{\"backgroundcolor\":\"#E5ECF6\",\"gridcolor\":\"white\",\"linecolor\":\"white\",\"showbackground\":true,\"ticks\":\"\",\"zerolinecolor\":\"white\",\"gridwidth\":2},\"zaxis\":{\"backgroundcolor\":\"#E5ECF6\",\"gridcolor\":\"white\",\"linecolor\":\"white\",\"showbackground\":true,\"ticks\":\"\",\"zerolinecolor\":\"white\",\"gridwidth\":2}},\"shapedefaults\":{\"line\":{\"color\":\"#2a3f5f\"}},\"annotationdefaults\":{\"arrowcolor\":\"#2a3f5f\",\"arrowhead\":0,\"arrowwidth\":1},\"geo\":{\"bgcolor\":\"white\",\"landcolor\":\"#E5ECF6\",\"subunitcolor\":\"white\",\"showland\":true,\"showlakes\":true,\"lakecolor\":\"white\"},\"title\":{\"x\":0.05},\"mapbox\":{\"style\":\"light\"}}},\"xaxis\":{\"anchor\":\"y\",\"domain\":[0.0,1.0],\"title\":{\"text\":\"Engine Size\"}},\"yaxis\":{\"anchor\":\"x\",\"domain\":[0.0,1.0],\"title\":{\"text\":\"Count\"}},\"legend\":{\"tracegroupgap\":0},\"margin\":{\"t\":60},\"barmode\":\"relative\",\"height\":400,\"width\":600,\"title\":{\"text\":\"Engine Size\"}},                        {\"responsive\": true}                    ).then(function(){\n",
       "                            \n",
       "var gd = document.getElementById('dcd7262a-2d4e-411c-9201-09eeecee1869');\n",
       "var x = new MutationObserver(function (mutations, observer) {{\n",
       "        var display = window.getComputedStyle(gd).display;\n",
       "        if (!display || display === 'none') {{\n",
       "            console.log([gd, 'removed!']);\n",
       "            Plotly.purge(gd);\n",
       "            observer.disconnect();\n",
       "        }}\n",
       "}});\n",
       "\n",
       "// Listen for the removal of the full notebook cells\n",
       "var notebookContainer = gd.closest('#notebook-container');\n",
       "if (notebookContainer) {{\n",
       "    x.observe(notebookContainer, {childList: true});\n",
       "}}\n",
       "\n",
       "// Listen for the clearing of the current output cell\n",
       "var outputEl = gd.closest('.output');\n",
       "if (outputEl) {{\n",
       "    x.observe(outputEl, {childList: true});\n",
       "}}\n",
       "\n",
       "                        })                };                });            </script>        </div>"
      ]
     },
     "metadata": {},
     "output_type": "display_data"
    }
   ],
   "source": [
    "fig_config = {\n",
    "    'data_frame': df,\n",
    "    'x': 'engine_size',\n",
    "    'nbins': 8,\n",
    "    'width': 600, \n",
    "    'height': 400\n",
    "}\n",
    "\n",
    "layout_config = {\n",
    "    'title': 'Engine Size',\n",
    "    'xaxis_title': 'Engine Size',\n",
    "    'yaxis_title': 'Count',\n",
    "}\n",
    "\n",
    "fig = px.histogram(**fig_config)\n",
    "fig.update_layout(**layout_config)\n",
    "fig.show()"
   ]
  },
  {
   "cell_type": "code",
   "execution_count": 202,
   "metadata": {},
   "outputs": [
    {
     "data": {
      "application/vnd.plotly.v1+json": {
       "config": {
        "plotlyServerURL": "https://plot.ly"
       },
       "data": [
        {
         "alignmentgroup": "True",
         "bingroup": "x",
         "hovertemplate": "fuel_consumption=%{x}<br>count=%{y}<extra></extra>",
         "legendgroup": "",
         "marker": {
          "color": "#636efa",
          "pattern": {
           "shape": ""
          }
         },
         "name": "",
         "nbinsx": 6,
         "offsetgroup": "",
         "orientation": "v",
         "showlegend": false,
         "type": "histogram",
         "x": [
          8.5,
          9.6,
          5.9,
          11.1,
          10.6,
          10,
          10.1,
          11.1,
          11.6,
          9.2,
          9.8,
          10.4,
          15.6,
          15.6,
          14.7,
          15.4,
          14.7,
          15.4,
          15.6,
          8.8,
          10,
          9.3,
          10,
          10,
          9.3,
          10.2,
          10.9,
          8.3,
          11.2,
          8.3,
          11.2,
          11.3,
          8.4,
          11.2,
          12.5,
          15.7,
          8.5,
          10.5,
          10.4,
          11.2,
          9.2,
          9.1,
          13.2,
          10.9,
          14.6,
          17.7,
          15.4,
          17.8,
          14.6,
          17.7,
          15.4,
          17.8,
          13.3,
          13.4,
          12.6,
          11.4,
          12.4,
          11.4,
          12.4,
          11.6,
          12.2,
          12.2,
          12.9,
          12.7,
          9.1,
          9.1,
          10.3,
          10.3,
          12.9,
          15.5,
          13.9,
          16.5,
          14,
          16.5,
          16.5,
          19,
          8.4,
          8.7,
          8.8,
          6.7,
          6.7,
          8.4,
          8.7,
          9.1,
          9.1,
          9.1,
          9.6,
          10,
          9.9,
          10.3,
          10.1,
          8.4,
          8.7,
          9.1,
          9.6,
          10,
          9.9,
          10.3,
          8.8,
          9.1,
          7.9,
          10.1,
          10.7,
          12.2,
          12.7,
          10.1,
          12.7,
          12.2,
          12.7,
          10.7,
          12.7,
          12.7,
          15.5,
          8.3,
          9.3,
          9.2,
          12.7,
          12.7,
          14.7,
          13.8,
          14.7,
          13.8,
          14.7,
          13.8,
          14.7,
          13.8,
          9.1,
          11.3,
          10,
          11,
          11.1,
          13.9,
          16.1,
          11.9,
          14.1,
          9.1,
          8.7,
          12.1,
          11,
          12.1,
          12.3,
          12.6,
          8.5,
          9.2,
          11.5,
          15.6,
          11.5,
          16.5,
          8.2,
          9.9,
          9.8,
          10.7,
          8.2,
          9.9,
          9.8,
          9.5,
          9.6,
          10.2,
          9,
          10.9,
          10.1,
          11.3,
          11.2,
          11.4,
          10.1,
          10.8,
          10.8,
          11.3,
          12.8,
          11,
          11.3,
          11.1,
          11.4,
          16.6,
          14.8,
          16.6,
          14.8,
          16.6,
          14.8,
          14.7,
          20.1,
          16.4,
          22.1,
          12.3,
          12.8,
          11.4,
          11.8,
          12.6,
          11.2,
          11.7,
          10.5,
          12.8,
          12.7,
          16.6,
          14.8,
          12,
          11.2,
          7.8,
          7.8,
          8.8,
          8.2,
          7.1,
          7.7,
          7.1,
          9.1,
          12,
          16.2,
          10,
          12.6,
          17,
          15.1,
          15.9,
          20.9,
          16.5,
          21.5,
          16.5,
          21.5,
          16.5,
          22.6,
          16.5,
          21.5,
          16.5,
          22.6,
          18,
          18.8,
          25.7,
          18.2,
          18.9,
          25.8,
          9.6,
          10.6,
          14.3,
          8.7,
          9.9,
          8,
          10.6,
          10.2,
          11.8,
          16.8,
          12.7,
          16.9,
          14.1,
          12.6,
          17.8,
          13,
          17.3,
          14.3,
          8,
          7.5,
          8.3,
          7.9,
          8,
          7.5,
          8.3,
          7.9,
          8.3,
          7.9,
          8.3,
          7.9,
          6.9,
          6.9,
          13.8,
          18.4,
          13.8,
          18.4,
          13.8,
          18.4,
          13.8,
          18.4,
          12.3,
          12.6,
          8.4,
          8.1,
          9,
          10.3,
          10.1,
          10.7,
          10.5,
          14.4,
          9.8,
          10,
          10.5,
          14.4,
          12.8,
          10.9,
          13.4,
          10.9,
          14.8,
          10.3,
          13.9,
          13.8,
          12,
          16.8,
          9.8,
          10,
          10.5,
          14.4,
          11.2,
          13.1,
          12.8,
          13.9,
          13.8,
          11.2,
          10.3,
          12.8,
          10.9,
          13.4,
          10.9,
          14.8,
          11.2,
          15.7,
          10.2,
          13.9,
          13.8,
          8.1,
          8.6,
          8.8,
          8.6,
          12.2,
          9.2,
          8.8,
          7.3,
          7.3,
          14.4,
          12.1,
          15.6,
          11.8,
          16.5,
          11.1,
          12.4,
          12,
          16.2,
          7.8,
          7.8,
          7.9,
          7.2,
          7.8,
          7.9,
          6.8,
          7.8,
          8.7,
          8.4,
          6,
          16.2,
          21.9,
          17.2,
          22.5,
          16.8,
          23,
          21.2,
          18.3,
          23.9,
          9.8,
          10.8,
          11.5,
          12.2,
          9.1,
          9.6,
          9.4,
          9.3,
          10,
          16,
          21.6,
          10.2,
          13,
          11.9,
          15.9,
          12.5,
          16.7,
          12.7,
          12.8,
          15.9,
          13.8,
          13.4,
          17.5,
          12.3,
          16.5,
          12.3,
          16.5,
          14.6,
          19.7,
          14.6,
          19.7,
          13.4,
          18,
          13.4,
          18,
          14.9,
          20,
          14.8,
          19.9,
          18,
          7.6,
          7.6,
          6.6,
          7,
          8,
          11.5,
          12.1,
          12.8,
          8.9,
          7.7,
          10.3,
          7.8,
          10.3,
          8,
          10.6,
          7.2,
          10.1,
          8.5,
          8.1,
          9,
          8.9,
          8.1,
          9.4,
          5.5,
          10.2,
          10.6,
          11.5,
          12.7,
          13.2,
          10.6,
          9.1,
          11.8,
          10.3,
          14.3,
          11.2,
          15.7,
          9.5,
          9.9,
          10.1,
          10.4,
          12.3,
          12.9,
          15.1,
          15.9,
          20.9,
          16.5,
          21.5,
          16.5,
          21.5,
          16.5,
          22.6,
          16.5,
          21.5,
          16.5,
          22.6,
          18,
          18.8,
          25.7,
          18.2,
          18.9,
          25.8,
          11.8,
          16.8,
          12.7,
          16.9,
          14.1,
          12.6,
          17.8,
          13,
          17.3,
          14.3,
          9.1,
          12,
          16.2,
          10,
          12.6,
          17,
          13.8,
          18.4,
          13.8,
          18.4,
          14.7,
          20.1,
          16.4,
          22.1,
          13.8,
          18.4,
          13.8,
          18.4,
          7.9,
          8.1,
          8.7,
          9.1,
          9.6,
          10.9,
          4.8,
          7,
          7.2,
          7.6,
          10.7,
          9.1,
          9.4,
          6.3,
          6.9,
          7.5,
          7.7,
          10.6,
          11.5,
          12,
          13.4,
          7.7,
          7.7,
          8.6,
          8.5,
          13.2,
          11.1,
          11.2,
          11.6,
          10.3,
          11.5,
          11.1,
          9.6,
          8.5,
          6.2,
          6.3,
          9.3,
          10.1,
          10,
          10.5,
          10.6,
          7.7,
          8,
          8.8,
          8.5,
          10.2,
          10.8,
          7.5,
          8.2,
          11.5,
          11.7,
          12.3,
          11.1,
          11.6,
          11,
          12.3,
          11.6,
          12.8,
          7.6,
          11.8,
          10.6,
          11,
          8.5,
          12.8,
          14.5,
          15,
          10.3,
          10.6,
          12.8,
          10.5,
          12.2,
          13.3,
          18.1,
          13.3,
          12.4,
          13.3,
          17.5,
          12.4,
          13.3,
          17.5,
          13.3,
          13.3,
          13.1,
          12.6,
          13.7,
          13.5,
          13.7,
          13.5,
          9.5,
          10.5,
          10,
          10.8,
          10.1,
          11,
          10.9,
          11.6,
          9.8,
          9.1,
          9.8,
          9.4,
          10.2,
          9.4,
          11.1,
          14.8,
          9.9,
          12.1,
          15.6,
          15.8,
          9.8,
          9.1,
          9.8,
          9.4,
          10.2,
          9.4,
          11.1,
          12.8,
          12.8,
          13.4,
          13.4,
          10.9,
          8.3,
          8,
          8.4,
          8.4,
          9.7,
          9.8,
          8.4,
          8.5,
          9.4,
          9.6,
          8.4,
          8.6,
          9.9,
          8.7,
          7.6,
          7.7,
          7.6,
          9.2,
          9.3,
          12,
          10.3,
          11.4,
          11,
          11.8,
          8.9,
          9,
          9.1,
          8.8,
          10,
          11.3,
          11.4,
          10.7,
          18.3,
          15.7,
          17.4,
          11.9,
          14.5,
          9.8,
          9.8,
          15.4,
          15.1,
          21.4,
          12.4,
          12.4,
          17.4,
          15,
          14.7,
          20.7,
          12.3,
          12.3,
          17.3,
          15.4,
          15.1,
          21.4,
          5.6,
          6,
          9.6,
          10.4,
          11,
          7.6,
          13.9,
          9.7,
          10.4,
          9.7,
          10.6,
          11,
          10.6,
          12.6,
          12.3,
          12.9,
          12.9,
          11.4,
          16.5,
          11.7,
          11.1,
          8.2,
          11.8,
          11.3,
          12.8,
          10.2,
          12.2,
          12.2,
          9,
          11.4,
          6.3,
          16,
          21.6,
          12.7,
          12.7,
          15.1,
          15.3,
          14.5,
          13.1,
          8.2,
          8,
          8.6,
          8.5,
          8.9,
          12.3,
          12.6,
          7.7,
          7.4,
          6.9,
          7,
          7.4,
          7.3,
          7,
          7.1,
          7.2,
          7.7,
          7.3,
          7.2,
          9.7,
          9.8,
          7.6,
          8.1,
          7.3,
          10.2,
          9.6,
          9.9,
          8,
          9.4,
          9.4,
          10.5,
          14,
          10.5,
          10.4,
          10.6,
          10.5,
          15.1,
          15.3,
          13.2,
          13.4,
          7.8,
          9.2,
          11.5,
          13.1,
          13.1,
          7.2,
          10.2,
          10,
          10.4,
          10.5,
          10.4,
          10.2,
          8.8,
          11.6,
          11.7,
          11.4,
          12.9,
          13.5,
          12.9,
          13.5,
          18.2,
          17.7,
          12,
          15.2,
          15.6,
          15.8,
          8.5,
          11.3,
          12.1,
          16,
          10.3,
          14.2,
          15.5,
          12.1,
          12,
          13.2,
          11.7,
          12.7,
          14.2,
          8.9,
          9,
          9.8,
          10.7,
          16.5,
          15.7,
          15.7,
          7.8,
          7.8,
          7.8,
          7.8,
          8.7,
          7.8,
          7.6,
          7.3,
          8.7,
          7.8,
          7.8,
          7.8,
          8.3,
          8,
          8.3,
          8,
          9,
          8.5,
          8.3,
          8,
          9,
          8.5,
          8.3,
          8,
          8.3,
          8,
          8.3,
          8,
          9,
          8.5,
          8.3,
          8,
          9,
          8.5,
          8.3,
          8,
          8.2,
          8.3,
          9.5,
          12.5,
          12.3,
          11.6,
          8.6,
          8.6,
          6,
          6.4,
          8.6,
          9.1,
          10.2,
          8.7,
          8.8,
          9,
          11,
          11.5,
          11.4,
          11.7,
          7.6,
          9.3,
          16.5,
          12.3,
          11.3,
          12.7,
          13.7,
          13.1,
          12.9,
          8.1,
          8.6,
          8.7,
          10.9,
          11.8,
          9.3,
          10.6,
          11,
          8.8,
          11.1,
          8.3,
          8.6,
          7,
          7.8,
          15.6,
          17.3,
          6.6,
          7.7,
          14.2,
          13.7,
          10.1,
          10.7,
          10.3,
          10.7,
          10.5,
          11,
          10.8,
          11,
          11,
          11.2,
          10.1,
          10.7,
          10.6,
          10.8,
          10.7,
          10.9,
          14,
          11.9,
          11.9,
          11.9,
          11.9,
          9.2,
          9.9,
          9.8,
          10.4,
          12,
          13.6,
          10.4,
          13.9,
          13,
          10.9,
          13.7,
          9.2,
          9.9,
          9.8,
          10.4,
          10.9,
          11.1,
          11.3,
          11.5,
          12.7,
          11.3,
          12.8,
          12.9,
          14.8,
          13.6,
          15.4,
          14.1,
          10.6,
          12.6,
          17.8,
          10.2,
          11.9,
          16.8,
          11.3,
          11.4,
          15.9,
          16,
          16,
          17.1,
          17.1,
          17.1,
          17.1,
          15.6,
          8.4,
          9.5,
          6.2,
          9,
          9,
          9.9,
          9.9,
          8,
          7.9,
          6.4,
          6.4,
          16.9,
          16.9,
          8.5,
          9.6,
          9.5,
          8.6,
          9.7,
          7.8,
          8.5,
          11.2,
          12.5,
          7.8,
          8.5,
          11.2,
          12.5,
          8.6,
          9.9,
          11.6,
          9,
          9.8,
          11.7,
          13.1,
          8.5,
          9.2,
          7.7,
          12.9,
          12.9,
          9.6,
          8.2,
          9.6,
          5.7,
          6,
          7.7,
          7.3,
          7.1,
          7.4,
          6.8,
          6.9,
          8.5,
          8.2,
          12.9,
          13.9,
          10.3,
          11.2,
          11.5,
          8.3,
          8.2,
          4.8,
          4.7,
          5.5,
          8.9,
          9.4,
          9.5,
          16.7,
          11.3,
          12.4,
          10.9,
          10.2,
          13.1,
          11.9,
          11.8,
          13.3,
          14,
          13.5,
          14.3,
          15.5,
          15.1,
          16.2,
          10,
          11,
          10.2,
          11.3,
          7.3,
          7.1,
          8.5,
          8.7,
          9.1,
          9.4,
          9.8,
          9.6,
          8.7,
          9.3,
          9.4,
          10.1,
          7.3,
          7.3,
          9.7,
          9.8,
          12.3,
          9.6,
          9.5,
          9.4,
          7.2,
          6.9,
          8.2,
          8.2,
          9.4,
          9,
          9,
          9.2,
          6.9,
          6.9,
          5.4,
          8.6,
          8.6,
          9.7,
          9.8,
          10.8,
          7.1,
          6.8,
          12.1,
          10.7,
          11.6,
          10.7,
          12.2,
          10.4,
          9.7,
          10.1,
          11.5,
          10.2,
          11.5,
          11.2,
          11.8,
          11.5,
          11.8,
          11.3,
          12.8
         ],
         "xaxis": "x",
         "yaxis": "y"
        }
       ],
       "layout": {
        "barmode": "relative",
        "height": 400,
        "legend": {
         "tracegroupgap": 0
        },
        "margin": {
         "t": 60
        },
        "template": {
         "data": {
          "bar": [
           {
            "error_x": {
             "color": "#2a3f5f"
            },
            "error_y": {
             "color": "#2a3f5f"
            },
            "marker": {
             "line": {
              "color": "#E5ECF6",
              "width": 0.5
             },
             "pattern": {
              "fillmode": "overlay",
              "size": 10,
              "solidity": 0.2
             }
            },
            "type": "bar"
           }
          ],
          "barpolar": [
           {
            "marker": {
             "line": {
              "color": "#E5ECF6",
              "width": 0.5
             },
             "pattern": {
              "fillmode": "overlay",
              "size": 10,
              "solidity": 0.2
             }
            },
            "type": "barpolar"
           }
          ],
          "carpet": [
           {
            "aaxis": {
             "endlinecolor": "#2a3f5f",
             "gridcolor": "white",
             "linecolor": "white",
             "minorgridcolor": "white",
             "startlinecolor": "#2a3f5f"
            },
            "baxis": {
             "endlinecolor": "#2a3f5f",
             "gridcolor": "white",
             "linecolor": "white",
             "minorgridcolor": "white",
             "startlinecolor": "#2a3f5f"
            },
            "type": "carpet"
           }
          ],
          "choropleth": [
           {
            "colorbar": {
             "outlinewidth": 0,
             "ticks": ""
            },
            "type": "choropleth"
           }
          ],
          "contour": [
           {
            "colorbar": {
             "outlinewidth": 0,
             "ticks": ""
            },
            "colorscale": [
             [
              0,
              "#0d0887"
             ],
             [
              0.1111111111111111,
              "#46039f"
             ],
             [
              0.2222222222222222,
              "#7201a8"
             ],
             [
              0.3333333333333333,
              "#9c179e"
             ],
             [
              0.4444444444444444,
              "#bd3786"
             ],
             [
              0.5555555555555556,
              "#d8576b"
             ],
             [
              0.6666666666666666,
              "#ed7953"
             ],
             [
              0.7777777777777778,
              "#fb9f3a"
             ],
             [
              0.8888888888888888,
              "#fdca26"
             ],
             [
              1,
              "#f0f921"
             ]
            ],
            "type": "contour"
           }
          ],
          "contourcarpet": [
           {
            "colorbar": {
             "outlinewidth": 0,
             "ticks": ""
            },
            "type": "contourcarpet"
           }
          ],
          "heatmap": [
           {
            "colorbar": {
             "outlinewidth": 0,
             "ticks": ""
            },
            "colorscale": [
             [
              0,
              "#0d0887"
             ],
             [
              0.1111111111111111,
              "#46039f"
             ],
             [
              0.2222222222222222,
              "#7201a8"
             ],
             [
              0.3333333333333333,
              "#9c179e"
             ],
             [
              0.4444444444444444,
              "#bd3786"
             ],
             [
              0.5555555555555556,
              "#d8576b"
             ],
             [
              0.6666666666666666,
              "#ed7953"
             ],
             [
              0.7777777777777778,
              "#fb9f3a"
             ],
             [
              0.8888888888888888,
              "#fdca26"
             ],
             [
              1,
              "#f0f921"
             ]
            ],
            "type": "heatmap"
           }
          ],
          "heatmapgl": [
           {
            "colorbar": {
             "outlinewidth": 0,
             "ticks": ""
            },
            "colorscale": [
             [
              0,
              "#0d0887"
             ],
             [
              0.1111111111111111,
              "#46039f"
             ],
             [
              0.2222222222222222,
              "#7201a8"
             ],
             [
              0.3333333333333333,
              "#9c179e"
             ],
             [
              0.4444444444444444,
              "#bd3786"
             ],
             [
              0.5555555555555556,
              "#d8576b"
             ],
             [
              0.6666666666666666,
              "#ed7953"
             ],
             [
              0.7777777777777778,
              "#fb9f3a"
             ],
             [
              0.8888888888888888,
              "#fdca26"
             ],
             [
              1,
              "#f0f921"
             ]
            ],
            "type": "heatmapgl"
           }
          ],
          "histogram": [
           {
            "marker": {
             "pattern": {
              "fillmode": "overlay",
              "size": 10,
              "solidity": 0.2
             }
            },
            "type": "histogram"
           }
          ],
          "histogram2d": [
           {
            "colorbar": {
             "outlinewidth": 0,
             "ticks": ""
            },
            "colorscale": [
             [
              0,
              "#0d0887"
             ],
             [
              0.1111111111111111,
              "#46039f"
             ],
             [
              0.2222222222222222,
              "#7201a8"
             ],
             [
              0.3333333333333333,
              "#9c179e"
             ],
             [
              0.4444444444444444,
              "#bd3786"
             ],
             [
              0.5555555555555556,
              "#d8576b"
             ],
             [
              0.6666666666666666,
              "#ed7953"
             ],
             [
              0.7777777777777778,
              "#fb9f3a"
             ],
             [
              0.8888888888888888,
              "#fdca26"
             ],
             [
              1,
              "#f0f921"
             ]
            ],
            "type": "histogram2d"
           }
          ],
          "histogram2dcontour": [
           {
            "colorbar": {
             "outlinewidth": 0,
             "ticks": ""
            },
            "colorscale": [
             [
              0,
              "#0d0887"
             ],
             [
              0.1111111111111111,
              "#46039f"
             ],
             [
              0.2222222222222222,
              "#7201a8"
             ],
             [
              0.3333333333333333,
              "#9c179e"
             ],
             [
              0.4444444444444444,
              "#bd3786"
             ],
             [
              0.5555555555555556,
              "#d8576b"
             ],
             [
              0.6666666666666666,
              "#ed7953"
             ],
             [
              0.7777777777777778,
              "#fb9f3a"
             ],
             [
              0.8888888888888888,
              "#fdca26"
             ],
             [
              1,
              "#f0f921"
             ]
            ],
            "type": "histogram2dcontour"
           }
          ],
          "mesh3d": [
           {
            "colorbar": {
             "outlinewidth": 0,
             "ticks": ""
            },
            "type": "mesh3d"
           }
          ],
          "parcoords": [
           {
            "line": {
             "colorbar": {
              "outlinewidth": 0,
              "ticks": ""
             }
            },
            "type": "parcoords"
           }
          ],
          "pie": [
           {
            "automargin": true,
            "type": "pie"
           }
          ],
          "scatter": [
           {
            "fillpattern": {
             "fillmode": "overlay",
             "size": 10,
             "solidity": 0.2
            },
            "type": "scatter"
           }
          ],
          "scatter3d": [
           {
            "line": {
             "colorbar": {
              "outlinewidth": 0,
              "ticks": ""
             }
            },
            "marker": {
             "colorbar": {
              "outlinewidth": 0,
              "ticks": ""
             }
            },
            "type": "scatter3d"
           }
          ],
          "scattercarpet": [
           {
            "marker": {
             "colorbar": {
              "outlinewidth": 0,
              "ticks": ""
             }
            },
            "type": "scattercarpet"
           }
          ],
          "scattergeo": [
           {
            "marker": {
             "colorbar": {
              "outlinewidth": 0,
              "ticks": ""
             }
            },
            "type": "scattergeo"
           }
          ],
          "scattergl": [
           {
            "marker": {
             "colorbar": {
              "outlinewidth": 0,
              "ticks": ""
             }
            },
            "type": "scattergl"
           }
          ],
          "scattermapbox": [
           {
            "marker": {
             "colorbar": {
              "outlinewidth": 0,
              "ticks": ""
             }
            },
            "type": "scattermapbox"
           }
          ],
          "scatterpolar": [
           {
            "marker": {
             "colorbar": {
              "outlinewidth": 0,
              "ticks": ""
             }
            },
            "type": "scatterpolar"
           }
          ],
          "scatterpolargl": [
           {
            "marker": {
             "colorbar": {
              "outlinewidth": 0,
              "ticks": ""
             }
            },
            "type": "scatterpolargl"
           }
          ],
          "scatterternary": [
           {
            "marker": {
             "colorbar": {
              "outlinewidth": 0,
              "ticks": ""
             }
            },
            "type": "scatterternary"
           }
          ],
          "surface": [
           {
            "colorbar": {
             "outlinewidth": 0,
             "ticks": ""
            },
            "colorscale": [
             [
              0,
              "#0d0887"
             ],
             [
              0.1111111111111111,
              "#46039f"
             ],
             [
              0.2222222222222222,
              "#7201a8"
             ],
             [
              0.3333333333333333,
              "#9c179e"
             ],
             [
              0.4444444444444444,
              "#bd3786"
             ],
             [
              0.5555555555555556,
              "#d8576b"
             ],
             [
              0.6666666666666666,
              "#ed7953"
             ],
             [
              0.7777777777777778,
              "#fb9f3a"
             ],
             [
              0.8888888888888888,
              "#fdca26"
             ],
             [
              1,
              "#f0f921"
             ]
            ],
            "type": "surface"
           }
          ],
          "table": [
           {
            "cells": {
             "fill": {
              "color": "#EBF0F8"
             },
             "line": {
              "color": "white"
             }
            },
            "header": {
             "fill": {
              "color": "#C8D4E3"
             },
             "line": {
              "color": "white"
             }
            },
            "type": "table"
           }
          ]
         },
         "layout": {
          "annotationdefaults": {
           "arrowcolor": "#2a3f5f",
           "arrowhead": 0,
           "arrowwidth": 1
          },
          "autotypenumbers": "strict",
          "coloraxis": {
           "colorbar": {
            "outlinewidth": 0,
            "ticks": ""
           }
          },
          "colorscale": {
           "diverging": [
            [
             0,
             "#8e0152"
            ],
            [
             0.1,
             "#c51b7d"
            ],
            [
             0.2,
             "#de77ae"
            ],
            [
             0.3,
             "#f1b6da"
            ],
            [
             0.4,
             "#fde0ef"
            ],
            [
             0.5,
             "#f7f7f7"
            ],
            [
             0.6,
             "#e6f5d0"
            ],
            [
             0.7,
             "#b8e186"
            ],
            [
             0.8,
             "#7fbc41"
            ],
            [
             0.9,
             "#4d9221"
            ],
            [
             1,
             "#276419"
            ]
           ],
           "sequential": [
            [
             0,
             "#0d0887"
            ],
            [
             0.1111111111111111,
             "#46039f"
            ],
            [
             0.2222222222222222,
             "#7201a8"
            ],
            [
             0.3333333333333333,
             "#9c179e"
            ],
            [
             0.4444444444444444,
             "#bd3786"
            ],
            [
             0.5555555555555556,
             "#d8576b"
            ],
            [
             0.6666666666666666,
             "#ed7953"
            ],
            [
             0.7777777777777778,
             "#fb9f3a"
            ],
            [
             0.8888888888888888,
             "#fdca26"
            ],
            [
             1,
             "#f0f921"
            ]
           ],
           "sequentialminus": [
            [
             0,
             "#0d0887"
            ],
            [
             0.1111111111111111,
             "#46039f"
            ],
            [
             0.2222222222222222,
             "#7201a8"
            ],
            [
             0.3333333333333333,
             "#9c179e"
            ],
            [
             0.4444444444444444,
             "#bd3786"
            ],
            [
             0.5555555555555556,
             "#d8576b"
            ],
            [
             0.6666666666666666,
             "#ed7953"
            ],
            [
             0.7777777777777778,
             "#fb9f3a"
            ],
            [
             0.8888888888888888,
             "#fdca26"
            ],
            [
             1,
             "#f0f921"
            ]
           ]
          },
          "colorway": [
           "#636efa",
           "#EF553B",
           "#00cc96",
           "#ab63fa",
           "#FFA15A",
           "#19d3f3",
           "#FF6692",
           "#B6E880",
           "#FF97FF",
           "#FECB52"
          ],
          "font": {
           "color": "#2a3f5f"
          },
          "geo": {
           "bgcolor": "white",
           "lakecolor": "white",
           "landcolor": "#E5ECF6",
           "showlakes": true,
           "showland": true,
           "subunitcolor": "white"
          },
          "hoverlabel": {
           "align": "left"
          },
          "hovermode": "closest",
          "mapbox": {
           "style": "light"
          },
          "paper_bgcolor": "white",
          "plot_bgcolor": "#E5ECF6",
          "polar": {
           "angularaxis": {
            "gridcolor": "white",
            "linecolor": "white",
            "ticks": ""
           },
           "bgcolor": "#E5ECF6",
           "radialaxis": {
            "gridcolor": "white",
            "linecolor": "white",
            "ticks": ""
           }
          },
          "scene": {
           "xaxis": {
            "backgroundcolor": "#E5ECF6",
            "gridcolor": "white",
            "gridwidth": 2,
            "linecolor": "white",
            "showbackground": true,
            "ticks": "",
            "zerolinecolor": "white"
           },
           "yaxis": {
            "backgroundcolor": "#E5ECF6",
            "gridcolor": "white",
            "gridwidth": 2,
            "linecolor": "white",
            "showbackground": true,
            "ticks": "",
            "zerolinecolor": "white"
           },
           "zaxis": {
            "backgroundcolor": "#E5ECF6",
            "gridcolor": "white",
            "gridwidth": 2,
            "linecolor": "white",
            "showbackground": true,
            "ticks": "",
            "zerolinecolor": "white"
           }
          },
          "shapedefaults": {
           "line": {
            "color": "#2a3f5f"
           }
          },
          "ternary": {
           "aaxis": {
            "gridcolor": "white",
            "linecolor": "white",
            "ticks": ""
           },
           "baxis": {
            "gridcolor": "white",
            "linecolor": "white",
            "ticks": ""
           },
           "bgcolor": "#E5ECF6",
           "caxis": {
            "gridcolor": "white",
            "linecolor": "white",
            "ticks": ""
           }
          },
          "title": {
           "x": 0.05
          },
          "xaxis": {
           "automargin": true,
           "gridcolor": "white",
           "linecolor": "white",
           "ticks": "",
           "title": {
            "standoff": 15
           },
           "zerolinecolor": "white",
           "zerolinewidth": 2
          },
          "yaxis": {
           "automargin": true,
           "gridcolor": "white",
           "linecolor": "white",
           "ticks": "",
           "title": {
            "standoff": 15
           },
           "zerolinecolor": "white",
           "zerolinewidth": 2
          }
         }
        },
        "title": {
         "text": "Fuel Consumption"
        },
        "width": 600,
        "xaxis": {
         "anchor": "y",
         "domain": [
          0,
          1
         ],
         "title": {
          "text": "Fuel Consumption"
         }
        },
        "yaxis": {
         "anchor": "x",
         "domain": [
          0,
          1
         ],
         "title": {
          "text": "Count"
         }
        }
       }
      },
      "text/html": [
       "<div>                            <div id=\"055b8f5a-1eac-4586-a217-9db3a330dd43\" class=\"plotly-graph-div\" style=\"height:400px; width:600px;\"></div>            <script type=\"text/javascript\">                require([\"plotly\"], function(Plotly) {                    window.PLOTLYENV=window.PLOTLYENV || {};                                    if (document.getElementById(\"055b8f5a-1eac-4586-a217-9db3a330dd43\")) {                    Plotly.newPlot(                        \"055b8f5a-1eac-4586-a217-9db3a330dd43\",                        [{\"alignmentgroup\":\"True\",\"bingroup\":\"x\",\"hovertemplate\":\"fuel_consumption=%{x}<br>count=%{y}<extra></extra>\",\"legendgroup\":\"\",\"marker\":{\"color\":\"#636efa\",\"pattern\":{\"shape\":\"\"}},\"name\":\"\",\"nbinsx\":6,\"offsetgroup\":\"\",\"orientation\":\"v\",\"showlegend\":false,\"x\":[8.5,9.6,5.9,11.1,10.6,10.0,10.1,11.1,11.6,9.2,9.8,10.4,15.6,15.6,14.7,15.4,14.7,15.4,15.6,8.8,10.0,9.3,10.0,10.0,9.3,10.2,10.9,8.3,11.2,8.3,11.2,11.3,8.4,11.2,12.5,15.7,8.5,10.5,10.4,11.2,9.2,9.1,13.2,10.9,14.6,17.7,15.4,17.8,14.6,17.7,15.4,17.8,13.3,13.4,12.6,11.4,12.4,11.4,12.4,11.6,12.2,12.2,12.9,12.7,9.1,9.1,10.3,10.3,12.9,15.5,13.9,16.5,14.0,16.5,16.5,19.0,8.4,8.7,8.8,6.7,6.7,8.4,8.7,9.1,9.1,9.1,9.6,10.0,9.9,10.3,10.1,8.4,8.7,9.1,9.6,10.0,9.9,10.3,8.8,9.1,7.9,10.1,10.7,12.2,12.7,10.1,12.7,12.2,12.7,10.7,12.7,12.7,15.5,8.3,9.3,9.2,12.7,12.7,14.7,13.8,14.7,13.8,14.7,13.8,14.7,13.8,9.1,11.3,10.0,11.0,11.1,13.9,16.1,11.9,14.1,9.1,8.7,12.1,11.0,12.1,12.3,12.6,8.5,9.2,11.5,15.6,11.5,16.5,8.2,9.9,9.8,10.7,8.2,9.9,9.8,9.5,9.6,10.2,9.0,10.9,10.1,11.3,11.2,11.4,10.1,10.8,10.8,11.3,12.8,11.0,11.3,11.1,11.4,16.6,14.8,16.6,14.8,16.6,14.8,14.7,20.1,16.4,22.1,12.3,12.8,11.4,11.8,12.6,11.2,11.7,10.5,12.8,12.7,16.6,14.8,12.0,11.2,7.8,7.8,8.8,8.2,7.1,7.7,7.1,9.1,12.0,16.2,10.0,12.6,17.0,15.1,15.9,20.9,16.5,21.5,16.5,21.5,16.5,22.6,16.5,21.5,16.5,22.6,18.0,18.8,25.7,18.2,18.9,25.8,9.6,10.6,14.3,8.7,9.9,8.0,10.6,10.2,11.8,16.8,12.7,16.9,14.1,12.6,17.8,13.0,17.3,14.3,8.0,7.5,8.3,7.9,8.0,7.5,8.3,7.9,8.3,7.9,8.3,7.9,6.9,6.9,13.8,18.4,13.8,18.4,13.8,18.4,13.8,18.4,12.3,12.6,8.4,8.1,9.0,10.3,10.1,10.7,10.5,14.4,9.8,10.0,10.5,14.4,12.8,10.9,13.4,10.9,14.8,10.3,13.9,13.8,12.0,16.8,9.8,10.0,10.5,14.4,11.2,13.1,12.8,13.9,13.8,11.2,10.3,12.8,10.9,13.4,10.9,14.8,11.2,15.7,10.2,13.9,13.8,8.1,8.6,8.8,8.6,12.2,9.2,8.8,7.3,7.3,14.4,12.1,15.6,11.8,16.5,11.1,12.4,12.0,16.2,7.8,7.8,7.9,7.2,7.8,7.9,6.8,7.8,8.7,8.4,6.0,16.2,21.9,17.2,22.5,16.8,23.0,21.2,18.3,23.9,9.8,10.8,11.5,12.2,9.1,9.6,9.4,9.3,10.0,16.0,21.6,10.2,13.0,11.9,15.9,12.5,16.7,12.7,12.8,15.9,13.8,13.4,17.5,12.3,16.5,12.3,16.5,14.6,19.7,14.6,19.7,13.4,18.0,13.4,18.0,14.9,20.0,14.8,19.9,18.0,7.6,7.6,6.6,7.0,8.0,11.5,12.1,12.8,8.9,7.7,10.3,7.8,10.3,8.0,10.6,7.2,10.1,8.5,8.1,9.0,8.9,8.1,9.4,5.5,10.2,10.6,11.5,12.7,13.2,10.6,9.1,11.8,10.3,14.3,11.2,15.7,9.5,9.9,10.1,10.4,12.3,12.9,15.1,15.9,20.9,16.5,21.5,16.5,21.5,16.5,22.6,16.5,21.5,16.5,22.6,18.0,18.8,25.7,18.2,18.9,25.8,11.8,16.8,12.7,16.9,14.1,12.6,17.8,13.0,17.3,14.3,9.1,12.0,16.2,10.0,12.6,17.0,13.8,18.4,13.8,18.4,14.7,20.1,16.4,22.1,13.8,18.4,13.8,18.4,7.9,8.1,8.7,9.1,9.6,10.9,4.8,7.0,7.2,7.6,10.7,9.1,9.4,6.3,6.9,7.5,7.7,10.6,11.5,12.0,13.4,7.7,7.7,8.6,8.5,13.2,11.1,11.2,11.6,10.3,11.5,11.1,9.6,8.5,6.2,6.3,9.3,10.1,10.0,10.5,10.6,7.7,8.0,8.8,8.5,10.2,10.8,7.5,8.2,11.5,11.7,12.3,11.1,11.6,11.0,12.3,11.6,12.8,7.6,11.8,10.6,11.0,8.5,12.8,14.5,15.0,10.3,10.6,12.8,10.5,12.2,13.3,18.1,13.3,12.4,13.3,17.5,12.4,13.3,17.5,13.3,13.3,13.1,12.6,13.7,13.5,13.7,13.5,9.5,10.5,10.0,10.8,10.1,11.0,10.9,11.6,9.8,9.1,9.8,9.4,10.2,9.4,11.1,14.8,9.9,12.1,15.6,15.8,9.8,9.1,9.8,9.4,10.2,9.4,11.1,12.8,12.8,13.4,13.4,10.9,8.3,8.0,8.4,8.4,9.7,9.8,8.4,8.5,9.4,9.6,8.4,8.6,9.9,8.7,7.6,7.7,7.6,9.2,9.3,12.0,10.3,11.4,11.0,11.8,8.9,9.0,9.1,8.8,10.0,11.3,11.4,10.7,18.3,15.7,17.4,11.9,14.5,9.8,9.8,15.4,15.1,21.4,12.4,12.4,17.4,15.0,14.7,20.7,12.3,12.3,17.3,15.4,15.1,21.4,5.6,6.0,9.6,10.4,11.0,7.6,13.9,9.7,10.4,9.7,10.6,11.0,10.6,12.6,12.3,12.9,12.9,11.4,16.5,11.7,11.1,8.2,11.8,11.3,12.8,10.2,12.2,12.2,9.0,11.4,6.3,16.0,21.6,12.7,12.7,15.1,15.3,14.5,13.1,8.2,8.0,8.6,8.5,8.9,12.3,12.6,7.7,7.4,6.9,7.0,7.4,7.3,7.0,7.1,7.2,7.7,7.3,7.2,9.7,9.8,7.6,8.1,7.3,10.2,9.6,9.9,8.0,9.4,9.4,10.5,14.0,10.5,10.4,10.6,10.5,15.1,15.3,13.2,13.4,7.8,9.2,11.5,13.1,13.1,7.2,10.2,10.0,10.4,10.5,10.4,10.2,8.8,11.6,11.7,11.4,12.9,13.5,12.9,13.5,18.2,17.7,12.0,15.2,15.6,15.8,8.5,11.3,12.1,16.0,10.3,14.2,15.5,12.1,12.0,13.2,11.7,12.7,14.2,8.9,9.0,9.8,10.7,16.5,15.7,15.7,7.8,7.8,7.8,7.8,8.7,7.8,7.6,7.3,8.7,7.8,7.8,7.8,8.3,8.0,8.3,8.0,9.0,8.5,8.3,8.0,9.0,8.5,8.3,8.0,8.3,8.0,8.3,8.0,9.0,8.5,8.3,8.0,9.0,8.5,8.3,8.0,8.2,8.3,9.5,12.5,12.3,11.6,8.6,8.6,6.0,6.4,8.6,9.1,10.2,8.7,8.8,9.0,11.0,11.5,11.4,11.7,7.6,9.3,16.5,12.3,11.3,12.7,13.7,13.1,12.9,8.1,8.6,8.7,10.9,11.8,9.3,10.6,11.0,8.8,11.1,8.3,8.6,7.0,7.8,15.6,17.3,6.6,7.7,14.2,13.7,10.1,10.7,10.3,10.7,10.5,11.0,10.8,11.0,11.0,11.2,10.1,10.7,10.6,10.8,10.7,10.9,14.0,11.9,11.9,11.9,11.9,9.2,9.9,9.8,10.4,12.0,13.6,10.4,13.9,13.0,10.9,13.7,9.2,9.9,9.8,10.4,10.9,11.1,11.3,11.5,12.7,11.3,12.8,12.9,14.8,13.6,15.4,14.1,10.6,12.6,17.8,10.2,11.9,16.8,11.3,11.4,15.9,16.0,16.0,17.1,17.1,17.1,17.1,15.6,8.4,9.5,6.2,9.0,9.0,9.9,9.9,8.0,7.9,6.4,6.4,16.9,16.9,8.5,9.6,9.5,8.6,9.7,7.8,8.5,11.2,12.5,7.8,8.5,11.2,12.5,8.6,9.9,11.6,9.0,9.8,11.7,13.1,8.5,9.2,7.7,12.9,12.9,9.6,8.2,9.6,5.7,6.0,7.7,7.3,7.1,7.4,6.8,6.9,8.5,8.2,12.9,13.9,10.3,11.2,11.5,8.3,8.2,4.8,4.7,5.5,8.9,9.4,9.5,16.7,11.3,12.4,10.9,10.2,13.1,11.9,11.8,13.3,14.0,13.5,14.3,15.5,15.1,16.2,10.0,11.0,10.2,11.3,7.3,7.1,8.5,8.7,9.1,9.4,9.8,9.6,8.7,9.3,9.4,10.1,7.3,7.3,9.7,9.8,12.3,9.6,9.5,9.4,7.2,6.9,8.2,8.2,9.4,9.0,9.0,9.2,6.9,6.9,5.4,8.6,8.6,9.7,9.8,10.8,7.1,6.8,12.1,10.7,11.6,10.7,12.2,10.4,9.7,10.1,11.5,10.2,11.5,11.2,11.8,11.5,11.8,11.3,12.8],\"xaxis\":\"x\",\"yaxis\":\"y\",\"type\":\"histogram\"}],                        {\"template\":{\"data\":{\"histogram2dcontour\":[{\"type\":\"histogram2dcontour\",\"colorbar\":{\"outlinewidth\":0,\"ticks\":\"\"},\"colorscale\":[[0.0,\"#0d0887\"],[0.1111111111111111,\"#46039f\"],[0.2222222222222222,\"#7201a8\"],[0.3333333333333333,\"#9c179e\"],[0.4444444444444444,\"#bd3786\"],[0.5555555555555556,\"#d8576b\"],[0.6666666666666666,\"#ed7953\"],[0.7777777777777778,\"#fb9f3a\"],[0.8888888888888888,\"#fdca26\"],[1.0,\"#f0f921\"]]}],\"choropleth\":[{\"type\":\"choropleth\",\"colorbar\":{\"outlinewidth\":0,\"ticks\":\"\"}}],\"histogram2d\":[{\"type\":\"histogram2d\",\"colorbar\":{\"outlinewidth\":0,\"ticks\":\"\"},\"colorscale\":[[0.0,\"#0d0887\"],[0.1111111111111111,\"#46039f\"],[0.2222222222222222,\"#7201a8\"],[0.3333333333333333,\"#9c179e\"],[0.4444444444444444,\"#bd3786\"],[0.5555555555555556,\"#d8576b\"],[0.6666666666666666,\"#ed7953\"],[0.7777777777777778,\"#fb9f3a\"],[0.8888888888888888,\"#fdca26\"],[1.0,\"#f0f921\"]]}],\"heatmap\":[{\"type\":\"heatmap\",\"colorbar\":{\"outlinewidth\":0,\"ticks\":\"\"},\"colorscale\":[[0.0,\"#0d0887\"],[0.1111111111111111,\"#46039f\"],[0.2222222222222222,\"#7201a8\"],[0.3333333333333333,\"#9c179e\"],[0.4444444444444444,\"#bd3786\"],[0.5555555555555556,\"#d8576b\"],[0.6666666666666666,\"#ed7953\"],[0.7777777777777778,\"#fb9f3a\"],[0.8888888888888888,\"#fdca26\"],[1.0,\"#f0f921\"]]}],\"heatmapgl\":[{\"type\":\"heatmapgl\",\"colorbar\":{\"outlinewidth\":0,\"ticks\":\"\"},\"colorscale\":[[0.0,\"#0d0887\"],[0.1111111111111111,\"#46039f\"],[0.2222222222222222,\"#7201a8\"],[0.3333333333333333,\"#9c179e\"],[0.4444444444444444,\"#bd3786\"],[0.5555555555555556,\"#d8576b\"],[0.6666666666666666,\"#ed7953\"],[0.7777777777777778,\"#fb9f3a\"],[0.8888888888888888,\"#fdca26\"],[1.0,\"#f0f921\"]]}],\"contourcarpet\":[{\"type\":\"contourcarpet\",\"colorbar\":{\"outlinewidth\":0,\"ticks\":\"\"}}],\"contour\":[{\"type\":\"contour\",\"colorbar\":{\"outlinewidth\":0,\"ticks\":\"\"},\"colorscale\":[[0.0,\"#0d0887\"],[0.1111111111111111,\"#46039f\"],[0.2222222222222222,\"#7201a8\"],[0.3333333333333333,\"#9c179e\"],[0.4444444444444444,\"#bd3786\"],[0.5555555555555556,\"#d8576b\"],[0.6666666666666666,\"#ed7953\"],[0.7777777777777778,\"#fb9f3a\"],[0.8888888888888888,\"#fdca26\"],[1.0,\"#f0f921\"]]}],\"surface\":[{\"type\":\"surface\",\"colorbar\":{\"outlinewidth\":0,\"ticks\":\"\"},\"colorscale\":[[0.0,\"#0d0887\"],[0.1111111111111111,\"#46039f\"],[0.2222222222222222,\"#7201a8\"],[0.3333333333333333,\"#9c179e\"],[0.4444444444444444,\"#bd3786\"],[0.5555555555555556,\"#d8576b\"],[0.6666666666666666,\"#ed7953\"],[0.7777777777777778,\"#fb9f3a\"],[0.8888888888888888,\"#fdca26\"],[1.0,\"#f0f921\"]]}],\"mesh3d\":[{\"type\":\"mesh3d\",\"colorbar\":{\"outlinewidth\":0,\"ticks\":\"\"}}],\"scatter\":[{\"fillpattern\":{\"fillmode\":\"overlay\",\"size\":10,\"solidity\":0.2},\"type\":\"scatter\"}],\"parcoords\":[{\"type\":\"parcoords\",\"line\":{\"colorbar\":{\"outlinewidth\":0,\"ticks\":\"\"}}}],\"scatterpolargl\":[{\"type\":\"scatterpolargl\",\"marker\":{\"colorbar\":{\"outlinewidth\":0,\"ticks\":\"\"}}}],\"bar\":[{\"error_x\":{\"color\":\"#2a3f5f\"},\"error_y\":{\"color\":\"#2a3f5f\"},\"marker\":{\"line\":{\"color\":\"#E5ECF6\",\"width\":0.5},\"pattern\":{\"fillmode\":\"overlay\",\"size\":10,\"solidity\":0.2}},\"type\":\"bar\"}],\"scattergeo\":[{\"type\":\"scattergeo\",\"marker\":{\"colorbar\":{\"outlinewidth\":0,\"ticks\":\"\"}}}],\"scatterpolar\":[{\"type\":\"scatterpolar\",\"marker\":{\"colorbar\":{\"outlinewidth\":0,\"ticks\":\"\"}}}],\"histogram\":[{\"marker\":{\"pattern\":{\"fillmode\":\"overlay\",\"size\":10,\"solidity\":0.2}},\"type\":\"histogram\"}],\"scattergl\":[{\"type\":\"scattergl\",\"marker\":{\"colorbar\":{\"outlinewidth\":0,\"ticks\":\"\"}}}],\"scatter3d\":[{\"type\":\"scatter3d\",\"line\":{\"colorbar\":{\"outlinewidth\":0,\"ticks\":\"\"}},\"marker\":{\"colorbar\":{\"outlinewidth\":0,\"ticks\":\"\"}}}],\"scattermapbox\":[{\"type\":\"scattermapbox\",\"marker\":{\"colorbar\":{\"outlinewidth\":0,\"ticks\":\"\"}}}],\"scatterternary\":[{\"type\":\"scatterternary\",\"marker\":{\"colorbar\":{\"outlinewidth\":0,\"ticks\":\"\"}}}],\"scattercarpet\":[{\"type\":\"scattercarpet\",\"marker\":{\"colorbar\":{\"outlinewidth\":0,\"ticks\":\"\"}}}],\"carpet\":[{\"aaxis\":{\"endlinecolor\":\"#2a3f5f\",\"gridcolor\":\"white\",\"linecolor\":\"white\",\"minorgridcolor\":\"white\",\"startlinecolor\":\"#2a3f5f\"},\"baxis\":{\"endlinecolor\":\"#2a3f5f\",\"gridcolor\":\"white\",\"linecolor\":\"white\",\"minorgridcolor\":\"white\",\"startlinecolor\":\"#2a3f5f\"},\"type\":\"carpet\"}],\"table\":[{\"cells\":{\"fill\":{\"color\":\"#EBF0F8\"},\"line\":{\"color\":\"white\"}},\"header\":{\"fill\":{\"color\":\"#C8D4E3\"},\"line\":{\"color\":\"white\"}},\"type\":\"table\"}],\"barpolar\":[{\"marker\":{\"line\":{\"color\":\"#E5ECF6\",\"width\":0.5},\"pattern\":{\"fillmode\":\"overlay\",\"size\":10,\"solidity\":0.2}},\"type\":\"barpolar\"}],\"pie\":[{\"automargin\":true,\"type\":\"pie\"}]},\"layout\":{\"autotypenumbers\":\"strict\",\"colorway\":[\"#636efa\",\"#EF553B\",\"#00cc96\",\"#ab63fa\",\"#FFA15A\",\"#19d3f3\",\"#FF6692\",\"#B6E880\",\"#FF97FF\",\"#FECB52\"],\"font\":{\"color\":\"#2a3f5f\"},\"hovermode\":\"closest\",\"hoverlabel\":{\"align\":\"left\"},\"paper_bgcolor\":\"white\",\"plot_bgcolor\":\"#E5ECF6\",\"polar\":{\"bgcolor\":\"#E5ECF6\",\"angularaxis\":{\"gridcolor\":\"white\",\"linecolor\":\"white\",\"ticks\":\"\"},\"radialaxis\":{\"gridcolor\":\"white\",\"linecolor\":\"white\",\"ticks\":\"\"}},\"ternary\":{\"bgcolor\":\"#E5ECF6\",\"aaxis\":{\"gridcolor\":\"white\",\"linecolor\":\"white\",\"ticks\":\"\"},\"baxis\":{\"gridcolor\":\"white\",\"linecolor\":\"white\",\"ticks\":\"\"},\"caxis\":{\"gridcolor\":\"white\",\"linecolor\":\"white\",\"ticks\":\"\"}},\"coloraxis\":{\"colorbar\":{\"outlinewidth\":0,\"ticks\":\"\"}},\"colorscale\":{\"sequential\":[[0.0,\"#0d0887\"],[0.1111111111111111,\"#46039f\"],[0.2222222222222222,\"#7201a8\"],[0.3333333333333333,\"#9c179e\"],[0.4444444444444444,\"#bd3786\"],[0.5555555555555556,\"#d8576b\"],[0.6666666666666666,\"#ed7953\"],[0.7777777777777778,\"#fb9f3a\"],[0.8888888888888888,\"#fdca26\"],[1.0,\"#f0f921\"]],\"sequentialminus\":[[0.0,\"#0d0887\"],[0.1111111111111111,\"#46039f\"],[0.2222222222222222,\"#7201a8\"],[0.3333333333333333,\"#9c179e\"],[0.4444444444444444,\"#bd3786\"],[0.5555555555555556,\"#d8576b\"],[0.6666666666666666,\"#ed7953\"],[0.7777777777777778,\"#fb9f3a\"],[0.8888888888888888,\"#fdca26\"],[1.0,\"#f0f921\"]],\"diverging\":[[0,\"#8e0152\"],[0.1,\"#c51b7d\"],[0.2,\"#de77ae\"],[0.3,\"#f1b6da\"],[0.4,\"#fde0ef\"],[0.5,\"#f7f7f7\"],[0.6,\"#e6f5d0\"],[0.7,\"#b8e186\"],[0.8,\"#7fbc41\"],[0.9,\"#4d9221\"],[1,\"#276419\"]]},\"xaxis\":{\"gridcolor\":\"white\",\"linecolor\":\"white\",\"ticks\":\"\",\"title\":{\"standoff\":15},\"zerolinecolor\":\"white\",\"automargin\":true,\"zerolinewidth\":2},\"yaxis\":{\"gridcolor\":\"white\",\"linecolor\":\"white\",\"ticks\":\"\",\"title\":{\"standoff\":15},\"zerolinecolor\":\"white\",\"automargin\":true,\"zerolinewidth\":2},\"scene\":{\"xaxis\":{\"backgroundcolor\":\"#E5ECF6\",\"gridcolor\":\"white\",\"linecolor\":\"white\",\"showbackground\":true,\"ticks\":\"\",\"zerolinecolor\":\"white\",\"gridwidth\":2},\"yaxis\":{\"backgroundcolor\":\"#E5ECF6\",\"gridcolor\":\"white\",\"linecolor\":\"white\",\"showbackground\":true,\"ticks\":\"\",\"zerolinecolor\":\"white\",\"gridwidth\":2},\"zaxis\":{\"backgroundcolor\":\"#E5ECF6\",\"gridcolor\":\"white\",\"linecolor\":\"white\",\"showbackground\":true,\"ticks\":\"\",\"zerolinecolor\":\"white\",\"gridwidth\":2}},\"shapedefaults\":{\"line\":{\"color\":\"#2a3f5f\"}},\"annotationdefaults\":{\"arrowcolor\":\"#2a3f5f\",\"arrowhead\":0,\"arrowwidth\":1},\"geo\":{\"bgcolor\":\"white\",\"landcolor\":\"#E5ECF6\",\"subunitcolor\":\"white\",\"showland\":true,\"showlakes\":true,\"lakecolor\":\"white\"},\"title\":{\"x\":0.05},\"mapbox\":{\"style\":\"light\"}}},\"xaxis\":{\"anchor\":\"y\",\"domain\":[0.0,1.0],\"title\":{\"text\":\"Fuel Consumption\"}},\"yaxis\":{\"anchor\":\"x\",\"domain\":[0.0,1.0],\"title\":{\"text\":\"Count\"}},\"legend\":{\"tracegroupgap\":0},\"margin\":{\"t\":60},\"barmode\":\"relative\",\"height\":400,\"width\":600,\"title\":{\"text\":\"Fuel Consumption\"}},                        {\"responsive\": true}                    ).then(function(){\n",
       "                            \n",
       "var gd = document.getElementById('055b8f5a-1eac-4586-a217-9db3a330dd43');\n",
       "var x = new MutationObserver(function (mutations, observer) {{\n",
       "        var display = window.getComputedStyle(gd).display;\n",
       "        if (!display || display === 'none') {{\n",
       "            console.log([gd, 'removed!']);\n",
       "            Plotly.purge(gd);\n",
       "            observer.disconnect();\n",
       "        }}\n",
       "}});\n",
       "\n",
       "// Listen for the removal of the full notebook cells\n",
       "var notebookContainer = gd.closest('#notebook-container');\n",
       "if (notebookContainer) {{\n",
       "    x.observe(notebookContainer, {childList: true});\n",
       "}}\n",
       "\n",
       "// Listen for the clearing of the current output cell\n",
       "var outputEl = gd.closest('.output');\n",
       "if (outputEl) {{\n",
       "    x.observe(outputEl, {childList: true});\n",
       "}}\n",
       "\n",
       "                        })                };                });            </script>        </div>"
      ]
     },
     "metadata": {},
     "output_type": "display_data"
    }
   ],
   "source": [
    "fig_config = {\n",
    "    'data_frame': df,\n",
    "    'x': 'fuel_consumption',\n",
    "    'nbins': 6,\n",
    "    'width': 600, \n",
    "    'height': 400\n",
    "}\n",
    "\n",
    "layout_config = {\n",
    "    'title': 'Fuel Consumption',\n",
    "    'xaxis_title': 'Fuel Consumption',\n",
    "    'yaxis_title': 'Count',\n",
    "}\n",
    "\n",
    "fig = px.histogram(**fig_config)\n",
    "fig.update_layout(**layout_config)\n",
    "fig.show()"
   ]
  },
  {
   "attachments": {},
   "cell_type": "markdown",
   "metadata": {},
   "source": [
    "### Relationship between CO2 emission and fuel-consumption"
   ]
  },
  {
   "attachments": {},
   "cell_type": "markdown",
   "metadata": {},
   "source": [
    "If i examine the car with the highest CO2 emission and the car with the lowest CO2 emission, i can see that the three numeric features fluctuate a lot. These features are: `engine-size`, `fuel-consumption` and `cylinders`.\n",
    "\n",
    "This is a great start."
   ]
  },
  {
   "attachments": {},
   "cell_type": "markdown",
   "metadata": {},
   "source": [
    "Let's get the car with the **highest CO2 emissions**."
   ]
  },
  {
   "cell_type": "code",
   "execution_count": 203,
   "metadata": {},
   "outputs": [
    {
     "data": {
      "text/html": [
       "<div>\n",
       "<style scoped>\n",
       "    .dataframe tbody tr th:only-of-type {\n",
       "        vertical-align: middle;\n",
       "    }\n",
       "\n",
       "    .dataframe tbody tr th {\n",
       "        vertical-align: top;\n",
       "    }\n",
       "\n",
       "    .dataframe thead th {\n",
       "        text-align: right;\n",
       "    }\n",
       "</style>\n",
       "<table border=\"1\" class=\"dataframe\">\n",
       "  <thead>\n",
       "    <tr style=\"text-align: right;\">\n",
       "      <th></th>\n",
       "      <th>engine_size</th>\n",
       "      <th>cylinders</th>\n",
       "      <th>fuel_consumption</th>\n",
       "      <th>co2_emissions</th>\n",
       "    </tr>\n",
       "  </thead>\n",
       "  <tbody>\n",
       "    <tr>\n",
       "      <th>988</th>\n",
       "      <td>1.5</td>\n",
       "      <td>4</td>\n",
       "      <td>4.7</td>\n",
       "      <td>108</td>\n",
       "    </tr>\n",
       "  </tbody>\n",
       "</table>\n",
       "</div>"
      ],
      "text/plain": [
       "     engine_size  cylinders  fuel_consumption  co2_emissions\n",
       "988          1.5          4               4.7            108"
      ]
     },
     "execution_count": 203,
     "metadata": {},
     "output_type": "execute_result"
    }
   ],
   "source": [
    "# get the car with most CO2 emissions\n",
    "df[df['co2_emissions'] == df['co2_emissions'].min()]"
   ]
  },
  {
   "attachments": {},
   "cell_type": "markdown",
   "metadata": {},
   "source": [
    "Let's get the car with the **lowest CO2 emissions**."
   ]
  },
  {
   "cell_type": "code",
   "execution_count": 204,
   "metadata": {},
   "outputs": [
    {
     "data": {
      "text/html": [
       "<div>\n",
       "<style scoped>\n",
       "    .dataframe tbody tr th:only-of-type {\n",
       "        vertical-align: middle;\n",
       "    }\n",
       "\n",
       "    .dataframe tbody tr th {\n",
       "        vertical-align: top;\n",
       "    }\n",
       "\n",
       "    .dataframe thead th {\n",
       "        text-align: right;\n",
       "    }\n",
       "</style>\n",
       "<table border=\"1\" class=\"dataframe\">\n",
       "  <thead>\n",
       "    <tr style=\"text-align: right;\">\n",
       "      <th></th>\n",
       "      <th>engine_size</th>\n",
       "      <th>cylinders</th>\n",
       "      <th>fuel_consumption</th>\n",
       "      <th>co2_emissions</th>\n",
       "    </tr>\n",
       "  </thead>\n",
       "  <tbody>\n",
       "    <tr>\n",
       "      <th>349</th>\n",
       "      <td>6.8</td>\n",
       "      <td>10</td>\n",
       "      <td>21.2</td>\n",
       "      <td>488</td>\n",
       "    </tr>\n",
       "  </tbody>\n",
       "</table>\n",
       "</div>"
      ],
      "text/plain": [
       "     engine_size  cylinders  fuel_consumption  co2_emissions\n",
       "349          6.8         10              21.2            488"
      ]
     },
     "execution_count": 204,
     "metadata": {},
     "output_type": "execute_result"
    }
   ],
   "source": [
    "# get the car with most CO2 emissions\n",
    "df[df['co2_emissions'] == df['co2_emissions'].max()]"
   ]
  },
  {
   "attachments": {},
   "cell_type": "markdown",
   "metadata": {},
   "source": [
    "Lets check the relationship between this features and the CO2 emissions with some scatter plots."
   ]
  },
  {
   "cell_type": "code",
   "execution_count": 205,
   "metadata": {},
   "outputs": [
    {
     "data": {
      "application/vnd.plotly.v1+json": {
       "config": {
        "plotlyServerURL": "https://plot.ly"
       },
       "data": [
        {
         "hovertemplate": "fuel_consumption=%{x}<br>co2_emissions=%{y}<extra></extra>",
         "legendgroup": "",
         "marker": {
          "color": "#636efa",
          "symbol": "circle"
         },
         "mode": "markers",
         "name": "",
         "showlegend": false,
         "type": "scattergl",
         "x": [
          8.5,
          9.6,
          5.9,
          11.1,
          10.6,
          10,
          10.1,
          11.1,
          11.6,
          9.2,
          9.8,
          10.4,
          15.6,
          15.6,
          14.7,
          15.4,
          14.7,
          15.4,
          15.6,
          8.8,
          10,
          9.3,
          10,
          10,
          9.3,
          10.2,
          10.9,
          8.3,
          11.2,
          8.3,
          11.2,
          11.3,
          8.4,
          11.2,
          12.5,
          15.7,
          8.5,
          10.5,
          10.4,
          11.2,
          9.2,
          9.1,
          13.2,
          10.9,
          14.6,
          17.7,
          15.4,
          17.8,
          14.6,
          17.7,
          15.4,
          17.8,
          13.3,
          13.4,
          12.6,
          11.4,
          12.4,
          11.4,
          12.4,
          11.6,
          12.2,
          12.2,
          12.9,
          12.7,
          9.1,
          9.1,
          10.3,
          10.3,
          12.9,
          15.5,
          13.9,
          16.5,
          14,
          16.5,
          16.5,
          19,
          8.4,
          8.7,
          8.8,
          6.7,
          6.7,
          8.4,
          8.7,
          9.1,
          9.1,
          9.1,
          9.6,
          10,
          9.9,
          10.3,
          10.1,
          8.4,
          8.7,
          9.1,
          9.6,
          10,
          9.9,
          10.3,
          8.8,
          9.1,
          7.9,
          10.1,
          10.7,
          12.2,
          12.7,
          10.1,
          12.7,
          12.2,
          12.7,
          10.7,
          12.7,
          12.7,
          15.5,
          8.3,
          9.3,
          9.2,
          12.7,
          12.7,
          14.7,
          13.8,
          14.7,
          13.8,
          14.7,
          13.8,
          14.7,
          13.8,
          9.1,
          11.3,
          10,
          11,
          11.1,
          13.9,
          16.1,
          11.9,
          14.1,
          9.1,
          8.7,
          12.1,
          11,
          12.1,
          12.3,
          12.6,
          8.5,
          9.2,
          11.5,
          15.6,
          11.5,
          16.5,
          8.2,
          9.9,
          9.8,
          10.7,
          8.2,
          9.9,
          9.8,
          9.5,
          9.6,
          10.2,
          9,
          10.9,
          10.1,
          11.3,
          11.2,
          11.4,
          10.1,
          10.8,
          10.8,
          11.3,
          12.8,
          11,
          11.3,
          11.1,
          11.4,
          16.6,
          14.8,
          16.6,
          14.8,
          16.6,
          14.8,
          14.7,
          20.1,
          16.4,
          22.1,
          12.3,
          12.8,
          11.4,
          11.8,
          12.6,
          11.2,
          11.7,
          10.5,
          12.8,
          12.7,
          16.6,
          14.8,
          12,
          11.2,
          7.8,
          7.8,
          8.8,
          8.2,
          7.1,
          7.7,
          7.1,
          9.1,
          12,
          16.2,
          10,
          12.6,
          17,
          15.1,
          15.9,
          20.9,
          16.5,
          21.5,
          16.5,
          21.5,
          16.5,
          22.6,
          16.5,
          21.5,
          16.5,
          22.6,
          18,
          18.8,
          25.7,
          18.2,
          18.9,
          25.8,
          9.6,
          10.6,
          14.3,
          8.7,
          9.9,
          8,
          10.6,
          10.2,
          11.8,
          16.8,
          12.7,
          16.9,
          14.1,
          12.6,
          17.8,
          13,
          17.3,
          14.3,
          8,
          7.5,
          8.3,
          7.9,
          8,
          7.5,
          8.3,
          7.9,
          8.3,
          7.9,
          8.3,
          7.9,
          6.9,
          6.9,
          13.8,
          18.4,
          13.8,
          18.4,
          13.8,
          18.4,
          13.8,
          18.4,
          12.3,
          12.6,
          8.4,
          8.1,
          9,
          10.3,
          10.1,
          10.7,
          10.5,
          14.4,
          9.8,
          10,
          10.5,
          14.4,
          12.8,
          10.9,
          13.4,
          10.9,
          14.8,
          10.3,
          13.9,
          13.8,
          12,
          16.8,
          9.8,
          10,
          10.5,
          14.4,
          11.2,
          13.1,
          12.8,
          13.9,
          13.8,
          11.2,
          10.3,
          12.8,
          10.9,
          13.4,
          10.9,
          14.8,
          11.2,
          15.7,
          10.2,
          13.9,
          13.8,
          8.1,
          8.6,
          8.8,
          8.6,
          12.2,
          9.2,
          8.8,
          7.3,
          7.3,
          14.4,
          12.1,
          15.6,
          11.8,
          16.5,
          11.1,
          12.4,
          12,
          16.2,
          7.8,
          7.8,
          7.9,
          7.2,
          7.8,
          7.9,
          6.8,
          7.8,
          8.7,
          8.4,
          6,
          16.2,
          21.9,
          17.2,
          22.5,
          16.8,
          23,
          21.2,
          18.3,
          23.9,
          9.8,
          10.8,
          11.5,
          12.2,
          9.1,
          9.6,
          9.4,
          9.3,
          10,
          16,
          21.6,
          10.2,
          13,
          11.9,
          15.9,
          12.5,
          16.7,
          12.7,
          12.8,
          15.9,
          13.8,
          13.4,
          17.5,
          12.3,
          16.5,
          12.3,
          16.5,
          14.6,
          19.7,
          14.6,
          19.7,
          13.4,
          18,
          13.4,
          18,
          14.9,
          20,
          14.8,
          19.9,
          18,
          7.6,
          7.6,
          6.6,
          7,
          8,
          11.5,
          12.1,
          12.8,
          8.9,
          7.7,
          10.3,
          7.8,
          10.3,
          8,
          10.6,
          7.2,
          10.1,
          8.5,
          8.1,
          9,
          8.9,
          8.1,
          9.4,
          5.5,
          10.2,
          10.6,
          11.5,
          12.7,
          13.2,
          10.6,
          9.1,
          11.8,
          10.3,
          14.3,
          11.2,
          15.7,
          9.5,
          9.9,
          10.1,
          10.4,
          12.3,
          12.9,
          15.1,
          15.9,
          20.9,
          16.5,
          21.5,
          16.5,
          21.5,
          16.5,
          22.6,
          16.5,
          21.5,
          16.5,
          22.6,
          18,
          18.8,
          25.7,
          18.2,
          18.9,
          25.8,
          11.8,
          16.8,
          12.7,
          16.9,
          14.1,
          12.6,
          17.8,
          13,
          17.3,
          14.3,
          9.1,
          12,
          16.2,
          10,
          12.6,
          17,
          13.8,
          18.4,
          13.8,
          18.4,
          14.7,
          20.1,
          16.4,
          22.1,
          13.8,
          18.4,
          13.8,
          18.4,
          7.9,
          8.1,
          8.7,
          9.1,
          9.6,
          10.9,
          4.8,
          7,
          7.2,
          7.6,
          10.7,
          9.1,
          9.4,
          6.3,
          6.9,
          7.5,
          7.7,
          10.6,
          11.5,
          12,
          13.4,
          7.7,
          7.7,
          8.6,
          8.5,
          13.2,
          11.1,
          11.2,
          11.6,
          10.3,
          11.5,
          11.1,
          9.6,
          8.5,
          6.2,
          6.3,
          9.3,
          10.1,
          10,
          10.5,
          10.6,
          7.7,
          8,
          8.8,
          8.5,
          10.2,
          10.8,
          7.5,
          8.2,
          11.5,
          11.7,
          12.3,
          11.1,
          11.6,
          11,
          12.3,
          11.6,
          12.8,
          7.6,
          11.8,
          10.6,
          11,
          8.5,
          12.8,
          14.5,
          15,
          10.3,
          10.6,
          12.8,
          10.5,
          12.2,
          13.3,
          18.1,
          13.3,
          12.4,
          13.3,
          17.5,
          12.4,
          13.3,
          17.5,
          13.3,
          13.3,
          13.1,
          12.6,
          13.7,
          13.5,
          13.7,
          13.5,
          9.5,
          10.5,
          10,
          10.8,
          10.1,
          11,
          10.9,
          11.6,
          9.8,
          9.1,
          9.8,
          9.4,
          10.2,
          9.4,
          11.1,
          14.8,
          9.9,
          12.1,
          15.6,
          15.8,
          9.8,
          9.1,
          9.8,
          9.4,
          10.2,
          9.4,
          11.1,
          12.8,
          12.8,
          13.4,
          13.4,
          10.9,
          8.3,
          8,
          8.4,
          8.4,
          9.7,
          9.8,
          8.4,
          8.5,
          9.4,
          9.6,
          8.4,
          8.6,
          9.9,
          8.7,
          7.6,
          7.7,
          7.6,
          9.2,
          9.3,
          12,
          10.3,
          11.4,
          11,
          11.8,
          8.9,
          9,
          9.1,
          8.8,
          10,
          11.3,
          11.4,
          10.7,
          18.3,
          15.7,
          17.4,
          11.9,
          14.5,
          9.8,
          9.8,
          15.4,
          15.1,
          21.4,
          12.4,
          12.4,
          17.4,
          15,
          14.7,
          20.7,
          12.3,
          12.3,
          17.3,
          15.4,
          15.1,
          21.4,
          5.6,
          6,
          9.6,
          10.4,
          11,
          7.6,
          13.9,
          9.7,
          10.4,
          9.7,
          10.6,
          11,
          10.6,
          12.6,
          12.3,
          12.9,
          12.9,
          11.4,
          16.5,
          11.7,
          11.1,
          8.2,
          11.8,
          11.3,
          12.8,
          10.2,
          12.2,
          12.2,
          9,
          11.4,
          6.3,
          16,
          21.6,
          12.7,
          12.7,
          15.1,
          15.3,
          14.5,
          13.1,
          8.2,
          8,
          8.6,
          8.5,
          8.9,
          12.3,
          12.6,
          7.7,
          7.4,
          6.9,
          7,
          7.4,
          7.3,
          7,
          7.1,
          7.2,
          7.7,
          7.3,
          7.2,
          9.7,
          9.8,
          7.6,
          8.1,
          7.3,
          10.2,
          9.6,
          9.9,
          8,
          9.4,
          9.4,
          10.5,
          14,
          10.5,
          10.4,
          10.6,
          10.5,
          15.1,
          15.3,
          13.2,
          13.4,
          7.8,
          9.2,
          11.5,
          13.1,
          13.1,
          7.2,
          10.2,
          10,
          10.4,
          10.5,
          10.4,
          10.2,
          8.8,
          11.6,
          11.7,
          11.4,
          12.9,
          13.5,
          12.9,
          13.5,
          18.2,
          17.7,
          12,
          15.2,
          15.6,
          15.8,
          8.5,
          11.3,
          12.1,
          16,
          10.3,
          14.2,
          15.5,
          12.1,
          12,
          13.2,
          11.7,
          12.7,
          14.2,
          8.9,
          9,
          9.8,
          10.7,
          16.5,
          15.7,
          15.7,
          7.8,
          7.8,
          7.8,
          7.8,
          8.7,
          7.8,
          7.6,
          7.3,
          8.7,
          7.8,
          7.8,
          7.8,
          8.3,
          8,
          8.3,
          8,
          9,
          8.5,
          8.3,
          8,
          9,
          8.5,
          8.3,
          8,
          8.3,
          8,
          8.3,
          8,
          9,
          8.5,
          8.3,
          8,
          9,
          8.5,
          8.3,
          8,
          8.2,
          8.3,
          9.5,
          12.5,
          12.3,
          11.6,
          8.6,
          8.6,
          6,
          6.4,
          8.6,
          9.1,
          10.2,
          8.7,
          8.8,
          9,
          11,
          11.5,
          11.4,
          11.7,
          7.6,
          9.3,
          16.5,
          12.3,
          11.3,
          12.7,
          13.7,
          13.1,
          12.9,
          8.1,
          8.6,
          8.7,
          10.9,
          11.8,
          9.3,
          10.6,
          11,
          8.8,
          11.1,
          8.3,
          8.6,
          7,
          7.8,
          15.6,
          17.3,
          6.6,
          7.7,
          14.2,
          13.7,
          10.1,
          10.7,
          10.3,
          10.7,
          10.5,
          11,
          10.8,
          11,
          11,
          11.2,
          10.1,
          10.7,
          10.6,
          10.8,
          10.7,
          10.9,
          14,
          11.9,
          11.9,
          11.9,
          11.9,
          9.2,
          9.9,
          9.8,
          10.4,
          12,
          13.6,
          10.4,
          13.9,
          13,
          10.9,
          13.7,
          9.2,
          9.9,
          9.8,
          10.4,
          10.9,
          11.1,
          11.3,
          11.5,
          12.7,
          11.3,
          12.8,
          12.9,
          14.8,
          13.6,
          15.4,
          14.1,
          10.6,
          12.6,
          17.8,
          10.2,
          11.9,
          16.8,
          11.3,
          11.4,
          15.9,
          16,
          16,
          17.1,
          17.1,
          17.1,
          17.1,
          15.6,
          8.4,
          9.5,
          6.2,
          9,
          9,
          9.9,
          9.9,
          8,
          7.9,
          6.4,
          6.4,
          16.9,
          16.9,
          8.5,
          9.6,
          9.5,
          8.6,
          9.7,
          7.8,
          8.5,
          11.2,
          12.5,
          7.8,
          8.5,
          11.2,
          12.5,
          8.6,
          9.9,
          11.6,
          9,
          9.8,
          11.7,
          13.1,
          8.5,
          9.2,
          7.7,
          12.9,
          12.9,
          9.6,
          8.2,
          9.6,
          5.7,
          6,
          7.7,
          7.3,
          7.1,
          7.4,
          6.8,
          6.9,
          8.5,
          8.2,
          12.9,
          13.9,
          10.3,
          11.2,
          11.5,
          8.3,
          8.2,
          4.8,
          4.7,
          5.5,
          8.9,
          9.4,
          9.5,
          16.7,
          11.3,
          12.4,
          10.9,
          10.2,
          13.1,
          11.9,
          11.8,
          13.3,
          14,
          13.5,
          14.3,
          15.5,
          15.1,
          16.2,
          10,
          11,
          10.2,
          11.3,
          7.3,
          7.1,
          8.5,
          8.7,
          9.1,
          9.4,
          9.8,
          9.6,
          8.7,
          9.3,
          9.4,
          10.1,
          7.3,
          7.3,
          9.7,
          9.8,
          12.3,
          9.6,
          9.5,
          9.4,
          7.2,
          6.9,
          8.2,
          8.2,
          9.4,
          9,
          9,
          9.2,
          6.9,
          6.9,
          5.4,
          8.6,
          8.6,
          9.7,
          9.8,
          10.8,
          7.1,
          6.8,
          12.1,
          10.7,
          11.6,
          10.7,
          12.2,
          10.4,
          9.7,
          10.1,
          11.5,
          10.2,
          11.5,
          11.2,
          11.8,
          11.5,
          11.8,
          11.3,
          12.8
         ],
         "xaxis": "x",
         "y": [
          196,
          221,
          136,
          255,
          244,
          230,
          232,
          255,
          267,
          212,
          225,
          239,
          359,
          359,
          338,
          354,
          338,
          354,
          359,
          202,
          230,
          214,
          230,
          230,
          214,
          235,
          251,
          224,
          258,
          224,
          258,
          260,
          227,
          258,
          288,
          361,
          230,
          242,
          239,
          258,
          212,
          246,
          304,
          294,
          336,
          407,
          354,
          409,
          336,
          407,
          354,
          409,
          306,
          308,
          290,
          262,
          285,
          262,
          285,
          267,
          281,
          281,
          297,
          292,
          209,
          209,
          237,
          237,
          297,
          356,
          320,
          380,
          322,
          380,
          380,
          437,
          193,
          200,
          202,
          181,
          181,
          193,
          200,
          209,
          209,
          209,
          221,
          230,
          228,
          237,
          232,
          193,
          200,
          209,
          221,
          230,
          228,
          237,
          202,
          209,
          213,
          232,
          246,
          281,
          292,
          232,
          292,
          281,
          292,
          246,
          292,
          292,
          356,
          191,
          214,
          212,
          292,
          292,
          338,
          317,
          338,
          317,
          338,
          317,
          338,
          317,
          209,
          260,
          230,
          253,
          255,
          320,
          370,
          274,
          324,
          209,
          200,
          278,
          253,
          278,
          283,
          290,
          196,
          212,
          264,
          250,
          264,
          264,
          189,
          228,
          225,
          246,
          189,
          228,
          225,
          218,
          221,
          235,
          207,
          251,
          232,
          260,
          258,
          262,
          232,
          248,
          248,
          260,
          294,
          253,
          260,
          255,
          262,
          382,
          340,
          382,
          340,
          382,
          340,
          338,
          322,
          377,
          354,
          283,
          294,
          262,
          271,
          290,
          258,
          269,
          242,
          294,
          292,
          382,
          340,
          276,
          258,
          179,
          179,
          202,
          189,
          192,
          177,
          163,
          209,
          276,
          259,
          230,
          290,
          272,
          347,
          366,
          334,
          380,
          344,
          380,
          344,
          380,
          362,
          380,
          344,
          380,
          362,
          414,
          432,
          411,
          419,
          435,
          413,
          221,
          244,
          229,
          200,
          228,
          184,
          244,
          235,
          271,
          269,
          292,
          270,
          324,
          290,
          285,
          299,
          277,
          329,
          184,
          173,
          191,
          182,
          184,
          172,
          191,
          182,
          191,
          182,
          191,
          182,
          159,
          159,
          317,
          294,
          317,
          294,
          317,
          294,
          317,
          294,
          283,
          290,
          193,
          186,
          207,
          237,
          232,
          246,
          242,
          230,
          225,
          230,
          242,
          230,
          294,
          251,
          308,
          251,
          237,
          237,
          222,
          317,
          276,
          269,
          225,
          230,
          242,
          230,
          258,
          301,
          294,
          320,
          317,
          258,
          237,
          294,
          251,
          308,
          251,
          237,
          258,
          251,
          235,
          222,
          317,
          186,
          198,
          202,
          198,
          195,
          212,
          202,
          168,
          168,
          331,
          278,
          250,
          271,
          264,
          255,
          285,
          276,
          259,
          179,
          179,
          182,
          166,
          179,
          182,
          156,
          179,
          200,
          193,
          138,
          373,
          350,
          396,
          360,
          386,
          368,
          488,
          421,
          382,
          225,
          248,
          264,
          281,
          209,
          221,
          216,
          214,
          230,
          368,
          346,
          235,
          299,
          274,
          254,
          288,
          267,
          292,
          294,
          366,
          317,
          308,
          402,
          283,
          264,
          283,
          264,
          336,
          315,
          336,
          315,
          308,
          288,
          308,
          288,
          343,
          320,
          340,
          318,
          414,
          175,
          175,
          152,
          161,
          184,
          264,
          278,
          294,
          205,
          177,
          165,
          179,
          165,
          184,
          170,
          166,
          162,
          196,
          186,
          207,
          205,
          186,
          216,
          126,
          235,
          244,
          264,
          292,
          304,
          244,
          209,
          271,
          237,
          229,
          258,
          251,
          218,
          228,
          232,
          239,
          283,
          297,
          347,
          366,
          334,
          380,
          344,
          380,
          344,
          380,
          362,
          380,
          344,
          380,
          362,
          414,
          432,
          411,
          419,
          435,
          413,
          271,
          269,
          292,
          270,
          324,
          290,
          285,
          299,
          277,
          329,
          209,
          276,
          259,
          230,
          290,
          272,
          317,
          294,
          317,
          294,
          338,
          322,
          377,
          354,
          317,
          294,
          317,
          294,
          182,
          186,
          200,
          209,
          221,
          251,
          110,
          161,
          166,
          175,
          246,
          209,
          216,
          145,
          159,
          172,
          177,
          244,
          265,
          276,
          308,
          177,
          177,
          198,
          196,
          304,
          255,
          258,
          267,
          237,
          264,
          255,
          221,
          196,
          143,
          145,
          214,
          232,
          230,
          242,
          244,
          177,
          184,
          202,
          196,
          235,
          248,
          172,
          189,
          265,
          269,
          283,
          255,
          267,
          253,
          283,
          267,
          294,
          175,
          271,
          244,
          253,
          196,
          294,
          334,
          345,
          237,
          244,
          294,
          242,
          281,
          306,
          290,
          306,
          285,
          306,
          280,
          285,
          306,
          280,
          306,
          306,
          301,
          290,
          315,
          310,
          315,
          310,
          218,
          242,
          230,
          248,
          232,
          253,
          251,
          267,
          225,
          209,
          225,
          216,
          235,
          216,
          255,
          340,
          267,
          278,
          250,
          363,
          225,
          209,
          225,
          216,
          235,
          216,
          255,
          294,
          294,
          308,
          308,
          251,
          191,
          184,
          193,
          193,
          223,
          225,
          193,
          196,
          216,
          221,
          193,
          198,
          228,
          200,
          175,
          177,
          175,
          212,
          214,
          276,
          237,
          262,
          253,
          271,
          205,
          207,
          209,
          202,
          230,
          260,
          262,
          246,
          421,
          361,
          400,
          274,
          334,
          225,
          225,
          354,
          347,
          342,
          285,
          285,
          278,
          345,
          338,
          331,
          283,
          283,
          277,
          354,
          347,
          342,
          129,
          138,
          221,
          239,
          253,
          175,
          320,
          223,
          239,
          223,
          244,
          253,
          244,
          290,
          283,
          297,
          297,
          262,
          380,
          269,
          255,
          189,
          271,
          260,
          294,
          235,
          281,
          281,
          207,
          262,
          145,
          368,
          346,
          292,
          292,
          347,
          352,
          334,
          301,
          189,
          184,
          198,
          196,
          205,
          283,
          290,
          177,
          170,
          159,
          161,
          170,
          168,
          161,
          163,
          166,
          177,
          168,
          166,
          223,
          225,
          175,
          186,
          168,
          235,
          221,
          228,
          184,
          216,
          216,
          242,
          224,
          242,
          239,
          244,
          242,
          347,
          352,
          304,
          308,
          179,
          212,
          264,
          301,
          301,
          194,
          235,
          230,
          239,
          242,
          239,
          235,
          202,
          267,
          269,
          262,
          297,
          310,
          297,
          310,
          419,
          407,
          324,
          350,
          359,
          363,
          230,
          260,
          278,
          256,
          278,
          327,
          356,
          278,
          276,
          304,
          269,
          292,
          327,
          205,
          207,
          225,
          246,
          380,
          361,
          361,
          179,
          179,
          179,
          179,
          200,
          179,
          175,
          168,
          200,
          179,
          179,
          179,
          191,
          184,
          191,
          184,
          207,
          196,
          191,
          184,
          207,
          196,
          191,
          184,
          191,
          184,
          191,
          184,
          207,
          196,
          191,
          184,
          207,
          196,
          191,
          184,
          189,
          191,
          218,
          288,
          283,
          267,
          198,
          198,
          138,
          147,
          198,
          209,
          235,
          200,
          202,
          207,
          253,
          264,
          262,
          269,
          175,
          214,
          380,
          283,
          260,
          292,
          315,
          301,
          297,
          186,
          198,
          200,
          251,
          271,
          214,
          244,
          253,
          202,
          255,
          191,
          198,
          161,
          179,
          359,
          398,
          152,
          177,
          327,
          315,
          232,
          246,
          237,
          246,
          242,
          253,
          248,
          253,
          253,
          258,
          232,
          246,
          244,
          248,
          246,
          251,
          322,
          274,
          274,
          274,
          274,
          212,
          228,
          225,
          239,
          276,
          313,
          281,
          320,
          299,
          251,
          315,
          212,
          228,
          225,
          239,
          251,
          255,
          260,
          264,
          292,
          260,
          294,
          297,
          340,
          313,
          354,
          324,
          286,
          290,
          285,
          275,
          274,
          269,
          260,
          262,
          254,
          368,
          368,
          393,
          393,
          393,
          393,
          359,
          193,
          218,
          143,
          207,
          207,
          228,
          228,
          184,
          182,
          147,
          147,
          389,
          389,
          196,
          221,
          218,
          198,
          223,
          179,
          196,
          258,
          288,
          179,
          196,
          258,
          288,
          198,
          228,
          267,
          207,
          225,
          269,
          301,
          196,
          212,
          177,
          297,
          297,
          221,
          189,
          221,
          131,
          138,
          177,
          168,
          163,
          170,
          156,
          159,
          196,
          189,
          297,
          320,
          237,
          258,
          264,
          191,
          189,
          110,
          108,
          126,
          205,
          216,
          218,
          384,
          260,
          285,
          251,
          235,
          301,
          274,
          271,
          306,
          322,
          310,
          329,
          356,
          347,
          373,
          230,
          253,
          235,
          260,
          168,
          163,
          196,
          200,
          209,
          216,
          225,
          221,
          200,
          214,
          216,
          232,
          197,
          197,
          223,
          225,
          283,
          221,
          218,
          216,
          194,
          186,
          189,
          189,
          216,
          207,
          207,
          212,
          186,
          186,
          124,
          198,
          198,
          223,
          225,
          248,
          192,
          184,
          278,
          246,
          267,
          246,
          281,
          281,
          223,
          232,
          264,
          235,
          264,
          258,
          271,
          264,
          271,
          260,
          294
         ],
         "yaxis": "y"
        }
       ],
       "layout": {
        "height": 400,
        "legend": {
         "tracegroupgap": 0
        },
        "margin": {
         "t": 60
        },
        "template": {
         "data": {
          "bar": [
           {
            "error_x": {
             "color": "#2a3f5f"
            },
            "error_y": {
             "color": "#2a3f5f"
            },
            "marker": {
             "line": {
              "color": "#E5ECF6",
              "width": 0.5
             },
             "pattern": {
              "fillmode": "overlay",
              "size": 10,
              "solidity": 0.2
             }
            },
            "type": "bar"
           }
          ],
          "barpolar": [
           {
            "marker": {
             "line": {
              "color": "#E5ECF6",
              "width": 0.5
             },
             "pattern": {
              "fillmode": "overlay",
              "size": 10,
              "solidity": 0.2
             }
            },
            "type": "barpolar"
           }
          ],
          "carpet": [
           {
            "aaxis": {
             "endlinecolor": "#2a3f5f",
             "gridcolor": "white",
             "linecolor": "white",
             "minorgridcolor": "white",
             "startlinecolor": "#2a3f5f"
            },
            "baxis": {
             "endlinecolor": "#2a3f5f",
             "gridcolor": "white",
             "linecolor": "white",
             "minorgridcolor": "white",
             "startlinecolor": "#2a3f5f"
            },
            "type": "carpet"
           }
          ],
          "choropleth": [
           {
            "colorbar": {
             "outlinewidth": 0,
             "ticks": ""
            },
            "type": "choropleth"
           }
          ],
          "contour": [
           {
            "colorbar": {
             "outlinewidth": 0,
             "ticks": ""
            },
            "colorscale": [
             [
              0,
              "#0d0887"
             ],
             [
              0.1111111111111111,
              "#46039f"
             ],
             [
              0.2222222222222222,
              "#7201a8"
             ],
             [
              0.3333333333333333,
              "#9c179e"
             ],
             [
              0.4444444444444444,
              "#bd3786"
             ],
             [
              0.5555555555555556,
              "#d8576b"
             ],
             [
              0.6666666666666666,
              "#ed7953"
             ],
             [
              0.7777777777777778,
              "#fb9f3a"
             ],
             [
              0.8888888888888888,
              "#fdca26"
             ],
             [
              1,
              "#f0f921"
             ]
            ],
            "type": "contour"
           }
          ],
          "contourcarpet": [
           {
            "colorbar": {
             "outlinewidth": 0,
             "ticks": ""
            },
            "type": "contourcarpet"
           }
          ],
          "heatmap": [
           {
            "colorbar": {
             "outlinewidth": 0,
             "ticks": ""
            },
            "colorscale": [
             [
              0,
              "#0d0887"
             ],
             [
              0.1111111111111111,
              "#46039f"
             ],
             [
              0.2222222222222222,
              "#7201a8"
             ],
             [
              0.3333333333333333,
              "#9c179e"
             ],
             [
              0.4444444444444444,
              "#bd3786"
             ],
             [
              0.5555555555555556,
              "#d8576b"
             ],
             [
              0.6666666666666666,
              "#ed7953"
             ],
             [
              0.7777777777777778,
              "#fb9f3a"
             ],
             [
              0.8888888888888888,
              "#fdca26"
             ],
             [
              1,
              "#f0f921"
             ]
            ],
            "type": "heatmap"
           }
          ],
          "heatmapgl": [
           {
            "colorbar": {
             "outlinewidth": 0,
             "ticks": ""
            },
            "colorscale": [
             [
              0,
              "#0d0887"
             ],
             [
              0.1111111111111111,
              "#46039f"
             ],
             [
              0.2222222222222222,
              "#7201a8"
             ],
             [
              0.3333333333333333,
              "#9c179e"
             ],
             [
              0.4444444444444444,
              "#bd3786"
             ],
             [
              0.5555555555555556,
              "#d8576b"
             ],
             [
              0.6666666666666666,
              "#ed7953"
             ],
             [
              0.7777777777777778,
              "#fb9f3a"
             ],
             [
              0.8888888888888888,
              "#fdca26"
             ],
             [
              1,
              "#f0f921"
             ]
            ],
            "type": "heatmapgl"
           }
          ],
          "histogram": [
           {
            "marker": {
             "pattern": {
              "fillmode": "overlay",
              "size": 10,
              "solidity": 0.2
             }
            },
            "type": "histogram"
           }
          ],
          "histogram2d": [
           {
            "colorbar": {
             "outlinewidth": 0,
             "ticks": ""
            },
            "colorscale": [
             [
              0,
              "#0d0887"
             ],
             [
              0.1111111111111111,
              "#46039f"
             ],
             [
              0.2222222222222222,
              "#7201a8"
             ],
             [
              0.3333333333333333,
              "#9c179e"
             ],
             [
              0.4444444444444444,
              "#bd3786"
             ],
             [
              0.5555555555555556,
              "#d8576b"
             ],
             [
              0.6666666666666666,
              "#ed7953"
             ],
             [
              0.7777777777777778,
              "#fb9f3a"
             ],
             [
              0.8888888888888888,
              "#fdca26"
             ],
             [
              1,
              "#f0f921"
             ]
            ],
            "type": "histogram2d"
           }
          ],
          "histogram2dcontour": [
           {
            "colorbar": {
             "outlinewidth": 0,
             "ticks": ""
            },
            "colorscale": [
             [
              0,
              "#0d0887"
             ],
             [
              0.1111111111111111,
              "#46039f"
             ],
             [
              0.2222222222222222,
              "#7201a8"
             ],
             [
              0.3333333333333333,
              "#9c179e"
             ],
             [
              0.4444444444444444,
              "#bd3786"
             ],
             [
              0.5555555555555556,
              "#d8576b"
             ],
             [
              0.6666666666666666,
              "#ed7953"
             ],
             [
              0.7777777777777778,
              "#fb9f3a"
             ],
             [
              0.8888888888888888,
              "#fdca26"
             ],
             [
              1,
              "#f0f921"
             ]
            ],
            "type": "histogram2dcontour"
           }
          ],
          "mesh3d": [
           {
            "colorbar": {
             "outlinewidth": 0,
             "ticks": ""
            },
            "type": "mesh3d"
           }
          ],
          "parcoords": [
           {
            "line": {
             "colorbar": {
              "outlinewidth": 0,
              "ticks": ""
             }
            },
            "type": "parcoords"
           }
          ],
          "pie": [
           {
            "automargin": true,
            "type": "pie"
           }
          ],
          "scatter": [
           {
            "fillpattern": {
             "fillmode": "overlay",
             "size": 10,
             "solidity": 0.2
            },
            "type": "scatter"
           }
          ],
          "scatter3d": [
           {
            "line": {
             "colorbar": {
              "outlinewidth": 0,
              "ticks": ""
             }
            },
            "marker": {
             "colorbar": {
              "outlinewidth": 0,
              "ticks": ""
             }
            },
            "type": "scatter3d"
           }
          ],
          "scattercarpet": [
           {
            "marker": {
             "colorbar": {
              "outlinewidth": 0,
              "ticks": ""
             }
            },
            "type": "scattercarpet"
           }
          ],
          "scattergeo": [
           {
            "marker": {
             "colorbar": {
              "outlinewidth": 0,
              "ticks": ""
             }
            },
            "type": "scattergeo"
           }
          ],
          "scattergl": [
           {
            "marker": {
             "colorbar": {
              "outlinewidth": 0,
              "ticks": ""
             }
            },
            "type": "scattergl"
           }
          ],
          "scattermapbox": [
           {
            "marker": {
             "colorbar": {
              "outlinewidth": 0,
              "ticks": ""
             }
            },
            "type": "scattermapbox"
           }
          ],
          "scatterpolar": [
           {
            "marker": {
             "colorbar": {
              "outlinewidth": 0,
              "ticks": ""
             }
            },
            "type": "scatterpolar"
           }
          ],
          "scatterpolargl": [
           {
            "marker": {
             "colorbar": {
              "outlinewidth": 0,
              "ticks": ""
             }
            },
            "type": "scatterpolargl"
           }
          ],
          "scatterternary": [
           {
            "marker": {
             "colorbar": {
              "outlinewidth": 0,
              "ticks": ""
             }
            },
            "type": "scatterternary"
           }
          ],
          "surface": [
           {
            "colorbar": {
             "outlinewidth": 0,
             "ticks": ""
            },
            "colorscale": [
             [
              0,
              "#0d0887"
             ],
             [
              0.1111111111111111,
              "#46039f"
             ],
             [
              0.2222222222222222,
              "#7201a8"
             ],
             [
              0.3333333333333333,
              "#9c179e"
             ],
             [
              0.4444444444444444,
              "#bd3786"
             ],
             [
              0.5555555555555556,
              "#d8576b"
             ],
             [
              0.6666666666666666,
              "#ed7953"
             ],
             [
              0.7777777777777778,
              "#fb9f3a"
             ],
             [
              0.8888888888888888,
              "#fdca26"
             ],
             [
              1,
              "#f0f921"
             ]
            ],
            "type": "surface"
           }
          ],
          "table": [
           {
            "cells": {
             "fill": {
              "color": "#EBF0F8"
             },
             "line": {
              "color": "white"
             }
            },
            "header": {
             "fill": {
              "color": "#C8D4E3"
             },
             "line": {
              "color": "white"
             }
            },
            "type": "table"
           }
          ]
         },
         "layout": {
          "annotationdefaults": {
           "arrowcolor": "#2a3f5f",
           "arrowhead": 0,
           "arrowwidth": 1
          },
          "autotypenumbers": "strict",
          "coloraxis": {
           "colorbar": {
            "outlinewidth": 0,
            "ticks": ""
           }
          },
          "colorscale": {
           "diverging": [
            [
             0,
             "#8e0152"
            ],
            [
             0.1,
             "#c51b7d"
            ],
            [
             0.2,
             "#de77ae"
            ],
            [
             0.3,
             "#f1b6da"
            ],
            [
             0.4,
             "#fde0ef"
            ],
            [
             0.5,
             "#f7f7f7"
            ],
            [
             0.6,
             "#e6f5d0"
            ],
            [
             0.7,
             "#b8e186"
            ],
            [
             0.8,
             "#7fbc41"
            ],
            [
             0.9,
             "#4d9221"
            ],
            [
             1,
             "#276419"
            ]
           ],
           "sequential": [
            [
             0,
             "#0d0887"
            ],
            [
             0.1111111111111111,
             "#46039f"
            ],
            [
             0.2222222222222222,
             "#7201a8"
            ],
            [
             0.3333333333333333,
             "#9c179e"
            ],
            [
             0.4444444444444444,
             "#bd3786"
            ],
            [
             0.5555555555555556,
             "#d8576b"
            ],
            [
             0.6666666666666666,
             "#ed7953"
            ],
            [
             0.7777777777777778,
             "#fb9f3a"
            ],
            [
             0.8888888888888888,
             "#fdca26"
            ],
            [
             1,
             "#f0f921"
            ]
           ],
           "sequentialminus": [
            [
             0,
             "#0d0887"
            ],
            [
             0.1111111111111111,
             "#46039f"
            ],
            [
             0.2222222222222222,
             "#7201a8"
            ],
            [
             0.3333333333333333,
             "#9c179e"
            ],
            [
             0.4444444444444444,
             "#bd3786"
            ],
            [
             0.5555555555555556,
             "#d8576b"
            ],
            [
             0.6666666666666666,
             "#ed7953"
            ],
            [
             0.7777777777777778,
             "#fb9f3a"
            ],
            [
             0.8888888888888888,
             "#fdca26"
            ],
            [
             1,
             "#f0f921"
            ]
           ]
          },
          "colorway": [
           "#636efa",
           "#EF553B",
           "#00cc96",
           "#ab63fa",
           "#FFA15A",
           "#19d3f3",
           "#FF6692",
           "#B6E880",
           "#FF97FF",
           "#FECB52"
          ],
          "font": {
           "color": "#2a3f5f"
          },
          "geo": {
           "bgcolor": "white",
           "lakecolor": "white",
           "landcolor": "#E5ECF6",
           "showlakes": true,
           "showland": true,
           "subunitcolor": "white"
          },
          "hoverlabel": {
           "align": "left"
          },
          "hovermode": "closest",
          "mapbox": {
           "style": "light"
          },
          "paper_bgcolor": "white",
          "plot_bgcolor": "#E5ECF6",
          "polar": {
           "angularaxis": {
            "gridcolor": "white",
            "linecolor": "white",
            "ticks": ""
           },
           "bgcolor": "#E5ECF6",
           "radialaxis": {
            "gridcolor": "white",
            "linecolor": "white",
            "ticks": ""
           }
          },
          "scene": {
           "xaxis": {
            "backgroundcolor": "#E5ECF6",
            "gridcolor": "white",
            "gridwidth": 2,
            "linecolor": "white",
            "showbackground": true,
            "ticks": "",
            "zerolinecolor": "white"
           },
           "yaxis": {
            "backgroundcolor": "#E5ECF6",
            "gridcolor": "white",
            "gridwidth": 2,
            "linecolor": "white",
            "showbackground": true,
            "ticks": "",
            "zerolinecolor": "white"
           },
           "zaxis": {
            "backgroundcolor": "#E5ECF6",
            "gridcolor": "white",
            "gridwidth": 2,
            "linecolor": "white",
            "showbackground": true,
            "ticks": "",
            "zerolinecolor": "white"
           }
          },
          "shapedefaults": {
           "line": {
            "color": "#2a3f5f"
           }
          },
          "ternary": {
           "aaxis": {
            "gridcolor": "white",
            "linecolor": "white",
            "ticks": ""
           },
           "baxis": {
            "gridcolor": "white",
            "linecolor": "white",
            "ticks": ""
           },
           "bgcolor": "#E5ECF6",
           "caxis": {
            "gridcolor": "white",
            "linecolor": "white",
            "ticks": ""
           }
          },
          "title": {
           "x": 0.05
          },
          "xaxis": {
           "automargin": true,
           "gridcolor": "white",
           "linecolor": "white",
           "ticks": "",
           "title": {
            "standoff": 15
           },
           "zerolinecolor": "white",
           "zerolinewidth": 2
          },
          "yaxis": {
           "automargin": true,
           "gridcolor": "white",
           "linecolor": "white",
           "ticks": "",
           "title": {
            "standoff": 15
           },
           "zerolinecolor": "white",
           "zerolinewidth": 2
          }
         }
        },
        "title": {
         "text": "Fuel Consumption vs CO2 Emissions"
        },
        "width": 600,
        "xaxis": {
         "anchor": "y",
         "domain": [
          0,
          1
         ],
         "title": {
          "text": "Fuel Consumption"
         }
        },
        "yaxis": {
         "anchor": "x",
         "domain": [
          0,
          1
         ],
         "title": {
          "text": "CO2 Emissions"
         }
        }
       }
      },
      "text/html": [
       "<div>                            <div id=\"4ffd73e7-b875-4f9c-a5b3-dfb0b1a10ebf\" class=\"plotly-graph-div\" style=\"height:400px; width:600px;\"></div>            <script type=\"text/javascript\">                require([\"plotly\"], function(Plotly) {                    window.PLOTLYENV=window.PLOTLYENV || {};                                    if (document.getElementById(\"4ffd73e7-b875-4f9c-a5b3-dfb0b1a10ebf\")) {                    Plotly.newPlot(                        \"4ffd73e7-b875-4f9c-a5b3-dfb0b1a10ebf\",                        [{\"hovertemplate\":\"fuel_consumption=%{x}<br>co2_emissions=%{y}<extra></extra>\",\"legendgroup\":\"\",\"marker\":{\"color\":\"#636efa\",\"symbol\":\"circle\"},\"mode\":\"markers\",\"name\":\"\",\"showlegend\":false,\"x\":[8.5,9.6,5.9,11.1,10.6,10.0,10.1,11.1,11.6,9.2,9.8,10.4,15.6,15.6,14.7,15.4,14.7,15.4,15.6,8.8,10.0,9.3,10.0,10.0,9.3,10.2,10.9,8.3,11.2,8.3,11.2,11.3,8.4,11.2,12.5,15.7,8.5,10.5,10.4,11.2,9.2,9.1,13.2,10.9,14.6,17.7,15.4,17.8,14.6,17.7,15.4,17.8,13.3,13.4,12.6,11.4,12.4,11.4,12.4,11.6,12.2,12.2,12.9,12.7,9.1,9.1,10.3,10.3,12.9,15.5,13.9,16.5,14.0,16.5,16.5,19.0,8.4,8.7,8.8,6.7,6.7,8.4,8.7,9.1,9.1,9.1,9.6,10.0,9.9,10.3,10.1,8.4,8.7,9.1,9.6,10.0,9.9,10.3,8.8,9.1,7.9,10.1,10.7,12.2,12.7,10.1,12.7,12.2,12.7,10.7,12.7,12.7,15.5,8.3,9.3,9.2,12.7,12.7,14.7,13.8,14.7,13.8,14.7,13.8,14.7,13.8,9.1,11.3,10.0,11.0,11.1,13.9,16.1,11.9,14.1,9.1,8.7,12.1,11.0,12.1,12.3,12.6,8.5,9.2,11.5,15.6,11.5,16.5,8.2,9.9,9.8,10.7,8.2,9.9,9.8,9.5,9.6,10.2,9.0,10.9,10.1,11.3,11.2,11.4,10.1,10.8,10.8,11.3,12.8,11.0,11.3,11.1,11.4,16.6,14.8,16.6,14.8,16.6,14.8,14.7,20.1,16.4,22.1,12.3,12.8,11.4,11.8,12.6,11.2,11.7,10.5,12.8,12.7,16.6,14.8,12.0,11.2,7.8,7.8,8.8,8.2,7.1,7.7,7.1,9.1,12.0,16.2,10.0,12.6,17.0,15.1,15.9,20.9,16.5,21.5,16.5,21.5,16.5,22.6,16.5,21.5,16.5,22.6,18.0,18.8,25.7,18.2,18.9,25.8,9.6,10.6,14.3,8.7,9.9,8.0,10.6,10.2,11.8,16.8,12.7,16.9,14.1,12.6,17.8,13.0,17.3,14.3,8.0,7.5,8.3,7.9,8.0,7.5,8.3,7.9,8.3,7.9,8.3,7.9,6.9,6.9,13.8,18.4,13.8,18.4,13.8,18.4,13.8,18.4,12.3,12.6,8.4,8.1,9.0,10.3,10.1,10.7,10.5,14.4,9.8,10.0,10.5,14.4,12.8,10.9,13.4,10.9,14.8,10.3,13.9,13.8,12.0,16.8,9.8,10.0,10.5,14.4,11.2,13.1,12.8,13.9,13.8,11.2,10.3,12.8,10.9,13.4,10.9,14.8,11.2,15.7,10.2,13.9,13.8,8.1,8.6,8.8,8.6,12.2,9.2,8.8,7.3,7.3,14.4,12.1,15.6,11.8,16.5,11.1,12.4,12.0,16.2,7.8,7.8,7.9,7.2,7.8,7.9,6.8,7.8,8.7,8.4,6.0,16.2,21.9,17.2,22.5,16.8,23.0,21.2,18.3,23.9,9.8,10.8,11.5,12.2,9.1,9.6,9.4,9.3,10.0,16.0,21.6,10.2,13.0,11.9,15.9,12.5,16.7,12.7,12.8,15.9,13.8,13.4,17.5,12.3,16.5,12.3,16.5,14.6,19.7,14.6,19.7,13.4,18.0,13.4,18.0,14.9,20.0,14.8,19.9,18.0,7.6,7.6,6.6,7.0,8.0,11.5,12.1,12.8,8.9,7.7,10.3,7.8,10.3,8.0,10.6,7.2,10.1,8.5,8.1,9.0,8.9,8.1,9.4,5.5,10.2,10.6,11.5,12.7,13.2,10.6,9.1,11.8,10.3,14.3,11.2,15.7,9.5,9.9,10.1,10.4,12.3,12.9,15.1,15.9,20.9,16.5,21.5,16.5,21.5,16.5,22.6,16.5,21.5,16.5,22.6,18.0,18.8,25.7,18.2,18.9,25.8,11.8,16.8,12.7,16.9,14.1,12.6,17.8,13.0,17.3,14.3,9.1,12.0,16.2,10.0,12.6,17.0,13.8,18.4,13.8,18.4,14.7,20.1,16.4,22.1,13.8,18.4,13.8,18.4,7.9,8.1,8.7,9.1,9.6,10.9,4.8,7.0,7.2,7.6,10.7,9.1,9.4,6.3,6.9,7.5,7.7,10.6,11.5,12.0,13.4,7.7,7.7,8.6,8.5,13.2,11.1,11.2,11.6,10.3,11.5,11.1,9.6,8.5,6.2,6.3,9.3,10.1,10.0,10.5,10.6,7.7,8.0,8.8,8.5,10.2,10.8,7.5,8.2,11.5,11.7,12.3,11.1,11.6,11.0,12.3,11.6,12.8,7.6,11.8,10.6,11.0,8.5,12.8,14.5,15.0,10.3,10.6,12.8,10.5,12.2,13.3,18.1,13.3,12.4,13.3,17.5,12.4,13.3,17.5,13.3,13.3,13.1,12.6,13.7,13.5,13.7,13.5,9.5,10.5,10.0,10.8,10.1,11.0,10.9,11.6,9.8,9.1,9.8,9.4,10.2,9.4,11.1,14.8,9.9,12.1,15.6,15.8,9.8,9.1,9.8,9.4,10.2,9.4,11.1,12.8,12.8,13.4,13.4,10.9,8.3,8.0,8.4,8.4,9.7,9.8,8.4,8.5,9.4,9.6,8.4,8.6,9.9,8.7,7.6,7.7,7.6,9.2,9.3,12.0,10.3,11.4,11.0,11.8,8.9,9.0,9.1,8.8,10.0,11.3,11.4,10.7,18.3,15.7,17.4,11.9,14.5,9.8,9.8,15.4,15.1,21.4,12.4,12.4,17.4,15.0,14.7,20.7,12.3,12.3,17.3,15.4,15.1,21.4,5.6,6.0,9.6,10.4,11.0,7.6,13.9,9.7,10.4,9.7,10.6,11.0,10.6,12.6,12.3,12.9,12.9,11.4,16.5,11.7,11.1,8.2,11.8,11.3,12.8,10.2,12.2,12.2,9.0,11.4,6.3,16.0,21.6,12.7,12.7,15.1,15.3,14.5,13.1,8.2,8.0,8.6,8.5,8.9,12.3,12.6,7.7,7.4,6.9,7.0,7.4,7.3,7.0,7.1,7.2,7.7,7.3,7.2,9.7,9.8,7.6,8.1,7.3,10.2,9.6,9.9,8.0,9.4,9.4,10.5,14.0,10.5,10.4,10.6,10.5,15.1,15.3,13.2,13.4,7.8,9.2,11.5,13.1,13.1,7.2,10.2,10.0,10.4,10.5,10.4,10.2,8.8,11.6,11.7,11.4,12.9,13.5,12.9,13.5,18.2,17.7,12.0,15.2,15.6,15.8,8.5,11.3,12.1,16.0,10.3,14.2,15.5,12.1,12.0,13.2,11.7,12.7,14.2,8.9,9.0,9.8,10.7,16.5,15.7,15.7,7.8,7.8,7.8,7.8,8.7,7.8,7.6,7.3,8.7,7.8,7.8,7.8,8.3,8.0,8.3,8.0,9.0,8.5,8.3,8.0,9.0,8.5,8.3,8.0,8.3,8.0,8.3,8.0,9.0,8.5,8.3,8.0,9.0,8.5,8.3,8.0,8.2,8.3,9.5,12.5,12.3,11.6,8.6,8.6,6.0,6.4,8.6,9.1,10.2,8.7,8.8,9.0,11.0,11.5,11.4,11.7,7.6,9.3,16.5,12.3,11.3,12.7,13.7,13.1,12.9,8.1,8.6,8.7,10.9,11.8,9.3,10.6,11.0,8.8,11.1,8.3,8.6,7.0,7.8,15.6,17.3,6.6,7.7,14.2,13.7,10.1,10.7,10.3,10.7,10.5,11.0,10.8,11.0,11.0,11.2,10.1,10.7,10.6,10.8,10.7,10.9,14.0,11.9,11.9,11.9,11.9,9.2,9.9,9.8,10.4,12.0,13.6,10.4,13.9,13.0,10.9,13.7,9.2,9.9,9.8,10.4,10.9,11.1,11.3,11.5,12.7,11.3,12.8,12.9,14.8,13.6,15.4,14.1,10.6,12.6,17.8,10.2,11.9,16.8,11.3,11.4,15.9,16.0,16.0,17.1,17.1,17.1,17.1,15.6,8.4,9.5,6.2,9.0,9.0,9.9,9.9,8.0,7.9,6.4,6.4,16.9,16.9,8.5,9.6,9.5,8.6,9.7,7.8,8.5,11.2,12.5,7.8,8.5,11.2,12.5,8.6,9.9,11.6,9.0,9.8,11.7,13.1,8.5,9.2,7.7,12.9,12.9,9.6,8.2,9.6,5.7,6.0,7.7,7.3,7.1,7.4,6.8,6.9,8.5,8.2,12.9,13.9,10.3,11.2,11.5,8.3,8.2,4.8,4.7,5.5,8.9,9.4,9.5,16.7,11.3,12.4,10.9,10.2,13.1,11.9,11.8,13.3,14.0,13.5,14.3,15.5,15.1,16.2,10.0,11.0,10.2,11.3,7.3,7.1,8.5,8.7,9.1,9.4,9.8,9.6,8.7,9.3,9.4,10.1,7.3,7.3,9.7,9.8,12.3,9.6,9.5,9.4,7.2,6.9,8.2,8.2,9.4,9.0,9.0,9.2,6.9,6.9,5.4,8.6,8.6,9.7,9.8,10.8,7.1,6.8,12.1,10.7,11.6,10.7,12.2,10.4,9.7,10.1,11.5,10.2,11.5,11.2,11.8,11.5,11.8,11.3,12.8],\"xaxis\":\"x\",\"y\":[196,221,136,255,244,230,232,255,267,212,225,239,359,359,338,354,338,354,359,202,230,214,230,230,214,235,251,224,258,224,258,260,227,258,288,361,230,242,239,258,212,246,304,294,336,407,354,409,336,407,354,409,306,308,290,262,285,262,285,267,281,281,297,292,209,209,237,237,297,356,320,380,322,380,380,437,193,200,202,181,181,193,200,209,209,209,221,230,228,237,232,193,200,209,221,230,228,237,202,209,213,232,246,281,292,232,292,281,292,246,292,292,356,191,214,212,292,292,338,317,338,317,338,317,338,317,209,260,230,253,255,320,370,274,324,209,200,278,253,278,283,290,196,212,264,250,264,264,189,228,225,246,189,228,225,218,221,235,207,251,232,260,258,262,232,248,248,260,294,253,260,255,262,382,340,382,340,382,340,338,322,377,354,283,294,262,271,290,258,269,242,294,292,382,340,276,258,179,179,202,189,192,177,163,209,276,259,230,290,272,347,366,334,380,344,380,344,380,362,380,344,380,362,414,432,411,419,435,413,221,244,229,200,228,184,244,235,271,269,292,270,324,290,285,299,277,329,184,173,191,182,184,172,191,182,191,182,191,182,159,159,317,294,317,294,317,294,317,294,283,290,193,186,207,237,232,246,242,230,225,230,242,230,294,251,308,251,237,237,222,317,276,269,225,230,242,230,258,301,294,320,317,258,237,294,251,308,251,237,258,251,235,222,317,186,198,202,198,195,212,202,168,168,331,278,250,271,264,255,285,276,259,179,179,182,166,179,182,156,179,200,193,138,373,350,396,360,386,368,488,421,382,225,248,264,281,209,221,216,214,230,368,346,235,299,274,254,288,267,292,294,366,317,308,402,283,264,283,264,336,315,336,315,308,288,308,288,343,320,340,318,414,175,175,152,161,184,264,278,294,205,177,165,179,165,184,170,166,162,196,186,207,205,186,216,126,235,244,264,292,304,244,209,271,237,229,258,251,218,228,232,239,283,297,347,366,334,380,344,380,344,380,362,380,344,380,362,414,432,411,419,435,413,271,269,292,270,324,290,285,299,277,329,209,276,259,230,290,272,317,294,317,294,338,322,377,354,317,294,317,294,182,186,200,209,221,251,110,161,166,175,246,209,216,145,159,172,177,244,265,276,308,177,177,198,196,304,255,258,267,237,264,255,221,196,143,145,214,232,230,242,244,177,184,202,196,235,248,172,189,265,269,283,255,267,253,283,267,294,175,271,244,253,196,294,334,345,237,244,294,242,281,306,290,306,285,306,280,285,306,280,306,306,301,290,315,310,315,310,218,242,230,248,232,253,251,267,225,209,225,216,235,216,255,340,267,278,250,363,225,209,225,216,235,216,255,294,294,308,308,251,191,184,193,193,223,225,193,196,216,221,193,198,228,200,175,177,175,212,214,276,237,262,253,271,205,207,209,202,230,260,262,246,421,361,400,274,334,225,225,354,347,342,285,285,278,345,338,331,283,283,277,354,347,342,129,138,221,239,253,175,320,223,239,223,244,253,244,290,283,297,297,262,380,269,255,189,271,260,294,235,281,281,207,262,145,368,346,292,292,347,352,334,301,189,184,198,196,205,283,290,177,170,159,161,170,168,161,163,166,177,168,166,223,225,175,186,168,235,221,228,184,216,216,242,224,242,239,244,242,347,352,304,308,179,212,264,301,301,194,235,230,239,242,239,235,202,267,269,262,297,310,297,310,419,407,324,350,359,363,230,260,278,256,278,327,356,278,276,304,269,292,327,205,207,225,246,380,361,361,179,179,179,179,200,179,175,168,200,179,179,179,191,184,191,184,207,196,191,184,207,196,191,184,191,184,191,184,207,196,191,184,207,196,191,184,189,191,218,288,283,267,198,198,138,147,198,209,235,200,202,207,253,264,262,269,175,214,380,283,260,292,315,301,297,186,198,200,251,271,214,244,253,202,255,191,198,161,179,359,398,152,177,327,315,232,246,237,246,242,253,248,253,253,258,232,246,244,248,246,251,322,274,274,274,274,212,228,225,239,276,313,281,320,299,251,315,212,228,225,239,251,255,260,264,292,260,294,297,340,313,354,324,286,290,285,275,274,269,260,262,254,368,368,393,393,393,393,359,193,218,143,207,207,228,228,184,182,147,147,389,389,196,221,218,198,223,179,196,258,288,179,196,258,288,198,228,267,207,225,269,301,196,212,177,297,297,221,189,221,131,138,177,168,163,170,156,159,196,189,297,320,237,258,264,191,189,110,108,126,205,216,218,384,260,285,251,235,301,274,271,306,322,310,329,356,347,373,230,253,235,260,168,163,196,200,209,216,225,221,200,214,216,232,197,197,223,225,283,221,218,216,194,186,189,189,216,207,207,212,186,186,124,198,198,223,225,248,192,184,278,246,267,246,281,281,223,232,264,235,264,258,271,264,271,260,294],\"yaxis\":\"y\",\"type\":\"scattergl\"}],                        {\"template\":{\"data\":{\"histogram2dcontour\":[{\"type\":\"histogram2dcontour\",\"colorbar\":{\"outlinewidth\":0,\"ticks\":\"\"},\"colorscale\":[[0.0,\"#0d0887\"],[0.1111111111111111,\"#46039f\"],[0.2222222222222222,\"#7201a8\"],[0.3333333333333333,\"#9c179e\"],[0.4444444444444444,\"#bd3786\"],[0.5555555555555556,\"#d8576b\"],[0.6666666666666666,\"#ed7953\"],[0.7777777777777778,\"#fb9f3a\"],[0.8888888888888888,\"#fdca26\"],[1.0,\"#f0f921\"]]}],\"choropleth\":[{\"type\":\"choropleth\",\"colorbar\":{\"outlinewidth\":0,\"ticks\":\"\"}}],\"histogram2d\":[{\"type\":\"histogram2d\",\"colorbar\":{\"outlinewidth\":0,\"ticks\":\"\"},\"colorscale\":[[0.0,\"#0d0887\"],[0.1111111111111111,\"#46039f\"],[0.2222222222222222,\"#7201a8\"],[0.3333333333333333,\"#9c179e\"],[0.4444444444444444,\"#bd3786\"],[0.5555555555555556,\"#d8576b\"],[0.6666666666666666,\"#ed7953\"],[0.7777777777777778,\"#fb9f3a\"],[0.8888888888888888,\"#fdca26\"],[1.0,\"#f0f921\"]]}],\"heatmap\":[{\"type\":\"heatmap\",\"colorbar\":{\"outlinewidth\":0,\"ticks\":\"\"},\"colorscale\":[[0.0,\"#0d0887\"],[0.1111111111111111,\"#46039f\"],[0.2222222222222222,\"#7201a8\"],[0.3333333333333333,\"#9c179e\"],[0.4444444444444444,\"#bd3786\"],[0.5555555555555556,\"#d8576b\"],[0.6666666666666666,\"#ed7953\"],[0.7777777777777778,\"#fb9f3a\"],[0.8888888888888888,\"#fdca26\"],[1.0,\"#f0f921\"]]}],\"heatmapgl\":[{\"type\":\"heatmapgl\",\"colorbar\":{\"outlinewidth\":0,\"ticks\":\"\"},\"colorscale\":[[0.0,\"#0d0887\"],[0.1111111111111111,\"#46039f\"],[0.2222222222222222,\"#7201a8\"],[0.3333333333333333,\"#9c179e\"],[0.4444444444444444,\"#bd3786\"],[0.5555555555555556,\"#d8576b\"],[0.6666666666666666,\"#ed7953\"],[0.7777777777777778,\"#fb9f3a\"],[0.8888888888888888,\"#fdca26\"],[1.0,\"#f0f921\"]]}],\"contourcarpet\":[{\"type\":\"contourcarpet\",\"colorbar\":{\"outlinewidth\":0,\"ticks\":\"\"}}],\"contour\":[{\"type\":\"contour\",\"colorbar\":{\"outlinewidth\":0,\"ticks\":\"\"},\"colorscale\":[[0.0,\"#0d0887\"],[0.1111111111111111,\"#46039f\"],[0.2222222222222222,\"#7201a8\"],[0.3333333333333333,\"#9c179e\"],[0.4444444444444444,\"#bd3786\"],[0.5555555555555556,\"#d8576b\"],[0.6666666666666666,\"#ed7953\"],[0.7777777777777778,\"#fb9f3a\"],[0.8888888888888888,\"#fdca26\"],[1.0,\"#f0f921\"]]}],\"surface\":[{\"type\":\"surface\",\"colorbar\":{\"outlinewidth\":0,\"ticks\":\"\"},\"colorscale\":[[0.0,\"#0d0887\"],[0.1111111111111111,\"#46039f\"],[0.2222222222222222,\"#7201a8\"],[0.3333333333333333,\"#9c179e\"],[0.4444444444444444,\"#bd3786\"],[0.5555555555555556,\"#d8576b\"],[0.6666666666666666,\"#ed7953\"],[0.7777777777777778,\"#fb9f3a\"],[0.8888888888888888,\"#fdca26\"],[1.0,\"#f0f921\"]]}],\"mesh3d\":[{\"type\":\"mesh3d\",\"colorbar\":{\"outlinewidth\":0,\"ticks\":\"\"}}],\"scatter\":[{\"fillpattern\":{\"fillmode\":\"overlay\",\"size\":10,\"solidity\":0.2},\"type\":\"scatter\"}],\"parcoords\":[{\"type\":\"parcoords\",\"line\":{\"colorbar\":{\"outlinewidth\":0,\"ticks\":\"\"}}}],\"scatterpolargl\":[{\"type\":\"scatterpolargl\",\"marker\":{\"colorbar\":{\"outlinewidth\":0,\"ticks\":\"\"}}}],\"bar\":[{\"error_x\":{\"color\":\"#2a3f5f\"},\"error_y\":{\"color\":\"#2a3f5f\"},\"marker\":{\"line\":{\"color\":\"#E5ECF6\",\"width\":0.5},\"pattern\":{\"fillmode\":\"overlay\",\"size\":10,\"solidity\":0.2}},\"type\":\"bar\"}],\"scattergeo\":[{\"type\":\"scattergeo\",\"marker\":{\"colorbar\":{\"outlinewidth\":0,\"ticks\":\"\"}}}],\"scatterpolar\":[{\"type\":\"scatterpolar\",\"marker\":{\"colorbar\":{\"outlinewidth\":0,\"ticks\":\"\"}}}],\"histogram\":[{\"marker\":{\"pattern\":{\"fillmode\":\"overlay\",\"size\":10,\"solidity\":0.2}},\"type\":\"histogram\"}],\"scattergl\":[{\"type\":\"scattergl\",\"marker\":{\"colorbar\":{\"outlinewidth\":0,\"ticks\":\"\"}}}],\"scatter3d\":[{\"type\":\"scatter3d\",\"line\":{\"colorbar\":{\"outlinewidth\":0,\"ticks\":\"\"}},\"marker\":{\"colorbar\":{\"outlinewidth\":0,\"ticks\":\"\"}}}],\"scattermapbox\":[{\"type\":\"scattermapbox\",\"marker\":{\"colorbar\":{\"outlinewidth\":0,\"ticks\":\"\"}}}],\"scatterternary\":[{\"type\":\"scatterternary\",\"marker\":{\"colorbar\":{\"outlinewidth\":0,\"ticks\":\"\"}}}],\"scattercarpet\":[{\"type\":\"scattercarpet\",\"marker\":{\"colorbar\":{\"outlinewidth\":0,\"ticks\":\"\"}}}],\"carpet\":[{\"aaxis\":{\"endlinecolor\":\"#2a3f5f\",\"gridcolor\":\"white\",\"linecolor\":\"white\",\"minorgridcolor\":\"white\",\"startlinecolor\":\"#2a3f5f\"},\"baxis\":{\"endlinecolor\":\"#2a3f5f\",\"gridcolor\":\"white\",\"linecolor\":\"white\",\"minorgridcolor\":\"white\",\"startlinecolor\":\"#2a3f5f\"},\"type\":\"carpet\"}],\"table\":[{\"cells\":{\"fill\":{\"color\":\"#EBF0F8\"},\"line\":{\"color\":\"white\"}},\"header\":{\"fill\":{\"color\":\"#C8D4E3\"},\"line\":{\"color\":\"white\"}},\"type\":\"table\"}],\"barpolar\":[{\"marker\":{\"line\":{\"color\":\"#E5ECF6\",\"width\":0.5},\"pattern\":{\"fillmode\":\"overlay\",\"size\":10,\"solidity\":0.2}},\"type\":\"barpolar\"}],\"pie\":[{\"automargin\":true,\"type\":\"pie\"}]},\"layout\":{\"autotypenumbers\":\"strict\",\"colorway\":[\"#636efa\",\"#EF553B\",\"#00cc96\",\"#ab63fa\",\"#FFA15A\",\"#19d3f3\",\"#FF6692\",\"#B6E880\",\"#FF97FF\",\"#FECB52\"],\"font\":{\"color\":\"#2a3f5f\"},\"hovermode\":\"closest\",\"hoverlabel\":{\"align\":\"left\"},\"paper_bgcolor\":\"white\",\"plot_bgcolor\":\"#E5ECF6\",\"polar\":{\"bgcolor\":\"#E5ECF6\",\"angularaxis\":{\"gridcolor\":\"white\",\"linecolor\":\"white\",\"ticks\":\"\"},\"radialaxis\":{\"gridcolor\":\"white\",\"linecolor\":\"white\",\"ticks\":\"\"}},\"ternary\":{\"bgcolor\":\"#E5ECF6\",\"aaxis\":{\"gridcolor\":\"white\",\"linecolor\":\"white\",\"ticks\":\"\"},\"baxis\":{\"gridcolor\":\"white\",\"linecolor\":\"white\",\"ticks\":\"\"},\"caxis\":{\"gridcolor\":\"white\",\"linecolor\":\"white\",\"ticks\":\"\"}},\"coloraxis\":{\"colorbar\":{\"outlinewidth\":0,\"ticks\":\"\"}},\"colorscale\":{\"sequential\":[[0.0,\"#0d0887\"],[0.1111111111111111,\"#46039f\"],[0.2222222222222222,\"#7201a8\"],[0.3333333333333333,\"#9c179e\"],[0.4444444444444444,\"#bd3786\"],[0.5555555555555556,\"#d8576b\"],[0.6666666666666666,\"#ed7953\"],[0.7777777777777778,\"#fb9f3a\"],[0.8888888888888888,\"#fdca26\"],[1.0,\"#f0f921\"]],\"sequentialminus\":[[0.0,\"#0d0887\"],[0.1111111111111111,\"#46039f\"],[0.2222222222222222,\"#7201a8\"],[0.3333333333333333,\"#9c179e\"],[0.4444444444444444,\"#bd3786\"],[0.5555555555555556,\"#d8576b\"],[0.6666666666666666,\"#ed7953\"],[0.7777777777777778,\"#fb9f3a\"],[0.8888888888888888,\"#fdca26\"],[1.0,\"#f0f921\"]],\"diverging\":[[0,\"#8e0152\"],[0.1,\"#c51b7d\"],[0.2,\"#de77ae\"],[0.3,\"#f1b6da\"],[0.4,\"#fde0ef\"],[0.5,\"#f7f7f7\"],[0.6,\"#e6f5d0\"],[0.7,\"#b8e186\"],[0.8,\"#7fbc41\"],[0.9,\"#4d9221\"],[1,\"#276419\"]]},\"xaxis\":{\"gridcolor\":\"white\",\"linecolor\":\"white\",\"ticks\":\"\",\"title\":{\"standoff\":15},\"zerolinecolor\":\"white\",\"automargin\":true,\"zerolinewidth\":2},\"yaxis\":{\"gridcolor\":\"white\",\"linecolor\":\"white\",\"ticks\":\"\",\"title\":{\"standoff\":15},\"zerolinecolor\":\"white\",\"automargin\":true,\"zerolinewidth\":2},\"scene\":{\"xaxis\":{\"backgroundcolor\":\"#E5ECF6\",\"gridcolor\":\"white\",\"linecolor\":\"white\",\"showbackground\":true,\"ticks\":\"\",\"zerolinecolor\":\"white\",\"gridwidth\":2},\"yaxis\":{\"backgroundcolor\":\"#E5ECF6\",\"gridcolor\":\"white\",\"linecolor\":\"white\",\"showbackground\":true,\"ticks\":\"\",\"zerolinecolor\":\"white\",\"gridwidth\":2},\"zaxis\":{\"backgroundcolor\":\"#E5ECF6\",\"gridcolor\":\"white\",\"linecolor\":\"white\",\"showbackground\":true,\"ticks\":\"\",\"zerolinecolor\":\"white\",\"gridwidth\":2}},\"shapedefaults\":{\"line\":{\"color\":\"#2a3f5f\"}},\"annotationdefaults\":{\"arrowcolor\":\"#2a3f5f\",\"arrowhead\":0,\"arrowwidth\":1},\"geo\":{\"bgcolor\":\"white\",\"landcolor\":\"#E5ECF6\",\"subunitcolor\":\"white\",\"showland\":true,\"showlakes\":true,\"lakecolor\":\"white\"},\"title\":{\"x\":0.05},\"mapbox\":{\"style\":\"light\"}}},\"xaxis\":{\"anchor\":\"y\",\"domain\":[0.0,1.0],\"title\":{\"text\":\"Fuel Consumption\"}},\"yaxis\":{\"anchor\":\"x\",\"domain\":[0.0,1.0],\"title\":{\"text\":\"CO2 Emissions\"}},\"legend\":{\"tracegroupgap\":0},\"margin\":{\"t\":60},\"height\":400,\"width\":600,\"title\":{\"text\":\"Fuel Consumption vs CO2 Emissions\"}},                        {\"responsive\": true}                    ).then(function(){\n",
       "                            \n",
       "var gd = document.getElementById('4ffd73e7-b875-4f9c-a5b3-dfb0b1a10ebf');\n",
       "var x = new MutationObserver(function (mutations, observer) {{\n",
       "        var display = window.getComputedStyle(gd).display;\n",
       "        if (!display || display === 'none') {{\n",
       "            console.log([gd, 'removed!']);\n",
       "            Plotly.purge(gd);\n",
       "            observer.disconnect();\n",
       "        }}\n",
       "}});\n",
       "\n",
       "// Listen for the removal of the full notebook cells\n",
       "var notebookContainer = gd.closest('#notebook-container');\n",
       "if (notebookContainer) {{\n",
       "    x.observe(notebookContainer, {childList: true});\n",
       "}}\n",
       "\n",
       "// Listen for the clearing of the current output cell\n",
       "var outputEl = gd.closest('.output');\n",
       "if (outputEl) {{\n",
       "    x.observe(outputEl, {childList: true});\n",
       "}}\n",
       "\n",
       "                        })                };                });            </script>        </div>"
      ]
     },
     "metadata": {},
     "output_type": "display_data"
    }
   ],
   "source": [
    "fig_config = {\n",
    "    'data_frame': df,\n",
    "    'x':'fuel_consumption',\n",
    "    'y':'co2_emissions',\n",
    "    'width': 600, \n",
    "    'height': 400\n",
    "}\n",
    "\n",
    "layout_config = {\n",
    "    'title': 'Fuel Consumption vs CO2 Emissions',\n",
    "    'xaxis_title': 'Fuel Consumption',\n",
    "    'yaxis_title': 'CO2 Emissions',\n",
    "}\n",
    "\n",
    "fig = px.scatter(**fig_config)\n",
    "\n",
    "fig.update_layout(**layout_config)\n",
    "fig.show()"
   ]
  },
  {
   "cell_type": "code",
   "execution_count": 206,
   "metadata": {},
   "outputs": [
    {
     "data": {
      "application/vnd.plotly.v1+json": {
       "config": {
        "plotlyServerURL": "https://plot.ly"
       },
       "data": [
        {
         "hovertemplate": "engine_size=%{x}<br>co2_emissions=%{y}<extra></extra>",
         "legendgroup": "",
         "marker": {
          "color": "#636efa",
          "symbol": "circle"
         },
         "mode": "markers",
         "name": "",
         "showlegend": false,
         "type": "scattergl",
         "x": [
          2,
          2.4,
          1.5,
          3.5,
          3.5,
          3.5,
          3.5,
          3.7,
          3.7,
          2.4,
          2.4,
          3.5,
          5.9,
          5.9,
          4.7,
          4.7,
          4.7,
          4.7,
          5.9,
          2,
          2,
          2,
          2,
          2,
          2,
          2,
          3,
          3,
          3,
          3,
          3,
          4,
          3,
          3,
          4,
          6.3,
          3,
          2,
          2,
          3,
          2,
          3,
          3,
          3,
          4.2,
          4.2,
          5.2,
          5.2,
          4.2,
          4.2,
          5.2,
          5.2,
          4.2,
          4.2,
          4,
          3,
          3,
          3,
          3,
          3,
          4,
          4,
          4,
          3,
          2,
          2,
          2,
          2,
          4,
          6,
          4,
          6,
          4,
          6,
          6,
          6.8,
          2,
          2,
          2,
          2,
          2,
          2,
          2,
          2,
          2,
          2,
          3,
          3,
          3,
          3,
          3,
          2,
          2,
          2,
          3,
          3,
          3,
          3,
          2,
          2,
          3,
          3,
          3,
          4.4,
          4.4,
          3,
          4.4,
          4.4,
          4.4,
          3,
          4.4,
          4.4,
          6,
          3,
          3,
          3,
          4.4,
          4.4,
          4.4,
          4.4,
          4.4,
          4.4,
          4.4,
          4.4,
          4.4,
          4.4,
          2,
          3,
          2,
          3,
          3,
          4.4,
          4.4,
          3,
          4.4,
          2,
          2,
          3,
          3,
          3,
          3.6,
          3.6,
          1.4,
          1.4,
          3.6,
          3.6,
          3.6,
          3.6,
          2.4,
          2,
          2,
          2,
          2.4,
          2,
          2,
          2.4,
          2,
          2,
          2.5,
          3.6,
          2,
          3.6,
          3.6,
          3.6,
          2,
          3.6,
          2,
          3.6,
          3.6,
          3,
          3.6,
          3,
          3.6,
          6.2,
          6.2,
          6.2,
          6.2,
          6.2,
          6.2,
          6.2,
          6.2,
          6.2,
          6.2,
          3.6,
          3.6,
          3.6,
          3.6,
          3.6,
          3.6,
          3.6,
          3.6,
          6.2,
          6.2,
          6.2,
          6.2,
          6.2,
          6.2,
          1.4,
          1.4,
          1.8,
          1.8,
          2,
          1.4,
          1.4,
          2.4,
          3.6,
          3.6,
          2.4,
          3.6,
          3.6,
          4.3,
          5.3,
          5.3,
          5.3,
          5.3,
          5.3,
          5.3,
          5.3,
          5.3,
          5.3,
          5.3,
          5.3,
          5.3,
          4.8,
          6,
          6,
          4.8,
          6,
          6,
          2.5,
          3.6,
          3.6,
          2.4,
          2,
          2.5,
          2.4,
          2.4,
          4.3,
          4.3,
          5.3,
          5.3,
          6.2,
          4.3,
          4.3,
          5.3,
          5.3,
          6.2,
          1.4,
          1.4,
          1.8,
          1.8,
          1.4,
          1.4,
          1.8,
          1.8,
          1.4,
          1.4,
          1.4,
          1.4,
          1.2,
          1.2,
          5.3,
          5.3,
          5.3,
          5.3,
          5.3,
          5.3,
          5.3,
          5.3,
          3.6,
          3.6,
          1.4,
          1.4,
          1.4,
          3.6,
          2.4,
          2.4,
          3.6,
          3.6,
          2.4,
          2.4,
          3.6,
          3.6,
          5.7,
          3.6,
          5.7,
          3.6,
          3.6,
          3.6,
          3.6,
          6.4,
          3.6,
          3.6,
          2.4,
          2.4,
          3.6,
          3.6,
          3.6,
          5.7,
          5.7,
          6.4,
          6.4,
          3.6,
          3.6,
          5.7,
          3.6,
          5.7,
          3.6,
          3.6,
          3.6,
          3.6,
          3.6,
          3.6,
          6.4,
          2,
          2.4,
          2.4,
          2,
          2,
          2.4,
          2.4,
          1.4,
          1.4,
          5.7,
          3.6,
          3.6,
          3.6,
          3.6,
          2.4,
          3.6,
          3.6,
          3.6,
          1.4,
          1.4,
          1.4,
          1.4,
          1.4,
          1.4,
          1.4,
          1.4,
          1.4,
          1.4,
          2,
          4.6,
          4.6,
          5.4,
          5.4,
          4.6,
          4.6,
          6.8,
          5.4,
          5.4,
          2,
          3.5,
          3.5,
          3.7,
          1.6,
          2,
          2.5,
          1.6,
          2,
          5.4,
          5.4,
          2,
          3.5,
          3.5,
          3.5,
          3.5,
          3.5,
          3.5,
          3.5,
          6.2,
          3.5,
          3.5,
          6.2,
          3.7,
          3.7,
          3.7,
          3.7,
          5,
          5,
          5,
          5,
          3.7,
          3.7,
          3.7,
          3.7,
          5,
          5,
          5,
          5,
          6.2,
          1.6,
          1.6,
          1,
          1.6,
          1.6,
          3.5,
          3.5,
          3.5,
          2,
          2,
          2,
          2,
          2,
          2,
          2,
          2,
          2,
          1.5,
          1.6,
          2,
          2.5,
          1.5,
          2,
          2,
          3.7,
          3.7,
          5,
          5,
          5.8,
          3.7,
          2,
          3.5,
          3.5,
          3.5,
          3.5,
          3.5,
          1.6,
          2.5,
          1.6,
          2.5,
          3.6,
          3.6,
          4.3,
          5.3,
          5.3,
          5.3,
          5.3,
          5.3,
          5.3,
          5.3,
          5.3,
          5.3,
          5.3,
          5.3,
          5.3,
          4.8,
          6,
          6,
          4.8,
          6,
          6,
          4.3,
          4.3,
          5.3,
          5.3,
          6.2,
          4.3,
          4.3,
          5.3,
          5.3,
          6.2,
          2.4,
          3.6,
          3.6,
          2.4,
          3.6,
          3.6,
          5.3,
          5.3,
          5.3,
          5.3,
          6.2,
          6.2,
          6.2,
          6.2,
          5.3,
          5.3,
          5.3,
          5.3,
          2.4,
          2.4,
          2.4,
          3.5,
          3.5,
          3.5,
          2,
          1.8,
          1.8,
          1.8,
          3.5,
          2.4,
          2.4,
          1.5,
          1.5,
          1.5,
          1.5,
          3.5,
          3.5,
          3.5,
          3.5,
          1.6,
          1.6,
          2,
          2,
          5,
          3.8,
          3.3,
          3.3,
          2.4,
          2,
          2.4,
          2,
          2.4,
          2.4,
          2.4,
          2,
          2,
          2.4,
          2,
          2.4,
          1.6,
          1.6,
          1.6,
          1.6,
          3.7,
          3.7,
          3.5,
          3.5,
          3.7,
          3.7,
          3.7,
          3.7,
          3.7,
          3.7,
          5.6,
          3.7,
          5.6,
          3.5,
          3.7,
          3.5,
          3.5,
          2.5,
          3.7,
          5,
          5.6,
          3,
          3,
          5,
          2,
          3,
          5,
          5,
          5,
          3,
          5,
          5,
          3,
          5,
          5,
          5,
          5,
          5,
          5,
          5,
          5,
          5,
          5,
          2.4,
          3.2,
          2.4,
          3.2,
          2.4,
          3.2,
          2.4,
          3.2,
          2,
          2,
          2.4,
          2.4,
          2.4,
          2.4,
          2.4,
          5.7,
          3,
          3.6,
          3.6,
          6.4,
          2,
          2,
          2.4,
          2.4,
          2.4,
          2.4,
          2.4,
          3.6,
          3.6,
          3.6,
          3.6,
          3.3,
          1.8,
          1.8,
          2,
          2,
          1.6,
          1.6,
          2,
          2,
          1.6,
          1.6,
          2,
          2,
          2,
          2.4,
          1.6,
          1.6,
          1.6,
          2,
          2,
          3.5,
          2.4,
          3.3,
          2.4,
          3.3,
          1.6,
          1.6,
          2,
          2,
          2.4,
          2.4,
          2,
          2.4,
          6.5,
          5.2,
          5.2,
          2,
          3,
          2,
          2,
          5,
          5,
          5,
          3,
          3,
          3,
          5,
          5,
          5,
          3,
          3,
          3,
          5,
          5,
          5,
          1.8,
          2.5,
          3.5,
          3.5,
          3.5,
          3.5,
          4.6,
          2.5,
          2.5,
          2.5,
          3.5,
          3.5,
          3.5,
          5,
          4.6,
          4.6,
          4.6,
          5,
          5.7,
          3.5,
          3.5,
          3.5,
          3.5,
          3.7,
          3.5,
          2,
          3.7,
          3.7,
          2,
          3.7,
          2,
          5.4,
          5.4,
          3,
          3,
          4.7,
          4.7,
          3.8,
          3,
          2,
          2,
          2.5,
          2,
          2.5,
          3.7,
          3.7,
          1.5,
          1.5,
          2,
          2,
          2.5,
          2.5,
          2,
          2,
          2,
          2.5,
          2.5,
          2,
          2.5,
          2.5,
          2.5,
          2.5,
          2.5,
          2,
          2,
          2,
          2,
          1.8,
          1.8,
          3.5,
          3.5,
          3.5,
          3.5,
          3.5,
          3.5,
          6.2,
          6.2,
          4.7,
          5.5,
          2,
          2,
          4.7,
          5.5,
          5.5,
          2.1,
          3.5,
          3.5,
          3.5,
          3.5,
          3.5,
          3.5,
          3.5,
          4.7,
          4.7,
          4.7,
          5.5,
          5.5,
          5.5,
          5.5,
          5.5,
          5.5,
          3,
          4.7,
          4.7,
          5.5,
          2.1,
          3.5,
          3.5,
          3.5,
          3,
          4.7,
          5.5,
          4.7,
          4.7,
          5.5,
          4.7,
          5.5,
          6,
          1.8,
          1.8,
          3.5,
          5.5,
          6.2,
          6.2,
          6.2,
          1.6,
          1.6,
          1.6,
          1.6,
          1.6,
          1.6,
          1.6,
          1.6,
          1.6,
          1.6,
          1.6,
          1.6,
          1.6,
          1.6,
          1.6,
          1.6,
          1.6,
          1.6,
          1.6,
          1.6,
          1.6,
          1.6,
          1.6,
          1.6,
          1.6,
          1.6,
          1.6,
          1.6,
          1.6,
          1.6,
          1.6,
          1.6,
          1.6,
          1.6,
          1.6,
          1.6,
          2,
          2,
          2.4,
          2,
          2,
          2,
          2,
          2,
          1.2,
          1.2,
          2.4,
          2.4,
          3,
          2,
          2,
          2,
          3.7,
          3.7,
          3.7,
          3.7,
          2.5,
          3.5,
          5.6,
          2.5,
          2.5,
          4,
          4,
          4,
          3.8,
          1.6,
          1.6,
          1.6,
          3.5,
          3.5,
          2,
          3.5,
          3.5,
          2.5,
          3.5,
          2.5,
          2.5,
          1.8,
          1.8,
          5.6,
          5.6,
          1.6,
          1.6,
          4,
          4,
          3.4,
          3.4,
          3.4,
          3.4,
          3.4,
          3.4,
          3.8,
          3.8,
          3.8,
          3.8,
          3.4,
          3.4,
          3.8,
          3.8,
          3.8,
          3.8,
          3.8,
          3.8,
          3.8,
          3.8,
          3.8,
          2.7,
          2.7,
          3.4,
          3.4,
          3.6,
          3.6,
          3,
          4.8,
          4.8,
          3,
          4.8,
          2.7,
          2.7,
          3.4,
          3.4,
          3.6,
          3.6,
          3,
          3,
          4.8,
          3,
          4.8,
          4.8,
          5.7,
          5.7,
          5.7,
          5.7,
          3,
          3.6,
          3.6,
          3,
          3.6,
          3.6,
          3.6,
          3.6,
          3.6,
          6.6,
          6.6,
          6.7,
          6.7,
          6.7,
          6.7,
          6.6,
          2,
          2,
          1.3,
          2.5,
          2.5,
          2.4,
          2.4,
          1.8,
          1.8,
          1,
          1,
          8.4,
          8.4,
          2,
          2,
          2,
          2.5,
          2.5,
          2,
          2,
          2.5,
          2.5,
          2,
          2,
          2.5,
          2.5,
          2.5,
          2.5,
          3.6,
          2.5,
          2.5,
          3.6,
          3.6,
          2,
          2,
          2,
          4,
          4,
          3.5,
          2.5,
          3.5,
          2.5,
          2.5,
          1.8,
          1.8,
          1.8,
          1.8,
          1.8,
          1.8,
          1.8,
          1.8,
          4,
          4,
          2.7,
          3.5,
          3.5,
          3.5,
          3.5,
          1.8,
          1.5,
          1.8,
          2.5,
          2.5,
          2.5,
          5.7,
          3.5,
          3.5,
          2.7,
          2.7,
          4,
          2.7,
          2.7,
          4,
          4,
          4,
          4.6,
          5.7,
          4.6,
          5.7,
          2.7,
          3.5,
          2.7,
          3.5,
          1.5,
          1.5,
          1.8,
          1.8,
          2,
          2,
          2.5,
          2.5,
          1.8,
          2,
          2,
          2.5,
          2,
          2,
          2,
          2,
          3.6,
          2,
          2.5,
          2.5,
          2,
          2,
          1.8,
          1.8,
          2,
          2,
          2,
          2,
          2,
          2,
          1.4,
          1.8,
          1.8,
          2.5,
          2.5,
          3.6,
          2,
          2,
          3.6,
          2,
          2,
          2,
          3.6,
          3,
          2.5,
          2.5,
          3,
          3.2,
          3,
          3.2,
          3,
          3.2,
          3,
          3.2,
          3.2
         ],
         "xaxis": "x",
         "y": [
          196,
          221,
          136,
          255,
          244,
          230,
          232,
          255,
          267,
          212,
          225,
          239,
          359,
          359,
          338,
          354,
          338,
          354,
          359,
          202,
          230,
          214,
          230,
          230,
          214,
          235,
          251,
          224,
          258,
          224,
          258,
          260,
          227,
          258,
          288,
          361,
          230,
          242,
          239,
          258,
          212,
          246,
          304,
          294,
          336,
          407,
          354,
          409,
          336,
          407,
          354,
          409,
          306,
          308,
          290,
          262,
          285,
          262,
          285,
          267,
          281,
          281,
          297,
          292,
          209,
          209,
          237,
          237,
          297,
          356,
          320,
          380,
          322,
          380,
          380,
          437,
          193,
          200,
          202,
          181,
          181,
          193,
          200,
          209,
          209,
          209,
          221,
          230,
          228,
          237,
          232,
          193,
          200,
          209,
          221,
          230,
          228,
          237,
          202,
          209,
          213,
          232,
          246,
          281,
          292,
          232,
          292,
          281,
          292,
          246,
          292,
          292,
          356,
          191,
          214,
          212,
          292,
          292,
          338,
          317,
          338,
          317,
          338,
          317,
          338,
          317,
          209,
          260,
          230,
          253,
          255,
          320,
          370,
          274,
          324,
          209,
          200,
          278,
          253,
          278,
          283,
          290,
          196,
          212,
          264,
          250,
          264,
          264,
          189,
          228,
          225,
          246,
          189,
          228,
          225,
          218,
          221,
          235,
          207,
          251,
          232,
          260,
          258,
          262,
          232,
          248,
          248,
          260,
          294,
          253,
          260,
          255,
          262,
          382,
          340,
          382,
          340,
          382,
          340,
          338,
          322,
          377,
          354,
          283,
          294,
          262,
          271,
          290,
          258,
          269,
          242,
          294,
          292,
          382,
          340,
          276,
          258,
          179,
          179,
          202,
          189,
          192,
          177,
          163,
          209,
          276,
          259,
          230,
          290,
          272,
          347,
          366,
          334,
          380,
          344,
          380,
          344,
          380,
          362,
          380,
          344,
          380,
          362,
          414,
          432,
          411,
          419,
          435,
          413,
          221,
          244,
          229,
          200,
          228,
          184,
          244,
          235,
          271,
          269,
          292,
          270,
          324,
          290,
          285,
          299,
          277,
          329,
          184,
          173,
          191,
          182,
          184,
          172,
          191,
          182,
          191,
          182,
          191,
          182,
          159,
          159,
          317,
          294,
          317,
          294,
          317,
          294,
          317,
          294,
          283,
          290,
          193,
          186,
          207,
          237,
          232,
          246,
          242,
          230,
          225,
          230,
          242,
          230,
          294,
          251,
          308,
          251,
          237,
          237,
          222,
          317,
          276,
          269,
          225,
          230,
          242,
          230,
          258,
          301,
          294,
          320,
          317,
          258,
          237,
          294,
          251,
          308,
          251,
          237,
          258,
          251,
          235,
          222,
          317,
          186,
          198,
          202,
          198,
          195,
          212,
          202,
          168,
          168,
          331,
          278,
          250,
          271,
          264,
          255,
          285,
          276,
          259,
          179,
          179,
          182,
          166,
          179,
          182,
          156,
          179,
          200,
          193,
          138,
          373,
          350,
          396,
          360,
          386,
          368,
          488,
          421,
          382,
          225,
          248,
          264,
          281,
          209,
          221,
          216,
          214,
          230,
          368,
          346,
          235,
          299,
          274,
          254,
          288,
          267,
          292,
          294,
          366,
          317,
          308,
          402,
          283,
          264,
          283,
          264,
          336,
          315,
          336,
          315,
          308,
          288,
          308,
          288,
          343,
          320,
          340,
          318,
          414,
          175,
          175,
          152,
          161,
          184,
          264,
          278,
          294,
          205,
          177,
          165,
          179,
          165,
          184,
          170,
          166,
          162,
          196,
          186,
          207,
          205,
          186,
          216,
          126,
          235,
          244,
          264,
          292,
          304,
          244,
          209,
          271,
          237,
          229,
          258,
          251,
          218,
          228,
          232,
          239,
          283,
          297,
          347,
          366,
          334,
          380,
          344,
          380,
          344,
          380,
          362,
          380,
          344,
          380,
          362,
          414,
          432,
          411,
          419,
          435,
          413,
          271,
          269,
          292,
          270,
          324,
          290,
          285,
          299,
          277,
          329,
          209,
          276,
          259,
          230,
          290,
          272,
          317,
          294,
          317,
          294,
          338,
          322,
          377,
          354,
          317,
          294,
          317,
          294,
          182,
          186,
          200,
          209,
          221,
          251,
          110,
          161,
          166,
          175,
          246,
          209,
          216,
          145,
          159,
          172,
          177,
          244,
          265,
          276,
          308,
          177,
          177,
          198,
          196,
          304,
          255,
          258,
          267,
          237,
          264,
          255,
          221,
          196,
          143,
          145,
          214,
          232,
          230,
          242,
          244,
          177,
          184,
          202,
          196,
          235,
          248,
          172,
          189,
          265,
          269,
          283,
          255,
          267,
          253,
          283,
          267,
          294,
          175,
          271,
          244,
          253,
          196,
          294,
          334,
          345,
          237,
          244,
          294,
          242,
          281,
          306,
          290,
          306,
          285,
          306,
          280,
          285,
          306,
          280,
          306,
          306,
          301,
          290,
          315,
          310,
          315,
          310,
          218,
          242,
          230,
          248,
          232,
          253,
          251,
          267,
          225,
          209,
          225,
          216,
          235,
          216,
          255,
          340,
          267,
          278,
          250,
          363,
          225,
          209,
          225,
          216,
          235,
          216,
          255,
          294,
          294,
          308,
          308,
          251,
          191,
          184,
          193,
          193,
          223,
          225,
          193,
          196,
          216,
          221,
          193,
          198,
          228,
          200,
          175,
          177,
          175,
          212,
          214,
          276,
          237,
          262,
          253,
          271,
          205,
          207,
          209,
          202,
          230,
          260,
          262,
          246,
          421,
          361,
          400,
          274,
          334,
          225,
          225,
          354,
          347,
          342,
          285,
          285,
          278,
          345,
          338,
          331,
          283,
          283,
          277,
          354,
          347,
          342,
          129,
          138,
          221,
          239,
          253,
          175,
          320,
          223,
          239,
          223,
          244,
          253,
          244,
          290,
          283,
          297,
          297,
          262,
          380,
          269,
          255,
          189,
          271,
          260,
          294,
          235,
          281,
          281,
          207,
          262,
          145,
          368,
          346,
          292,
          292,
          347,
          352,
          334,
          301,
          189,
          184,
          198,
          196,
          205,
          283,
          290,
          177,
          170,
          159,
          161,
          170,
          168,
          161,
          163,
          166,
          177,
          168,
          166,
          223,
          225,
          175,
          186,
          168,
          235,
          221,
          228,
          184,
          216,
          216,
          242,
          224,
          242,
          239,
          244,
          242,
          347,
          352,
          304,
          308,
          179,
          212,
          264,
          301,
          301,
          194,
          235,
          230,
          239,
          242,
          239,
          235,
          202,
          267,
          269,
          262,
          297,
          310,
          297,
          310,
          419,
          407,
          324,
          350,
          359,
          363,
          230,
          260,
          278,
          256,
          278,
          327,
          356,
          278,
          276,
          304,
          269,
          292,
          327,
          205,
          207,
          225,
          246,
          380,
          361,
          361,
          179,
          179,
          179,
          179,
          200,
          179,
          175,
          168,
          200,
          179,
          179,
          179,
          191,
          184,
          191,
          184,
          207,
          196,
          191,
          184,
          207,
          196,
          191,
          184,
          191,
          184,
          191,
          184,
          207,
          196,
          191,
          184,
          207,
          196,
          191,
          184,
          189,
          191,
          218,
          288,
          283,
          267,
          198,
          198,
          138,
          147,
          198,
          209,
          235,
          200,
          202,
          207,
          253,
          264,
          262,
          269,
          175,
          214,
          380,
          283,
          260,
          292,
          315,
          301,
          297,
          186,
          198,
          200,
          251,
          271,
          214,
          244,
          253,
          202,
          255,
          191,
          198,
          161,
          179,
          359,
          398,
          152,
          177,
          327,
          315,
          232,
          246,
          237,
          246,
          242,
          253,
          248,
          253,
          253,
          258,
          232,
          246,
          244,
          248,
          246,
          251,
          322,
          274,
          274,
          274,
          274,
          212,
          228,
          225,
          239,
          276,
          313,
          281,
          320,
          299,
          251,
          315,
          212,
          228,
          225,
          239,
          251,
          255,
          260,
          264,
          292,
          260,
          294,
          297,
          340,
          313,
          354,
          324,
          286,
          290,
          285,
          275,
          274,
          269,
          260,
          262,
          254,
          368,
          368,
          393,
          393,
          393,
          393,
          359,
          193,
          218,
          143,
          207,
          207,
          228,
          228,
          184,
          182,
          147,
          147,
          389,
          389,
          196,
          221,
          218,
          198,
          223,
          179,
          196,
          258,
          288,
          179,
          196,
          258,
          288,
          198,
          228,
          267,
          207,
          225,
          269,
          301,
          196,
          212,
          177,
          297,
          297,
          221,
          189,
          221,
          131,
          138,
          177,
          168,
          163,
          170,
          156,
          159,
          196,
          189,
          297,
          320,
          237,
          258,
          264,
          191,
          189,
          110,
          108,
          126,
          205,
          216,
          218,
          384,
          260,
          285,
          251,
          235,
          301,
          274,
          271,
          306,
          322,
          310,
          329,
          356,
          347,
          373,
          230,
          253,
          235,
          260,
          168,
          163,
          196,
          200,
          209,
          216,
          225,
          221,
          200,
          214,
          216,
          232,
          197,
          197,
          223,
          225,
          283,
          221,
          218,
          216,
          194,
          186,
          189,
          189,
          216,
          207,
          207,
          212,
          186,
          186,
          124,
          198,
          198,
          223,
          225,
          248,
          192,
          184,
          278,
          246,
          267,
          246,
          281,
          281,
          223,
          232,
          264,
          235,
          264,
          258,
          271,
          264,
          271,
          260,
          294
         ],
         "yaxis": "y"
        }
       ],
       "layout": {
        "height": 400,
        "legend": {
         "tracegroupgap": 0
        },
        "margin": {
         "t": 60
        },
        "template": {
         "data": {
          "bar": [
           {
            "error_x": {
             "color": "#2a3f5f"
            },
            "error_y": {
             "color": "#2a3f5f"
            },
            "marker": {
             "line": {
              "color": "#E5ECF6",
              "width": 0.5
             },
             "pattern": {
              "fillmode": "overlay",
              "size": 10,
              "solidity": 0.2
             }
            },
            "type": "bar"
           }
          ],
          "barpolar": [
           {
            "marker": {
             "line": {
              "color": "#E5ECF6",
              "width": 0.5
             },
             "pattern": {
              "fillmode": "overlay",
              "size": 10,
              "solidity": 0.2
             }
            },
            "type": "barpolar"
           }
          ],
          "carpet": [
           {
            "aaxis": {
             "endlinecolor": "#2a3f5f",
             "gridcolor": "white",
             "linecolor": "white",
             "minorgridcolor": "white",
             "startlinecolor": "#2a3f5f"
            },
            "baxis": {
             "endlinecolor": "#2a3f5f",
             "gridcolor": "white",
             "linecolor": "white",
             "minorgridcolor": "white",
             "startlinecolor": "#2a3f5f"
            },
            "type": "carpet"
           }
          ],
          "choropleth": [
           {
            "colorbar": {
             "outlinewidth": 0,
             "ticks": ""
            },
            "type": "choropleth"
           }
          ],
          "contour": [
           {
            "colorbar": {
             "outlinewidth": 0,
             "ticks": ""
            },
            "colorscale": [
             [
              0,
              "#0d0887"
             ],
             [
              0.1111111111111111,
              "#46039f"
             ],
             [
              0.2222222222222222,
              "#7201a8"
             ],
             [
              0.3333333333333333,
              "#9c179e"
             ],
             [
              0.4444444444444444,
              "#bd3786"
             ],
             [
              0.5555555555555556,
              "#d8576b"
             ],
             [
              0.6666666666666666,
              "#ed7953"
             ],
             [
              0.7777777777777778,
              "#fb9f3a"
             ],
             [
              0.8888888888888888,
              "#fdca26"
             ],
             [
              1,
              "#f0f921"
             ]
            ],
            "type": "contour"
           }
          ],
          "contourcarpet": [
           {
            "colorbar": {
             "outlinewidth": 0,
             "ticks": ""
            },
            "type": "contourcarpet"
           }
          ],
          "heatmap": [
           {
            "colorbar": {
             "outlinewidth": 0,
             "ticks": ""
            },
            "colorscale": [
             [
              0,
              "#0d0887"
             ],
             [
              0.1111111111111111,
              "#46039f"
             ],
             [
              0.2222222222222222,
              "#7201a8"
             ],
             [
              0.3333333333333333,
              "#9c179e"
             ],
             [
              0.4444444444444444,
              "#bd3786"
             ],
             [
              0.5555555555555556,
              "#d8576b"
             ],
             [
              0.6666666666666666,
              "#ed7953"
             ],
             [
              0.7777777777777778,
              "#fb9f3a"
             ],
             [
              0.8888888888888888,
              "#fdca26"
             ],
             [
              1,
              "#f0f921"
             ]
            ],
            "type": "heatmap"
           }
          ],
          "heatmapgl": [
           {
            "colorbar": {
             "outlinewidth": 0,
             "ticks": ""
            },
            "colorscale": [
             [
              0,
              "#0d0887"
             ],
             [
              0.1111111111111111,
              "#46039f"
             ],
             [
              0.2222222222222222,
              "#7201a8"
             ],
             [
              0.3333333333333333,
              "#9c179e"
             ],
             [
              0.4444444444444444,
              "#bd3786"
             ],
             [
              0.5555555555555556,
              "#d8576b"
             ],
             [
              0.6666666666666666,
              "#ed7953"
             ],
             [
              0.7777777777777778,
              "#fb9f3a"
             ],
             [
              0.8888888888888888,
              "#fdca26"
             ],
             [
              1,
              "#f0f921"
             ]
            ],
            "type": "heatmapgl"
           }
          ],
          "histogram": [
           {
            "marker": {
             "pattern": {
              "fillmode": "overlay",
              "size": 10,
              "solidity": 0.2
             }
            },
            "type": "histogram"
           }
          ],
          "histogram2d": [
           {
            "colorbar": {
             "outlinewidth": 0,
             "ticks": ""
            },
            "colorscale": [
             [
              0,
              "#0d0887"
             ],
             [
              0.1111111111111111,
              "#46039f"
             ],
             [
              0.2222222222222222,
              "#7201a8"
             ],
             [
              0.3333333333333333,
              "#9c179e"
             ],
             [
              0.4444444444444444,
              "#bd3786"
             ],
             [
              0.5555555555555556,
              "#d8576b"
             ],
             [
              0.6666666666666666,
              "#ed7953"
             ],
             [
              0.7777777777777778,
              "#fb9f3a"
             ],
             [
              0.8888888888888888,
              "#fdca26"
             ],
             [
              1,
              "#f0f921"
             ]
            ],
            "type": "histogram2d"
           }
          ],
          "histogram2dcontour": [
           {
            "colorbar": {
             "outlinewidth": 0,
             "ticks": ""
            },
            "colorscale": [
             [
              0,
              "#0d0887"
             ],
             [
              0.1111111111111111,
              "#46039f"
             ],
             [
              0.2222222222222222,
              "#7201a8"
             ],
             [
              0.3333333333333333,
              "#9c179e"
             ],
             [
              0.4444444444444444,
              "#bd3786"
             ],
             [
              0.5555555555555556,
              "#d8576b"
             ],
             [
              0.6666666666666666,
              "#ed7953"
             ],
             [
              0.7777777777777778,
              "#fb9f3a"
             ],
             [
              0.8888888888888888,
              "#fdca26"
             ],
             [
              1,
              "#f0f921"
             ]
            ],
            "type": "histogram2dcontour"
           }
          ],
          "mesh3d": [
           {
            "colorbar": {
             "outlinewidth": 0,
             "ticks": ""
            },
            "type": "mesh3d"
           }
          ],
          "parcoords": [
           {
            "line": {
             "colorbar": {
              "outlinewidth": 0,
              "ticks": ""
             }
            },
            "type": "parcoords"
           }
          ],
          "pie": [
           {
            "automargin": true,
            "type": "pie"
           }
          ],
          "scatter": [
           {
            "fillpattern": {
             "fillmode": "overlay",
             "size": 10,
             "solidity": 0.2
            },
            "type": "scatter"
           }
          ],
          "scatter3d": [
           {
            "line": {
             "colorbar": {
              "outlinewidth": 0,
              "ticks": ""
             }
            },
            "marker": {
             "colorbar": {
              "outlinewidth": 0,
              "ticks": ""
             }
            },
            "type": "scatter3d"
           }
          ],
          "scattercarpet": [
           {
            "marker": {
             "colorbar": {
              "outlinewidth": 0,
              "ticks": ""
             }
            },
            "type": "scattercarpet"
           }
          ],
          "scattergeo": [
           {
            "marker": {
             "colorbar": {
              "outlinewidth": 0,
              "ticks": ""
             }
            },
            "type": "scattergeo"
           }
          ],
          "scattergl": [
           {
            "marker": {
             "colorbar": {
              "outlinewidth": 0,
              "ticks": ""
             }
            },
            "type": "scattergl"
           }
          ],
          "scattermapbox": [
           {
            "marker": {
             "colorbar": {
              "outlinewidth": 0,
              "ticks": ""
             }
            },
            "type": "scattermapbox"
           }
          ],
          "scatterpolar": [
           {
            "marker": {
             "colorbar": {
              "outlinewidth": 0,
              "ticks": ""
             }
            },
            "type": "scatterpolar"
           }
          ],
          "scatterpolargl": [
           {
            "marker": {
             "colorbar": {
              "outlinewidth": 0,
              "ticks": ""
             }
            },
            "type": "scatterpolargl"
           }
          ],
          "scatterternary": [
           {
            "marker": {
             "colorbar": {
              "outlinewidth": 0,
              "ticks": ""
             }
            },
            "type": "scatterternary"
           }
          ],
          "surface": [
           {
            "colorbar": {
             "outlinewidth": 0,
             "ticks": ""
            },
            "colorscale": [
             [
              0,
              "#0d0887"
             ],
             [
              0.1111111111111111,
              "#46039f"
             ],
             [
              0.2222222222222222,
              "#7201a8"
             ],
             [
              0.3333333333333333,
              "#9c179e"
             ],
             [
              0.4444444444444444,
              "#bd3786"
             ],
             [
              0.5555555555555556,
              "#d8576b"
             ],
             [
              0.6666666666666666,
              "#ed7953"
             ],
             [
              0.7777777777777778,
              "#fb9f3a"
             ],
             [
              0.8888888888888888,
              "#fdca26"
             ],
             [
              1,
              "#f0f921"
             ]
            ],
            "type": "surface"
           }
          ],
          "table": [
           {
            "cells": {
             "fill": {
              "color": "#EBF0F8"
             },
             "line": {
              "color": "white"
             }
            },
            "header": {
             "fill": {
              "color": "#C8D4E3"
             },
             "line": {
              "color": "white"
             }
            },
            "type": "table"
           }
          ]
         },
         "layout": {
          "annotationdefaults": {
           "arrowcolor": "#2a3f5f",
           "arrowhead": 0,
           "arrowwidth": 1
          },
          "autotypenumbers": "strict",
          "coloraxis": {
           "colorbar": {
            "outlinewidth": 0,
            "ticks": ""
           }
          },
          "colorscale": {
           "diverging": [
            [
             0,
             "#8e0152"
            ],
            [
             0.1,
             "#c51b7d"
            ],
            [
             0.2,
             "#de77ae"
            ],
            [
             0.3,
             "#f1b6da"
            ],
            [
             0.4,
             "#fde0ef"
            ],
            [
             0.5,
             "#f7f7f7"
            ],
            [
             0.6,
             "#e6f5d0"
            ],
            [
             0.7,
             "#b8e186"
            ],
            [
             0.8,
             "#7fbc41"
            ],
            [
             0.9,
             "#4d9221"
            ],
            [
             1,
             "#276419"
            ]
           ],
           "sequential": [
            [
             0,
             "#0d0887"
            ],
            [
             0.1111111111111111,
             "#46039f"
            ],
            [
             0.2222222222222222,
             "#7201a8"
            ],
            [
             0.3333333333333333,
             "#9c179e"
            ],
            [
             0.4444444444444444,
             "#bd3786"
            ],
            [
             0.5555555555555556,
             "#d8576b"
            ],
            [
             0.6666666666666666,
             "#ed7953"
            ],
            [
             0.7777777777777778,
             "#fb9f3a"
            ],
            [
             0.8888888888888888,
             "#fdca26"
            ],
            [
             1,
             "#f0f921"
            ]
           ],
           "sequentialminus": [
            [
             0,
             "#0d0887"
            ],
            [
             0.1111111111111111,
             "#46039f"
            ],
            [
             0.2222222222222222,
             "#7201a8"
            ],
            [
             0.3333333333333333,
             "#9c179e"
            ],
            [
             0.4444444444444444,
             "#bd3786"
            ],
            [
             0.5555555555555556,
             "#d8576b"
            ],
            [
             0.6666666666666666,
             "#ed7953"
            ],
            [
             0.7777777777777778,
             "#fb9f3a"
            ],
            [
             0.8888888888888888,
             "#fdca26"
            ],
            [
             1,
             "#f0f921"
            ]
           ]
          },
          "colorway": [
           "#636efa",
           "#EF553B",
           "#00cc96",
           "#ab63fa",
           "#FFA15A",
           "#19d3f3",
           "#FF6692",
           "#B6E880",
           "#FF97FF",
           "#FECB52"
          ],
          "font": {
           "color": "#2a3f5f"
          },
          "geo": {
           "bgcolor": "white",
           "lakecolor": "white",
           "landcolor": "#E5ECF6",
           "showlakes": true,
           "showland": true,
           "subunitcolor": "white"
          },
          "hoverlabel": {
           "align": "left"
          },
          "hovermode": "closest",
          "mapbox": {
           "style": "light"
          },
          "paper_bgcolor": "white",
          "plot_bgcolor": "#E5ECF6",
          "polar": {
           "angularaxis": {
            "gridcolor": "white",
            "linecolor": "white",
            "ticks": ""
           },
           "bgcolor": "#E5ECF6",
           "radialaxis": {
            "gridcolor": "white",
            "linecolor": "white",
            "ticks": ""
           }
          },
          "scene": {
           "xaxis": {
            "backgroundcolor": "#E5ECF6",
            "gridcolor": "white",
            "gridwidth": 2,
            "linecolor": "white",
            "showbackground": true,
            "ticks": "",
            "zerolinecolor": "white"
           },
           "yaxis": {
            "backgroundcolor": "#E5ECF6",
            "gridcolor": "white",
            "gridwidth": 2,
            "linecolor": "white",
            "showbackground": true,
            "ticks": "",
            "zerolinecolor": "white"
           },
           "zaxis": {
            "backgroundcolor": "#E5ECF6",
            "gridcolor": "white",
            "gridwidth": 2,
            "linecolor": "white",
            "showbackground": true,
            "ticks": "",
            "zerolinecolor": "white"
           }
          },
          "shapedefaults": {
           "line": {
            "color": "#2a3f5f"
           }
          },
          "ternary": {
           "aaxis": {
            "gridcolor": "white",
            "linecolor": "white",
            "ticks": ""
           },
           "baxis": {
            "gridcolor": "white",
            "linecolor": "white",
            "ticks": ""
           },
           "bgcolor": "#E5ECF6",
           "caxis": {
            "gridcolor": "white",
            "linecolor": "white",
            "ticks": ""
           }
          },
          "title": {
           "x": 0.05
          },
          "xaxis": {
           "automargin": true,
           "gridcolor": "white",
           "linecolor": "white",
           "ticks": "",
           "title": {
            "standoff": 15
           },
           "zerolinecolor": "white",
           "zerolinewidth": 2
          },
          "yaxis": {
           "automargin": true,
           "gridcolor": "white",
           "linecolor": "white",
           "ticks": "",
           "title": {
            "standoff": 15
           },
           "zerolinecolor": "white",
           "zerolinewidth": 2
          }
         }
        },
        "title": {
         "text": "Engine Size vs CO2 Emissions"
        },
        "width": 600,
        "xaxis": {
         "anchor": "y",
         "domain": [
          0,
          1
         ],
         "title": {
          "text": "Engine Size"
         }
        },
        "yaxis": {
         "anchor": "x",
         "domain": [
          0,
          1
         ],
         "title": {
          "text": "CO2 Emissions"
         }
        }
       }
      },
      "text/html": [
       "<div>                            <div id=\"f22492aa-9d14-4ccf-97e1-48c460a08a2f\" class=\"plotly-graph-div\" style=\"height:400px; width:600px;\"></div>            <script type=\"text/javascript\">                require([\"plotly\"], function(Plotly) {                    window.PLOTLYENV=window.PLOTLYENV || {};                                    if (document.getElementById(\"f22492aa-9d14-4ccf-97e1-48c460a08a2f\")) {                    Plotly.newPlot(                        \"f22492aa-9d14-4ccf-97e1-48c460a08a2f\",                        [{\"hovertemplate\":\"engine_size=%{x}<br>co2_emissions=%{y}<extra></extra>\",\"legendgroup\":\"\",\"marker\":{\"color\":\"#636efa\",\"symbol\":\"circle\"},\"mode\":\"markers\",\"name\":\"\",\"showlegend\":false,\"x\":[2.0,2.4,1.5,3.5,3.5,3.5,3.5,3.7,3.7,2.4,2.4,3.5,5.9,5.9,4.7,4.7,4.7,4.7,5.9,2.0,2.0,2.0,2.0,2.0,2.0,2.0,3.0,3.0,3.0,3.0,3.0,4.0,3.0,3.0,4.0,6.3,3.0,2.0,2.0,3.0,2.0,3.0,3.0,3.0,4.2,4.2,5.2,5.2,4.2,4.2,5.2,5.2,4.2,4.2,4.0,3.0,3.0,3.0,3.0,3.0,4.0,4.0,4.0,3.0,2.0,2.0,2.0,2.0,4.0,6.0,4.0,6.0,4.0,6.0,6.0,6.8,2.0,2.0,2.0,2.0,2.0,2.0,2.0,2.0,2.0,2.0,3.0,3.0,3.0,3.0,3.0,2.0,2.0,2.0,3.0,3.0,3.0,3.0,2.0,2.0,3.0,3.0,3.0,4.4,4.4,3.0,4.4,4.4,4.4,3.0,4.4,4.4,6.0,3.0,3.0,3.0,4.4,4.4,4.4,4.4,4.4,4.4,4.4,4.4,4.4,4.4,2.0,3.0,2.0,3.0,3.0,4.4,4.4,3.0,4.4,2.0,2.0,3.0,3.0,3.0,3.6,3.6,1.4,1.4,3.6,3.6,3.6,3.6,2.4,2.0,2.0,2.0,2.4,2.0,2.0,2.4,2.0,2.0,2.5,3.6,2.0,3.6,3.6,3.6,2.0,3.6,2.0,3.6,3.6,3.0,3.6,3.0,3.6,6.2,6.2,6.2,6.2,6.2,6.2,6.2,6.2,6.2,6.2,3.6,3.6,3.6,3.6,3.6,3.6,3.6,3.6,6.2,6.2,6.2,6.2,6.2,6.2,1.4,1.4,1.8,1.8,2.0,1.4,1.4,2.4,3.6,3.6,2.4,3.6,3.6,4.3,5.3,5.3,5.3,5.3,5.3,5.3,5.3,5.3,5.3,5.3,5.3,5.3,4.8,6.0,6.0,4.8,6.0,6.0,2.5,3.6,3.6,2.4,2.0,2.5,2.4,2.4,4.3,4.3,5.3,5.3,6.2,4.3,4.3,5.3,5.3,6.2,1.4,1.4,1.8,1.8,1.4,1.4,1.8,1.8,1.4,1.4,1.4,1.4,1.2,1.2,5.3,5.3,5.3,5.3,5.3,5.3,5.3,5.3,3.6,3.6,1.4,1.4,1.4,3.6,2.4,2.4,3.6,3.6,2.4,2.4,3.6,3.6,5.7,3.6,5.7,3.6,3.6,3.6,3.6,6.4,3.6,3.6,2.4,2.4,3.6,3.6,3.6,5.7,5.7,6.4,6.4,3.6,3.6,5.7,3.6,5.7,3.6,3.6,3.6,3.6,3.6,3.6,6.4,2.0,2.4,2.4,2.0,2.0,2.4,2.4,1.4,1.4,5.7,3.6,3.6,3.6,3.6,2.4,3.6,3.6,3.6,1.4,1.4,1.4,1.4,1.4,1.4,1.4,1.4,1.4,1.4,2.0,4.6,4.6,5.4,5.4,4.6,4.6,6.8,5.4,5.4,2.0,3.5,3.5,3.7,1.6,2.0,2.5,1.6,2.0,5.4,5.4,2.0,3.5,3.5,3.5,3.5,3.5,3.5,3.5,6.2,3.5,3.5,6.2,3.7,3.7,3.7,3.7,5.0,5.0,5.0,5.0,3.7,3.7,3.7,3.7,5.0,5.0,5.0,5.0,6.2,1.6,1.6,1.0,1.6,1.6,3.5,3.5,3.5,2.0,2.0,2.0,2.0,2.0,2.0,2.0,2.0,2.0,1.5,1.6,2.0,2.5,1.5,2.0,2.0,3.7,3.7,5.0,5.0,5.8,3.7,2.0,3.5,3.5,3.5,3.5,3.5,1.6,2.5,1.6,2.5,3.6,3.6,4.3,5.3,5.3,5.3,5.3,5.3,5.3,5.3,5.3,5.3,5.3,5.3,5.3,4.8,6.0,6.0,4.8,6.0,6.0,4.3,4.3,5.3,5.3,6.2,4.3,4.3,5.3,5.3,6.2,2.4,3.6,3.6,2.4,3.6,3.6,5.3,5.3,5.3,5.3,6.2,6.2,6.2,6.2,5.3,5.3,5.3,5.3,2.4,2.4,2.4,3.5,3.5,3.5,2.0,1.8,1.8,1.8,3.5,2.4,2.4,1.5,1.5,1.5,1.5,3.5,3.5,3.5,3.5,1.6,1.6,2.0,2.0,5.0,3.8,3.3,3.3,2.4,2.0,2.4,2.0,2.4,2.4,2.4,2.0,2.0,2.4,2.0,2.4,1.6,1.6,1.6,1.6,3.7,3.7,3.5,3.5,3.7,3.7,3.7,3.7,3.7,3.7,5.6,3.7,5.6,3.5,3.7,3.5,3.5,2.5,3.7,5.0,5.6,3.0,3.0,5.0,2.0,3.0,5.0,5.0,5.0,3.0,5.0,5.0,3.0,5.0,5.0,5.0,5.0,5.0,5.0,5.0,5.0,5.0,5.0,2.4,3.2,2.4,3.2,2.4,3.2,2.4,3.2,2.0,2.0,2.4,2.4,2.4,2.4,2.4,5.7,3.0,3.6,3.6,6.4,2.0,2.0,2.4,2.4,2.4,2.4,2.4,3.6,3.6,3.6,3.6,3.3,1.8,1.8,2.0,2.0,1.6,1.6,2.0,2.0,1.6,1.6,2.0,2.0,2.0,2.4,1.6,1.6,1.6,2.0,2.0,3.5,2.4,3.3,2.4,3.3,1.6,1.6,2.0,2.0,2.4,2.4,2.0,2.4,6.5,5.2,5.2,2.0,3.0,2.0,2.0,5.0,5.0,5.0,3.0,3.0,3.0,5.0,5.0,5.0,3.0,3.0,3.0,5.0,5.0,5.0,1.8,2.5,3.5,3.5,3.5,3.5,4.6,2.5,2.5,2.5,3.5,3.5,3.5,5.0,4.6,4.6,4.6,5.0,5.7,3.5,3.5,3.5,3.5,3.7,3.5,2.0,3.7,3.7,2.0,3.7,2.0,5.4,5.4,3.0,3.0,4.7,4.7,3.8,3.0,2.0,2.0,2.5,2.0,2.5,3.7,3.7,1.5,1.5,2.0,2.0,2.5,2.5,2.0,2.0,2.0,2.5,2.5,2.0,2.5,2.5,2.5,2.5,2.5,2.0,2.0,2.0,2.0,1.8,1.8,3.5,3.5,3.5,3.5,3.5,3.5,6.2,6.2,4.7,5.5,2.0,2.0,4.7,5.5,5.5,2.1,3.5,3.5,3.5,3.5,3.5,3.5,3.5,4.7,4.7,4.7,5.5,5.5,5.5,5.5,5.5,5.5,3.0,4.7,4.7,5.5,2.1,3.5,3.5,3.5,3.0,4.7,5.5,4.7,4.7,5.5,4.7,5.5,6.0,1.8,1.8,3.5,5.5,6.2,6.2,6.2,1.6,1.6,1.6,1.6,1.6,1.6,1.6,1.6,1.6,1.6,1.6,1.6,1.6,1.6,1.6,1.6,1.6,1.6,1.6,1.6,1.6,1.6,1.6,1.6,1.6,1.6,1.6,1.6,1.6,1.6,1.6,1.6,1.6,1.6,1.6,1.6,2.0,2.0,2.4,2.0,2.0,2.0,2.0,2.0,1.2,1.2,2.4,2.4,3.0,2.0,2.0,2.0,3.7,3.7,3.7,3.7,2.5,3.5,5.6,2.5,2.5,4.0,4.0,4.0,3.8,1.6,1.6,1.6,3.5,3.5,2.0,3.5,3.5,2.5,3.5,2.5,2.5,1.8,1.8,5.6,5.6,1.6,1.6,4.0,4.0,3.4,3.4,3.4,3.4,3.4,3.4,3.8,3.8,3.8,3.8,3.4,3.4,3.8,3.8,3.8,3.8,3.8,3.8,3.8,3.8,3.8,2.7,2.7,3.4,3.4,3.6,3.6,3.0,4.8,4.8,3.0,4.8,2.7,2.7,3.4,3.4,3.6,3.6,3.0,3.0,4.8,3.0,4.8,4.8,5.7,5.7,5.7,5.7,3.0,3.6,3.6,3.0,3.6,3.6,3.6,3.6,3.6,6.6,6.6,6.7,6.7,6.7,6.7,6.6,2.0,2.0,1.3,2.5,2.5,2.4,2.4,1.8,1.8,1.0,1.0,8.4,8.4,2.0,2.0,2.0,2.5,2.5,2.0,2.0,2.5,2.5,2.0,2.0,2.5,2.5,2.5,2.5,3.6,2.5,2.5,3.6,3.6,2.0,2.0,2.0,4.0,4.0,3.5,2.5,3.5,2.5,2.5,1.8,1.8,1.8,1.8,1.8,1.8,1.8,1.8,4.0,4.0,2.7,3.5,3.5,3.5,3.5,1.8,1.5,1.8,2.5,2.5,2.5,5.7,3.5,3.5,2.7,2.7,4.0,2.7,2.7,4.0,4.0,4.0,4.6,5.7,4.6,5.7,2.7,3.5,2.7,3.5,1.5,1.5,1.8,1.8,2.0,2.0,2.5,2.5,1.8,2.0,2.0,2.5,2.0,2.0,2.0,2.0,3.6,2.0,2.5,2.5,2.0,2.0,1.8,1.8,2.0,2.0,2.0,2.0,2.0,2.0,1.4,1.8,1.8,2.5,2.5,3.6,2.0,2.0,3.6,2.0,2.0,2.0,3.6,3.0,2.5,2.5,3.0,3.2,3.0,3.2,3.0,3.2,3.0,3.2,3.2],\"xaxis\":\"x\",\"y\":[196,221,136,255,244,230,232,255,267,212,225,239,359,359,338,354,338,354,359,202,230,214,230,230,214,235,251,224,258,224,258,260,227,258,288,361,230,242,239,258,212,246,304,294,336,407,354,409,336,407,354,409,306,308,290,262,285,262,285,267,281,281,297,292,209,209,237,237,297,356,320,380,322,380,380,437,193,200,202,181,181,193,200,209,209,209,221,230,228,237,232,193,200,209,221,230,228,237,202,209,213,232,246,281,292,232,292,281,292,246,292,292,356,191,214,212,292,292,338,317,338,317,338,317,338,317,209,260,230,253,255,320,370,274,324,209,200,278,253,278,283,290,196,212,264,250,264,264,189,228,225,246,189,228,225,218,221,235,207,251,232,260,258,262,232,248,248,260,294,253,260,255,262,382,340,382,340,382,340,338,322,377,354,283,294,262,271,290,258,269,242,294,292,382,340,276,258,179,179,202,189,192,177,163,209,276,259,230,290,272,347,366,334,380,344,380,344,380,362,380,344,380,362,414,432,411,419,435,413,221,244,229,200,228,184,244,235,271,269,292,270,324,290,285,299,277,329,184,173,191,182,184,172,191,182,191,182,191,182,159,159,317,294,317,294,317,294,317,294,283,290,193,186,207,237,232,246,242,230,225,230,242,230,294,251,308,251,237,237,222,317,276,269,225,230,242,230,258,301,294,320,317,258,237,294,251,308,251,237,258,251,235,222,317,186,198,202,198,195,212,202,168,168,331,278,250,271,264,255,285,276,259,179,179,182,166,179,182,156,179,200,193,138,373,350,396,360,386,368,488,421,382,225,248,264,281,209,221,216,214,230,368,346,235,299,274,254,288,267,292,294,366,317,308,402,283,264,283,264,336,315,336,315,308,288,308,288,343,320,340,318,414,175,175,152,161,184,264,278,294,205,177,165,179,165,184,170,166,162,196,186,207,205,186,216,126,235,244,264,292,304,244,209,271,237,229,258,251,218,228,232,239,283,297,347,366,334,380,344,380,344,380,362,380,344,380,362,414,432,411,419,435,413,271,269,292,270,324,290,285,299,277,329,209,276,259,230,290,272,317,294,317,294,338,322,377,354,317,294,317,294,182,186,200,209,221,251,110,161,166,175,246,209,216,145,159,172,177,244,265,276,308,177,177,198,196,304,255,258,267,237,264,255,221,196,143,145,214,232,230,242,244,177,184,202,196,235,248,172,189,265,269,283,255,267,253,283,267,294,175,271,244,253,196,294,334,345,237,244,294,242,281,306,290,306,285,306,280,285,306,280,306,306,301,290,315,310,315,310,218,242,230,248,232,253,251,267,225,209,225,216,235,216,255,340,267,278,250,363,225,209,225,216,235,216,255,294,294,308,308,251,191,184,193,193,223,225,193,196,216,221,193,198,228,200,175,177,175,212,214,276,237,262,253,271,205,207,209,202,230,260,262,246,421,361,400,274,334,225,225,354,347,342,285,285,278,345,338,331,283,283,277,354,347,342,129,138,221,239,253,175,320,223,239,223,244,253,244,290,283,297,297,262,380,269,255,189,271,260,294,235,281,281,207,262,145,368,346,292,292,347,352,334,301,189,184,198,196,205,283,290,177,170,159,161,170,168,161,163,166,177,168,166,223,225,175,186,168,235,221,228,184,216,216,242,224,242,239,244,242,347,352,304,308,179,212,264,301,301,194,235,230,239,242,239,235,202,267,269,262,297,310,297,310,419,407,324,350,359,363,230,260,278,256,278,327,356,278,276,304,269,292,327,205,207,225,246,380,361,361,179,179,179,179,200,179,175,168,200,179,179,179,191,184,191,184,207,196,191,184,207,196,191,184,191,184,191,184,207,196,191,184,207,196,191,184,189,191,218,288,283,267,198,198,138,147,198,209,235,200,202,207,253,264,262,269,175,214,380,283,260,292,315,301,297,186,198,200,251,271,214,244,253,202,255,191,198,161,179,359,398,152,177,327,315,232,246,237,246,242,253,248,253,253,258,232,246,244,248,246,251,322,274,274,274,274,212,228,225,239,276,313,281,320,299,251,315,212,228,225,239,251,255,260,264,292,260,294,297,340,313,354,324,286,290,285,275,274,269,260,262,254,368,368,393,393,393,393,359,193,218,143,207,207,228,228,184,182,147,147,389,389,196,221,218,198,223,179,196,258,288,179,196,258,288,198,228,267,207,225,269,301,196,212,177,297,297,221,189,221,131,138,177,168,163,170,156,159,196,189,297,320,237,258,264,191,189,110,108,126,205,216,218,384,260,285,251,235,301,274,271,306,322,310,329,356,347,373,230,253,235,260,168,163,196,200,209,216,225,221,200,214,216,232,197,197,223,225,283,221,218,216,194,186,189,189,216,207,207,212,186,186,124,198,198,223,225,248,192,184,278,246,267,246,281,281,223,232,264,235,264,258,271,264,271,260,294],\"yaxis\":\"y\",\"type\":\"scattergl\"}],                        {\"template\":{\"data\":{\"histogram2dcontour\":[{\"type\":\"histogram2dcontour\",\"colorbar\":{\"outlinewidth\":0,\"ticks\":\"\"},\"colorscale\":[[0.0,\"#0d0887\"],[0.1111111111111111,\"#46039f\"],[0.2222222222222222,\"#7201a8\"],[0.3333333333333333,\"#9c179e\"],[0.4444444444444444,\"#bd3786\"],[0.5555555555555556,\"#d8576b\"],[0.6666666666666666,\"#ed7953\"],[0.7777777777777778,\"#fb9f3a\"],[0.8888888888888888,\"#fdca26\"],[1.0,\"#f0f921\"]]}],\"choropleth\":[{\"type\":\"choropleth\",\"colorbar\":{\"outlinewidth\":0,\"ticks\":\"\"}}],\"histogram2d\":[{\"type\":\"histogram2d\",\"colorbar\":{\"outlinewidth\":0,\"ticks\":\"\"},\"colorscale\":[[0.0,\"#0d0887\"],[0.1111111111111111,\"#46039f\"],[0.2222222222222222,\"#7201a8\"],[0.3333333333333333,\"#9c179e\"],[0.4444444444444444,\"#bd3786\"],[0.5555555555555556,\"#d8576b\"],[0.6666666666666666,\"#ed7953\"],[0.7777777777777778,\"#fb9f3a\"],[0.8888888888888888,\"#fdca26\"],[1.0,\"#f0f921\"]]}],\"heatmap\":[{\"type\":\"heatmap\",\"colorbar\":{\"outlinewidth\":0,\"ticks\":\"\"},\"colorscale\":[[0.0,\"#0d0887\"],[0.1111111111111111,\"#46039f\"],[0.2222222222222222,\"#7201a8\"],[0.3333333333333333,\"#9c179e\"],[0.4444444444444444,\"#bd3786\"],[0.5555555555555556,\"#d8576b\"],[0.6666666666666666,\"#ed7953\"],[0.7777777777777778,\"#fb9f3a\"],[0.8888888888888888,\"#fdca26\"],[1.0,\"#f0f921\"]]}],\"heatmapgl\":[{\"type\":\"heatmapgl\",\"colorbar\":{\"outlinewidth\":0,\"ticks\":\"\"},\"colorscale\":[[0.0,\"#0d0887\"],[0.1111111111111111,\"#46039f\"],[0.2222222222222222,\"#7201a8\"],[0.3333333333333333,\"#9c179e\"],[0.4444444444444444,\"#bd3786\"],[0.5555555555555556,\"#d8576b\"],[0.6666666666666666,\"#ed7953\"],[0.7777777777777778,\"#fb9f3a\"],[0.8888888888888888,\"#fdca26\"],[1.0,\"#f0f921\"]]}],\"contourcarpet\":[{\"type\":\"contourcarpet\",\"colorbar\":{\"outlinewidth\":0,\"ticks\":\"\"}}],\"contour\":[{\"type\":\"contour\",\"colorbar\":{\"outlinewidth\":0,\"ticks\":\"\"},\"colorscale\":[[0.0,\"#0d0887\"],[0.1111111111111111,\"#46039f\"],[0.2222222222222222,\"#7201a8\"],[0.3333333333333333,\"#9c179e\"],[0.4444444444444444,\"#bd3786\"],[0.5555555555555556,\"#d8576b\"],[0.6666666666666666,\"#ed7953\"],[0.7777777777777778,\"#fb9f3a\"],[0.8888888888888888,\"#fdca26\"],[1.0,\"#f0f921\"]]}],\"surface\":[{\"type\":\"surface\",\"colorbar\":{\"outlinewidth\":0,\"ticks\":\"\"},\"colorscale\":[[0.0,\"#0d0887\"],[0.1111111111111111,\"#46039f\"],[0.2222222222222222,\"#7201a8\"],[0.3333333333333333,\"#9c179e\"],[0.4444444444444444,\"#bd3786\"],[0.5555555555555556,\"#d8576b\"],[0.6666666666666666,\"#ed7953\"],[0.7777777777777778,\"#fb9f3a\"],[0.8888888888888888,\"#fdca26\"],[1.0,\"#f0f921\"]]}],\"mesh3d\":[{\"type\":\"mesh3d\",\"colorbar\":{\"outlinewidth\":0,\"ticks\":\"\"}}],\"scatter\":[{\"fillpattern\":{\"fillmode\":\"overlay\",\"size\":10,\"solidity\":0.2},\"type\":\"scatter\"}],\"parcoords\":[{\"type\":\"parcoords\",\"line\":{\"colorbar\":{\"outlinewidth\":0,\"ticks\":\"\"}}}],\"scatterpolargl\":[{\"type\":\"scatterpolargl\",\"marker\":{\"colorbar\":{\"outlinewidth\":0,\"ticks\":\"\"}}}],\"bar\":[{\"error_x\":{\"color\":\"#2a3f5f\"},\"error_y\":{\"color\":\"#2a3f5f\"},\"marker\":{\"line\":{\"color\":\"#E5ECF6\",\"width\":0.5},\"pattern\":{\"fillmode\":\"overlay\",\"size\":10,\"solidity\":0.2}},\"type\":\"bar\"}],\"scattergeo\":[{\"type\":\"scattergeo\",\"marker\":{\"colorbar\":{\"outlinewidth\":0,\"ticks\":\"\"}}}],\"scatterpolar\":[{\"type\":\"scatterpolar\",\"marker\":{\"colorbar\":{\"outlinewidth\":0,\"ticks\":\"\"}}}],\"histogram\":[{\"marker\":{\"pattern\":{\"fillmode\":\"overlay\",\"size\":10,\"solidity\":0.2}},\"type\":\"histogram\"}],\"scattergl\":[{\"type\":\"scattergl\",\"marker\":{\"colorbar\":{\"outlinewidth\":0,\"ticks\":\"\"}}}],\"scatter3d\":[{\"type\":\"scatter3d\",\"line\":{\"colorbar\":{\"outlinewidth\":0,\"ticks\":\"\"}},\"marker\":{\"colorbar\":{\"outlinewidth\":0,\"ticks\":\"\"}}}],\"scattermapbox\":[{\"type\":\"scattermapbox\",\"marker\":{\"colorbar\":{\"outlinewidth\":0,\"ticks\":\"\"}}}],\"scatterternary\":[{\"type\":\"scatterternary\",\"marker\":{\"colorbar\":{\"outlinewidth\":0,\"ticks\":\"\"}}}],\"scattercarpet\":[{\"type\":\"scattercarpet\",\"marker\":{\"colorbar\":{\"outlinewidth\":0,\"ticks\":\"\"}}}],\"carpet\":[{\"aaxis\":{\"endlinecolor\":\"#2a3f5f\",\"gridcolor\":\"white\",\"linecolor\":\"white\",\"minorgridcolor\":\"white\",\"startlinecolor\":\"#2a3f5f\"},\"baxis\":{\"endlinecolor\":\"#2a3f5f\",\"gridcolor\":\"white\",\"linecolor\":\"white\",\"minorgridcolor\":\"white\",\"startlinecolor\":\"#2a3f5f\"},\"type\":\"carpet\"}],\"table\":[{\"cells\":{\"fill\":{\"color\":\"#EBF0F8\"},\"line\":{\"color\":\"white\"}},\"header\":{\"fill\":{\"color\":\"#C8D4E3\"},\"line\":{\"color\":\"white\"}},\"type\":\"table\"}],\"barpolar\":[{\"marker\":{\"line\":{\"color\":\"#E5ECF6\",\"width\":0.5},\"pattern\":{\"fillmode\":\"overlay\",\"size\":10,\"solidity\":0.2}},\"type\":\"barpolar\"}],\"pie\":[{\"automargin\":true,\"type\":\"pie\"}]},\"layout\":{\"autotypenumbers\":\"strict\",\"colorway\":[\"#636efa\",\"#EF553B\",\"#00cc96\",\"#ab63fa\",\"#FFA15A\",\"#19d3f3\",\"#FF6692\",\"#B6E880\",\"#FF97FF\",\"#FECB52\"],\"font\":{\"color\":\"#2a3f5f\"},\"hovermode\":\"closest\",\"hoverlabel\":{\"align\":\"left\"},\"paper_bgcolor\":\"white\",\"plot_bgcolor\":\"#E5ECF6\",\"polar\":{\"bgcolor\":\"#E5ECF6\",\"angularaxis\":{\"gridcolor\":\"white\",\"linecolor\":\"white\",\"ticks\":\"\"},\"radialaxis\":{\"gridcolor\":\"white\",\"linecolor\":\"white\",\"ticks\":\"\"}},\"ternary\":{\"bgcolor\":\"#E5ECF6\",\"aaxis\":{\"gridcolor\":\"white\",\"linecolor\":\"white\",\"ticks\":\"\"},\"baxis\":{\"gridcolor\":\"white\",\"linecolor\":\"white\",\"ticks\":\"\"},\"caxis\":{\"gridcolor\":\"white\",\"linecolor\":\"white\",\"ticks\":\"\"}},\"coloraxis\":{\"colorbar\":{\"outlinewidth\":0,\"ticks\":\"\"}},\"colorscale\":{\"sequential\":[[0.0,\"#0d0887\"],[0.1111111111111111,\"#46039f\"],[0.2222222222222222,\"#7201a8\"],[0.3333333333333333,\"#9c179e\"],[0.4444444444444444,\"#bd3786\"],[0.5555555555555556,\"#d8576b\"],[0.6666666666666666,\"#ed7953\"],[0.7777777777777778,\"#fb9f3a\"],[0.8888888888888888,\"#fdca26\"],[1.0,\"#f0f921\"]],\"sequentialminus\":[[0.0,\"#0d0887\"],[0.1111111111111111,\"#46039f\"],[0.2222222222222222,\"#7201a8\"],[0.3333333333333333,\"#9c179e\"],[0.4444444444444444,\"#bd3786\"],[0.5555555555555556,\"#d8576b\"],[0.6666666666666666,\"#ed7953\"],[0.7777777777777778,\"#fb9f3a\"],[0.8888888888888888,\"#fdca26\"],[1.0,\"#f0f921\"]],\"diverging\":[[0,\"#8e0152\"],[0.1,\"#c51b7d\"],[0.2,\"#de77ae\"],[0.3,\"#f1b6da\"],[0.4,\"#fde0ef\"],[0.5,\"#f7f7f7\"],[0.6,\"#e6f5d0\"],[0.7,\"#b8e186\"],[0.8,\"#7fbc41\"],[0.9,\"#4d9221\"],[1,\"#276419\"]]},\"xaxis\":{\"gridcolor\":\"white\",\"linecolor\":\"white\",\"ticks\":\"\",\"title\":{\"standoff\":15},\"zerolinecolor\":\"white\",\"automargin\":true,\"zerolinewidth\":2},\"yaxis\":{\"gridcolor\":\"white\",\"linecolor\":\"white\",\"ticks\":\"\",\"title\":{\"standoff\":15},\"zerolinecolor\":\"white\",\"automargin\":true,\"zerolinewidth\":2},\"scene\":{\"xaxis\":{\"backgroundcolor\":\"#E5ECF6\",\"gridcolor\":\"white\",\"linecolor\":\"white\",\"showbackground\":true,\"ticks\":\"\",\"zerolinecolor\":\"white\",\"gridwidth\":2},\"yaxis\":{\"backgroundcolor\":\"#E5ECF6\",\"gridcolor\":\"white\",\"linecolor\":\"white\",\"showbackground\":true,\"ticks\":\"\",\"zerolinecolor\":\"white\",\"gridwidth\":2},\"zaxis\":{\"backgroundcolor\":\"#E5ECF6\",\"gridcolor\":\"white\",\"linecolor\":\"white\",\"showbackground\":true,\"ticks\":\"\",\"zerolinecolor\":\"white\",\"gridwidth\":2}},\"shapedefaults\":{\"line\":{\"color\":\"#2a3f5f\"}},\"annotationdefaults\":{\"arrowcolor\":\"#2a3f5f\",\"arrowhead\":0,\"arrowwidth\":1},\"geo\":{\"bgcolor\":\"white\",\"landcolor\":\"#E5ECF6\",\"subunitcolor\":\"white\",\"showland\":true,\"showlakes\":true,\"lakecolor\":\"white\"},\"title\":{\"x\":0.05},\"mapbox\":{\"style\":\"light\"}}},\"xaxis\":{\"anchor\":\"y\",\"domain\":[0.0,1.0],\"title\":{\"text\":\"Engine Size\"}},\"yaxis\":{\"anchor\":\"x\",\"domain\":[0.0,1.0],\"title\":{\"text\":\"CO2 Emissions\"}},\"legend\":{\"tracegroupgap\":0},\"margin\":{\"t\":60},\"height\":400,\"width\":600,\"title\":{\"text\":\"Engine Size vs CO2 Emissions\"}},                        {\"responsive\": true}                    ).then(function(){\n",
       "                            \n",
       "var gd = document.getElementById('f22492aa-9d14-4ccf-97e1-48c460a08a2f');\n",
       "var x = new MutationObserver(function (mutations, observer) {{\n",
       "        var display = window.getComputedStyle(gd).display;\n",
       "        if (!display || display === 'none') {{\n",
       "            console.log([gd, 'removed!']);\n",
       "            Plotly.purge(gd);\n",
       "            observer.disconnect();\n",
       "        }}\n",
       "}});\n",
       "\n",
       "// Listen for the removal of the full notebook cells\n",
       "var notebookContainer = gd.closest('#notebook-container');\n",
       "if (notebookContainer) {{\n",
       "    x.observe(notebookContainer, {childList: true});\n",
       "}}\n",
       "\n",
       "// Listen for the clearing of the current output cell\n",
       "var outputEl = gd.closest('.output');\n",
       "if (outputEl) {{\n",
       "    x.observe(outputEl, {childList: true});\n",
       "}}\n",
       "\n",
       "                        })                };                });            </script>        </div>"
      ]
     },
     "metadata": {},
     "output_type": "display_data"
    }
   ],
   "source": [
    "fig_config = {\n",
    "    'data_frame': df,\n",
    "    'x':'engine_size',\n",
    "    'y':'co2_emissions',\n",
    "    'width': 600, \n",
    "    'height': 400\n",
    "}\n",
    "\n",
    "layout_config = {\n",
    "    'title': 'Engine Size vs CO2 Emissions',\n",
    "    'xaxis_title': 'Engine Size',\n",
    "    'yaxis_title': 'CO2 Emissions',\n",
    "}\n",
    "\n",
    "fig = px.scatter(**fig_config)\n",
    "\n",
    "fig.update_layout(**layout_config)\n",
    "fig.show()"
   ]
  },
  {
   "cell_type": "code",
   "execution_count": 207,
   "metadata": {},
   "outputs": [
    {
     "data": {
      "application/vnd.plotly.v1+json": {
       "config": {
        "plotlyServerURL": "https://plot.ly"
       },
       "data": [
        {
         "hovertemplate": "cylinders=%{x}<br>co2_emissions=%{y}<extra></extra>",
         "legendgroup": "",
         "marker": {
          "color": "#636efa",
          "symbol": "circle"
         },
         "mode": "markers",
         "name": "",
         "showlegend": false,
         "type": "scattergl",
         "x": [
          4,
          4,
          4,
          6,
          6,
          6,
          6,
          6,
          6,
          4,
          4,
          6,
          12,
          12,
          8,
          8,
          8,
          8,
          12,
          4,
          4,
          4,
          4,
          4,
          4,
          4,
          6,
          6,
          6,
          6,
          6,
          8,
          6,
          6,
          8,
          12,
          6,
          4,
          4,
          6,
          4,
          6,
          6,
          6,
          8,
          8,
          10,
          10,
          8,
          8,
          10,
          10,
          8,
          8,
          8,
          6,
          6,
          6,
          6,
          6,
          8,
          8,
          8,
          6,
          4,
          4,
          4,
          4,
          8,
          12,
          8,
          12,
          8,
          12,
          12,
          8,
          4,
          4,
          4,
          4,
          4,
          4,
          4,
          4,
          4,
          4,
          6,
          6,
          6,
          6,
          6,
          4,
          4,
          4,
          6,
          6,
          6,
          6,
          4,
          4,
          6,
          6,
          6,
          8,
          8,
          6,
          8,
          8,
          8,
          6,
          8,
          8,
          12,
          6,
          6,
          6,
          8,
          8,
          8,
          8,
          8,
          8,
          8,
          8,
          8,
          8,
          4,
          6,
          4,
          6,
          6,
          8,
          8,
          6,
          8,
          4,
          4,
          6,
          6,
          6,
          6,
          6,
          4,
          4,
          6,
          6,
          6,
          6,
          4,
          4,
          4,
          4,
          4,
          4,
          4,
          4,
          4,
          4,
          4,
          6,
          4,
          6,
          6,
          6,
          4,
          6,
          4,
          6,
          6,
          6,
          6,
          6,
          6,
          8,
          8,
          8,
          8,
          8,
          8,
          8,
          8,
          8,
          8,
          6,
          6,
          6,
          6,
          6,
          6,
          6,
          6,
          8,
          8,
          8,
          8,
          8,
          8,
          4,
          4,
          4,
          4,
          4,
          4,
          4,
          4,
          6,
          6,
          4,
          6,
          6,
          6,
          8,
          8,
          8,
          8,
          8,
          8,
          8,
          8,
          8,
          8,
          8,
          8,
          8,
          8,
          8,
          8,
          8,
          8,
          4,
          6,
          6,
          4,
          4,
          4,
          4,
          4,
          6,
          6,
          8,
          8,
          8,
          6,
          6,
          8,
          8,
          8,
          4,
          4,
          4,
          4,
          4,
          4,
          4,
          4,
          4,
          4,
          4,
          4,
          4,
          4,
          8,
          8,
          8,
          8,
          8,
          8,
          8,
          8,
          6,
          6,
          4,
          4,
          4,
          6,
          4,
          4,
          6,
          6,
          4,
          4,
          6,
          6,
          8,
          6,
          8,
          6,
          6,
          6,
          6,
          8,
          6,
          6,
          4,
          4,
          6,
          6,
          6,
          8,
          8,
          8,
          8,
          6,
          6,
          8,
          6,
          8,
          6,
          6,
          6,
          6,
          6,
          6,
          8,
          4,
          4,
          4,
          4,
          4,
          4,
          4,
          4,
          4,
          8,
          6,
          6,
          6,
          6,
          4,
          6,
          6,
          6,
          4,
          4,
          4,
          4,
          4,
          4,
          4,
          4,
          4,
          4,
          4,
          8,
          8,
          8,
          8,
          8,
          8,
          10,
          8,
          8,
          4,
          6,
          6,
          6,
          4,
          4,
          4,
          4,
          4,
          8,
          8,
          4,
          6,
          6,
          6,
          6,
          6,
          6,
          6,
          8,
          6,
          6,
          8,
          6,
          6,
          6,
          6,
          8,
          8,
          8,
          8,
          6,
          6,
          6,
          6,
          8,
          8,
          8,
          8,
          8,
          4,
          4,
          4,
          4,
          4,
          6,
          6,
          6,
          4,
          4,
          4,
          4,
          4,
          4,
          4,
          4,
          4,
          4,
          4,
          4,
          4,
          4,
          4,
          4,
          6,
          6,
          8,
          8,
          8,
          6,
          4,
          6,
          6,
          6,
          6,
          6,
          4,
          4,
          4,
          4,
          6,
          6,
          6,
          8,
          8,
          8,
          8,
          8,
          8,
          8,
          8,
          8,
          8,
          8,
          8,
          8,
          8,
          8,
          8,
          8,
          8,
          6,
          6,
          8,
          8,
          8,
          6,
          6,
          8,
          8,
          8,
          4,
          6,
          6,
          4,
          6,
          6,
          8,
          8,
          8,
          8,
          8,
          8,
          8,
          8,
          8,
          8,
          8,
          8,
          4,
          4,
          4,
          6,
          6,
          6,
          4,
          4,
          4,
          4,
          6,
          4,
          4,
          4,
          4,
          4,
          4,
          6,
          6,
          6,
          6,
          4,
          4,
          4,
          4,
          8,
          6,
          6,
          6,
          4,
          4,
          4,
          4,
          4,
          4,
          4,
          4,
          4,
          4,
          4,
          4,
          4,
          4,
          4,
          4,
          6,
          6,
          6,
          6,
          6,
          6,
          6,
          6,
          6,
          6,
          8,
          6,
          8,
          6,
          6,
          6,
          6,
          4,
          6,
          8,
          8,
          6,
          6,
          8,
          4,
          6,
          8,
          8,
          8,
          6,
          8,
          8,
          6,
          8,
          8,
          8,
          8,
          8,
          8,
          8,
          8,
          8,
          8,
          4,
          6,
          4,
          6,
          4,
          6,
          4,
          6,
          4,
          4,
          4,
          4,
          4,
          4,
          4,
          8,
          6,
          6,
          6,
          8,
          4,
          4,
          4,
          4,
          4,
          4,
          4,
          6,
          6,
          6,
          6,
          6,
          4,
          4,
          4,
          4,
          4,
          4,
          4,
          4,
          4,
          4,
          4,
          4,
          4,
          4,
          4,
          4,
          4,
          4,
          4,
          6,
          4,
          6,
          4,
          6,
          4,
          4,
          4,
          4,
          4,
          4,
          4,
          4,
          12,
          10,
          10,
          4,
          6,
          4,
          4,
          8,
          8,
          8,
          6,
          6,
          6,
          8,
          8,
          8,
          6,
          6,
          6,
          8,
          8,
          8,
          4,
          4,
          6,
          6,
          6,
          6,
          8,
          6,
          6,
          6,
          6,
          6,
          6,
          8,
          8,
          8,
          8,
          8,
          8,
          6,
          6,
          6,
          6,
          6,
          6,
          4,
          6,
          6,
          4,
          6,
          4,
          8,
          8,
          6,
          6,
          8,
          8,
          8,
          6,
          4,
          4,
          4,
          4,
          4,
          6,
          6,
          4,
          4,
          4,
          4,
          4,
          4,
          4,
          4,
          4,
          4,
          4,
          4,
          4,
          4,
          4,
          4,
          4,
          4,
          4,
          4,
          4,
          4,
          4,
          6,
          6,
          6,
          6,
          6,
          6,
          8,
          8,
          8,
          8,
          4,
          4,
          8,
          8,
          8,
          4,
          6,
          6,
          6,
          6,
          6,
          6,
          6,
          8,
          8,
          8,
          8,
          8,
          8,
          8,
          8,
          8,
          6,
          8,
          8,
          8,
          4,
          6,
          6,
          6,
          6,
          8,
          8,
          8,
          8,
          8,
          8,
          8,
          8,
          4,
          4,
          6,
          8,
          8,
          8,
          8,
          4,
          4,
          4,
          4,
          4,
          4,
          4,
          4,
          4,
          4,
          4,
          4,
          4,
          4,
          4,
          4,
          4,
          4,
          4,
          4,
          4,
          4,
          4,
          4,
          4,
          4,
          4,
          4,
          4,
          4,
          4,
          4,
          4,
          4,
          4,
          4,
          4,
          4,
          4,
          4,
          4,
          4,
          4,
          4,
          3,
          3,
          4,
          4,
          6,
          4,
          4,
          4,
          6,
          6,
          6,
          6,
          4,
          6,
          8,
          4,
          4,
          6,
          6,
          6,
          6,
          4,
          4,
          4,
          6,
          6,
          4,
          6,
          6,
          4,
          6,
          4,
          4,
          4,
          4,
          8,
          8,
          4,
          4,
          6,
          6,
          6,
          6,
          6,
          6,
          6,
          6,
          6,
          6,
          6,
          6,
          6,
          6,
          6,
          6,
          6,
          6,
          6,
          6,
          6,
          6,
          6,
          6,
          6,
          6,
          6,
          6,
          6,
          6,
          8,
          8,
          6,
          8,
          6,
          6,
          6,
          6,
          6,
          6,
          6,
          6,
          8,
          6,
          8,
          8,
          8,
          8,
          8,
          8,
          6,
          6,
          6,
          6,
          6,
          6,
          6,
          6,
          6,
          12,
          12,
          12,
          12,
          12,
          12,
          12,
          4,
          4,
          4,
          4,
          4,
          4,
          4,
          4,
          4,
          3,
          3,
          10,
          10,
          4,
          4,
          4,
          4,
          4,
          4,
          4,
          4,
          4,
          4,
          4,
          4,
          4,
          4,
          4,
          6,
          4,
          4,
          6,
          6,
          4,
          4,
          4,
          6,
          6,
          6,
          4,
          6,
          4,
          4,
          4,
          4,
          4,
          4,
          4,
          4,
          4,
          4,
          6,
          6,
          4,
          6,
          6,
          6,
          6,
          4,
          4,
          4,
          4,
          4,
          4,
          8,
          6,
          6,
          4,
          4,
          6,
          4,
          4,
          6,
          6,
          6,
          8,
          8,
          8,
          8,
          4,
          6,
          4,
          6,
          4,
          4,
          4,
          4,
          4,
          4,
          5,
          5,
          4,
          4,
          4,
          5,
          4,
          4,
          4,
          4,
          6,
          4,
          5,
          5,
          4,
          4,
          4,
          4,
          4,
          4,
          4,
          4,
          4,
          4,
          4,
          4,
          4,
          5,
          5,
          6,
          4,
          4,
          6,
          4,
          4,
          4,
          6,
          6,
          5,
          5,
          6,
          6,
          6,
          6,
          6,
          6,
          6,
          6,
          6
         ],
         "xaxis": "x",
         "y": [
          196,
          221,
          136,
          255,
          244,
          230,
          232,
          255,
          267,
          212,
          225,
          239,
          359,
          359,
          338,
          354,
          338,
          354,
          359,
          202,
          230,
          214,
          230,
          230,
          214,
          235,
          251,
          224,
          258,
          224,
          258,
          260,
          227,
          258,
          288,
          361,
          230,
          242,
          239,
          258,
          212,
          246,
          304,
          294,
          336,
          407,
          354,
          409,
          336,
          407,
          354,
          409,
          306,
          308,
          290,
          262,
          285,
          262,
          285,
          267,
          281,
          281,
          297,
          292,
          209,
          209,
          237,
          237,
          297,
          356,
          320,
          380,
          322,
          380,
          380,
          437,
          193,
          200,
          202,
          181,
          181,
          193,
          200,
          209,
          209,
          209,
          221,
          230,
          228,
          237,
          232,
          193,
          200,
          209,
          221,
          230,
          228,
          237,
          202,
          209,
          213,
          232,
          246,
          281,
          292,
          232,
          292,
          281,
          292,
          246,
          292,
          292,
          356,
          191,
          214,
          212,
          292,
          292,
          338,
          317,
          338,
          317,
          338,
          317,
          338,
          317,
          209,
          260,
          230,
          253,
          255,
          320,
          370,
          274,
          324,
          209,
          200,
          278,
          253,
          278,
          283,
          290,
          196,
          212,
          264,
          250,
          264,
          264,
          189,
          228,
          225,
          246,
          189,
          228,
          225,
          218,
          221,
          235,
          207,
          251,
          232,
          260,
          258,
          262,
          232,
          248,
          248,
          260,
          294,
          253,
          260,
          255,
          262,
          382,
          340,
          382,
          340,
          382,
          340,
          338,
          322,
          377,
          354,
          283,
          294,
          262,
          271,
          290,
          258,
          269,
          242,
          294,
          292,
          382,
          340,
          276,
          258,
          179,
          179,
          202,
          189,
          192,
          177,
          163,
          209,
          276,
          259,
          230,
          290,
          272,
          347,
          366,
          334,
          380,
          344,
          380,
          344,
          380,
          362,
          380,
          344,
          380,
          362,
          414,
          432,
          411,
          419,
          435,
          413,
          221,
          244,
          229,
          200,
          228,
          184,
          244,
          235,
          271,
          269,
          292,
          270,
          324,
          290,
          285,
          299,
          277,
          329,
          184,
          173,
          191,
          182,
          184,
          172,
          191,
          182,
          191,
          182,
          191,
          182,
          159,
          159,
          317,
          294,
          317,
          294,
          317,
          294,
          317,
          294,
          283,
          290,
          193,
          186,
          207,
          237,
          232,
          246,
          242,
          230,
          225,
          230,
          242,
          230,
          294,
          251,
          308,
          251,
          237,
          237,
          222,
          317,
          276,
          269,
          225,
          230,
          242,
          230,
          258,
          301,
          294,
          320,
          317,
          258,
          237,
          294,
          251,
          308,
          251,
          237,
          258,
          251,
          235,
          222,
          317,
          186,
          198,
          202,
          198,
          195,
          212,
          202,
          168,
          168,
          331,
          278,
          250,
          271,
          264,
          255,
          285,
          276,
          259,
          179,
          179,
          182,
          166,
          179,
          182,
          156,
          179,
          200,
          193,
          138,
          373,
          350,
          396,
          360,
          386,
          368,
          488,
          421,
          382,
          225,
          248,
          264,
          281,
          209,
          221,
          216,
          214,
          230,
          368,
          346,
          235,
          299,
          274,
          254,
          288,
          267,
          292,
          294,
          366,
          317,
          308,
          402,
          283,
          264,
          283,
          264,
          336,
          315,
          336,
          315,
          308,
          288,
          308,
          288,
          343,
          320,
          340,
          318,
          414,
          175,
          175,
          152,
          161,
          184,
          264,
          278,
          294,
          205,
          177,
          165,
          179,
          165,
          184,
          170,
          166,
          162,
          196,
          186,
          207,
          205,
          186,
          216,
          126,
          235,
          244,
          264,
          292,
          304,
          244,
          209,
          271,
          237,
          229,
          258,
          251,
          218,
          228,
          232,
          239,
          283,
          297,
          347,
          366,
          334,
          380,
          344,
          380,
          344,
          380,
          362,
          380,
          344,
          380,
          362,
          414,
          432,
          411,
          419,
          435,
          413,
          271,
          269,
          292,
          270,
          324,
          290,
          285,
          299,
          277,
          329,
          209,
          276,
          259,
          230,
          290,
          272,
          317,
          294,
          317,
          294,
          338,
          322,
          377,
          354,
          317,
          294,
          317,
          294,
          182,
          186,
          200,
          209,
          221,
          251,
          110,
          161,
          166,
          175,
          246,
          209,
          216,
          145,
          159,
          172,
          177,
          244,
          265,
          276,
          308,
          177,
          177,
          198,
          196,
          304,
          255,
          258,
          267,
          237,
          264,
          255,
          221,
          196,
          143,
          145,
          214,
          232,
          230,
          242,
          244,
          177,
          184,
          202,
          196,
          235,
          248,
          172,
          189,
          265,
          269,
          283,
          255,
          267,
          253,
          283,
          267,
          294,
          175,
          271,
          244,
          253,
          196,
          294,
          334,
          345,
          237,
          244,
          294,
          242,
          281,
          306,
          290,
          306,
          285,
          306,
          280,
          285,
          306,
          280,
          306,
          306,
          301,
          290,
          315,
          310,
          315,
          310,
          218,
          242,
          230,
          248,
          232,
          253,
          251,
          267,
          225,
          209,
          225,
          216,
          235,
          216,
          255,
          340,
          267,
          278,
          250,
          363,
          225,
          209,
          225,
          216,
          235,
          216,
          255,
          294,
          294,
          308,
          308,
          251,
          191,
          184,
          193,
          193,
          223,
          225,
          193,
          196,
          216,
          221,
          193,
          198,
          228,
          200,
          175,
          177,
          175,
          212,
          214,
          276,
          237,
          262,
          253,
          271,
          205,
          207,
          209,
          202,
          230,
          260,
          262,
          246,
          421,
          361,
          400,
          274,
          334,
          225,
          225,
          354,
          347,
          342,
          285,
          285,
          278,
          345,
          338,
          331,
          283,
          283,
          277,
          354,
          347,
          342,
          129,
          138,
          221,
          239,
          253,
          175,
          320,
          223,
          239,
          223,
          244,
          253,
          244,
          290,
          283,
          297,
          297,
          262,
          380,
          269,
          255,
          189,
          271,
          260,
          294,
          235,
          281,
          281,
          207,
          262,
          145,
          368,
          346,
          292,
          292,
          347,
          352,
          334,
          301,
          189,
          184,
          198,
          196,
          205,
          283,
          290,
          177,
          170,
          159,
          161,
          170,
          168,
          161,
          163,
          166,
          177,
          168,
          166,
          223,
          225,
          175,
          186,
          168,
          235,
          221,
          228,
          184,
          216,
          216,
          242,
          224,
          242,
          239,
          244,
          242,
          347,
          352,
          304,
          308,
          179,
          212,
          264,
          301,
          301,
          194,
          235,
          230,
          239,
          242,
          239,
          235,
          202,
          267,
          269,
          262,
          297,
          310,
          297,
          310,
          419,
          407,
          324,
          350,
          359,
          363,
          230,
          260,
          278,
          256,
          278,
          327,
          356,
          278,
          276,
          304,
          269,
          292,
          327,
          205,
          207,
          225,
          246,
          380,
          361,
          361,
          179,
          179,
          179,
          179,
          200,
          179,
          175,
          168,
          200,
          179,
          179,
          179,
          191,
          184,
          191,
          184,
          207,
          196,
          191,
          184,
          207,
          196,
          191,
          184,
          191,
          184,
          191,
          184,
          207,
          196,
          191,
          184,
          207,
          196,
          191,
          184,
          189,
          191,
          218,
          288,
          283,
          267,
          198,
          198,
          138,
          147,
          198,
          209,
          235,
          200,
          202,
          207,
          253,
          264,
          262,
          269,
          175,
          214,
          380,
          283,
          260,
          292,
          315,
          301,
          297,
          186,
          198,
          200,
          251,
          271,
          214,
          244,
          253,
          202,
          255,
          191,
          198,
          161,
          179,
          359,
          398,
          152,
          177,
          327,
          315,
          232,
          246,
          237,
          246,
          242,
          253,
          248,
          253,
          253,
          258,
          232,
          246,
          244,
          248,
          246,
          251,
          322,
          274,
          274,
          274,
          274,
          212,
          228,
          225,
          239,
          276,
          313,
          281,
          320,
          299,
          251,
          315,
          212,
          228,
          225,
          239,
          251,
          255,
          260,
          264,
          292,
          260,
          294,
          297,
          340,
          313,
          354,
          324,
          286,
          290,
          285,
          275,
          274,
          269,
          260,
          262,
          254,
          368,
          368,
          393,
          393,
          393,
          393,
          359,
          193,
          218,
          143,
          207,
          207,
          228,
          228,
          184,
          182,
          147,
          147,
          389,
          389,
          196,
          221,
          218,
          198,
          223,
          179,
          196,
          258,
          288,
          179,
          196,
          258,
          288,
          198,
          228,
          267,
          207,
          225,
          269,
          301,
          196,
          212,
          177,
          297,
          297,
          221,
          189,
          221,
          131,
          138,
          177,
          168,
          163,
          170,
          156,
          159,
          196,
          189,
          297,
          320,
          237,
          258,
          264,
          191,
          189,
          110,
          108,
          126,
          205,
          216,
          218,
          384,
          260,
          285,
          251,
          235,
          301,
          274,
          271,
          306,
          322,
          310,
          329,
          356,
          347,
          373,
          230,
          253,
          235,
          260,
          168,
          163,
          196,
          200,
          209,
          216,
          225,
          221,
          200,
          214,
          216,
          232,
          197,
          197,
          223,
          225,
          283,
          221,
          218,
          216,
          194,
          186,
          189,
          189,
          216,
          207,
          207,
          212,
          186,
          186,
          124,
          198,
          198,
          223,
          225,
          248,
          192,
          184,
          278,
          246,
          267,
          246,
          281,
          281,
          223,
          232,
          264,
          235,
          264,
          258,
          271,
          264,
          271,
          260,
          294
         ],
         "yaxis": "y"
        }
       ],
       "layout": {
        "height": 400,
        "legend": {
         "tracegroupgap": 0
        },
        "margin": {
         "t": 60
        },
        "template": {
         "data": {
          "bar": [
           {
            "error_x": {
             "color": "#2a3f5f"
            },
            "error_y": {
             "color": "#2a3f5f"
            },
            "marker": {
             "line": {
              "color": "#E5ECF6",
              "width": 0.5
             },
             "pattern": {
              "fillmode": "overlay",
              "size": 10,
              "solidity": 0.2
             }
            },
            "type": "bar"
           }
          ],
          "barpolar": [
           {
            "marker": {
             "line": {
              "color": "#E5ECF6",
              "width": 0.5
             },
             "pattern": {
              "fillmode": "overlay",
              "size": 10,
              "solidity": 0.2
             }
            },
            "type": "barpolar"
           }
          ],
          "carpet": [
           {
            "aaxis": {
             "endlinecolor": "#2a3f5f",
             "gridcolor": "white",
             "linecolor": "white",
             "minorgridcolor": "white",
             "startlinecolor": "#2a3f5f"
            },
            "baxis": {
             "endlinecolor": "#2a3f5f",
             "gridcolor": "white",
             "linecolor": "white",
             "minorgridcolor": "white",
             "startlinecolor": "#2a3f5f"
            },
            "type": "carpet"
           }
          ],
          "choropleth": [
           {
            "colorbar": {
             "outlinewidth": 0,
             "ticks": ""
            },
            "type": "choropleth"
           }
          ],
          "contour": [
           {
            "colorbar": {
             "outlinewidth": 0,
             "ticks": ""
            },
            "colorscale": [
             [
              0,
              "#0d0887"
             ],
             [
              0.1111111111111111,
              "#46039f"
             ],
             [
              0.2222222222222222,
              "#7201a8"
             ],
             [
              0.3333333333333333,
              "#9c179e"
             ],
             [
              0.4444444444444444,
              "#bd3786"
             ],
             [
              0.5555555555555556,
              "#d8576b"
             ],
             [
              0.6666666666666666,
              "#ed7953"
             ],
             [
              0.7777777777777778,
              "#fb9f3a"
             ],
             [
              0.8888888888888888,
              "#fdca26"
             ],
             [
              1,
              "#f0f921"
             ]
            ],
            "type": "contour"
           }
          ],
          "contourcarpet": [
           {
            "colorbar": {
             "outlinewidth": 0,
             "ticks": ""
            },
            "type": "contourcarpet"
           }
          ],
          "heatmap": [
           {
            "colorbar": {
             "outlinewidth": 0,
             "ticks": ""
            },
            "colorscale": [
             [
              0,
              "#0d0887"
             ],
             [
              0.1111111111111111,
              "#46039f"
             ],
             [
              0.2222222222222222,
              "#7201a8"
             ],
             [
              0.3333333333333333,
              "#9c179e"
             ],
             [
              0.4444444444444444,
              "#bd3786"
             ],
             [
              0.5555555555555556,
              "#d8576b"
             ],
             [
              0.6666666666666666,
              "#ed7953"
             ],
             [
              0.7777777777777778,
              "#fb9f3a"
             ],
             [
              0.8888888888888888,
              "#fdca26"
             ],
             [
              1,
              "#f0f921"
             ]
            ],
            "type": "heatmap"
           }
          ],
          "heatmapgl": [
           {
            "colorbar": {
             "outlinewidth": 0,
             "ticks": ""
            },
            "colorscale": [
             [
              0,
              "#0d0887"
             ],
             [
              0.1111111111111111,
              "#46039f"
             ],
             [
              0.2222222222222222,
              "#7201a8"
             ],
             [
              0.3333333333333333,
              "#9c179e"
             ],
             [
              0.4444444444444444,
              "#bd3786"
             ],
             [
              0.5555555555555556,
              "#d8576b"
             ],
             [
              0.6666666666666666,
              "#ed7953"
             ],
             [
              0.7777777777777778,
              "#fb9f3a"
             ],
             [
              0.8888888888888888,
              "#fdca26"
             ],
             [
              1,
              "#f0f921"
             ]
            ],
            "type": "heatmapgl"
           }
          ],
          "histogram": [
           {
            "marker": {
             "pattern": {
              "fillmode": "overlay",
              "size": 10,
              "solidity": 0.2
             }
            },
            "type": "histogram"
           }
          ],
          "histogram2d": [
           {
            "colorbar": {
             "outlinewidth": 0,
             "ticks": ""
            },
            "colorscale": [
             [
              0,
              "#0d0887"
             ],
             [
              0.1111111111111111,
              "#46039f"
             ],
             [
              0.2222222222222222,
              "#7201a8"
             ],
             [
              0.3333333333333333,
              "#9c179e"
             ],
             [
              0.4444444444444444,
              "#bd3786"
             ],
             [
              0.5555555555555556,
              "#d8576b"
             ],
             [
              0.6666666666666666,
              "#ed7953"
             ],
             [
              0.7777777777777778,
              "#fb9f3a"
             ],
             [
              0.8888888888888888,
              "#fdca26"
             ],
             [
              1,
              "#f0f921"
             ]
            ],
            "type": "histogram2d"
           }
          ],
          "histogram2dcontour": [
           {
            "colorbar": {
             "outlinewidth": 0,
             "ticks": ""
            },
            "colorscale": [
             [
              0,
              "#0d0887"
             ],
             [
              0.1111111111111111,
              "#46039f"
             ],
             [
              0.2222222222222222,
              "#7201a8"
             ],
             [
              0.3333333333333333,
              "#9c179e"
             ],
             [
              0.4444444444444444,
              "#bd3786"
             ],
             [
              0.5555555555555556,
              "#d8576b"
             ],
             [
              0.6666666666666666,
              "#ed7953"
             ],
             [
              0.7777777777777778,
              "#fb9f3a"
             ],
             [
              0.8888888888888888,
              "#fdca26"
             ],
             [
              1,
              "#f0f921"
             ]
            ],
            "type": "histogram2dcontour"
           }
          ],
          "mesh3d": [
           {
            "colorbar": {
             "outlinewidth": 0,
             "ticks": ""
            },
            "type": "mesh3d"
           }
          ],
          "parcoords": [
           {
            "line": {
             "colorbar": {
              "outlinewidth": 0,
              "ticks": ""
             }
            },
            "type": "parcoords"
           }
          ],
          "pie": [
           {
            "automargin": true,
            "type": "pie"
           }
          ],
          "scatter": [
           {
            "fillpattern": {
             "fillmode": "overlay",
             "size": 10,
             "solidity": 0.2
            },
            "type": "scatter"
           }
          ],
          "scatter3d": [
           {
            "line": {
             "colorbar": {
              "outlinewidth": 0,
              "ticks": ""
             }
            },
            "marker": {
             "colorbar": {
              "outlinewidth": 0,
              "ticks": ""
             }
            },
            "type": "scatter3d"
           }
          ],
          "scattercarpet": [
           {
            "marker": {
             "colorbar": {
              "outlinewidth": 0,
              "ticks": ""
             }
            },
            "type": "scattercarpet"
           }
          ],
          "scattergeo": [
           {
            "marker": {
             "colorbar": {
              "outlinewidth": 0,
              "ticks": ""
             }
            },
            "type": "scattergeo"
           }
          ],
          "scattergl": [
           {
            "marker": {
             "colorbar": {
              "outlinewidth": 0,
              "ticks": ""
             }
            },
            "type": "scattergl"
           }
          ],
          "scattermapbox": [
           {
            "marker": {
             "colorbar": {
              "outlinewidth": 0,
              "ticks": ""
             }
            },
            "type": "scattermapbox"
           }
          ],
          "scatterpolar": [
           {
            "marker": {
             "colorbar": {
              "outlinewidth": 0,
              "ticks": ""
             }
            },
            "type": "scatterpolar"
           }
          ],
          "scatterpolargl": [
           {
            "marker": {
             "colorbar": {
              "outlinewidth": 0,
              "ticks": ""
             }
            },
            "type": "scatterpolargl"
           }
          ],
          "scatterternary": [
           {
            "marker": {
             "colorbar": {
              "outlinewidth": 0,
              "ticks": ""
             }
            },
            "type": "scatterternary"
           }
          ],
          "surface": [
           {
            "colorbar": {
             "outlinewidth": 0,
             "ticks": ""
            },
            "colorscale": [
             [
              0,
              "#0d0887"
             ],
             [
              0.1111111111111111,
              "#46039f"
             ],
             [
              0.2222222222222222,
              "#7201a8"
             ],
             [
              0.3333333333333333,
              "#9c179e"
             ],
             [
              0.4444444444444444,
              "#bd3786"
             ],
             [
              0.5555555555555556,
              "#d8576b"
             ],
             [
              0.6666666666666666,
              "#ed7953"
             ],
             [
              0.7777777777777778,
              "#fb9f3a"
             ],
             [
              0.8888888888888888,
              "#fdca26"
             ],
             [
              1,
              "#f0f921"
             ]
            ],
            "type": "surface"
           }
          ],
          "table": [
           {
            "cells": {
             "fill": {
              "color": "#EBF0F8"
             },
             "line": {
              "color": "white"
             }
            },
            "header": {
             "fill": {
              "color": "#C8D4E3"
             },
             "line": {
              "color": "white"
             }
            },
            "type": "table"
           }
          ]
         },
         "layout": {
          "annotationdefaults": {
           "arrowcolor": "#2a3f5f",
           "arrowhead": 0,
           "arrowwidth": 1
          },
          "autotypenumbers": "strict",
          "coloraxis": {
           "colorbar": {
            "outlinewidth": 0,
            "ticks": ""
           }
          },
          "colorscale": {
           "diverging": [
            [
             0,
             "#8e0152"
            ],
            [
             0.1,
             "#c51b7d"
            ],
            [
             0.2,
             "#de77ae"
            ],
            [
             0.3,
             "#f1b6da"
            ],
            [
             0.4,
             "#fde0ef"
            ],
            [
             0.5,
             "#f7f7f7"
            ],
            [
             0.6,
             "#e6f5d0"
            ],
            [
             0.7,
             "#b8e186"
            ],
            [
             0.8,
             "#7fbc41"
            ],
            [
             0.9,
             "#4d9221"
            ],
            [
             1,
             "#276419"
            ]
           ],
           "sequential": [
            [
             0,
             "#0d0887"
            ],
            [
             0.1111111111111111,
             "#46039f"
            ],
            [
             0.2222222222222222,
             "#7201a8"
            ],
            [
             0.3333333333333333,
             "#9c179e"
            ],
            [
             0.4444444444444444,
             "#bd3786"
            ],
            [
             0.5555555555555556,
             "#d8576b"
            ],
            [
             0.6666666666666666,
             "#ed7953"
            ],
            [
             0.7777777777777778,
             "#fb9f3a"
            ],
            [
             0.8888888888888888,
             "#fdca26"
            ],
            [
             1,
             "#f0f921"
            ]
           ],
           "sequentialminus": [
            [
             0,
             "#0d0887"
            ],
            [
             0.1111111111111111,
             "#46039f"
            ],
            [
             0.2222222222222222,
             "#7201a8"
            ],
            [
             0.3333333333333333,
             "#9c179e"
            ],
            [
             0.4444444444444444,
             "#bd3786"
            ],
            [
             0.5555555555555556,
             "#d8576b"
            ],
            [
             0.6666666666666666,
             "#ed7953"
            ],
            [
             0.7777777777777778,
             "#fb9f3a"
            ],
            [
             0.8888888888888888,
             "#fdca26"
            ],
            [
             1,
             "#f0f921"
            ]
           ]
          },
          "colorway": [
           "#636efa",
           "#EF553B",
           "#00cc96",
           "#ab63fa",
           "#FFA15A",
           "#19d3f3",
           "#FF6692",
           "#B6E880",
           "#FF97FF",
           "#FECB52"
          ],
          "font": {
           "color": "#2a3f5f"
          },
          "geo": {
           "bgcolor": "white",
           "lakecolor": "white",
           "landcolor": "#E5ECF6",
           "showlakes": true,
           "showland": true,
           "subunitcolor": "white"
          },
          "hoverlabel": {
           "align": "left"
          },
          "hovermode": "closest",
          "mapbox": {
           "style": "light"
          },
          "paper_bgcolor": "white",
          "plot_bgcolor": "#E5ECF6",
          "polar": {
           "angularaxis": {
            "gridcolor": "white",
            "linecolor": "white",
            "ticks": ""
           },
           "bgcolor": "#E5ECF6",
           "radialaxis": {
            "gridcolor": "white",
            "linecolor": "white",
            "ticks": ""
           }
          },
          "scene": {
           "xaxis": {
            "backgroundcolor": "#E5ECF6",
            "gridcolor": "white",
            "gridwidth": 2,
            "linecolor": "white",
            "showbackground": true,
            "ticks": "",
            "zerolinecolor": "white"
           },
           "yaxis": {
            "backgroundcolor": "#E5ECF6",
            "gridcolor": "white",
            "gridwidth": 2,
            "linecolor": "white",
            "showbackground": true,
            "ticks": "",
            "zerolinecolor": "white"
           },
           "zaxis": {
            "backgroundcolor": "#E5ECF6",
            "gridcolor": "white",
            "gridwidth": 2,
            "linecolor": "white",
            "showbackground": true,
            "ticks": "",
            "zerolinecolor": "white"
           }
          },
          "shapedefaults": {
           "line": {
            "color": "#2a3f5f"
           }
          },
          "ternary": {
           "aaxis": {
            "gridcolor": "white",
            "linecolor": "white",
            "ticks": ""
           },
           "baxis": {
            "gridcolor": "white",
            "linecolor": "white",
            "ticks": ""
           },
           "bgcolor": "#E5ECF6",
           "caxis": {
            "gridcolor": "white",
            "linecolor": "white",
            "ticks": ""
           }
          },
          "title": {
           "x": 0.05
          },
          "xaxis": {
           "automargin": true,
           "gridcolor": "white",
           "linecolor": "white",
           "ticks": "",
           "title": {
            "standoff": 15
           },
           "zerolinecolor": "white",
           "zerolinewidth": 2
          },
          "yaxis": {
           "automargin": true,
           "gridcolor": "white",
           "linecolor": "white",
           "ticks": "",
           "title": {
            "standoff": 15
           },
           "zerolinecolor": "white",
           "zerolinewidth": 2
          }
         }
        },
        "title": {
         "text": "Cylinder vs CO2 Emissions"
        },
        "width": 600,
        "xaxis": {
         "anchor": "y",
         "domain": [
          0,
          1
         ],
         "title": {
          "text": "Cylinders"
         }
        },
        "yaxis": {
         "anchor": "x",
         "domain": [
          0,
          1
         ],
         "title": {
          "text": "CO2 Emissions"
         }
        }
       }
      },
      "text/html": [
       "<div>                            <div id=\"29a85a1d-35fc-42ed-ab10-057cf77bd07d\" class=\"plotly-graph-div\" style=\"height:400px; width:600px;\"></div>            <script type=\"text/javascript\">                require([\"plotly\"], function(Plotly) {                    window.PLOTLYENV=window.PLOTLYENV || {};                                    if (document.getElementById(\"29a85a1d-35fc-42ed-ab10-057cf77bd07d\")) {                    Plotly.newPlot(                        \"29a85a1d-35fc-42ed-ab10-057cf77bd07d\",                        [{\"hovertemplate\":\"cylinders=%{x}<br>co2_emissions=%{y}<extra></extra>\",\"legendgroup\":\"\",\"marker\":{\"color\":\"#636efa\",\"symbol\":\"circle\"},\"mode\":\"markers\",\"name\":\"\",\"showlegend\":false,\"x\":[4,4,4,6,6,6,6,6,6,4,4,6,12,12,8,8,8,8,12,4,4,4,4,4,4,4,6,6,6,6,6,8,6,6,8,12,6,4,4,6,4,6,6,6,8,8,10,10,8,8,10,10,8,8,8,6,6,6,6,6,8,8,8,6,4,4,4,4,8,12,8,12,8,12,12,8,4,4,4,4,4,4,4,4,4,4,6,6,6,6,6,4,4,4,6,6,6,6,4,4,6,6,6,8,8,6,8,8,8,6,8,8,12,6,6,6,8,8,8,8,8,8,8,8,8,8,4,6,4,6,6,8,8,6,8,4,4,6,6,6,6,6,4,4,6,6,6,6,4,4,4,4,4,4,4,4,4,4,4,6,4,6,6,6,4,6,4,6,6,6,6,6,6,8,8,8,8,8,8,8,8,8,8,6,6,6,6,6,6,6,6,8,8,8,8,8,8,4,4,4,4,4,4,4,4,6,6,4,6,6,6,8,8,8,8,8,8,8,8,8,8,8,8,8,8,8,8,8,8,4,6,6,4,4,4,4,4,6,6,8,8,8,6,6,8,8,8,4,4,4,4,4,4,4,4,4,4,4,4,4,4,8,8,8,8,8,8,8,8,6,6,4,4,4,6,4,4,6,6,4,4,6,6,8,6,8,6,6,6,6,8,6,6,4,4,6,6,6,8,8,8,8,6,6,8,6,8,6,6,6,6,6,6,8,4,4,4,4,4,4,4,4,4,8,6,6,6,6,4,6,6,6,4,4,4,4,4,4,4,4,4,4,4,8,8,8,8,8,8,10,8,8,4,6,6,6,4,4,4,4,4,8,8,4,6,6,6,6,6,6,6,8,6,6,8,6,6,6,6,8,8,8,8,6,6,6,6,8,8,8,8,8,4,4,4,4,4,6,6,6,4,4,4,4,4,4,4,4,4,4,4,4,4,4,4,4,6,6,8,8,8,6,4,6,6,6,6,6,4,4,4,4,6,6,6,8,8,8,8,8,8,8,8,8,8,8,8,8,8,8,8,8,8,6,6,8,8,8,6,6,8,8,8,4,6,6,4,6,6,8,8,8,8,8,8,8,8,8,8,8,8,4,4,4,6,6,6,4,4,4,4,6,4,4,4,4,4,4,6,6,6,6,4,4,4,4,8,6,6,6,4,4,4,4,4,4,4,4,4,4,4,4,4,4,4,4,6,6,6,6,6,6,6,6,6,6,8,6,8,6,6,6,6,4,6,8,8,6,6,8,4,6,8,8,8,6,8,8,6,8,8,8,8,8,8,8,8,8,8,4,6,4,6,4,6,4,6,4,4,4,4,4,4,4,8,6,6,6,8,4,4,4,4,4,4,4,6,6,6,6,6,4,4,4,4,4,4,4,4,4,4,4,4,4,4,4,4,4,4,4,6,4,6,4,6,4,4,4,4,4,4,4,4,12,10,10,4,6,4,4,8,8,8,6,6,6,8,8,8,6,6,6,8,8,8,4,4,6,6,6,6,8,6,6,6,6,6,6,8,8,8,8,8,8,6,6,6,6,6,6,4,6,6,4,6,4,8,8,6,6,8,8,8,6,4,4,4,4,4,6,6,4,4,4,4,4,4,4,4,4,4,4,4,4,4,4,4,4,4,4,4,4,4,4,6,6,6,6,6,6,8,8,8,8,4,4,8,8,8,4,6,6,6,6,6,6,6,8,8,8,8,8,8,8,8,8,6,8,8,8,4,6,6,6,6,8,8,8,8,8,8,8,8,4,4,6,8,8,8,8,4,4,4,4,4,4,4,4,4,4,4,4,4,4,4,4,4,4,4,4,4,4,4,4,4,4,4,4,4,4,4,4,4,4,4,4,4,4,4,4,4,4,4,4,3,3,4,4,6,4,4,4,6,6,6,6,4,6,8,4,4,6,6,6,6,4,4,4,6,6,4,6,6,4,6,4,4,4,4,8,8,4,4,6,6,6,6,6,6,6,6,6,6,6,6,6,6,6,6,6,6,6,6,6,6,6,6,6,6,6,6,6,6,8,8,6,8,6,6,6,6,6,6,6,6,8,6,8,8,8,8,8,8,6,6,6,6,6,6,6,6,6,12,12,12,12,12,12,12,4,4,4,4,4,4,4,4,4,3,3,10,10,4,4,4,4,4,4,4,4,4,4,4,4,4,4,4,6,4,4,6,6,4,4,4,6,6,6,4,6,4,4,4,4,4,4,4,4,4,4,6,6,4,6,6,6,6,4,4,4,4,4,4,8,6,6,4,4,6,4,4,6,6,6,8,8,8,8,4,6,4,6,4,4,4,4,4,4,5,5,4,4,4,5,4,4,4,4,6,4,5,5,4,4,4,4,4,4,4,4,4,4,4,4,4,5,5,6,4,4,6,4,4,4,6,6,5,5,6,6,6,6,6,6,6,6,6],\"xaxis\":\"x\",\"y\":[196,221,136,255,244,230,232,255,267,212,225,239,359,359,338,354,338,354,359,202,230,214,230,230,214,235,251,224,258,224,258,260,227,258,288,361,230,242,239,258,212,246,304,294,336,407,354,409,336,407,354,409,306,308,290,262,285,262,285,267,281,281,297,292,209,209,237,237,297,356,320,380,322,380,380,437,193,200,202,181,181,193,200,209,209,209,221,230,228,237,232,193,200,209,221,230,228,237,202,209,213,232,246,281,292,232,292,281,292,246,292,292,356,191,214,212,292,292,338,317,338,317,338,317,338,317,209,260,230,253,255,320,370,274,324,209,200,278,253,278,283,290,196,212,264,250,264,264,189,228,225,246,189,228,225,218,221,235,207,251,232,260,258,262,232,248,248,260,294,253,260,255,262,382,340,382,340,382,340,338,322,377,354,283,294,262,271,290,258,269,242,294,292,382,340,276,258,179,179,202,189,192,177,163,209,276,259,230,290,272,347,366,334,380,344,380,344,380,362,380,344,380,362,414,432,411,419,435,413,221,244,229,200,228,184,244,235,271,269,292,270,324,290,285,299,277,329,184,173,191,182,184,172,191,182,191,182,191,182,159,159,317,294,317,294,317,294,317,294,283,290,193,186,207,237,232,246,242,230,225,230,242,230,294,251,308,251,237,237,222,317,276,269,225,230,242,230,258,301,294,320,317,258,237,294,251,308,251,237,258,251,235,222,317,186,198,202,198,195,212,202,168,168,331,278,250,271,264,255,285,276,259,179,179,182,166,179,182,156,179,200,193,138,373,350,396,360,386,368,488,421,382,225,248,264,281,209,221,216,214,230,368,346,235,299,274,254,288,267,292,294,366,317,308,402,283,264,283,264,336,315,336,315,308,288,308,288,343,320,340,318,414,175,175,152,161,184,264,278,294,205,177,165,179,165,184,170,166,162,196,186,207,205,186,216,126,235,244,264,292,304,244,209,271,237,229,258,251,218,228,232,239,283,297,347,366,334,380,344,380,344,380,362,380,344,380,362,414,432,411,419,435,413,271,269,292,270,324,290,285,299,277,329,209,276,259,230,290,272,317,294,317,294,338,322,377,354,317,294,317,294,182,186,200,209,221,251,110,161,166,175,246,209,216,145,159,172,177,244,265,276,308,177,177,198,196,304,255,258,267,237,264,255,221,196,143,145,214,232,230,242,244,177,184,202,196,235,248,172,189,265,269,283,255,267,253,283,267,294,175,271,244,253,196,294,334,345,237,244,294,242,281,306,290,306,285,306,280,285,306,280,306,306,301,290,315,310,315,310,218,242,230,248,232,253,251,267,225,209,225,216,235,216,255,340,267,278,250,363,225,209,225,216,235,216,255,294,294,308,308,251,191,184,193,193,223,225,193,196,216,221,193,198,228,200,175,177,175,212,214,276,237,262,253,271,205,207,209,202,230,260,262,246,421,361,400,274,334,225,225,354,347,342,285,285,278,345,338,331,283,283,277,354,347,342,129,138,221,239,253,175,320,223,239,223,244,253,244,290,283,297,297,262,380,269,255,189,271,260,294,235,281,281,207,262,145,368,346,292,292,347,352,334,301,189,184,198,196,205,283,290,177,170,159,161,170,168,161,163,166,177,168,166,223,225,175,186,168,235,221,228,184,216,216,242,224,242,239,244,242,347,352,304,308,179,212,264,301,301,194,235,230,239,242,239,235,202,267,269,262,297,310,297,310,419,407,324,350,359,363,230,260,278,256,278,327,356,278,276,304,269,292,327,205,207,225,246,380,361,361,179,179,179,179,200,179,175,168,200,179,179,179,191,184,191,184,207,196,191,184,207,196,191,184,191,184,191,184,207,196,191,184,207,196,191,184,189,191,218,288,283,267,198,198,138,147,198,209,235,200,202,207,253,264,262,269,175,214,380,283,260,292,315,301,297,186,198,200,251,271,214,244,253,202,255,191,198,161,179,359,398,152,177,327,315,232,246,237,246,242,253,248,253,253,258,232,246,244,248,246,251,322,274,274,274,274,212,228,225,239,276,313,281,320,299,251,315,212,228,225,239,251,255,260,264,292,260,294,297,340,313,354,324,286,290,285,275,274,269,260,262,254,368,368,393,393,393,393,359,193,218,143,207,207,228,228,184,182,147,147,389,389,196,221,218,198,223,179,196,258,288,179,196,258,288,198,228,267,207,225,269,301,196,212,177,297,297,221,189,221,131,138,177,168,163,170,156,159,196,189,297,320,237,258,264,191,189,110,108,126,205,216,218,384,260,285,251,235,301,274,271,306,322,310,329,356,347,373,230,253,235,260,168,163,196,200,209,216,225,221,200,214,216,232,197,197,223,225,283,221,218,216,194,186,189,189,216,207,207,212,186,186,124,198,198,223,225,248,192,184,278,246,267,246,281,281,223,232,264,235,264,258,271,264,271,260,294],\"yaxis\":\"y\",\"type\":\"scattergl\"}],                        {\"template\":{\"data\":{\"histogram2dcontour\":[{\"type\":\"histogram2dcontour\",\"colorbar\":{\"outlinewidth\":0,\"ticks\":\"\"},\"colorscale\":[[0.0,\"#0d0887\"],[0.1111111111111111,\"#46039f\"],[0.2222222222222222,\"#7201a8\"],[0.3333333333333333,\"#9c179e\"],[0.4444444444444444,\"#bd3786\"],[0.5555555555555556,\"#d8576b\"],[0.6666666666666666,\"#ed7953\"],[0.7777777777777778,\"#fb9f3a\"],[0.8888888888888888,\"#fdca26\"],[1.0,\"#f0f921\"]]}],\"choropleth\":[{\"type\":\"choropleth\",\"colorbar\":{\"outlinewidth\":0,\"ticks\":\"\"}}],\"histogram2d\":[{\"type\":\"histogram2d\",\"colorbar\":{\"outlinewidth\":0,\"ticks\":\"\"},\"colorscale\":[[0.0,\"#0d0887\"],[0.1111111111111111,\"#46039f\"],[0.2222222222222222,\"#7201a8\"],[0.3333333333333333,\"#9c179e\"],[0.4444444444444444,\"#bd3786\"],[0.5555555555555556,\"#d8576b\"],[0.6666666666666666,\"#ed7953\"],[0.7777777777777778,\"#fb9f3a\"],[0.8888888888888888,\"#fdca26\"],[1.0,\"#f0f921\"]]}],\"heatmap\":[{\"type\":\"heatmap\",\"colorbar\":{\"outlinewidth\":0,\"ticks\":\"\"},\"colorscale\":[[0.0,\"#0d0887\"],[0.1111111111111111,\"#46039f\"],[0.2222222222222222,\"#7201a8\"],[0.3333333333333333,\"#9c179e\"],[0.4444444444444444,\"#bd3786\"],[0.5555555555555556,\"#d8576b\"],[0.6666666666666666,\"#ed7953\"],[0.7777777777777778,\"#fb9f3a\"],[0.8888888888888888,\"#fdca26\"],[1.0,\"#f0f921\"]]}],\"heatmapgl\":[{\"type\":\"heatmapgl\",\"colorbar\":{\"outlinewidth\":0,\"ticks\":\"\"},\"colorscale\":[[0.0,\"#0d0887\"],[0.1111111111111111,\"#46039f\"],[0.2222222222222222,\"#7201a8\"],[0.3333333333333333,\"#9c179e\"],[0.4444444444444444,\"#bd3786\"],[0.5555555555555556,\"#d8576b\"],[0.6666666666666666,\"#ed7953\"],[0.7777777777777778,\"#fb9f3a\"],[0.8888888888888888,\"#fdca26\"],[1.0,\"#f0f921\"]]}],\"contourcarpet\":[{\"type\":\"contourcarpet\",\"colorbar\":{\"outlinewidth\":0,\"ticks\":\"\"}}],\"contour\":[{\"type\":\"contour\",\"colorbar\":{\"outlinewidth\":0,\"ticks\":\"\"},\"colorscale\":[[0.0,\"#0d0887\"],[0.1111111111111111,\"#46039f\"],[0.2222222222222222,\"#7201a8\"],[0.3333333333333333,\"#9c179e\"],[0.4444444444444444,\"#bd3786\"],[0.5555555555555556,\"#d8576b\"],[0.6666666666666666,\"#ed7953\"],[0.7777777777777778,\"#fb9f3a\"],[0.8888888888888888,\"#fdca26\"],[1.0,\"#f0f921\"]]}],\"surface\":[{\"type\":\"surface\",\"colorbar\":{\"outlinewidth\":0,\"ticks\":\"\"},\"colorscale\":[[0.0,\"#0d0887\"],[0.1111111111111111,\"#46039f\"],[0.2222222222222222,\"#7201a8\"],[0.3333333333333333,\"#9c179e\"],[0.4444444444444444,\"#bd3786\"],[0.5555555555555556,\"#d8576b\"],[0.6666666666666666,\"#ed7953\"],[0.7777777777777778,\"#fb9f3a\"],[0.8888888888888888,\"#fdca26\"],[1.0,\"#f0f921\"]]}],\"mesh3d\":[{\"type\":\"mesh3d\",\"colorbar\":{\"outlinewidth\":0,\"ticks\":\"\"}}],\"scatter\":[{\"fillpattern\":{\"fillmode\":\"overlay\",\"size\":10,\"solidity\":0.2},\"type\":\"scatter\"}],\"parcoords\":[{\"type\":\"parcoords\",\"line\":{\"colorbar\":{\"outlinewidth\":0,\"ticks\":\"\"}}}],\"scatterpolargl\":[{\"type\":\"scatterpolargl\",\"marker\":{\"colorbar\":{\"outlinewidth\":0,\"ticks\":\"\"}}}],\"bar\":[{\"error_x\":{\"color\":\"#2a3f5f\"},\"error_y\":{\"color\":\"#2a3f5f\"},\"marker\":{\"line\":{\"color\":\"#E5ECF6\",\"width\":0.5},\"pattern\":{\"fillmode\":\"overlay\",\"size\":10,\"solidity\":0.2}},\"type\":\"bar\"}],\"scattergeo\":[{\"type\":\"scattergeo\",\"marker\":{\"colorbar\":{\"outlinewidth\":0,\"ticks\":\"\"}}}],\"scatterpolar\":[{\"type\":\"scatterpolar\",\"marker\":{\"colorbar\":{\"outlinewidth\":0,\"ticks\":\"\"}}}],\"histogram\":[{\"marker\":{\"pattern\":{\"fillmode\":\"overlay\",\"size\":10,\"solidity\":0.2}},\"type\":\"histogram\"}],\"scattergl\":[{\"type\":\"scattergl\",\"marker\":{\"colorbar\":{\"outlinewidth\":0,\"ticks\":\"\"}}}],\"scatter3d\":[{\"type\":\"scatter3d\",\"line\":{\"colorbar\":{\"outlinewidth\":0,\"ticks\":\"\"}},\"marker\":{\"colorbar\":{\"outlinewidth\":0,\"ticks\":\"\"}}}],\"scattermapbox\":[{\"type\":\"scattermapbox\",\"marker\":{\"colorbar\":{\"outlinewidth\":0,\"ticks\":\"\"}}}],\"scatterternary\":[{\"type\":\"scatterternary\",\"marker\":{\"colorbar\":{\"outlinewidth\":0,\"ticks\":\"\"}}}],\"scattercarpet\":[{\"type\":\"scattercarpet\",\"marker\":{\"colorbar\":{\"outlinewidth\":0,\"ticks\":\"\"}}}],\"carpet\":[{\"aaxis\":{\"endlinecolor\":\"#2a3f5f\",\"gridcolor\":\"white\",\"linecolor\":\"white\",\"minorgridcolor\":\"white\",\"startlinecolor\":\"#2a3f5f\"},\"baxis\":{\"endlinecolor\":\"#2a3f5f\",\"gridcolor\":\"white\",\"linecolor\":\"white\",\"minorgridcolor\":\"white\",\"startlinecolor\":\"#2a3f5f\"},\"type\":\"carpet\"}],\"table\":[{\"cells\":{\"fill\":{\"color\":\"#EBF0F8\"},\"line\":{\"color\":\"white\"}},\"header\":{\"fill\":{\"color\":\"#C8D4E3\"},\"line\":{\"color\":\"white\"}},\"type\":\"table\"}],\"barpolar\":[{\"marker\":{\"line\":{\"color\":\"#E5ECF6\",\"width\":0.5},\"pattern\":{\"fillmode\":\"overlay\",\"size\":10,\"solidity\":0.2}},\"type\":\"barpolar\"}],\"pie\":[{\"automargin\":true,\"type\":\"pie\"}]},\"layout\":{\"autotypenumbers\":\"strict\",\"colorway\":[\"#636efa\",\"#EF553B\",\"#00cc96\",\"#ab63fa\",\"#FFA15A\",\"#19d3f3\",\"#FF6692\",\"#B6E880\",\"#FF97FF\",\"#FECB52\"],\"font\":{\"color\":\"#2a3f5f\"},\"hovermode\":\"closest\",\"hoverlabel\":{\"align\":\"left\"},\"paper_bgcolor\":\"white\",\"plot_bgcolor\":\"#E5ECF6\",\"polar\":{\"bgcolor\":\"#E5ECF6\",\"angularaxis\":{\"gridcolor\":\"white\",\"linecolor\":\"white\",\"ticks\":\"\"},\"radialaxis\":{\"gridcolor\":\"white\",\"linecolor\":\"white\",\"ticks\":\"\"}},\"ternary\":{\"bgcolor\":\"#E5ECF6\",\"aaxis\":{\"gridcolor\":\"white\",\"linecolor\":\"white\",\"ticks\":\"\"},\"baxis\":{\"gridcolor\":\"white\",\"linecolor\":\"white\",\"ticks\":\"\"},\"caxis\":{\"gridcolor\":\"white\",\"linecolor\":\"white\",\"ticks\":\"\"}},\"coloraxis\":{\"colorbar\":{\"outlinewidth\":0,\"ticks\":\"\"}},\"colorscale\":{\"sequential\":[[0.0,\"#0d0887\"],[0.1111111111111111,\"#46039f\"],[0.2222222222222222,\"#7201a8\"],[0.3333333333333333,\"#9c179e\"],[0.4444444444444444,\"#bd3786\"],[0.5555555555555556,\"#d8576b\"],[0.6666666666666666,\"#ed7953\"],[0.7777777777777778,\"#fb9f3a\"],[0.8888888888888888,\"#fdca26\"],[1.0,\"#f0f921\"]],\"sequentialminus\":[[0.0,\"#0d0887\"],[0.1111111111111111,\"#46039f\"],[0.2222222222222222,\"#7201a8\"],[0.3333333333333333,\"#9c179e\"],[0.4444444444444444,\"#bd3786\"],[0.5555555555555556,\"#d8576b\"],[0.6666666666666666,\"#ed7953\"],[0.7777777777777778,\"#fb9f3a\"],[0.8888888888888888,\"#fdca26\"],[1.0,\"#f0f921\"]],\"diverging\":[[0,\"#8e0152\"],[0.1,\"#c51b7d\"],[0.2,\"#de77ae\"],[0.3,\"#f1b6da\"],[0.4,\"#fde0ef\"],[0.5,\"#f7f7f7\"],[0.6,\"#e6f5d0\"],[0.7,\"#b8e186\"],[0.8,\"#7fbc41\"],[0.9,\"#4d9221\"],[1,\"#276419\"]]},\"xaxis\":{\"gridcolor\":\"white\",\"linecolor\":\"white\",\"ticks\":\"\",\"title\":{\"standoff\":15},\"zerolinecolor\":\"white\",\"automargin\":true,\"zerolinewidth\":2},\"yaxis\":{\"gridcolor\":\"white\",\"linecolor\":\"white\",\"ticks\":\"\",\"title\":{\"standoff\":15},\"zerolinecolor\":\"white\",\"automargin\":true,\"zerolinewidth\":2},\"scene\":{\"xaxis\":{\"backgroundcolor\":\"#E5ECF6\",\"gridcolor\":\"white\",\"linecolor\":\"white\",\"showbackground\":true,\"ticks\":\"\",\"zerolinecolor\":\"white\",\"gridwidth\":2},\"yaxis\":{\"backgroundcolor\":\"#E5ECF6\",\"gridcolor\":\"white\",\"linecolor\":\"white\",\"showbackground\":true,\"ticks\":\"\",\"zerolinecolor\":\"white\",\"gridwidth\":2},\"zaxis\":{\"backgroundcolor\":\"#E5ECF6\",\"gridcolor\":\"white\",\"linecolor\":\"white\",\"showbackground\":true,\"ticks\":\"\",\"zerolinecolor\":\"white\",\"gridwidth\":2}},\"shapedefaults\":{\"line\":{\"color\":\"#2a3f5f\"}},\"annotationdefaults\":{\"arrowcolor\":\"#2a3f5f\",\"arrowhead\":0,\"arrowwidth\":1},\"geo\":{\"bgcolor\":\"white\",\"landcolor\":\"#E5ECF6\",\"subunitcolor\":\"white\",\"showland\":true,\"showlakes\":true,\"lakecolor\":\"white\"},\"title\":{\"x\":0.05},\"mapbox\":{\"style\":\"light\"}}},\"xaxis\":{\"anchor\":\"y\",\"domain\":[0.0,1.0],\"title\":{\"text\":\"Cylinders\"}},\"yaxis\":{\"anchor\":\"x\",\"domain\":[0.0,1.0],\"title\":{\"text\":\"CO2 Emissions\"}},\"legend\":{\"tracegroupgap\":0},\"margin\":{\"t\":60},\"height\":400,\"width\":600,\"title\":{\"text\":\"Cylinder vs CO2 Emissions\"}},                        {\"responsive\": true}                    ).then(function(){\n",
       "                            \n",
       "var gd = document.getElementById('29a85a1d-35fc-42ed-ab10-057cf77bd07d');\n",
       "var x = new MutationObserver(function (mutations, observer) {{\n",
       "        var display = window.getComputedStyle(gd).display;\n",
       "        if (!display || display === 'none') {{\n",
       "            console.log([gd, 'removed!']);\n",
       "            Plotly.purge(gd);\n",
       "            observer.disconnect();\n",
       "        }}\n",
       "}});\n",
       "\n",
       "// Listen for the removal of the full notebook cells\n",
       "var notebookContainer = gd.closest('#notebook-container');\n",
       "if (notebookContainer) {{\n",
       "    x.observe(notebookContainer, {childList: true});\n",
       "}}\n",
       "\n",
       "// Listen for the clearing of the current output cell\n",
       "var outputEl = gd.closest('.output');\n",
       "if (outputEl) {{\n",
       "    x.observe(outputEl, {childList: true});\n",
       "}}\n",
       "\n",
       "                        })                };                });            </script>        </div>"
      ]
     },
     "metadata": {},
     "output_type": "display_data"
    }
   ],
   "source": [
    "fig_config = {\n",
    "    'data_frame': df,\n",
    "    'x':'cylinders',\n",
    "    'y':'co2_emissions',\n",
    "    'width': 600, \n",
    "    'height': 400\n",
    "}\n",
    "\n",
    "layout_config = {\n",
    "    'title': 'Cylinder vs CO2 Emissions',\n",
    "    'xaxis_title': 'Cylinders',\n",
    "    'yaxis_title': 'CO2 Emissions',\n",
    "}\n",
    "\n",
    "fig = px.scatter(**fig_config)\n",
    "\n",
    "fig.update_layout(**layout_config)\n",
    "fig.show()"
   ]
  },
  {
   "attachments": {},
   "cell_type": "markdown",
   "metadata": {},
   "source": [
    "It looks like all the features have a positive correlation with the CO2 emissions. Let's go deeper with the correlation matrix."
   ]
  },
  {
   "cell_type": "code",
   "execution_count": 208,
   "metadata": {},
   "outputs": [
    {
     "data": {
      "application/vnd.plotly.v1+json": {
       "config": {
        "plotlyServerURL": "https://plot.ly"
       },
       "data": [
        {
         "coloraxis": "coloraxis",
         "hovertemplate": "x: %{x}<br>y: %{y}<br>color: %{z}<extra></extra>",
         "name": "0",
         "texttemplate": "%{z}",
         "type": "heatmap",
         "x": [
          "engine_size",
          "cylinders",
          "fuel_consumption",
          "co2_emissions"
         ],
         "xaxis": "x",
         "y": [
          "engine_size",
          "cylinders",
          "fuel_consumption",
          "co2_emissions"
         ],
         "yaxis": "y",
         "z": [
          [
           1,
           0.934,
           0.819,
           0.874
          ],
          [
           0.934,
           1,
           0.777,
           0.85
          ],
          [
           0.819,
           0.777,
           1,
           0.892
          ],
          [
           0.874,
           0.85,
           0.892,
           1
          ]
         ]
        }
       ],
       "layout": {
        "coloraxis": {
         "colorscale": [
          [
           0,
           "#f0f921"
          ],
          [
           0.1111111111111111,
           "#fdca26"
          ],
          [
           0.2222222222222222,
           "#fb9f3a"
          ],
          [
           0.3333333333333333,
           "#ed7953"
          ],
          [
           0.4444444444444444,
           "#d8576b"
          ],
          [
           0.5555555555555556,
           "#bd3786"
          ],
          [
           0.6666666666666666,
           "#9c179e"
          ],
          [
           0.7777777777777778,
           "#7201a8"
          ],
          [
           0.8888888888888888,
           "#46039f"
          ],
          [
           1,
           "#0d0887"
          ]
         ]
        },
        "height": 400,
        "margin": {
         "t": 60
        },
        "template": {
         "data": {
          "bar": [
           {
            "error_x": {
             "color": "#2a3f5f"
            },
            "error_y": {
             "color": "#2a3f5f"
            },
            "marker": {
             "line": {
              "color": "#E5ECF6",
              "width": 0.5
             },
             "pattern": {
              "fillmode": "overlay",
              "size": 10,
              "solidity": 0.2
             }
            },
            "type": "bar"
           }
          ],
          "barpolar": [
           {
            "marker": {
             "line": {
              "color": "#E5ECF6",
              "width": 0.5
             },
             "pattern": {
              "fillmode": "overlay",
              "size": 10,
              "solidity": 0.2
             }
            },
            "type": "barpolar"
           }
          ],
          "carpet": [
           {
            "aaxis": {
             "endlinecolor": "#2a3f5f",
             "gridcolor": "white",
             "linecolor": "white",
             "minorgridcolor": "white",
             "startlinecolor": "#2a3f5f"
            },
            "baxis": {
             "endlinecolor": "#2a3f5f",
             "gridcolor": "white",
             "linecolor": "white",
             "minorgridcolor": "white",
             "startlinecolor": "#2a3f5f"
            },
            "type": "carpet"
           }
          ],
          "choropleth": [
           {
            "colorbar": {
             "outlinewidth": 0,
             "ticks": ""
            },
            "type": "choropleth"
           }
          ],
          "contour": [
           {
            "colorbar": {
             "outlinewidth": 0,
             "ticks": ""
            },
            "colorscale": [
             [
              0,
              "#0d0887"
             ],
             [
              0.1111111111111111,
              "#46039f"
             ],
             [
              0.2222222222222222,
              "#7201a8"
             ],
             [
              0.3333333333333333,
              "#9c179e"
             ],
             [
              0.4444444444444444,
              "#bd3786"
             ],
             [
              0.5555555555555556,
              "#d8576b"
             ],
             [
              0.6666666666666666,
              "#ed7953"
             ],
             [
              0.7777777777777778,
              "#fb9f3a"
             ],
             [
              0.8888888888888888,
              "#fdca26"
             ],
             [
              1,
              "#f0f921"
             ]
            ],
            "type": "contour"
           }
          ],
          "contourcarpet": [
           {
            "colorbar": {
             "outlinewidth": 0,
             "ticks": ""
            },
            "type": "contourcarpet"
           }
          ],
          "heatmap": [
           {
            "colorbar": {
             "outlinewidth": 0,
             "ticks": ""
            },
            "colorscale": [
             [
              0,
              "#0d0887"
             ],
             [
              0.1111111111111111,
              "#46039f"
             ],
             [
              0.2222222222222222,
              "#7201a8"
             ],
             [
              0.3333333333333333,
              "#9c179e"
             ],
             [
              0.4444444444444444,
              "#bd3786"
             ],
             [
              0.5555555555555556,
              "#d8576b"
             ],
             [
              0.6666666666666666,
              "#ed7953"
             ],
             [
              0.7777777777777778,
              "#fb9f3a"
             ],
             [
              0.8888888888888888,
              "#fdca26"
             ],
             [
              1,
              "#f0f921"
             ]
            ],
            "type": "heatmap"
           }
          ],
          "heatmapgl": [
           {
            "colorbar": {
             "outlinewidth": 0,
             "ticks": ""
            },
            "colorscale": [
             [
              0,
              "#0d0887"
             ],
             [
              0.1111111111111111,
              "#46039f"
             ],
             [
              0.2222222222222222,
              "#7201a8"
             ],
             [
              0.3333333333333333,
              "#9c179e"
             ],
             [
              0.4444444444444444,
              "#bd3786"
             ],
             [
              0.5555555555555556,
              "#d8576b"
             ],
             [
              0.6666666666666666,
              "#ed7953"
             ],
             [
              0.7777777777777778,
              "#fb9f3a"
             ],
             [
              0.8888888888888888,
              "#fdca26"
             ],
             [
              1,
              "#f0f921"
             ]
            ],
            "type": "heatmapgl"
           }
          ],
          "histogram": [
           {
            "marker": {
             "pattern": {
              "fillmode": "overlay",
              "size": 10,
              "solidity": 0.2
             }
            },
            "type": "histogram"
           }
          ],
          "histogram2d": [
           {
            "colorbar": {
             "outlinewidth": 0,
             "ticks": ""
            },
            "colorscale": [
             [
              0,
              "#0d0887"
             ],
             [
              0.1111111111111111,
              "#46039f"
             ],
             [
              0.2222222222222222,
              "#7201a8"
             ],
             [
              0.3333333333333333,
              "#9c179e"
             ],
             [
              0.4444444444444444,
              "#bd3786"
             ],
             [
              0.5555555555555556,
              "#d8576b"
             ],
             [
              0.6666666666666666,
              "#ed7953"
             ],
             [
              0.7777777777777778,
              "#fb9f3a"
             ],
             [
              0.8888888888888888,
              "#fdca26"
             ],
             [
              1,
              "#f0f921"
             ]
            ],
            "type": "histogram2d"
           }
          ],
          "histogram2dcontour": [
           {
            "colorbar": {
             "outlinewidth": 0,
             "ticks": ""
            },
            "colorscale": [
             [
              0,
              "#0d0887"
             ],
             [
              0.1111111111111111,
              "#46039f"
             ],
             [
              0.2222222222222222,
              "#7201a8"
             ],
             [
              0.3333333333333333,
              "#9c179e"
             ],
             [
              0.4444444444444444,
              "#bd3786"
             ],
             [
              0.5555555555555556,
              "#d8576b"
             ],
             [
              0.6666666666666666,
              "#ed7953"
             ],
             [
              0.7777777777777778,
              "#fb9f3a"
             ],
             [
              0.8888888888888888,
              "#fdca26"
             ],
             [
              1,
              "#f0f921"
             ]
            ],
            "type": "histogram2dcontour"
           }
          ],
          "mesh3d": [
           {
            "colorbar": {
             "outlinewidth": 0,
             "ticks": ""
            },
            "type": "mesh3d"
           }
          ],
          "parcoords": [
           {
            "line": {
             "colorbar": {
              "outlinewidth": 0,
              "ticks": ""
             }
            },
            "type": "parcoords"
           }
          ],
          "pie": [
           {
            "automargin": true,
            "type": "pie"
           }
          ],
          "scatter": [
           {
            "fillpattern": {
             "fillmode": "overlay",
             "size": 10,
             "solidity": 0.2
            },
            "type": "scatter"
           }
          ],
          "scatter3d": [
           {
            "line": {
             "colorbar": {
              "outlinewidth": 0,
              "ticks": ""
             }
            },
            "marker": {
             "colorbar": {
              "outlinewidth": 0,
              "ticks": ""
             }
            },
            "type": "scatter3d"
           }
          ],
          "scattercarpet": [
           {
            "marker": {
             "colorbar": {
              "outlinewidth": 0,
              "ticks": ""
             }
            },
            "type": "scattercarpet"
           }
          ],
          "scattergeo": [
           {
            "marker": {
             "colorbar": {
              "outlinewidth": 0,
              "ticks": ""
             }
            },
            "type": "scattergeo"
           }
          ],
          "scattergl": [
           {
            "marker": {
             "colorbar": {
              "outlinewidth": 0,
              "ticks": ""
             }
            },
            "type": "scattergl"
           }
          ],
          "scattermapbox": [
           {
            "marker": {
             "colorbar": {
              "outlinewidth": 0,
              "ticks": ""
             }
            },
            "type": "scattermapbox"
           }
          ],
          "scatterpolar": [
           {
            "marker": {
             "colorbar": {
              "outlinewidth": 0,
              "ticks": ""
             }
            },
            "type": "scatterpolar"
           }
          ],
          "scatterpolargl": [
           {
            "marker": {
             "colorbar": {
              "outlinewidth": 0,
              "ticks": ""
             }
            },
            "type": "scatterpolargl"
           }
          ],
          "scatterternary": [
           {
            "marker": {
             "colorbar": {
              "outlinewidth": 0,
              "ticks": ""
             }
            },
            "type": "scatterternary"
           }
          ],
          "surface": [
           {
            "colorbar": {
             "outlinewidth": 0,
             "ticks": ""
            },
            "colorscale": [
             [
              0,
              "#0d0887"
             ],
             [
              0.1111111111111111,
              "#46039f"
             ],
             [
              0.2222222222222222,
              "#7201a8"
             ],
             [
              0.3333333333333333,
              "#9c179e"
             ],
             [
              0.4444444444444444,
              "#bd3786"
             ],
             [
              0.5555555555555556,
              "#d8576b"
             ],
             [
              0.6666666666666666,
              "#ed7953"
             ],
             [
              0.7777777777777778,
              "#fb9f3a"
             ],
             [
              0.8888888888888888,
              "#fdca26"
             ],
             [
              1,
              "#f0f921"
             ]
            ],
            "type": "surface"
           }
          ],
          "table": [
           {
            "cells": {
             "fill": {
              "color": "#EBF0F8"
             },
             "line": {
              "color": "white"
             }
            },
            "header": {
             "fill": {
              "color": "#C8D4E3"
             },
             "line": {
              "color": "white"
             }
            },
            "type": "table"
           }
          ]
         },
         "layout": {
          "annotationdefaults": {
           "arrowcolor": "#2a3f5f",
           "arrowhead": 0,
           "arrowwidth": 1
          },
          "autotypenumbers": "strict",
          "coloraxis": {
           "colorbar": {
            "outlinewidth": 0,
            "ticks": ""
           }
          },
          "colorscale": {
           "diverging": [
            [
             0,
             "#8e0152"
            ],
            [
             0.1,
             "#c51b7d"
            ],
            [
             0.2,
             "#de77ae"
            ],
            [
             0.3,
             "#f1b6da"
            ],
            [
             0.4,
             "#fde0ef"
            ],
            [
             0.5,
             "#f7f7f7"
            ],
            [
             0.6,
             "#e6f5d0"
            ],
            [
             0.7,
             "#b8e186"
            ],
            [
             0.8,
             "#7fbc41"
            ],
            [
             0.9,
             "#4d9221"
            ],
            [
             1,
             "#276419"
            ]
           ],
           "sequential": [
            [
             0,
             "#0d0887"
            ],
            [
             0.1111111111111111,
             "#46039f"
            ],
            [
             0.2222222222222222,
             "#7201a8"
            ],
            [
             0.3333333333333333,
             "#9c179e"
            ],
            [
             0.4444444444444444,
             "#bd3786"
            ],
            [
             0.5555555555555556,
             "#d8576b"
            ],
            [
             0.6666666666666666,
             "#ed7953"
            ],
            [
             0.7777777777777778,
             "#fb9f3a"
            ],
            [
             0.8888888888888888,
             "#fdca26"
            ],
            [
             1,
             "#f0f921"
            ]
           ],
           "sequentialminus": [
            [
             0,
             "#0d0887"
            ],
            [
             0.1111111111111111,
             "#46039f"
            ],
            [
             0.2222222222222222,
             "#7201a8"
            ],
            [
             0.3333333333333333,
             "#9c179e"
            ],
            [
             0.4444444444444444,
             "#bd3786"
            ],
            [
             0.5555555555555556,
             "#d8576b"
            ],
            [
             0.6666666666666666,
             "#ed7953"
            ],
            [
             0.7777777777777778,
             "#fb9f3a"
            ],
            [
             0.8888888888888888,
             "#fdca26"
            ],
            [
             1,
             "#f0f921"
            ]
           ]
          },
          "colorway": [
           "#636efa",
           "#EF553B",
           "#00cc96",
           "#ab63fa",
           "#FFA15A",
           "#19d3f3",
           "#FF6692",
           "#B6E880",
           "#FF97FF",
           "#FECB52"
          ],
          "font": {
           "color": "#2a3f5f"
          },
          "geo": {
           "bgcolor": "white",
           "lakecolor": "white",
           "landcolor": "#E5ECF6",
           "showlakes": true,
           "showland": true,
           "subunitcolor": "white"
          },
          "hoverlabel": {
           "align": "left"
          },
          "hovermode": "closest",
          "mapbox": {
           "style": "light"
          },
          "paper_bgcolor": "white",
          "plot_bgcolor": "#E5ECF6",
          "polar": {
           "angularaxis": {
            "gridcolor": "white",
            "linecolor": "white",
            "ticks": ""
           },
           "bgcolor": "#E5ECF6",
           "radialaxis": {
            "gridcolor": "white",
            "linecolor": "white",
            "ticks": ""
           }
          },
          "scene": {
           "xaxis": {
            "backgroundcolor": "#E5ECF6",
            "gridcolor": "white",
            "gridwidth": 2,
            "linecolor": "white",
            "showbackground": true,
            "ticks": "",
            "zerolinecolor": "white"
           },
           "yaxis": {
            "backgroundcolor": "#E5ECF6",
            "gridcolor": "white",
            "gridwidth": 2,
            "linecolor": "white",
            "showbackground": true,
            "ticks": "",
            "zerolinecolor": "white"
           },
           "zaxis": {
            "backgroundcolor": "#E5ECF6",
            "gridcolor": "white",
            "gridwidth": 2,
            "linecolor": "white",
            "showbackground": true,
            "ticks": "",
            "zerolinecolor": "white"
           }
          },
          "shapedefaults": {
           "line": {
            "color": "#2a3f5f"
           }
          },
          "ternary": {
           "aaxis": {
            "gridcolor": "white",
            "linecolor": "white",
            "ticks": ""
           },
           "baxis": {
            "gridcolor": "white",
            "linecolor": "white",
            "ticks": ""
           },
           "bgcolor": "#E5ECF6",
           "caxis": {
            "gridcolor": "white",
            "linecolor": "white",
            "ticks": ""
           }
          },
          "title": {
           "x": 0.05
          },
          "xaxis": {
           "automargin": true,
           "gridcolor": "white",
           "linecolor": "white",
           "ticks": "",
           "title": {
            "standoff": 15
           },
           "zerolinecolor": "white",
           "zerolinewidth": 2
          },
          "yaxis": {
           "automargin": true,
           "gridcolor": "white",
           "linecolor": "white",
           "ticks": "",
           "title": {
            "standoff": 15
           },
           "zerolinecolor": "white",
           "zerolinewidth": 2
          }
         }
        },
        "width": 600,
        "xaxis": {
         "anchor": "y",
         "constrain": "domain",
         "domain": [
          0,
          1
         ],
         "scaleanchor": "y"
        },
        "yaxis": {
         "anchor": "x",
         "autorange": "reversed",
         "constrain": "domain",
         "domain": [
          0,
          1
         ]
        }
       }
      },
      "text/html": [
       "<div>                            <div id=\"d3c0dd7a-d096-41ab-88ce-eead6c9c70c4\" class=\"plotly-graph-div\" style=\"height:400px; width:600px;\"></div>            <script type=\"text/javascript\">                require([\"plotly\"], function(Plotly) {                    window.PLOTLYENV=window.PLOTLYENV || {};                                    if (document.getElementById(\"d3c0dd7a-d096-41ab-88ce-eead6c9c70c4\")) {                    Plotly.newPlot(                        \"d3c0dd7a-d096-41ab-88ce-eead6c9c70c4\",                        [{\"coloraxis\":\"coloraxis\",\"name\":\"0\",\"texttemplate\":\"%{z}\",\"x\":[\"engine_size\",\"cylinders\",\"fuel_consumption\",\"co2_emissions\"],\"y\":[\"engine_size\",\"cylinders\",\"fuel_consumption\",\"co2_emissions\"],\"z\":[[1.0,0.934,0.819,0.874],[0.934,1.0,0.777,0.85],[0.819,0.777,1.0,0.892],[0.874,0.85,0.892,1.0]],\"type\":\"heatmap\",\"xaxis\":\"x\",\"yaxis\":\"y\",\"hovertemplate\":\"x: %{x}<br>y: %{y}<br>color: %{z}<extra></extra>\"}],                        {\"template\":{\"data\":{\"histogram2dcontour\":[{\"type\":\"histogram2dcontour\",\"colorbar\":{\"outlinewidth\":0,\"ticks\":\"\"},\"colorscale\":[[0.0,\"#0d0887\"],[0.1111111111111111,\"#46039f\"],[0.2222222222222222,\"#7201a8\"],[0.3333333333333333,\"#9c179e\"],[0.4444444444444444,\"#bd3786\"],[0.5555555555555556,\"#d8576b\"],[0.6666666666666666,\"#ed7953\"],[0.7777777777777778,\"#fb9f3a\"],[0.8888888888888888,\"#fdca26\"],[1.0,\"#f0f921\"]]}],\"choropleth\":[{\"type\":\"choropleth\",\"colorbar\":{\"outlinewidth\":0,\"ticks\":\"\"}}],\"histogram2d\":[{\"type\":\"histogram2d\",\"colorbar\":{\"outlinewidth\":0,\"ticks\":\"\"},\"colorscale\":[[0.0,\"#0d0887\"],[0.1111111111111111,\"#46039f\"],[0.2222222222222222,\"#7201a8\"],[0.3333333333333333,\"#9c179e\"],[0.4444444444444444,\"#bd3786\"],[0.5555555555555556,\"#d8576b\"],[0.6666666666666666,\"#ed7953\"],[0.7777777777777778,\"#fb9f3a\"],[0.8888888888888888,\"#fdca26\"],[1.0,\"#f0f921\"]]}],\"heatmap\":[{\"type\":\"heatmap\",\"colorbar\":{\"outlinewidth\":0,\"ticks\":\"\"},\"colorscale\":[[0.0,\"#0d0887\"],[0.1111111111111111,\"#46039f\"],[0.2222222222222222,\"#7201a8\"],[0.3333333333333333,\"#9c179e\"],[0.4444444444444444,\"#bd3786\"],[0.5555555555555556,\"#d8576b\"],[0.6666666666666666,\"#ed7953\"],[0.7777777777777778,\"#fb9f3a\"],[0.8888888888888888,\"#fdca26\"],[1.0,\"#f0f921\"]]}],\"heatmapgl\":[{\"type\":\"heatmapgl\",\"colorbar\":{\"outlinewidth\":0,\"ticks\":\"\"},\"colorscale\":[[0.0,\"#0d0887\"],[0.1111111111111111,\"#46039f\"],[0.2222222222222222,\"#7201a8\"],[0.3333333333333333,\"#9c179e\"],[0.4444444444444444,\"#bd3786\"],[0.5555555555555556,\"#d8576b\"],[0.6666666666666666,\"#ed7953\"],[0.7777777777777778,\"#fb9f3a\"],[0.8888888888888888,\"#fdca26\"],[1.0,\"#f0f921\"]]}],\"contourcarpet\":[{\"type\":\"contourcarpet\",\"colorbar\":{\"outlinewidth\":0,\"ticks\":\"\"}}],\"contour\":[{\"type\":\"contour\",\"colorbar\":{\"outlinewidth\":0,\"ticks\":\"\"},\"colorscale\":[[0.0,\"#0d0887\"],[0.1111111111111111,\"#46039f\"],[0.2222222222222222,\"#7201a8\"],[0.3333333333333333,\"#9c179e\"],[0.4444444444444444,\"#bd3786\"],[0.5555555555555556,\"#d8576b\"],[0.6666666666666666,\"#ed7953\"],[0.7777777777777778,\"#fb9f3a\"],[0.8888888888888888,\"#fdca26\"],[1.0,\"#f0f921\"]]}],\"surface\":[{\"type\":\"surface\",\"colorbar\":{\"outlinewidth\":0,\"ticks\":\"\"},\"colorscale\":[[0.0,\"#0d0887\"],[0.1111111111111111,\"#46039f\"],[0.2222222222222222,\"#7201a8\"],[0.3333333333333333,\"#9c179e\"],[0.4444444444444444,\"#bd3786\"],[0.5555555555555556,\"#d8576b\"],[0.6666666666666666,\"#ed7953\"],[0.7777777777777778,\"#fb9f3a\"],[0.8888888888888888,\"#fdca26\"],[1.0,\"#f0f921\"]]}],\"mesh3d\":[{\"type\":\"mesh3d\",\"colorbar\":{\"outlinewidth\":0,\"ticks\":\"\"}}],\"scatter\":[{\"fillpattern\":{\"fillmode\":\"overlay\",\"size\":10,\"solidity\":0.2},\"type\":\"scatter\"}],\"parcoords\":[{\"type\":\"parcoords\",\"line\":{\"colorbar\":{\"outlinewidth\":0,\"ticks\":\"\"}}}],\"scatterpolargl\":[{\"type\":\"scatterpolargl\",\"marker\":{\"colorbar\":{\"outlinewidth\":0,\"ticks\":\"\"}}}],\"bar\":[{\"error_x\":{\"color\":\"#2a3f5f\"},\"error_y\":{\"color\":\"#2a3f5f\"},\"marker\":{\"line\":{\"color\":\"#E5ECF6\",\"width\":0.5},\"pattern\":{\"fillmode\":\"overlay\",\"size\":10,\"solidity\":0.2}},\"type\":\"bar\"}],\"scattergeo\":[{\"type\":\"scattergeo\",\"marker\":{\"colorbar\":{\"outlinewidth\":0,\"ticks\":\"\"}}}],\"scatterpolar\":[{\"type\":\"scatterpolar\",\"marker\":{\"colorbar\":{\"outlinewidth\":0,\"ticks\":\"\"}}}],\"histogram\":[{\"marker\":{\"pattern\":{\"fillmode\":\"overlay\",\"size\":10,\"solidity\":0.2}},\"type\":\"histogram\"}],\"scattergl\":[{\"type\":\"scattergl\",\"marker\":{\"colorbar\":{\"outlinewidth\":0,\"ticks\":\"\"}}}],\"scatter3d\":[{\"type\":\"scatter3d\",\"line\":{\"colorbar\":{\"outlinewidth\":0,\"ticks\":\"\"}},\"marker\":{\"colorbar\":{\"outlinewidth\":0,\"ticks\":\"\"}}}],\"scattermapbox\":[{\"type\":\"scattermapbox\",\"marker\":{\"colorbar\":{\"outlinewidth\":0,\"ticks\":\"\"}}}],\"scatterternary\":[{\"type\":\"scatterternary\",\"marker\":{\"colorbar\":{\"outlinewidth\":0,\"ticks\":\"\"}}}],\"scattercarpet\":[{\"type\":\"scattercarpet\",\"marker\":{\"colorbar\":{\"outlinewidth\":0,\"ticks\":\"\"}}}],\"carpet\":[{\"aaxis\":{\"endlinecolor\":\"#2a3f5f\",\"gridcolor\":\"white\",\"linecolor\":\"white\",\"minorgridcolor\":\"white\",\"startlinecolor\":\"#2a3f5f\"},\"baxis\":{\"endlinecolor\":\"#2a3f5f\",\"gridcolor\":\"white\",\"linecolor\":\"white\",\"minorgridcolor\":\"white\",\"startlinecolor\":\"#2a3f5f\"},\"type\":\"carpet\"}],\"table\":[{\"cells\":{\"fill\":{\"color\":\"#EBF0F8\"},\"line\":{\"color\":\"white\"}},\"header\":{\"fill\":{\"color\":\"#C8D4E3\"},\"line\":{\"color\":\"white\"}},\"type\":\"table\"}],\"barpolar\":[{\"marker\":{\"line\":{\"color\":\"#E5ECF6\",\"width\":0.5},\"pattern\":{\"fillmode\":\"overlay\",\"size\":10,\"solidity\":0.2}},\"type\":\"barpolar\"}],\"pie\":[{\"automargin\":true,\"type\":\"pie\"}]},\"layout\":{\"autotypenumbers\":\"strict\",\"colorway\":[\"#636efa\",\"#EF553B\",\"#00cc96\",\"#ab63fa\",\"#FFA15A\",\"#19d3f3\",\"#FF6692\",\"#B6E880\",\"#FF97FF\",\"#FECB52\"],\"font\":{\"color\":\"#2a3f5f\"},\"hovermode\":\"closest\",\"hoverlabel\":{\"align\":\"left\"},\"paper_bgcolor\":\"white\",\"plot_bgcolor\":\"#E5ECF6\",\"polar\":{\"bgcolor\":\"#E5ECF6\",\"angularaxis\":{\"gridcolor\":\"white\",\"linecolor\":\"white\",\"ticks\":\"\"},\"radialaxis\":{\"gridcolor\":\"white\",\"linecolor\":\"white\",\"ticks\":\"\"}},\"ternary\":{\"bgcolor\":\"#E5ECF6\",\"aaxis\":{\"gridcolor\":\"white\",\"linecolor\":\"white\",\"ticks\":\"\"},\"baxis\":{\"gridcolor\":\"white\",\"linecolor\":\"white\",\"ticks\":\"\"},\"caxis\":{\"gridcolor\":\"white\",\"linecolor\":\"white\",\"ticks\":\"\"}},\"coloraxis\":{\"colorbar\":{\"outlinewidth\":0,\"ticks\":\"\"}},\"colorscale\":{\"sequential\":[[0.0,\"#0d0887\"],[0.1111111111111111,\"#46039f\"],[0.2222222222222222,\"#7201a8\"],[0.3333333333333333,\"#9c179e\"],[0.4444444444444444,\"#bd3786\"],[0.5555555555555556,\"#d8576b\"],[0.6666666666666666,\"#ed7953\"],[0.7777777777777778,\"#fb9f3a\"],[0.8888888888888888,\"#fdca26\"],[1.0,\"#f0f921\"]],\"sequentialminus\":[[0.0,\"#0d0887\"],[0.1111111111111111,\"#46039f\"],[0.2222222222222222,\"#7201a8\"],[0.3333333333333333,\"#9c179e\"],[0.4444444444444444,\"#bd3786\"],[0.5555555555555556,\"#d8576b\"],[0.6666666666666666,\"#ed7953\"],[0.7777777777777778,\"#fb9f3a\"],[0.8888888888888888,\"#fdca26\"],[1.0,\"#f0f921\"]],\"diverging\":[[0,\"#8e0152\"],[0.1,\"#c51b7d\"],[0.2,\"#de77ae\"],[0.3,\"#f1b6da\"],[0.4,\"#fde0ef\"],[0.5,\"#f7f7f7\"],[0.6,\"#e6f5d0\"],[0.7,\"#b8e186\"],[0.8,\"#7fbc41\"],[0.9,\"#4d9221\"],[1,\"#276419\"]]},\"xaxis\":{\"gridcolor\":\"white\",\"linecolor\":\"white\",\"ticks\":\"\",\"title\":{\"standoff\":15},\"zerolinecolor\":\"white\",\"automargin\":true,\"zerolinewidth\":2},\"yaxis\":{\"gridcolor\":\"white\",\"linecolor\":\"white\",\"ticks\":\"\",\"title\":{\"standoff\":15},\"zerolinecolor\":\"white\",\"automargin\":true,\"zerolinewidth\":2},\"scene\":{\"xaxis\":{\"backgroundcolor\":\"#E5ECF6\",\"gridcolor\":\"white\",\"linecolor\":\"white\",\"showbackground\":true,\"ticks\":\"\",\"zerolinecolor\":\"white\",\"gridwidth\":2},\"yaxis\":{\"backgroundcolor\":\"#E5ECF6\",\"gridcolor\":\"white\",\"linecolor\":\"white\",\"showbackground\":true,\"ticks\":\"\",\"zerolinecolor\":\"white\",\"gridwidth\":2},\"zaxis\":{\"backgroundcolor\":\"#E5ECF6\",\"gridcolor\":\"white\",\"linecolor\":\"white\",\"showbackground\":true,\"ticks\":\"\",\"zerolinecolor\":\"white\",\"gridwidth\":2}},\"shapedefaults\":{\"line\":{\"color\":\"#2a3f5f\"}},\"annotationdefaults\":{\"arrowcolor\":\"#2a3f5f\",\"arrowhead\":0,\"arrowwidth\":1},\"geo\":{\"bgcolor\":\"white\",\"landcolor\":\"#E5ECF6\",\"subunitcolor\":\"white\",\"showland\":true,\"showlakes\":true,\"lakecolor\":\"white\"},\"title\":{\"x\":0.05},\"mapbox\":{\"style\":\"light\"}}},\"xaxis\":{\"anchor\":\"y\",\"domain\":[0.0,1.0],\"scaleanchor\":\"y\",\"constrain\":\"domain\"},\"yaxis\":{\"anchor\":\"x\",\"domain\":[0.0,1.0],\"autorange\":\"reversed\",\"constrain\":\"domain\"},\"coloraxis\":{\"colorscale\":[[0.0,\"#f0f921\"],[0.1111111111111111,\"#fdca26\"],[0.2222222222222222,\"#fb9f3a\"],[0.3333333333333333,\"#ed7953\"],[0.4444444444444444,\"#d8576b\"],[0.5555555555555556,\"#bd3786\"],[0.6666666666666666,\"#9c179e\"],[0.7777777777777778,\"#7201a8\"],[0.8888888888888888,\"#46039f\"],[1.0,\"#0d0887\"]]},\"margin\":{\"t\":60},\"height\":400,\"width\":600},                        {\"responsive\": true}                    ).then(function(){\n",
       "                            \n",
       "var gd = document.getElementById('d3c0dd7a-d096-41ab-88ce-eead6c9c70c4');\n",
       "var x = new MutationObserver(function (mutations, observer) {{\n",
       "        var display = window.getComputedStyle(gd).display;\n",
       "        if (!display || display === 'none') {{\n",
       "            console.log([gd, 'removed!']);\n",
       "            Plotly.purge(gd);\n",
       "            observer.disconnect();\n",
       "        }}\n",
       "}});\n",
       "\n",
       "// Listen for the removal of the full notebook cells\n",
       "var notebookContainer = gd.closest('#notebook-container');\n",
       "if (notebookContainer) {{\n",
       "    x.observe(notebookContainer, {childList: true});\n",
       "}}\n",
       "\n",
       "// Listen for the clearing of the current output cell\n",
       "var outputEl = gd.closest('.output');\n",
       "if (outputEl) {{\n",
       "    x.observe(outputEl, {childList: true});\n",
       "}}\n",
       "\n",
       "                        })                };                });            </script>        </div>"
      ]
     },
     "metadata": {},
     "output_type": "display_data"
    }
   ],
   "source": [
    "corr_values = df.corr().round(3)\n",
    "\n",
    "fig = px.imshow(\n",
    "\tcorr_values,\n",
    "\tcolor_continuous_scale=px.colors.sequential.Plasma_r,\n",
    "\ttext_auto=True,\n",
    "    width=600,\n",
    "    height=400,\n",
    ")\n",
    "fig.show()"
   ]
  },
  {
   "cell_type": "code",
   "execution_count": 209,
   "metadata": {},
   "outputs": [
    {
     "data": {
      "text/html": [
       "<div>\n",
       "<style scoped>\n",
       "    .dataframe tbody tr th:only-of-type {\n",
       "        vertical-align: middle;\n",
       "    }\n",
       "\n",
       "    .dataframe tbody tr th {\n",
       "        vertical-align: top;\n",
       "    }\n",
       "\n",
       "    .dataframe thead th {\n",
       "        text-align: right;\n",
       "    }\n",
       "</style>\n",
       "<table border=\"1\" class=\"dataframe\">\n",
       "  <thead>\n",
       "    <tr style=\"text-align: right;\">\n",
       "      <th></th>\n",
       "      <th>co2_emissions</th>\n",
       "    </tr>\n",
       "  </thead>\n",
       "  <tbody>\n",
       "    <tr>\n",
       "      <th>co2_emissions</th>\n",
       "      <td>1.00</td>\n",
       "    </tr>\n",
       "    <tr>\n",
       "      <th>fuel_consumption</th>\n",
       "      <td>0.89</td>\n",
       "    </tr>\n",
       "    <tr>\n",
       "      <th>engine_size</th>\n",
       "      <td>0.87</td>\n",
       "    </tr>\n",
       "    <tr>\n",
       "      <th>cylinders</th>\n",
       "      <td>0.85</td>\n",
       "    </tr>\n",
       "  </tbody>\n",
       "</table>\n",
       "</div>"
      ],
      "text/plain": [
       "                  co2_emissions\n",
       "co2_emissions              1.00\n",
       "fuel_consumption           0.89\n",
       "engine_size                0.87\n",
       "cylinders                  0.85"
      ]
     },
     "execution_count": 209,
     "metadata": {},
     "output_type": "execute_result"
    }
   ],
   "source": [
    "corr = df.corr().round(2)\n",
    "\n",
    "(\n",
    "    corr[['co2_emissions']]\n",
    "    .sort_values(\n",
    "        by='co2_emissions', \n",
    "        ascending=False\n",
    "    )\n",
    ")"
   ]
  },
  {
   "attachments": {},
   "cell_type": "markdown",
   "metadata": {},
   "source": [
    "All features have a great correlation with the CO2 emissions. The `fuel_consumption` has the highest correlation with the CO2 emissions.\n",
    "\n",
    "Now we have a better idea of the features that we will use in the next experiment. Let's export the new dataframe to a csv file that will be the start of our linear regression model."
   ]
  },
  {
   "cell_type": "code",
   "execution_count": 210,
   "metadata": {},
   "outputs": [],
   "source": [
    "df.to_csv('./datasets/model_features.csv', index=False)"
   ]
  }
 ],
 "metadata": {
  "kernelspec": {
   "display_name": "Python 3",
   "language": "python",
   "name": "python3"
  },
  "language_info": {
   "codemirror_mode": {
    "name": "ipython",
    "version": 3
   },
   "file_extension": ".py",
   "mimetype": "text/x-python",
   "name": "python",
   "nbconvert_exporter": "python",
   "pygments_lexer": "ipython3",
   "version": "3.11.3"
  },
  "orig_nbformat": 4
 },
 "nbformat": 4,
 "nbformat_minor": 2
}
