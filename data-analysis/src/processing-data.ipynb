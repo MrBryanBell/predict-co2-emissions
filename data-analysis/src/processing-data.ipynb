{
 "cells": [
  {
   "attachments": {},
   "cell_type": "markdown",
   "metadata": {},
   "source": [
    "# Processing and cleaning the data\n",
    "\n",
    "In this notebook we will try to identify null value and outliers in the data. We will also rename some columns and values if needed. \n",
    "\n",
    "The input of this file is `raw_vehicles.csv` and the output will be `processed_vehicles.csv`."
   ]
  },
  {
   "attachments": {},
   "cell_type": "markdown",
   "metadata": {},
   "source": [
    "### Importing libraries"
   ]
  },
  {
   "cell_type": "code",
   "execution_count": 1,
   "metadata": {},
   "outputs": [],
   "source": [
    "import pandas as pd\n",
    "\n",
    "dataset_path = './datasets/raw_vehicles.csv'\n",
    "df = pd.read_csv(dataset_path)"
   ]
  },
  {
   "attachments": {},
   "cell_type": "markdown",
   "metadata": {},
   "source": [
    "### How many observations and features do we have?"
   ]
  },
  {
   "cell_type": "code",
   "execution_count": 2,
   "metadata": {},
   "outputs": [
    {
     "name": "stdout",
     "output_type": "stream",
     "text": [
      "Observations: 1067\n",
      "Features: 13\n"
     ]
    }
   ],
   "source": [
    "observations, features = df.shape\n",
    "\n",
    "print('Observations:', observations)\n",
    "print('Features:', features)"
   ]
  },
  {
   "cell_type": "markdown",
   "metadata": {},
   "source": [
    "### What are the values types of the features?"
   ]
  },
  {
   "cell_type": "code",
   "execution_count": 3,
   "metadata": {},
   "outputs": [
    {
     "data": {
      "text/plain": [
       "MODELYEAR                     int64\n",
       "MAKE                         object\n",
       "MODEL                        object\n",
       "VEHICLECLASS                 object\n",
       "ENGINESIZE                  float64\n",
       "CYLINDERS                     int64\n",
       "TRANSMISSION                 object\n",
       "FUELTYPE                     object\n",
       "FUELCONSUMPTION_CITY        float64\n",
       "FUELCONSUMPTION_HWY         float64\n",
       "FUELCONSUMPTION_COMB        float64\n",
       "FUELCONSUMPTION_COMB_MPG      int64\n",
       "CO2EMISSIONS                  int64\n",
       "dtype: object"
      ]
     },
     "execution_count": 50,
     "metadata": {},
     "output_type": "execute_result"
    }
   ],
   "source": [
    "df.dtypes"
   ]
  },
  {
   "attachments": {},
   "cell_type": "markdown",
   "metadata": {},
   "source": [
    "The mayority of the features are numerical (discrete and continuous) and some of them are categorical. The feature we will be trying to predict is CO2-Emissions, which in this case is a continuous variable."
   ]
  },
  {
   "cell_type": "code",
   "execution_count": 4,
   "metadata": {},
   "outputs": [
    {
     "data": {
      "text/plain": [
       "object     5\n",
       "int64      4\n",
       "float64    4\n",
       "Name: count, dtype: int64"
      ]
     },
     "execution_count": 51,
     "metadata": {},
     "output_type": "execute_result"
    }
   ],
   "source": [
    "(\n",
    "    df\n",
    "    .dtypes\n",
    "    .value_counts()\n",
    ")"
   ]
  },
  {
   "attachments": {},
   "cell_type": "markdown",
   "metadata": {},
   "source": [
    "### Do we have null values?"
   ]
  },
  {
   "attachments": {},
   "cell_type": "markdown",
   "metadata": {},
   "source": [
    "Luckily, we don't have any null values in our dataset."
   ]
  },
  {
   "cell_type": "code",
   "execution_count": 5,
   "metadata": {},
   "outputs": [
    {
     "data": {
      "text/plain": [
       "MODELYEAR                   False\n",
       "MAKE                        False\n",
       "MODEL                       False\n",
       "VEHICLECLASS                False\n",
       "ENGINESIZE                  False\n",
       "CYLINDERS                   False\n",
       "TRANSMISSION                False\n",
       "FUELTYPE                    False\n",
       "FUELCONSUMPTION_CITY        False\n",
       "FUELCONSUMPTION_HWY         False\n",
       "FUELCONSUMPTION_COMB        False\n",
       "FUELCONSUMPTION_COMB_MPG    False\n",
       "CO2EMISSIONS                False\n",
       "dtype: bool"
      ]
     },
     "execution_count": 52,
     "metadata": {},
     "output_type": "execute_result"
    }
   ],
   "source": [
    "# check if any column has null values\n",
    "(\n",
    "    df\n",
    "    .isnull()\n",
    "    .any()\n",
    ")"
   ]
  },
  {
   "cell_type": "code",
   "execution_count": 6,
   "metadata": {},
   "outputs": [
    {
     "data": {
      "text/plain": [
       "MODELYEAR                   0\n",
       "MAKE                        0\n",
       "MODEL                       0\n",
       "VEHICLECLASS                0\n",
       "ENGINESIZE                  0\n",
       "CYLINDERS                   0\n",
       "TRANSMISSION                0\n",
       "FUELTYPE                    0\n",
       "FUELCONSUMPTION_CITY        0\n",
       "FUELCONSUMPTION_HWY         0\n",
       "FUELCONSUMPTION_COMB        0\n",
       "FUELCONSUMPTION_COMB_MPG    0\n",
       "CO2EMISSIONS                0\n",
       "dtype: int64"
      ]
     },
     "execution_count": 53,
     "metadata": {},
     "output_type": "execute_result"
    }
   ],
   "source": [
    "# check the number of null values in each column\n",
    "(\n",
    "    df\n",
    "    .isnull()\n",
    "    .sum()\n",
    ")"
   ]
  },
  {
   "attachments": {},
   "cell_type": "markdown",
   "metadata": {},
   "source": [
    "### Renaming columns\n",
    "\n",
    "Some of the columns have confusing names, so we will rename them with more descriptive names."
   ]
  },
  {
   "cell_type": "code",
   "execution_count": 7,
   "metadata": {},
   "outputs": [],
   "source": [
    "old_names = df.columns"
   ]
  },
  {
   "cell_type": "code",
   "execution_count": 8,
   "metadata": {},
   "outputs": [],
   "source": [
    "df.rename(columns={'TRANSMISSION':'transmission_type'}, inplace=True)\n",
    "df.rename(columns={'MODELYEAR':'release_year'}, inplace=True)\n",
    "df.rename(columns={'MAKE':'manufacturer'}, inplace=True)\n",
    "df.rename(columns={'FUELCONSUMPTION_COMB':'fuel_consumption_combinated_in_kpl'}, inplace=True)\n",
    "df.rename(columns={'FUELCONSUMPTION_CITY':'fuel_consumption_on_city'}, inplace=True)\n",
    "df.rename(columns={'FUELCONSUMPTION_HWY':'fuel_consumption_on_highway'}, inplace=True)\n",
    "df.rename(columns={'FUELCONSUMPTION_COMB_MPG':'fuel_consumption_combinated_in_mpg'}, inplace=True)\n",
    "\n",
    "# snake case formatting\n",
    "df.rename(columns={'ENGINESIZE':'engine_size'}, inplace=True)\n",
    "df.rename(columns={'MODEL':'model'}, inplace=True)\n",
    "df.rename(columns={'CO2EMISSIONS':'co2_emissions'}, inplace=True)\n",
    "df.rename(columns={'FUELTYPE':'fuel_type'}, inplace=True)\n",
    "df.rename(columns={'CYLINDERS':'cylinders'}, inplace=True)\n",
    "df.rename(columns={'VEHICLECLASS':'vehicle_class'}, inplace=True)"
   ]
  },
  {
   "cell_type": "code",
   "execution_count": 9,
   "metadata": {},
   "outputs": [
    {
     "data": {
      "text/html": [
       "<div>\n",
       "<style scoped>\n",
       "    .dataframe tbody tr th:only-of-type {\n",
       "        vertical-align: middle;\n",
       "    }\n",
       "\n",
       "    .dataframe tbody tr th {\n",
       "        vertical-align: top;\n",
       "    }\n",
       "\n",
       "    .dataframe thead th {\n",
       "        text-align: right;\n",
       "    }\n",
       "</style>\n",
       "<table border=\"1\" class=\"dataframe\">\n",
       "  <thead>\n",
       "    <tr style=\"text-align: right;\">\n",
       "      <th></th>\n",
       "      <th>old_name</th>\n",
       "      <th>new_name</th>\n",
       "    </tr>\n",
       "  </thead>\n",
       "  <tbody>\n",
       "    <tr>\n",
       "      <th>0</th>\n",
       "      <td>MODELYEAR</td>\n",
       "      <td>release_year</td>\n",
       "    </tr>\n",
       "    <tr>\n",
       "      <th>1</th>\n",
       "      <td>MAKE</td>\n",
       "      <td>manufacturer</td>\n",
       "    </tr>\n",
       "    <tr>\n",
       "      <th>2</th>\n",
       "      <td>MODEL</td>\n",
       "      <td>model</td>\n",
       "    </tr>\n",
       "    <tr>\n",
       "      <th>3</th>\n",
       "      <td>VEHICLECLASS</td>\n",
       "      <td>vehicle_class</td>\n",
       "    </tr>\n",
       "    <tr>\n",
       "      <th>4</th>\n",
       "      <td>ENGINESIZE</td>\n",
       "      <td>engine_size</td>\n",
       "    </tr>\n",
       "    <tr>\n",
       "      <th>5</th>\n",
       "      <td>CYLINDERS</td>\n",
       "      <td>cylinders</td>\n",
       "    </tr>\n",
       "    <tr>\n",
       "      <th>6</th>\n",
       "      <td>TRANSMISSION</td>\n",
       "      <td>transmission_type</td>\n",
       "    </tr>\n",
       "    <tr>\n",
       "      <th>7</th>\n",
       "      <td>FUELTYPE</td>\n",
       "      <td>fuel_type</td>\n",
       "    </tr>\n",
       "    <tr>\n",
       "      <th>8</th>\n",
       "      <td>FUELCONSUMPTION_CITY</td>\n",
       "      <td>fuel_consumption_on_city</td>\n",
       "    </tr>\n",
       "    <tr>\n",
       "      <th>9</th>\n",
       "      <td>FUELCONSUMPTION_HWY</td>\n",
       "      <td>fuel_consumption_on_highway</td>\n",
       "    </tr>\n",
       "    <tr>\n",
       "      <th>10</th>\n",
       "      <td>FUELCONSUMPTION_COMB</td>\n",
       "      <td>fuel_consumption_combinated_in_kpl</td>\n",
       "    </tr>\n",
       "    <tr>\n",
       "      <th>11</th>\n",
       "      <td>FUELCONSUMPTION_COMB_MPG</td>\n",
       "      <td>fuel_consumption_combinated_in_mpg</td>\n",
       "    </tr>\n",
       "    <tr>\n",
       "      <th>12</th>\n",
       "      <td>CO2EMISSIONS</td>\n",
       "      <td>co2_emissions</td>\n",
       "    </tr>\n",
       "  </tbody>\n",
       "</table>\n",
       "</div>"
      ],
      "text/plain": [
       "                    old_name                            new_name\n",
       "0                  MODELYEAR                        release_year\n",
       "1                       MAKE                        manufacturer\n",
       "2                      MODEL                               model\n",
       "3               VEHICLECLASS                       vehicle_class\n",
       "4                 ENGINESIZE                         engine_size\n",
       "5                  CYLINDERS                           cylinders\n",
       "6               TRANSMISSION                   transmission_type\n",
       "7                   FUELTYPE                           fuel_type\n",
       "8       FUELCONSUMPTION_CITY            fuel_consumption_on_city\n",
       "9        FUELCONSUMPTION_HWY         fuel_consumption_on_highway\n",
       "10      FUELCONSUMPTION_COMB  fuel_consumption_combinated_in_kpl\n",
       "11  FUELCONSUMPTION_COMB_MPG  fuel_consumption_combinated_in_mpg\n",
       "12              CO2EMISSIONS                       co2_emissions"
      ]
     },
     "execution_count": 9,
     "metadata": {},
     "output_type": "execute_result"
    }
   ],
   "source": [
    "new_names = df.columns\n",
    "\n",
    "df_names = pd.DataFrame(\n",
    "    {\n",
    "        'old_name': old_names,\n",
    "        'new_name': new_names\n",
    "    }\n",
    ")\n",
    "\n",
    "df_names"
   ]
  },
  {
   "cell_type": "markdown",
   "metadata": {},
   "source": [
    "At this step, we are ready to export the dataset to a new file in .csv format to start the analysis."
   ]
  },
  {
   "cell_type": "code",
   "execution_count": 10,
   "metadata": {},
   "outputs": [],
   "source": [
    "# export to csv\n",
    "df.to_csv('./datasets/processed_vehicles.csv', index=False)"
   ]
  }
 ],
 "metadata": {
  "kernelspec": {
   "display_name": "Python 3",
   "language": "python",
   "name": "python3"
  },
  "language_info": {
   "codemirror_mode": {
    "name": "ipython",
    "version": 3
   },
   "file_extension": ".py",
   "mimetype": "text/x-python",
   "name": "python",
   "nbconvert_exporter": "python",
   "pygments_lexer": "ipython3",
   "version": "3.11.3"
  },
  "orig_nbformat": 4
 },
 "nbformat": 4,
 "nbformat_minor": 2
}
